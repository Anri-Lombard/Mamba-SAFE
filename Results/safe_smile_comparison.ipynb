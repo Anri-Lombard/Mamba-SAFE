{
 "cells": [
  {
   "cell_type": "code",
   "execution_count": 11,
   "metadata": {},
   "outputs": [
    {
     "name": "stderr",
     "output_type": "stream",
     "text": [
      "[14:16:16] SMILES Parse Error: unclosed ring for input: 'c14ccc(S(N)(=O)=O)cc1'\n"
     ]
    },
    {
     "ename": "ArgumentError",
     "evalue": "Python argument types in\n    Mol.GetSubstructMatch(Mol, NoneType)\ndid not match C++ signature:\n    GetSubstructMatch(RDKit::ROMol self, RDKit::MolBundle query, RDKit::SubstructMatchParameters params)\n    GetSubstructMatch(RDKit::ROMol self, RDKit::ROMol query, RDKit::SubstructMatchParameters params)\n    GetSubstructMatch(RDKit::ROMol self, RDKit::MolBundle query, bool useChirality=False, bool useQueryQueryMatches=False)\n    GetSubstructMatch(RDKit::ROMol self, RDKit::ROMol query, bool useChirality=False, bool useQueryQueryMatches=False)",
     "output_type": "error",
     "traceback": [
      "\u001b[0;31m---------------------------------------------------------------------------\u001b[0m",
      "\u001b[0;31mArgumentError\u001b[0m                             Traceback (most recent call last)",
      "Cell \u001b[0;32mIn[11], line 56\u001b[0m\n\u001b[1;32m     54\u001b[0m \u001b[38;5;28;01mfor\u001b[39;00m frag \u001b[38;5;129;01min\u001b[39;00m safe_fragments:\n\u001b[1;32m     55\u001b[0m     frag_mol \u001b[38;5;241m=\u001b[39m Chem\u001b[38;5;241m.\u001b[39mMolFromSmiles(frag)\n\u001b[0;32m---> 56\u001b[0m     match \u001b[38;5;241m=\u001b[39m \u001b[43msafe_mol\u001b[49m\u001b[38;5;241;43m.\u001b[39;49m\u001b[43mGetSubstructMatch\u001b[49m\u001b[43m(\u001b[49m\u001b[43mfrag_mol\u001b[49m\u001b[43m)\u001b[49m\n\u001b[1;32m     57\u001b[0m     safe_highlights\u001b[38;5;241m.\u001b[39mappend(\u001b[38;5;28mlist\u001b[39m(match))\n\u001b[1;32m     58\u001b[0m safe_drawing \u001b[38;5;241m=\u001b[39m create_custom_drawing(safe_mol, safe_highlights)\n",
      "File \u001b[0;32m/Library/Frameworks/Python.framework/Versions/3.11/lib/python3.11/site-packages/rdkit/Chem/Draw/IPythonConsole.py:204\u001b[0m, in \u001b[0;36m_GetSubstructMatch\u001b[0;34m(mol, query, *args, **kwargs)\u001b[0m\n\u001b[1;32m    203\u001b[0m \u001b[38;5;28;01mdef\u001b[39;00m \u001b[38;5;21m_GetSubstructMatch\u001b[39m(mol, query, \u001b[38;5;241m*\u001b[39margs, \u001b[38;5;241m*\u001b[39m\u001b[38;5;241m*\u001b[39mkwargs):\n\u001b[0;32m--> 204\u001b[0m   res \u001b[38;5;241m=\u001b[39m \u001b[43mmol\u001b[49m\u001b[38;5;241;43m.\u001b[39;49m\u001b[43m__GetSubstructMatch\u001b[49m\u001b[43m(\u001b[49m\u001b[43mquery\u001b[49m\u001b[43m,\u001b[49m\u001b[43m \u001b[49m\u001b[38;5;241;43m*\u001b[39;49m\u001b[43margs\u001b[49m\u001b[43m,\u001b[49m\u001b[43m \u001b[49m\u001b[38;5;241;43m*\u001b[39;49m\u001b[38;5;241;43m*\u001b[39;49m\u001b[43mkwargs\u001b[49m\u001b[43m)\u001b[49m\n\u001b[1;32m    205\u001b[0m   \u001b[38;5;28;01mif\u001b[39;00m highlightSubstructs:\n\u001b[1;32m    206\u001b[0m     mol\u001b[38;5;241m.\u001b[39m__sssAtoms \u001b[38;5;241m=\u001b[39m \u001b[38;5;28mlist\u001b[39m(res)\n",
      "\u001b[0;31mArgumentError\u001b[0m: Python argument types in\n    Mol.GetSubstructMatch(Mol, NoneType)\ndid not match C++ signature:\n    GetSubstructMatch(RDKit::ROMol self, RDKit::MolBundle query, RDKit::SubstructMatchParameters params)\n    GetSubstructMatch(RDKit::ROMol self, RDKit::ROMol query, RDKit::SubstructMatchParameters params)\n    GetSubstructMatch(RDKit::ROMol self, RDKit::MolBundle query, bool useChirality=False, bool useQueryQueryMatches=False)\n    GetSubstructMatch(RDKit::ROMol self, RDKit::ROMol query, bool useChirality=False, bool useQueryQueryMatches=False)"
     ]
    }
   ],
   "source": [
    "from rdkit import Chem\n",
    "from rdkit.Chem import AllChem, Draw\n",
    "from rdkit.Chem.Draw import IPythonConsole\n",
    "from rdkit.Chem import rdDepictor\n",
    "rdDepictor.SetPreferCoordGen(True)\n",
    "from rdkit.Chem.Draw import rdMolDraw2D\n",
    "import matplotlib.pyplot as plt\n",
    "import safe as sf\n",
    "\n",
    "# Define the SMILES string for the molecule\n",
    "smiles = \"Cc1ccc(-c2cc(C(F)(F)F)nn2-c2ccc(S(N)(=O)=O)cc2)cc1\"\n",
    "\n",
    "# Convert SMILES to molecule\n",
    "mol = Chem.MolFromSmiles(smiles)\n",
    "AllChem.Compute2DCoords(mol)\n",
    "\n",
    "# Generate SAFE representation\n",
    "safe_str = sf.encode(mol)\n",
    "safe_mol = Chem.MolFromSmiles(safe_str)\n",
    "AllChem.Compute2DCoords(safe_mol)\n",
    "\n",
    "# Define colors for different fragments\n",
    "colors = [(0.12, 0.47, 0.71), (1.0, 0.5, 0.05), (0.17, 0.63, 0.17), (0.84, 0.15, 0.16)]\n",
    "\n",
    "# Function to create a custom drawing\n",
    "def create_custom_drawing(mol, highlights):\n",
    "    d = rdMolDraw2D.MolDraw2DCairo(800, 800)\n",
    "    d.drawOptions().addAtomIndices = True\n",
    "    d.drawOptions().addStereoAnnotation = True\n",
    "    \n",
    "    highlight_atoms = []\n",
    "    highlight_colors = {}\n",
    "    for i, atoms in enumerate(highlights):\n",
    "        highlight_atoms.extend(atoms)\n",
    "        for atom in atoms:\n",
    "            highlight_colors[atom] = colors[i % len(colors)]\n",
    "    \n",
    "    d.DrawMolecule(mol, highlightAtoms=highlight_atoms, highlightAtomColors=highlight_colors)\n",
    "    d.FinishDrawing()\n",
    "    return d.GetDrawingText()\n",
    "\n",
    "# Create SMILES drawing\n",
    "smiles_highlights = [\n",
    "    [0, 1, 2, 3, 4, 5],  # Toluene group\n",
    "    [6, 7, 8, 9, 10],    # Pyrazole ring\n",
    "    [11, 12, 13],        # Trifluoromethyl group\n",
    "    [14, 15, 16, 17, 18, 19, 20, 21, 22, 23]  # Sulfonamide benzene group\n",
    "]\n",
    "smiles_drawing = create_custom_drawing(mol, smiles_highlights)\n",
    "\n",
    "# Create SAFE drawing\n",
    "safe_fragments = safe_str.split('.')\n",
    "safe_highlights = []\n",
    "for frag in safe_fragments:\n",
    "    frag_mol = Chem.MolFromSmiles(frag)\n",
    "    match = safe_mol.GetSubstructMatch(frag_mol)\n",
    "    safe_highlights.append(list(match))\n",
    "safe_drawing = create_custom_drawing(safe_mol, safe_highlights)\n",
    "\n",
    "# Create the figure\n",
    "fig, (ax1, ax2) = plt.subplots(1, 2, figsize=(20, 10))\n",
    "\n",
    "# Display SMILES representation\n",
    "ax1.imshow(smiles_drawing)\n",
    "ax1.set_title(\"SMILES\", fontsize=24, fontweight='bold')\n",
    "ax1.axis('off')\n",
    "ax1.text(0.5, -0.05, f\"SMILES:\\n{smiles}\", ha='center', va='top', transform=ax1.transAxes, fontsize=12, wrap=True)\n",
    "\n",
    "# Display SAFE representation\n",
    "ax2.imshow(safe_drawing)\n",
    "ax2.set_title(\"SAFE\", fontsize=24, fontweight='bold')\n",
    "ax2.axis('off')\n",
    "ax2.text(0.5, -0.05, f\"SAFE:\\n{safe_str}\", ha='center', va='top', transform=ax2.transAxes, fontsize=12, wrap=True)\n",
    "\n",
    "# Add separating line\n",
    "plt.axvline(x=0.5, color='black', linestyle='--', linewidth=2)\n",
    "\n",
    "plt.tight_layout()\n",
    "plt.savefig('molecule_comparison_improved.png', dpi=300, bbox_inches='tight')\n",
    "plt.show()"
   ]
  },
  {
   "cell_type": "code",
   "execution_count": null,
   "metadata": {},
   "outputs": [],
   "source": []
  }
 ],
 "metadata": {
  "kernelspec": {
   "display_name": "Python 3",
   "language": "python",
   "name": "python3"
  },
  "language_info": {
   "codemirror_mode": {
    "name": "ipython",
    "version": 3
   },
   "file_extension": ".py",
   "mimetype": "text/x-python",
   "name": "python",
   "nbconvert_exporter": "python",
   "pygments_lexer": "ipython3",
   "version": "3.11.6"
  }
 },
 "nbformat": 4,
 "nbformat_minor": 2
}
