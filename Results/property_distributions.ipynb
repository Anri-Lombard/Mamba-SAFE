{
 "cells": [
  {
   "cell_type": "code",
   "execution_count": 63,
   "metadata": {},
   "outputs": [],
   "source": [
    "import pandas as pd\n",
    "import numpy as np\n",
    "import matplotlib.pyplot as plt\n",
    "import seaborn as sns\n",
    "from rdkit import Chem\n",
    "from rdkit.Chem import Descriptors, Crippen, rdMolDescriptors\n",
    "from tqdm import tqdm"
   ]
  },
  {
   "cell_type": "code",
   "execution_count": 64,
   "metadata": {},
   "outputs": [],
   "source": [
    "sns.set_context(\"paper\", font_scale=1.5)\n",
    "plt.rcParams['figure.figsize'] = (12, 8)\n",
    "plt.rcParams['savefig.dpi'] = 300\n",
    "plt.rcParams['figure.autolayout'] = True"
   ]
  },
  {
   "cell_type": "code",
   "execution_count": 65,
   "metadata": {},
   "outputs": [],
   "source": [
    "def load_smiles(filename):\n",
    "    with open(filename, 'r') as f:\n",
    "        return [line.strip() for line in f]"
   ]
  },
  {
   "cell_type": "code",
   "execution_count": 66,
   "metadata": {},
   "outputs": [],
   "source": [
    "def calculate_properties(smiles_list):\n",
    "    properties = {\n",
    "        'MW': [], 'LogP': [], 'HBA': [], 'HBD': [], 'TPSA': [], \n",
    "        'RotBonds': [], 'AromaticRings': [], 'QED': []\n",
    "    }\n",
    "    \n",
    "    for smi in tqdm(smiles_list, desc=\"Calculating properties\"):\n",
    "        mol = Chem.MolFromSmiles(smi)\n",
    "        if mol is not None:\n",
    "            properties['MW'].append(Descriptors.ExactMolWt(mol))\n",
    "            properties['LogP'].append(Crippen.MolLogP(mol))\n",
    "            properties['HBA'].append(rdMolDescriptors.CalcNumHBA(mol))\n",
    "            properties['HBD'].append(rdMolDescriptors.CalcNumHBD(mol))\n",
    "            properties['TPSA'].append(Descriptors.TPSA(mol))\n",
    "            properties['RotBonds'].append(rdMolDescriptors.CalcNumRotatableBonds(mol))\n",
    "            properties['AromaticRings'].append(rdMolDescriptors.CalcNumAromaticRings(mol))\n",
    "            properties['QED'].append(Descriptors.qed(mol))\n",
    "    \n",
    "    return pd.DataFrame(properties)"
   ]
  },
  {
   "cell_type": "code",
   "execution_count": 67,
   "metadata": {},
   "outputs": [],
   "source": [
    "# models = {\n",
    "#     \"Mamba_Hybrid_Small\": load_smiles(\"molecules/HYBRID_20M_dropout_little_10000_samples.txt\"),\n",
    "#     \"Safe_Small\": load_smiles(\"molecules/SAFE_GPT_20M_10000_samples.txt\"),\n",
    "#     \"Mamba_Small\": load_smiles(\"molecules/SSM_20M_little_dropout_10000_samples.txt\")\n",
    "# }\n",
    "\n",
    "models = {\n",
    "    \"Mamba_Large\": load_smiles(\"molecules/SSM_100M_10000_samples.txt\"),\n",
    "    \"Safe_Large\": load_smiles(\"molecules/SAFE_GPT_large_generated_smiles_10k.txt\")\n",
    "}"
   ]
  },
  {
   "cell_type": "code",
   "execution_count": 68,
   "metadata": {},
   "outputs": [
    {
     "name": "stderr",
     "output_type": "stream",
     "text": [
      "Calculating properties: 100%|██████████| 10000/10000 [00:13<00:00, 717.38it/s]\n",
      "Calculating properties: 100%|██████████| 9805/9805 [00:15<00:00, 637.78it/s]\n"
     ]
    }
   ],
   "source": [
    "properties = {model: calculate_properties(smiles) for model, smiles in models.items()}"
   ]
  },
  {
   "cell_type": "code",
   "execution_count": 69,
   "metadata": {},
   "outputs": [],
   "source": [
    "def load_and_sample_smiles(filename, sample_size=3000000):\n",
    "    with open(filename, 'r') as f:\n",
    "        smiles_list = [line.strip() for line in f]\n",
    "    return np.random.choice(smiles_list, size=sample_size, replace=False)"
   ]
  },
  {
   "cell_type": "code",
   "execution_count": 70,
   "metadata": {},
   "outputs": [
    {
     "name": "stderr",
     "output_type": "stream",
     "text": [
      "Calculating properties: 100%|██████████| 3000000/3000000 [1:12:06<00:00, 693.37it/s]\n"
     ]
    }
   ],
   "source": [
    "# train_data = pd.read_csv('train.csv')\n",
    "# train_properties = calculate_properties(train_data['SMILES'])\n",
    "train_data_sampled = load_and_sample_smiles('zinc_train.csv', sample_size=3000000)\n",
    "train_properties_sampled = calculate_properties(train_data_sampled)"
   ]
  },
  {
   "cell_type": "code",
   "execution_count": 71,
   "metadata": {},
   "outputs": [],
   "source": [
    "# properties['MOSES (Train Dataset)'] = train_properties\n",
    "properties['ZINC (Train Dataset)'] = train_properties_sampled"
   ]
  },
  {
   "cell_type": "code",
   "execution_count": 76,
   "metadata": {},
   "outputs": [],
   "source": [
    "# MODEL_ORDER = ['SAFE-GPT', 'MAMBA', 'MAMBA-HYBRID']\n",
    "# MODEL_ORDER = ['Safe_Small', 'Mamba_Small', 'Mamba_Hybrid_Small', 'MOSES (Train Dataset)']\n",
    "MODEL_ORDER = ['Safe_Large', 'Mamba_Large', 'ZINC (Train Dataset)']\n",
    "# COLOR_MAP = {\n",
    "#     'SAFE-GPT': '#ff7f0e',\n",
    "#     'MAMBA': '#2ca02c',\n",
    "#     'MAMBA-HYBRID': '#1f77b4'\n",
    "# }\n",
    "# COLOR_MAP = {\n",
    "#     'Safe_Small': '#ff7f0e',\n",
    "#     'Mamba_Small': '#2ca02c',\n",
    "#     'Mamba_Hybrid_Small': '#1f77b4',\n",
    "#     'MOSES (Train Dataset)': '#d62728'\n",
    "# }\n",
    "COLOR_MAP = {\n",
    "    'Safe_Large': '#1f77b4',\n",
    "    'Mamba_Large': '#9467bd',\n",
    "    'ZINC (Train Dataset)': '#d62728'\n",
    "}\n",
    "\n",
    "def plot_property_distribution(property_name, xlabel, ylabel=\"Proportion\", is_discrete=False):\n",
    "    plt.figure(figsize=(14, 8))\n",
    "    \n",
    "    if is_discrete:\n",
    "        # For discrete properties, use a grouped bar plot\n",
    "        all_data = []\n",
    "        for model in MODEL_ORDER:\n",
    "            df = properties[model]\n",
    "            counts = df[property_name].value_counts().sort_index()\n",
    "            proportions = counts / len(df)\n",
    "            all_data.append(pd.DataFrame({'Model': model, 'Value': proportions.index, 'Proportion': proportions.values}))\n",
    "        \n",
    "        combined_data = pd.concat(all_data)\n",
    "        \n",
    "        sns.barplot(\n",
    "            x='Value',\n",
    "            y='Proportion',\n",
    "            hue='Model',\n",
    "            data=combined_data,\n",
    "            palette=COLOR_MAP,\n",
    "            hue_order=MODEL_ORDER\n",
    "        )\n",
    "        \n",
    "        plt.xticks(rotation=0)\n",
    "    else:\n",
    "        # For continuous properties, use KDE plot\n",
    "        for model in MODEL_ORDER:\n",
    "            if model == 'MOSES (Train Dataset)' or model == 'ZINC (Train Dataset)':\n",
    "                # Plot MOSES as a dashed line\n",
    "                sns.kdeplot(\n",
    "                    data=properties[model][property_name],\n",
    "                    label=model,\n",
    "                    color=COLOR_MAP[model],\n",
    "                    linewidth=2,\n",
    "                    linestyle='--'\n",
    "                )\n",
    "            else:\n",
    "                # Plot other models as solid lines\n",
    "                sns.kdeplot(\n",
    "                    data=properties[model][property_name],\n",
    "                    label=model,\n",
    "                    color=COLOR_MAP[model],\n",
    "                    linewidth=2.5,\n",
    "                    linestyle='-'\n",
    "                )\n",
    "    \n",
    "    plt.xlabel(xlabel)\n",
    "    plt.ylabel(ylabel)\n",
    "    plt.title(f\"Distribution of {property_name}\")\n",
    "    \n",
    "    # Adjust legend\n",
    "    if is_discrete:\n",
    "        plt.legend(title=\"Model\", bbox_to_anchor=(1.05, 1), loc='upper left')\n",
    "    else:\n",
    "        plt.legend(title=\"Model\")\n",
    "    \n",
    "    # Add grid for better readability\n",
    "    plt.grid(True, linestyle='--', alpha=0.7)\n",
    "    \n",
    "    plt.tight_layout()\n",
    "    # plt.savefig(f\"large_plots/{property_name.lower()}_distribution.png\", dpi=300, bbox_inches='tight')\n",
    "    plt.savefig(f\"large_plots/{property_name.lower()}_distribution_large.png\", dpi=300, bbox_inches='tight')\n",
    "    plt.close()"
   ]
  },
  {
   "cell_type": "code",
   "execution_count": 77,
   "metadata": {},
   "outputs": [],
   "source": [
    "plot_property_distribution('MW', 'Molecular Weight (Da)')\n",
    "plot_property_distribution('LogP', 'LogP')\n",
    "plot_property_distribution('HBA', 'Number of Hydrogen Bond Acceptors', is_discrete=True)\n",
    "plot_property_distribution('HBD', 'Number of Hydrogen Bond Donors', is_discrete=True)\n",
    "plot_property_distribution('TPSA', 'Topological Polar Surface Area (Å²)')\n",
    "plot_property_distribution('RotBonds', 'Number of Rotatable Bonds', is_discrete=True)\n",
    "plot_property_distribution('AromaticRings', 'Number of Aromatic Rings', is_discrete=True)\n",
    "plot_property_distribution('QED', 'Quantitative Estimate of Drug-likeness (QED)')"
   ]
  },
  {
   "cell_type": "code",
   "execution_count": null,
   "metadata": {},
   "outputs": [],
   "source": []
  }
 ],
 "metadata": {
  "kernelspec": {
   "display_name": "Python 3",
   "language": "python",
   "name": "python3"
  },
  "language_info": {
   "codemirror_mode": {
    "name": "ipython",
    "version": 3
   },
   "file_extension": ".py",
   "mimetype": "text/x-python",
   "name": "python",
   "nbconvert_exporter": "python",
   "pygments_lexer": "ipython3",
   "version": "3.11.6"
  }
 },
 "nbformat": 4,
 "nbformat_minor": 2
}
