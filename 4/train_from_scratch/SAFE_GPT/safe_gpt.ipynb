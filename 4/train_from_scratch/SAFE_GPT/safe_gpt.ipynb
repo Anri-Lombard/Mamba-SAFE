{
 "cells": [
  {
   "cell_type": "markdown",
   "metadata": {},
   "source": [
    "# Transformer model\n",
    "\n",
    "- [SAFE github repository](https://github.com/datamol-io/safe)\n",
    "- [SAFE documentation](https://safe-docs.datamol.io/stable/)\n",
    "- [SAFE paper](https://arxiv.org/abs/2310.10773#)"
   ]
  },
  {
   "cell_type": "code",
   "execution_count": null,
   "metadata": {},
   "outputs": [],
   "source": []
  }
 ],
 "metadata": {
  "language_info": {
   "name": "python"
  }
 },
 "nbformat": 4,
 "nbformat_minor": 2
}
