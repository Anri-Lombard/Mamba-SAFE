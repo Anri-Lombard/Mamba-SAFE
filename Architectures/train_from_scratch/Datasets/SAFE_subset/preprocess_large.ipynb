{
 "cells": [
  {
   "cell_type": "code",
   "execution_count": 42,
   "metadata": {},
   "outputs": [],
   "source": [
    "import pandas as pd\n",
    "import glob\n",
    "from datasets import Dataset, DatasetDict\n",
    "\n",
    "from datasets import load_dataset"
   ]
  },
  {
   "cell_type": "code",
   "execution_count": 43,
   "metadata": {},
   "outputs": [
    {
     "name": "stderr",
     "output_type": "stream",
     "text": [
      "Downloading data: 100%|██████████| 34/34 [00:00<00:00, 20730.68files/s]\n",
      "Generating train split: 315151780 examples [02:02, 2574410.48 examples/s]\n",
      "Generating test split: 54872514 examples [00:21, 2495289.35 examples/s]\n"
     ]
    }
   ],
   "source": [
    "dataset = load_dataset('parquet', data_files={'train': 'train/*.parquet', 'test': 'test/*.parquet'}, batch_size=1000)"
   ]
  },
  {
   "cell_type": "code",
   "execution_count": 36,
   "metadata": {},
   "outputs": [
    {
     "name": "stdout",
     "output_type": "stream",
     "text": [
      "Columns in 'train' split:\n",
      "['input', 'mc_labels']\n",
      "\n",
      "Columns in 'test' split:\n",
      "['input', 'mc_labels']\n",
      "\n"
     ]
    }
   ],
   "source": [
    "# Print the column names for each split\n",
    "for split, data in dataset.items():\n",
    "    print(f\"Columns in '{split}' split:\")\n",
    "    print(data.column_names)\n",
    "    print()"
   ]
  },
  {
   "cell_type": "code",
   "execution_count": 37,
   "metadata": {},
   "outputs": [],
   "source": [
    "import pandas as pd"
   ]
  },
  {
   "cell_type": "code",
   "execution_count": 38,
   "metadata": {},
   "outputs": [],
   "source": [
    "train_examples = dataset['train'][:5]\n",
    "train_df = pd.DataFrame.from_dict(train_examples)"
   ]
  },
  {
   "cell_type": "code",
   "execution_count": 39,
   "metadata": {},
   "outputs": [
    {
     "data": {
      "text/plain": [
       "(333690120, 73163352)"
      ]
     },
     "execution_count": 39,
     "metadata": {},
     "output_type": "execute_result"
    }
   ],
   "source": [
    "len(dataset['train']), len(dataset['test'])"
   ]
  },
  {
   "cell_type": "code",
   "execution_count": 33,
   "metadata": {},
   "outputs": [
    {
     "name": "stderr",
     "output_type": "stream",
     "text": [
      "Saving the dataset (182/182 shards): 100%|██████████| 426381820/426381820 [06:03<00:00, 1174444.51 examples/s]\n",
      "Saving the dataset (44/44 shards): 100%|██████████| 100599608/100599608 [01:24<00:00, 1187866.09 examples/s]\n"
     ]
    }
   ],
   "source": [
    "dataset_dict = DatasetDict({\n",
    "    'train': dataset['train'],\n",
    "    'test': dataset['test']\n",
    "})\n",
    "dataset_dict.save_to_disk('datasets')"
   ]
  },
  {
   "cell_type": "code",
   "execution_count": null,
   "metadata": {},
   "outputs": [],
   "source": []
  }
 ],
 "metadata": {
  "kernelspec": {
   "display_name": ".venv",
   "language": "python",
   "name": "python3"
  },
  "language_info": {
   "codemirror_mode": {
    "name": "ipython",
    "version": 3
   },
   "file_extension": ".py",
   "mimetype": "text/x-python",
   "name": "python",
   "nbconvert_exporter": "python",
   "pygments_lexer": "ipython3",
   "version": "3.12.3"
  }
 },
 "nbformat": 4,
 "nbformat_minor": 2
}
