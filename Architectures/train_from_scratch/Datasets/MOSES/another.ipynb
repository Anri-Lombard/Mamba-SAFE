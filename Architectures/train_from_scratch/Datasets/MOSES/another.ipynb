{
 "cells": [
  {
   "cell_type": "code",
   "execution_count": 10,
   "metadata": {},
   "outputs": [],
   "source": [
    "import pandas as pd\n",
    "from datasets import Dataset, DatasetDict\n",
    "import os"
   ]
  },
  {
   "cell_type": "code",
   "execution_count": 11,
   "metadata": {},
   "outputs": [],
   "source": [
    "def load_csv_to_dataset(file_path):\n",
    "    df = pd.read_csv(file_path)\n",
    "    return Dataset.from_pandas(df)"
   ]
  },
  {
   "cell_type": "code",
   "execution_count": 12,
   "metadata": {},
   "outputs": [],
   "source": [
    "train_path = 'train_safe.csv'\n",
    "test_path = 'test_safe.csv'\n",
    "output_dir = 'safe_datasets'"
   ]
  },
  {
   "cell_type": "code",
   "execution_count": 13,
   "metadata": {},
   "outputs": [],
   "source": [
    "train_dataset = load_csv_to_dataset(train_path)\n",
    "test_dataset = load_csv_to_dataset(test_path)"
   ]
  },
  {
   "cell_type": "code",
   "execution_count": 14,
   "metadata": {},
   "outputs": [],
   "source": [
    "dataset_dict = DatasetDict({\n",
    "    'train': train_dataset,\n",
    "    'validation': test_dataset\n",
    "})"
   ]
  },
  {
   "cell_type": "code",
   "execution_count": 15,
   "metadata": {},
   "outputs": [
    {
     "name": "stdout",
     "output_type": "stream",
     "text": [
      "DatasetDict({\n",
      "    train: Dataset({\n",
      "        features: ['SAFE', 'SPLIT'],\n",
      "        num_rows: 1573983\n",
      "    })\n",
      "    validation: Dataset({\n",
      "        features: ['SAFE', 'SPLIT'],\n",
      "        num_rows: 174902\n",
      "    })\n",
      "})\n",
      "\n",
      "Column names:\n",
      "['SAFE', 'SPLIT']\n",
      "\n",
      "First few examples:\n",
      "{'SAFE': ['CC1C2CCC(C2)C17.c16ccc(Cl)cc1.N345.C5CO.C36=O.C47', 'c17cc(=O)c2c(O)c5c6cc2o1.c14ccc7cc1O.CO4.O5C.O6C', 'c15ncn2c1CN(C)C(=O)c1cc(F)ccc1-2.C35=O.CC4.O34', 'Clc1ccccc13.c13nc4no1.c14ccncc1', 'c15ccc(Cl)cc1.c16cccc7n1.CC3(C)C2=O.O35.O24.C46.C7O'], 'SPLIT': ['test', 'test', 'test', 'test', 'test']}\n"
     ]
    }
   ],
   "source": [
    "print(dataset_dict)\n",
    "print(\"\\nColumn names:\")\n",
    "print(dataset_dict['validation'].column_names)\n",
    "print(\"\\nFirst few examples:\")\n",
    "print(dataset_dict['validation'][:5])"
   ]
  },
  {
   "cell_type": "code",
   "execution_count": 16,
   "metadata": {},
   "outputs": [
    {
     "data": {
      "application/vnd.jupyter.widget-view+json": {
       "model_id": "1c6a0a25204e4ef9984f4908bf666d6c",
       "version_major": 2,
       "version_minor": 0
      },
      "text/plain": [
       "Saving the dataset (0/1 shards):   0%|          | 0/1573983 [00:00<?, ? examples/s]"
      ]
     },
     "metadata": {},
     "output_type": "display_data"
    },
    {
     "data": {
      "application/vnd.jupyter.widget-view+json": {
       "model_id": "87669ffcb5bb48ad80f8bd1371c03541",
       "version_major": 2,
       "version_minor": 0
      },
      "text/plain": [
       "Saving the dataset (0/1 shards):   0%|          | 0/174902 [00:00<?, ? examples/s]"
      ]
     },
     "metadata": {},
     "output_type": "display_data"
    },
    {
     "name": "stdout",
     "output_type": "stream",
     "text": [
      "\n",
      "Dataset saved to safe_datasets\n"
     ]
    }
   ],
   "source": [
    "dataset_dict.save_to_disk(output_dir)\n",
    "print(f\"\\nDataset saved to {output_dir}\")"
   ]
  },
  {
   "cell_type": "code",
   "execution_count": null,
   "metadata": {},
   "outputs": [],
   "source": []
  }
 ],
 "metadata": {
  "kernelspec": {
   "display_name": "Python 3",
   "language": "python",
   "name": "python3"
  },
  "language_info": {
   "codemirror_mode": {
    "name": "ipython",
    "version": 3
   },
   "file_extension": ".py",
   "mimetype": "text/x-python",
   "name": "python",
   "nbconvert_exporter": "python",
   "pygments_lexer": "ipython3",
   "version": "3.11.6"
  }
 },
 "nbformat": 4,
 "nbformat_minor": 2
}
