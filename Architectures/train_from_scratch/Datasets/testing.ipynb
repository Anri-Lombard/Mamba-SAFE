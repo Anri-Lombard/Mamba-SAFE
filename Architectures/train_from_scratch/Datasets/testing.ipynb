{
 "cells": [
  {
   "cell_type": "code",
   "execution_count": 14,
   "metadata": {},
   "outputs": [
    {
     "name": "stdout",
     "output_type": "stream",
     "text": [
      "Requirement already satisfied: safe-mol in /Users/anrilombard/Desktop/UCT/.venv/lib/python3.12/site-packages (0.1.8)\n",
      "Collecting safe-mol\n",
      "  Downloading safe_mol-0.1.9-py3-none-any.whl.metadata (10 kB)\n",
      "Requirement already satisfied: tqdm in /Users/anrilombard/Desktop/UCT/.venv/lib/python3.12/site-packages (from safe-mol) (4.66.4)\n",
      "Requirement already satisfied: loguru in /Users/anrilombard/Desktop/UCT/.venv/lib/python3.12/site-packages (from safe-mol) (0.7.2)\n",
      "Requirement already satisfied: typer in /Users/anrilombard/Desktop/UCT/.venv/lib/python3.12/site-packages (from safe-mol) (0.12.3)\n",
      "Requirement already satisfied: universal-pathlib in /Users/anrilombard/Desktop/UCT/.venv/lib/python3.12/site-packages (from safe-mol) (0.2.2)\n",
      "Requirement already satisfied: datamol in /Users/anrilombard/Desktop/UCT/.venv/lib/python3.12/site-packages (from safe-mol) (0.12.5)\n",
      "Requirement already satisfied: numpy in /Users/anrilombard/Desktop/UCT/.venv/lib/python3.12/site-packages (from safe-mol) (1.26.4)\n",
      "Requirement already satisfied: torch>=2.0 in /Users/anrilombard/Desktop/UCT/.venv/lib/python3.12/site-packages (from safe-mol) (2.3.1)\n",
      "Requirement already satisfied: transformers in /Users/anrilombard/Desktop/UCT/.venv/lib/python3.12/site-packages (from safe-mol) (4.42.3)\n",
      "Requirement already satisfied: datasets in /Users/anrilombard/Desktop/UCT/.venv/lib/python3.12/site-packages (from safe-mol) (2.20.0)\n",
      "Requirement already satisfied: tokenizers in /Users/anrilombard/Desktop/UCT/.venv/lib/python3.12/site-packages (from safe-mol) (0.19.1)\n",
      "Requirement already satisfied: accelerate in /Users/anrilombard/Desktop/UCT/.venv/lib/python3.12/site-packages (from safe-mol) (0.31.0)\n",
      "Requirement already satisfied: evaluate in /Users/anrilombard/Desktop/UCT/.venv/lib/python3.12/site-packages (from safe-mol) (0.4.2)\n",
      "Requirement already satisfied: wandb in /Users/anrilombard/Desktop/UCT/.venv/lib/python3.12/site-packages (from safe-mol) (0.17.3)\n",
      "Requirement already satisfied: huggingface-hub in /Users/anrilombard/Desktop/UCT/.venv/lib/python3.12/site-packages (from safe-mol) (0.23.4)\n",
      "Requirement already satisfied: rdkit in /Users/anrilombard/Desktop/UCT/.venv/lib/python3.12/site-packages (from safe-mol) (2024.3.1)\n",
      "Requirement already satisfied: filelock in /Users/anrilombard/Desktop/UCT/.venv/lib/python3.12/site-packages (from torch>=2.0->safe-mol) (3.15.4)\n",
      "Requirement already satisfied: typing-extensions>=4.8.0 in /Users/anrilombard/Desktop/UCT/.venv/lib/python3.12/site-packages (from torch>=2.0->safe-mol) (4.12.2)\n",
      "Requirement already satisfied: sympy in /Users/anrilombard/Desktop/UCT/.venv/lib/python3.12/site-packages (from torch>=2.0->safe-mol) (1.12.1)\n",
      "Requirement already satisfied: networkx in /Users/anrilombard/Desktop/UCT/.venv/lib/python3.12/site-packages (from torch>=2.0->safe-mol) (3.3)\n",
      "Requirement already satisfied: jinja2 in /Users/anrilombard/Desktop/UCT/.venv/lib/python3.12/site-packages (from torch>=2.0->safe-mol) (3.1.4)\n",
      "Requirement already satisfied: fsspec in /Users/anrilombard/Desktop/UCT/.venv/lib/python3.12/site-packages (from torch>=2.0->safe-mol) (2024.5.0)\n",
      "Requirement already satisfied: packaging>=20.0 in /Users/anrilombard/Desktop/UCT/.venv/lib/python3.12/site-packages (from accelerate->safe-mol) (24.1)\n",
      "Requirement already satisfied: psutil in /Users/anrilombard/Desktop/UCT/.venv/lib/python3.12/site-packages (from accelerate->safe-mol) (6.0.0)\n",
      "Requirement already satisfied: pyyaml in /Users/anrilombard/Desktop/UCT/.venv/lib/python3.12/site-packages (from accelerate->safe-mol) (6.0.1)\n",
      "Requirement already satisfied: safetensors>=0.3.1 in /Users/anrilombard/Desktop/UCT/.venv/lib/python3.12/site-packages (from accelerate->safe-mol) (0.4.3)\n",
      "Requirement already satisfied: joblib in /Users/anrilombard/Desktop/UCT/.venv/lib/python3.12/site-packages (from datamol->safe-mol) (1.4.2)\n",
      "Requirement already satisfied: pandas in /Users/anrilombard/Desktop/UCT/.venv/lib/python3.12/site-packages (from datamol->safe-mol) (2.2.2)\n",
      "Requirement already satisfied: scipy in /Users/anrilombard/Desktop/UCT/.venv/lib/python3.12/site-packages (from datamol->safe-mol) (1.14.0)\n",
      "Requirement already satisfied: matplotlib in /Users/anrilombard/Desktop/UCT/.venv/lib/python3.12/site-packages (from datamol->safe-mol) (3.9.0)\n",
      "Requirement already satisfied: pillow in /Users/anrilombard/Desktop/UCT/.venv/lib/python3.12/site-packages (from datamol->safe-mol) (10.3.0)\n",
      "Requirement already satisfied: selfies in /Users/anrilombard/Desktop/UCT/.venv/lib/python3.12/site-packages (from datamol->safe-mol) (2.1.1)\n",
      "Requirement already satisfied: platformdirs in /Users/anrilombard/Desktop/UCT/.venv/lib/python3.12/site-packages (from datamol->safe-mol) (4.2.2)\n",
      "Requirement already satisfied: scikit-learn in /Users/anrilombard/Desktop/UCT/.venv/lib/python3.12/site-packages (from datamol->safe-mol) (1.5.0)\n",
      "Requirement already satisfied: importlib-resources in /Users/anrilombard/Desktop/UCT/.venv/lib/python3.12/site-packages (from datamol->safe-mol) (6.4.0)\n",
      "Requirement already satisfied: pyarrow>=15.0.0 in /Users/anrilombard/Desktop/UCT/.venv/lib/python3.12/site-packages (from datasets->safe-mol) (16.1.0)\n",
      "Requirement already satisfied: pyarrow-hotfix in /Users/anrilombard/Desktop/UCT/.venv/lib/python3.12/site-packages (from datasets->safe-mol) (0.6)\n",
      "Requirement already satisfied: dill<0.3.9,>=0.3.0 in /Users/anrilombard/Desktop/UCT/.venv/lib/python3.12/site-packages (from datasets->safe-mol) (0.3.8)\n",
      "Requirement already satisfied: requests>=2.32.2 in /Users/anrilombard/Desktop/UCT/.venv/lib/python3.12/site-packages (from datasets->safe-mol) (2.32.3)\n",
      "Requirement already satisfied: xxhash in /Users/anrilombard/Desktop/UCT/.venv/lib/python3.12/site-packages (from datasets->safe-mol) (3.4.1)\n",
      "Requirement already satisfied: multiprocess in /Users/anrilombard/Desktop/UCT/.venv/lib/python3.12/site-packages (from datasets->safe-mol) (0.70.16)\n",
      "Requirement already satisfied: aiohttp in /Users/anrilombard/Desktop/UCT/.venv/lib/python3.12/site-packages (from datasets->safe-mol) (3.9.5)\n",
      "Requirement already satisfied: regex!=2019.12.17 in /Users/anrilombard/Desktop/UCT/.venv/lib/python3.12/site-packages (from transformers->safe-mol) (2024.5.15)\n",
      "Requirement already satisfied: click>=8.0.0 in /Users/anrilombard/Desktop/UCT/.venv/lib/python3.12/site-packages (from typer->safe-mol) (8.1.7)\n",
      "Requirement already satisfied: shellingham>=1.3.0 in /Users/anrilombard/Desktop/UCT/.venv/lib/python3.12/site-packages (from typer->safe-mol) (1.5.4)\n",
      "Requirement already satisfied: rich>=10.11.0 in /Users/anrilombard/Desktop/UCT/.venv/lib/python3.12/site-packages (from typer->safe-mol) (13.7.1)\n",
      "Requirement already satisfied: docker-pycreds>=0.4.0 in /Users/anrilombard/Desktop/UCT/.venv/lib/python3.12/site-packages (from wandb->safe-mol) (0.4.0)\n",
      "Requirement already satisfied: gitpython!=3.1.29,>=1.0.0 in /Users/anrilombard/Desktop/UCT/.venv/lib/python3.12/site-packages (from wandb->safe-mol) (3.1.43)\n",
      "Requirement already satisfied: protobuf!=4.21.0,<6,>=3.19.0 in /Users/anrilombard/Desktop/UCT/.venv/lib/python3.12/site-packages (from wandb->safe-mol) (5.27.2)\n",
      "Requirement already satisfied: sentry-sdk>=1.0.0 in /Users/anrilombard/Desktop/UCT/.venv/lib/python3.12/site-packages (from wandb->safe-mol) (2.7.1)\n",
      "Requirement already satisfied: setproctitle in /Users/anrilombard/Desktop/UCT/.venv/lib/python3.12/site-packages (from wandb->safe-mol) (1.3.3)\n",
      "Requirement already satisfied: setuptools in /Users/anrilombard/Desktop/UCT/.venv/lib/python3.12/site-packages (from wandb->safe-mol) (70.1.1)\n",
      "Requirement already satisfied: six>=1.4.0 in /Users/anrilombard/Desktop/UCT/.venv/lib/python3.12/site-packages (from docker-pycreds>=0.4.0->wandb->safe-mol) (1.16.0)\n",
      "Requirement already satisfied: aiosignal>=1.1.2 in /Users/anrilombard/Desktop/UCT/.venv/lib/python3.12/site-packages (from aiohttp->datasets->safe-mol) (1.3.1)\n",
      "Requirement already satisfied: attrs>=17.3.0 in /Users/anrilombard/Desktop/UCT/.venv/lib/python3.12/site-packages (from aiohttp->datasets->safe-mol) (23.2.0)\n",
      "Requirement already satisfied: frozenlist>=1.1.1 in /Users/anrilombard/Desktop/UCT/.venv/lib/python3.12/site-packages (from aiohttp->datasets->safe-mol) (1.4.1)\n",
      "Requirement already satisfied: multidict<7.0,>=4.5 in /Users/anrilombard/Desktop/UCT/.venv/lib/python3.12/site-packages (from aiohttp->datasets->safe-mol) (6.0.5)\n",
      "Requirement already satisfied: yarl<2.0,>=1.0 in /Users/anrilombard/Desktop/UCT/.venv/lib/python3.12/site-packages (from aiohttp->datasets->safe-mol) (1.9.4)\n",
      "Requirement already satisfied: gitdb<5,>=4.0.1 in /Users/anrilombard/Desktop/UCT/.venv/lib/python3.12/site-packages (from gitpython!=3.1.29,>=1.0.0->wandb->safe-mol) (4.0.11)\n",
      "Requirement already satisfied: charset-normalizer<4,>=2 in /Users/anrilombard/Desktop/UCT/.venv/lib/python3.12/site-packages (from requests>=2.32.2->datasets->safe-mol) (3.3.2)\n",
      "Requirement already satisfied: idna<4,>=2.5 in /Users/anrilombard/Desktop/UCT/.venv/lib/python3.12/site-packages (from requests>=2.32.2->datasets->safe-mol) (3.7)\n",
      "Requirement already satisfied: urllib3<3,>=1.21.1 in /Users/anrilombard/Desktop/UCT/.venv/lib/python3.12/site-packages (from requests>=2.32.2->datasets->safe-mol) (2.2.2)\n",
      "Requirement already satisfied: certifi>=2017.4.17 in /Users/anrilombard/Desktop/UCT/.venv/lib/python3.12/site-packages (from requests>=2.32.2->datasets->safe-mol) (2024.6.2)\n",
      "Requirement already satisfied: markdown-it-py>=2.2.0 in /Users/anrilombard/Desktop/UCT/.venv/lib/python3.12/site-packages (from rich>=10.11.0->typer->safe-mol) (3.0.0)\n",
      "Requirement already satisfied: pygments<3.0.0,>=2.13.0 in /Users/anrilombard/Desktop/UCT/.venv/lib/python3.12/site-packages (from rich>=10.11.0->typer->safe-mol) (2.18.0)\n",
      "Requirement already satisfied: MarkupSafe>=2.0 in /Users/anrilombard/Desktop/UCT/.venv/lib/python3.12/site-packages (from jinja2->torch>=2.0->safe-mol) (2.1.5)\n",
      "Requirement already satisfied: contourpy>=1.0.1 in /Users/anrilombard/Desktop/UCT/.venv/lib/python3.12/site-packages (from matplotlib->datamol->safe-mol) (1.2.1)\n",
      "Requirement already satisfied: cycler>=0.10 in /Users/anrilombard/Desktop/UCT/.venv/lib/python3.12/site-packages (from matplotlib->datamol->safe-mol) (0.12.1)\n",
      "Requirement already satisfied: fonttools>=4.22.0 in /Users/anrilombard/Desktop/UCT/.venv/lib/python3.12/site-packages (from matplotlib->datamol->safe-mol) (4.53.0)\n",
      "Requirement already satisfied: kiwisolver>=1.3.1 in /Users/anrilombard/Desktop/UCT/.venv/lib/python3.12/site-packages (from matplotlib->datamol->safe-mol) (1.4.5)\n",
      "Requirement already satisfied: pyparsing>=2.3.1 in /Users/anrilombard/Desktop/UCT/.venv/lib/python3.12/site-packages (from matplotlib->datamol->safe-mol) (3.1.2)\n",
      "Requirement already satisfied: python-dateutil>=2.7 in /Users/anrilombard/Desktop/UCT/.venv/lib/python3.12/site-packages (from matplotlib->datamol->safe-mol) (2.9.0.post0)\n",
      "Requirement already satisfied: pytz>=2020.1 in /Users/anrilombard/Desktop/UCT/.venv/lib/python3.12/site-packages (from pandas->datamol->safe-mol) (2024.1)\n",
      "Requirement already satisfied: tzdata>=2022.7 in /Users/anrilombard/Desktop/UCT/.venv/lib/python3.12/site-packages (from pandas->datamol->safe-mol) (2024.1)\n",
      "Requirement already satisfied: threadpoolctl>=3.1.0 in /Users/anrilombard/Desktop/UCT/.venv/lib/python3.12/site-packages (from scikit-learn->datamol->safe-mol) (3.5.0)\n",
      "Requirement already satisfied: mpmath<1.4.0,>=1.1.0 in /Users/anrilombard/Desktop/UCT/.venv/lib/python3.12/site-packages (from sympy->torch>=2.0->safe-mol) (1.3.0)\n",
      "Requirement already satisfied: smmap<6,>=3.0.1 in /Users/anrilombard/Desktop/UCT/.venv/lib/python3.12/site-packages (from gitdb<5,>=4.0.1->gitpython!=3.1.29,>=1.0.0->wandb->safe-mol) (5.0.1)\n",
      "Requirement already satisfied: mdurl~=0.1 in /Users/anrilombard/Desktop/UCT/.venv/lib/python3.12/site-packages (from markdown-it-py>=2.2.0->rich>=10.11.0->typer->safe-mol) (0.1.2)\n",
      "Downloading safe_mol-0.1.9-py3-none-any.whl (51 kB)\n",
      "\u001b[2K   \u001b[90m━━━━━━━━━━━━━━━━━━━━━━━━━━━━━━━━━━━━━━━━\u001b[0m \u001b[32m51.2/51.2 kB\u001b[0m \u001b[31m5.6 MB/s\u001b[0m eta \u001b[36m0:00:00\u001b[0m\n",
      "\u001b[?25hInstalling collected packages: safe-mol\n",
      "  Attempting uninstall: safe-mol\n",
      "    Found existing installation: safe-mol 0.1.8\n",
      "    Uninstalling safe-mol-0.1.8:\n",
      "      Successfully uninstalled safe-mol-0.1.8\n",
      "Successfully installed safe-mol-0.1.9\n",
      "\n",
      "\u001b[1m[\u001b[0m\u001b[34;49mnotice\u001b[0m\u001b[1;39;49m]\u001b[0m\u001b[39;49m A new release of pip is available: \u001b[0m\u001b[31;49m24.1.1\u001b[0m\u001b[39;49m -> \u001b[0m\u001b[32;49m24.1.2\u001b[0m\n",
      "\u001b[1m[\u001b[0m\u001b[34;49mnotice\u001b[0m\u001b[1;39;49m]\u001b[0m\u001b[39;49m To update, run: \u001b[0m\u001b[32;49mpip install --upgrade pip\u001b[0m\n"
     ]
    }
   ],
   "source": [
    "!pip3 install --upgrade safe-mol"
   ]
  },
  {
   "cell_type": "code",
   "execution_count": 15,
   "metadata": {},
   "outputs": [],
   "source": [
    "import safe as sf"
   ]
  },
  {
   "cell_type": "code",
   "execution_count": 16,
   "metadata": {},
   "outputs": [],
   "source": [
    "smile = \"CCCS(=O)c1ccc2[nH]c(=NC(=O)OC)[nH]c2c1\"\n",
    "\n",
    "safe_encoded = sf.encode(smile)"
   ]
  },
  {
   "cell_type": "code",
   "execution_count": 17,
   "metadata": {},
   "outputs": [
    {
     "data": {
      "text/plain": [
       "'CCCS(=O)c1ccc2[nH]c(=NC3=O)[nH]c2c1.O3C'"
      ]
     },
     "execution_count": 17,
     "metadata": {},
     "output_type": "execute_result"
    }
   ],
   "source": [
    "safe_encoded"
   ]
  },
  {
   "cell_type": "code",
   "execution_count": null,
   "metadata": {},
   "outputs": [],
   "source": []
  },
  {
   "cell_type": "code",
   "execution_count": 6,
   "metadata": {},
   "outputs": [],
   "source": [
    "from datasets import load_from_disk\n",
    "\n",
    "dataset = load_from_disk(\"MOSES/datasets\")"
   ]
  },
  {
   "cell_type": "code",
   "execution_count": 7,
   "metadata": {},
   "outputs": [
    {
     "name": "stdout",
     "output_type": "stream",
     "text": [
      "DatasetDict({\n",
      "    train: Dataset({\n",
      "        features: ['SMILES', 'SPLIT'],\n",
      "        num_rows: 1584663\n",
      "    })\n",
      "    test: Dataset({\n",
      "        features: ['SMILES', 'SPLIT'],\n",
      "        num_rows: 176074\n",
      "    })\n",
      "})\n"
     ]
    }
   ],
   "source": [
    "print(dataset)"
   ]
  },
  {
   "cell_type": "code",
   "execution_count": 8,
   "metadata": {},
   "outputs": [
    {
     "name": "stdout",
     "output_type": "stream",
     "text": [
      "['SMILES', 'SPLIT']\n"
     ]
    }
   ],
   "source": [
    "print(dataset['train'].column_names)"
   ]
  },
  {
   "cell_type": "code",
   "execution_count": 9,
   "metadata": {},
   "outputs": [
    {
     "name": "stdout",
     "output_type": "stream",
     "text": [
      "{'SMILES': ['CCCS(=O)c1ccc2[nH]c(=NC(=O)OC)[nH]c2c1', 'CC(C)(C)C(=O)C(Oc1ccc(Cl)cc1)n1ccnc1', 'Cc1c(Cl)cccc1Nc1ncccc1C(=O)OCC(O)CO', 'Cn1cnc2c1c(=O)n(CC(O)CO)c(=O)n2C', 'CC1Oc2ccc(Cl)cc2N(CC(O)CO)C1=O'], 'SPLIT': ['train', 'train', 'train', 'train', 'train']}\n"
     ]
    }
   ],
   "source": [
    "print(dataset['train'][:5])"
   ]
  },
  {
   "cell_type": "code",
   "execution_count": null,
   "metadata": {},
   "outputs": [],
   "source": []
  }
 ],
 "metadata": {
  "kernelspec": {
   "display_name": ".venv",
   "language": "python",
   "name": "python3"
  },
  "language_info": {
   "codemirror_mode": {
    "name": "ipython",
    "version": 3
   },
   "file_extension": ".py",
   "mimetype": "text/x-python",
   "name": "python",
   "nbconvert_exporter": "python",
   "pygments_lexer": "ipython3",
   "version": "3.12.4"
  }
 },
 "nbformat": 4,
 "nbformat_minor": 2
}
