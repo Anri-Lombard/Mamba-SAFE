{
 "cells": [
  {
   "cell_type": "markdown",
   "metadata": {},
   "source": [
    "# Transformer model\n",
    "\n",
    "- [SAFE github repository](https://github.com/datamol-io/safe)\n",
    "- [SAFE documentation](https://safe-docs.datamol.io/stable/)\n",
    "- [SAFE paper](https://arxiv.org/abs/2310.10773#)\n",
    "\n",
    "\n",
    "## Training process\n",
    "\n",
    "Authors used 4 A100 GPUs and trained for 7 days."
   ]
  },
  {
   "cell_type": "markdown",
   "metadata": {},
   "source": []
  }
 ],
 "metadata": {
  "language_info": {
   "name": "python"
  }
 },
 "nbformat": 4,
 "nbformat_minor": 2
}
