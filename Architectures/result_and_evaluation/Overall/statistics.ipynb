{
 "cells": [
  {
   "cell_type": "code",
   "execution_count": null,
   "metadata": {},
   "outputs": [],
   "source": [
    "# TODO: calculate novelty"
   ]
  },
  {
   "cell_type": "code",
   "execution_count": 24,
   "metadata": {},
   "outputs": [],
   "source": [
    "import torch\n",
    "from rdkit import Chem\n",
    "from rdkit.Chem import QED, AllChem, rdFingerprintGenerator\n",
    "from rdkit import rdBase\n",
    "rdBase.DisableLog('rdApp.warning')\n",
    "import os\n",
    "import numpy as np\n",
    "import pandas as pd\n",
    "from tqdm import tqdm\n",
    "import pickle\n",
    "import hashlib\n",
    "from rdkit import DataStructs\n",
    "from rdkit.Chem import RDConfig\n",
    "import sys\n",
    "sys.path.append(os.path.join(RDConfig.RDContribDir, 'SA_Score'))\n",
    "import sascorer\n",
    "import matplotlib.pyplot as plt"
   ]
  },
  {
   "cell_type": "code",
   "execution_count": 25,
   "metadata": {},
   "outputs": [],
   "source": [
    "def process_molecules(smiles_list, desc):\n",
    "    \"\"\"Process SMILES strings into RDKit molecules.\"\"\"\n",
    "    mols = []\n",
    "    for smi in tqdm(smiles_list, desc=desc, unit=\"molecule\"):\n",
    "        mol = Chem.MolFromSmiles(smi)\n",
    "        if mol is not None:\n",
    "            mols.append(mol)\n",
    "    return mols"
   ]
  },
  {
   "cell_type": "code",
   "execution_count": 26,
   "metadata": {},
   "outputs": [],
   "source": [
    "def calculate_fingerprints(mols, radius=2, nBits=2048):\n",
    "    \"\"\"Calculate Morgan fingerprints for a list of molecules using MorganGenerator.\"\"\"\n",
    "    fingerprints = []\n",
    "    morgan_gen = rdFingerprintGenerator.GetMorganGenerator(radius=radius)\n",
    "    \n",
    "    for mol in tqdm(mols, desc=\"Calculating fingerprints\", unit=\"molecule\"):\n",
    "        fp = morgan_gen.GetFingerprint(mol)\n",
    "        fingerprints.append(fp)\n",
    "    \n",
    "    return fingerprints"
   ]
  },
  {
   "cell_type": "code",
   "execution_count": 27,
   "metadata": {},
   "outputs": [],
   "source": [
    "def calculate_diversity(fingerprints):\n",
    "    print(\"Calculating pairwise diversities...\")\n",
    "    n = len(fingerprints)\n",
    "    diversity = 0\n",
    "    total_pairs = (n * (n - 1)) // 2\n",
    "    \n",
    "    with tqdm(total=total_pairs, desc=\"Calculating diversity\", unit=\"pair\") as pbar:\n",
    "        for i in range(n):\n",
    "            diversity += sum(1 - DataStructs.TanimotoSimilarity(fingerprints[i], fingerprints[j]) \n",
    "                             for j in range(i + 1, n))\n",
    "            pbar.update(n - i - 1)\n",
    "    \n",
    "    return diversity / total_pairs if n > 1 else 0"
   ]
  },
  {
   "cell_type": "code",
   "execution_count": 28,
   "metadata": {},
   "outputs": [],
   "source": [
    "def evaluate_generated_molecules(generated_smiles, specified_total):\n",
    "    print(\"Starting molecule evaluation...\")\n",
    "    \n",
    "    print(\"Processing generated molecules...\")\n",
    "    valid_mols = process_molecules(generated_smiles, \"Processing generated molecules\")\n",
    "    gen_fps = calculate_fingerprints(valid_mols)\n",
    "    \n",
    "    # Calculate basic properties\n",
    "    unique_smiles = set(Chem.MolToSmiles(mol) for mol in valid_mols)\n",
    "    qed_scores = [QED.qed(mol) for mol in valid_mols]\n",
    "    sas_scores = [sascorer.calculateScore(mol) for mol in valid_mols]\n",
    "    \n",
    "    validity = len(valid_mols) / specified_total\n",
    "    uniqueness = len(unique_smiles) / len(generated_smiles) if generated_smiles else 0\n",
    "    \n",
    "    print(\"Calculating diversity...\")\n",
    "    diversity = calculate_diversity(gen_fps)\n",
    "    \n",
    "    qed_mean = sum(qed_scores) / len(qed_scores) if qed_scores else 0\n",
    "    sas_mean = sum(sas_scores) / len(sas_scores) if sas_scores else 0\n",
    "    \n",
    "    return {\n",
    "        \"validity\": validity,\n",
    "        \"uniqueness\": uniqueness,\n",
    "        \"diversity\": diversity,\n",
    "        \"qed_mean\": qed_mean,\n",
    "        \"sas_mean\": sas_mean,\n",
    "    }"
   ]
  },
  {
   "cell_type": "code",
   "execution_count": 29,
   "metadata": {},
   "outputs": [],
   "source": [
    "def load_smiles(filename):\n",
    "    with open(filename, 'r') as f:\n",
    "        return [line.strip() for line in f]"
   ]
  },
  {
   "cell_type": "code",
   "execution_count": 30,
   "metadata": {},
   "outputs": [],
   "source": [
    "hybrid_smiles = load_smiles(\"Results/HYBRID_20M_dropout_little_10000_samples.txt\")\n",
    "safe_gpt_smiles = load_smiles(\"Results/SAFE_GPT_20M_10000_samples.txt\")\n",
    "ssm_smiles = load_smiles(\"Results/SSM_20M_little_dropout_10000_samples.txt\")"
   ]
  },
  {
   "cell_type": "code",
   "execution_count": 31,
   "metadata": {},
   "outputs": [],
   "source": [
    "models = {\n",
    "    \"MAMBA-HYBRID\": hybrid_smiles,\n",
    "    \"SAFE-GPT\": safe_gpt_smiles,\n",
    "    \"MAMBA\": ssm_smiles\n",
    "}"
   ]
  },
  {
   "cell_type": "code",
   "execution_count": 32,
   "metadata": {},
   "outputs": [
    {
     "name": "stdout",
     "output_type": "stream",
     "text": [
      "Evaluating MAMBA-HYBRID...\n",
      "Starting molecule evaluation...\n",
      "Processing generated molecules...\n"
     ]
    },
    {
     "name": "stderr",
     "output_type": "stream",
     "text": [
      "Processing generated molecules: 100%|██████████| 10000/10000 [00:00<00:00, 11918.59molecule/s]\n",
      "Calculating fingerprints: 100%|██████████| 10000/10000 [00:00<00:00, 22482.16molecule/s]\n"
     ]
    },
    {
     "name": "stdout",
     "output_type": "stream",
     "text": [
      "Calculating diversity...\n",
      "Calculating pairwise diversities...\n"
     ]
    },
    {
     "name": "stderr",
     "output_type": "stream",
     "text": [
      "Calculating diversity: 100%|██████████| 49995000/49995000 [01:35<00:00, 522834.66pair/s]\n"
     ]
    },
    {
     "name": "stdout",
     "output_type": "stream",
     "text": [
      "Evaluating SAFE-GPT...\n",
      "Starting molecule evaluation...\n",
      "Processing generated molecules...\n"
     ]
    },
    {
     "name": "stderr",
     "output_type": "stream",
     "text": [
      "Processing generated molecules: 100%|██████████| 9991/9991 [00:00<00:00, 12637.88molecule/s]\n",
      "Calculating fingerprints: 100%|██████████| 9991/9991 [00:00<00:00, 23385.11molecule/s]\n"
     ]
    },
    {
     "name": "stdout",
     "output_type": "stream",
     "text": [
      "Calculating diversity...\n",
      "Calculating pairwise diversities...\n"
     ]
    },
    {
     "name": "stderr",
     "output_type": "stream",
     "text": [
      "Calculating diversity: 100%|██████████| 49905045/49905045 [01:36<00:00, 517041.62pair/s]\n"
     ]
    },
    {
     "name": "stdout",
     "output_type": "stream",
     "text": [
      "Evaluating MAMBA...\n",
      "Starting molecule evaluation...\n",
      "Processing generated molecules...\n"
     ]
    },
    {
     "name": "stderr",
     "output_type": "stream",
     "text": [
      "Processing generated molecules: 100%|██████████| 10000/10000 [00:00<00:00, 12801.86molecule/s]\n",
      "Calculating fingerprints: 100%|██████████| 10000/10000 [00:00<00:00, 12837.63molecule/s]\n"
     ]
    },
    {
     "name": "stdout",
     "output_type": "stream",
     "text": [
      "Calculating diversity...\n",
      "Calculating pairwise diversities...\n"
     ]
    },
    {
     "name": "stderr",
     "output_type": "stream",
     "text": [
      "Calculating diversity: 100%|██████████| 49995000/49995000 [01:37<00:00, 513322.82pair/s]\n"
     ]
    }
   ],
   "source": [
    "results = {}\n",
    "for model_name, smiles_list in models.items():\n",
    "    print(f\"Evaluating {model_name}...\")\n",
    "    results[model_name] = evaluate_generated_molecules(smiles_list, 10000)"
   ]
  },
  {
   "cell_type": "code",
   "execution_count": 33,
   "metadata": {},
   "outputs": [],
   "source": [
    "df_results = pd.DataFrame(results).T\n",
    "df_results = df_results.round(3)"
   ]
  },
  {
   "cell_type": "code",
   "execution_count": 34,
   "metadata": {},
   "outputs": [
    {
     "data": {
      "text/html": [
       "<div>\n",
       "<style scoped>\n",
       "    .dataframe tbody tr th:only-of-type {\n",
       "        vertical-align: middle;\n",
       "    }\n",
       "\n",
       "    .dataframe tbody tr th {\n",
       "        vertical-align: top;\n",
       "    }\n",
       "\n",
       "    .dataframe thead th {\n",
       "        text-align: right;\n",
       "    }\n",
       "</style>\n",
       "<table border=\"1\" class=\"dataframe\">\n",
       "  <thead>\n",
       "    <tr style=\"text-align: right;\">\n",
       "      <th></th>\n",
       "      <th>validity</th>\n",
       "      <th>uniqueness</th>\n",
       "      <th>diversity</th>\n",
       "      <th>qed_mean</th>\n",
       "      <th>sas_mean</th>\n",
       "    </tr>\n",
       "  </thead>\n",
       "  <tbody>\n",
       "    <tr>\n",
       "      <th>MAMBA-HYBRID</th>\n",
       "      <td>1.000</td>\n",
       "      <td>0.999</td>\n",
       "      <td>0.860</td>\n",
       "      <td>0.813</td>\n",
       "      <td>2.417</td>\n",
       "    </tr>\n",
       "    <tr>\n",
       "      <th>SAFE-GPT</th>\n",
       "      <td>0.999</td>\n",
       "      <td>0.999</td>\n",
       "      <td>0.859</td>\n",
       "      <td>0.810</td>\n",
       "      <td>2.424</td>\n",
       "    </tr>\n",
       "    <tr>\n",
       "      <th>MAMBA</th>\n",
       "      <td>1.000</td>\n",
       "      <td>0.998</td>\n",
       "      <td>0.860</td>\n",
       "      <td>0.810</td>\n",
       "      <td>2.420</td>\n",
       "    </tr>\n",
       "  </tbody>\n",
       "</table>\n",
       "</div>"
      ],
      "text/plain": [
       "              validity  uniqueness  diversity  qed_mean  sas_mean\n",
       "MAMBA-HYBRID     1.000       0.999      0.860     0.813     2.417\n",
       "SAFE-GPT         0.999       0.999      0.859     0.810     2.424\n",
       "MAMBA            1.000       0.998      0.860     0.810     2.420"
      ]
     },
     "execution_count": 34,
     "metadata": {},
     "output_type": "execute_result"
    }
   ],
   "source": [
    "df_results"
   ]
  },
  {
   "cell_type": "markdown",
   "metadata": {},
   "source": [
    "| Model        | Validity | Uniqueness | Diversity | QED Mean | SAS Mean |\n",
    "|--------------|----------|------------|-----------|----------|----------|\n",
    "| MAMBA-HYBRID | 1.000    | 0.997      | 0.856     | 0.816    | 2.357    |\n",
    "| SAFE-GPT     | 0.994    | 1.000      | 0.866     | 0.801    | 2.500    |\n",
    "| MAMBA        | 1.000    | 0.996      | 0.855     | 0.820    | 2.357    |"
   ]
  },
  {
   "cell_type": "markdown",
   "metadata": {},
   "source": [
    "MAMBA seems to perform just as well as safe-gpt in most cases."
   ]
  },
  {
   "cell_type": "code",
   "execution_count": 36,
   "metadata": {},
   "outputs": [],
   "source": [
    "import random"
   ]
  },
  {
   "cell_type": "code",
   "execution_count": 37,
   "metadata": {},
   "outputs": [],
   "source": [
    "def run_evaluation_with_seeds(model_smiles, num_seeds=5, num_samples=10000):\n",
    "    results = []\n",
    "    for seed in tqdm(range(num_seeds), desc=\"Running seeds\"):\n",
    "        random.seed(seed)\n",
    "        np.random.seed(seed)\n",
    "        torch.manual_seed(seed)\n",
    "        \n",
    "        # Sample from the full set of SMILES strings\n",
    "        sampled_smiles = random.sample(model_smiles, num_samples)\n",
    "        \n",
    "        # Run your existing evaluation\n",
    "        result = evaluate_generated_molecules(sampled_smiles, num_samples)\n",
    "        results.append(result)\n",
    "    \n",
    "    # Calculate mean and standard deviation across seeds\n",
    "    mean_results = {k: np.mean([r[k] for r in results]) for k in results[0]}\n",
    "    std_results = {k: np.std([r[k] for r in results]) for k in results[0]}\n",
    "    \n",
    "    return mean_results, std_results"
   ]
  },
  {
   "cell_type": "code",
   "execution_count": 38,
   "metadata": {},
   "outputs": [
    {
     "name": "stdout",
     "output_type": "stream",
     "text": [
      "Evaluating MAMBA-HYBRID with multiple seeds...\n"
     ]
    },
    {
     "name": "stderr",
     "output_type": "stream",
     "text": [
      "Running seeds:   0%|          | 0/5 [00:00<?, ?it/s]"
     ]
    },
    {
     "name": "stdout",
     "output_type": "stream",
     "text": [
      "Starting molecule evaluation...\n",
      "Processing generated molecules...\n"
     ]
    },
    {
     "name": "stderr",
     "output_type": "stream",
     "text": [
      "Processing generated molecules: 100%|██████████| 10000/10000 [00:01<00:00, 8804.74molecule/s]\n",
      "Calculating fingerprints: 100%|██████████| 10000/10000 [00:00<00:00, 20117.08molecule/s]\n"
     ]
    },
    {
     "name": "stdout",
     "output_type": "stream",
     "text": [
      "Calculating diversity...\n",
      "Calculating pairwise diversities...\n"
     ]
    },
    {
     "name": "stderr",
     "output_type": "stream",
     "text": [
      "Calculating diversity: 100%|██████████| 49995000/49995000 [01:43<00:00, 482369.76pair/s]\n",
      "Running seeds:  20%|██        | 1/5 [02:10<08:42, 130.63s/it]"
     ]
    },
    {
     "name": "stdout",
     "output_type": "stream",
     "text": [
      "Starting molecule evaluation...\n",
      "Processing generated molecules...\n"
     ]
    },
    {
     "name": "stderr",
     "output_type": "stream",
     "text": [
      "Processing generated molecules: 100%|██████████| 10000/10000 [00:00<00:00, 12539.41molecule/s]\n",
      "Calculating fingerprints: 100%|██████████| 10000/10000 [00:00<00:00, 13490.75molecule/s]\n"
     ]
    },
    {
     "name": "stdout",
     "output_type": "stream",
     "text": [
      "Calculating diversity...\n",
      "Calculating pairwise diversities...\n"
     ]
    },
    {
     "name": "stderr",
     "output_type": "stream",
     "text": [
      "Calculating diversity: 100%|██████████| 49995000/49995000 [01:38<00:00, 506534.11pair/s]\n",
      "Running seeds:  40%|████      | 2/5 [04:15<06:22, 127.50s/it]"
     ]
    },
    {
     "name": "stdout",
     "output_type": "stream",
     "text": [
      "Starting molecule evaluation...\n",
      "Processing generated molecules...\n"
     ]
    },
    {
     "name": "stderr",
     "output_type": "stream",
     "text": [
      "Processing generated molecules: 100%|██████████| 10000/10000 [00:00<00:00, 11316.29molecule/s]\n",
      "Calculating fingerprints: 100%|██████████| 10000/10000 [00:00<00:00, 22083.69molecule/s]\n"
     ]
    },
    {
     "name": "stdout",
     "output_type": "stream",
     "text": [
      "Calculating diversity...\n",
      "Calculating pairwise diversities...\n"
     ]
    },
    {
     "name": "stderr",
     "output_type": "stream",
     "text": [
      "Calculating diversity: 100%|██████████| 49995000/49995000 [01:38<00:00, 506223.80pair/s]\n",
      "Running seeds:  60%|██████    | 3/5 [06:21<04:13, 126.68s/it]"
     ]
    },
    {
     "name": "stdout",
     "output_type": "stream",
     "text": [
      "Starting molecule evaluation...\n",
      "Processing generated molecules...\n"
     ]
    },
    {
     "name": "stderr",
     "output_type": "stream",
     "text": [
      "Processing generated molecules: 100%|██████████| 10000/10000 [00:00<00:00, 12381.28molecule/s]\n",
      "Calculating fingerprints: 100%|██████████| 10000/10000 [00:00<00:00, 22465.80molecule/s]\n"
     ]
    },
    {
     "name": "stdout",
     "output_type": "stream",
     "text": [
      "Calculating diversity...\n",
      "Calculating pairwise diversities...\n"
     ]
    },
    {
     "name": "stderr",
     "output_type": "stream",
     "text": [
      "Calculating diversity: 100%|██████████| 49995000/49995000 [01:40<00:00, 496391.11pair/s]\n",
      "Running seeds:  80%|████████  | 4/5 [08:28<02:06, 126.90s/it]"
     ]
    },
    {
     "name": "stdout",
     "output_type": "stream",
     "text": [
      "Starting molecule evaluation...\n",
      "Processing generated molecules...\n"
     ]
    },
    {
     "name": "stderr",
     "output_type": "stream",
     "text": [
      "Processing generated molecules: 100%|██████████| 10000/10000 [00:00<00:00, 10809.50molecule/s]\n",
      "Calculating fingerprints: 100%|██████████| 10000/10000 [00:00<00:00, 23760.53molecule/s]\n"
     ]
    },
    {
     "name": "stdout",
     "output_type": "stream",
     "text": [
      "Calculating diversity...\n",
      "Calculating pairwise diversities...\n"
     ]
    },
    {
     "name": "stderr",
     "output_type": "stream",
     "text": [
      "Calculating diversity: 100%|██████████| 49995000/49995000 [01:39<00:00, 503392.62pair/s]\n",
      "Running seeds: 100%|██████████| 5/5 [10:34<00:00, 126.94s/it]\n"
     ]
    },
    {
     "name": "stdout",
     "output_type": "stream",
     "text": [
      "Evaluating SAFE-GPT with multiple seeds...\n"
     ]
    },
    {
     "name": "stderr",
     "output_type": "stream",
     "text": [
      "Running seeds:   0%|          | 0/5 [00:00<?, ?it/s]\n"
     ]
    },
    {
     "ename": "ValueError",
     "evalue": "Sample larger than population or is negative",
     "output_type": "error",
     "traceback": [
      "\u001b[0;31m---------------------------------------------------------------------------\u001b[0m",
      "\u001b[0;31mValueError\u001b[0m                                Traceback (most recent call last)",
      "Cell \u001b[0;32mIn[38], line 4\u001b[0m\n\u001b[1;32m      2\u001b[0m \u001b[38;5;28;01mfor\u001b[39;00m model_name, smiles_list \u001b[38;5;129;01min\u001b[39;00m models\u001b[38;5;241m.\u001b[39mitems():\n\u001b[1;32m      3\u001b[0m     \u001b[38;5;28mprint\u001b[39m(\u001b[38;5;124mf\u001b[39m\u001b[38;5;124m\"\u001b[39m\u001b[38;5;124mEvaluating \u001b[39m\u001b[38;5;132;01m{\u001b[39;00mmodel_name\u001b[38;5;132;01m}\u001b[39;00m\u001b[38;5;124m with multiple seeds...\u001b[39m\u001b[38;5;124m\"\u001b[39m)\n\u001b[0;32m----> 4\u001b[0m     mean_results, std_results \u001b[38;5;241m=\u001b[39m \u001b[43mrun_evaluation_with_seeds\u001b[49m\u001b[43m(\u001b[49m\u001b[43msmiles_list\u001b[49m\u001b[43m)\u001b[49m\n\u001b[1;32m      5\u001b[0m     multi_seed_results[model_name] \u001b[38;5;241m=\u001b[39m {\n\u001b[1;32m      6\u001b[0m         \u001b[38;5;124m\"\u001b[39m\u001b[38;5;124mmean\u001b[39m\u001b[38;5;124m\"\u001b[39m: mean_results,\n\u001b[1;32m      7\u001b[0m         \u001b[38;5;124m\"\u001b[39m\u001b[38;5;124mstd\u001b[39m\u001b[38;5;124m\"\u001b[39m: std_results\n\u001b[1;32m      8\u001b[0m     }\n",
      "Cell \u001b[0;32mIn[37], line 9\u001b[0m, in \u001b[0;36mrun_evaluation_with_seeds\u001b[0;34m(model_smiles, num_seeds, num_samples)\u001b[0m\n\u001b[1;32m      6\u001b[0m torch\u001b[38;5;241m.\u001b[39mmanual_seed(seed)\n\u001b[1;32m      8\u001b[0m \u001b[38;5;66;03m# Sample from the full set of SMILES strings\u001b[39;00m\n\u001b[0;32m----> 9\u001b[0m sampled_smiles \u001b[38;5;241m=\u001b[39m \u001b[43mrandom\u001b[49m\u001b[38;5;241;43m.\u001b[39;49m\u001b[43msample\u001b[49m\u001b[43m(\u001b[49m\u001b[43mmodel_smiles\u001b[49m\u001b[43m,\u001b[49m\u001b[43m \u001b[49m\u001b[43mnum_samples\u001b[49m\u001b[43m)\u001b[49m\n\u001b[1;32m     11\u001b[0m \u001b[38;5;66;03m# Run your existing evaluation\u001b[39;00m\n\u001b[1;32m     12\u001b[0m result \u001b[38;5;241m=\u001b[39m evaluate_generated_molecules(sampled_smiles, num_samples)\n",
      "File \u001b[0;32m/Library/Frameworks/Python.framework/Versions/3.11/lib/python3.11/random.py:456\u001b[0m, in \u001b[0;36mRandom.sample\u001b[0;34m(self, population, k, counts)\u001b[0m\n\u001b[1;32m    454\u001b[0m randbelow \u001b[38;5;241m=\u001b[39m \u001b[38;5;28mself\u001b[39m\u001b[38;5;241m.\u001b[39m_randbelow\n\u001b[1;32m    455\u001b[0m \u001b[38;5;28;01mif\u001b[39;00m \u001b[38;5;129;01mnot\u001b[39;00m \u001b[38;5;241m0\u001b[39m \u001b[38;5;241m<\u001b[39m\u001b[38;5;241m=\u001b[39m k \u001b[38;5;241m<\u001b[39m\u001b[38;5;241m=\u001b[39m n:\n\u001b[0;32m--> 456\u001b[0m     \u001b[38;5;28;01mraise\u001b[39;00m \u001b[38;5;167;01mValueError\u001b[39;00m(\u001b[38;5;124m\"\u001b[39m\u001b[38;5;124mSample larger than population or is negative\u001b[39m\u001b[38;5;124m\"\u001b[39m)\n\u001b[1;32m    457\u001b[0m result \u001b[38;5;241m=\u001b[39m [\u001b[38;5;28;01mNone\u001b[39;00m] \u001b[38;5;241m*\u001b[39m k\n\u001b[1;32m    458\u001b[0m setsize \u001b[38;5;241m=\u001b[39m \u001b[38;5;241m21\u001b[39m        \u001b[38;5;66;03m# size of a small set minus size of an empty list\u001b[39;00m\n",
      "\u001b[0;31mValueError\u001b[0m: Sample larger than population or is negative"
     ]
    }
   ],
   "source": [
    "multi_seed_results = {}\n",
    "for model_name, smiles_list in models.items():\n",
    "    print(f\"Evaluating {model_name} with multiple seeds...\")\n",
    "    mean_results, std_results = run_evaluation_with_seeds(smiles_list)\n",
    "    multi_seed_results[model_name] = {\n",
    "        \"mean\": mean_results,\n",
    "        \"std\": std_results\n",
    "    }"
   ]
  },
  {
   "cell_type": "code",
   "execution_count": null,
   "metadata": {},
   "outputs": [],
   "source": [
    "# Create a DataFrame for mean results\n",
    "df_mean = pd.DataFrame({model: results[\"mean\"] for model, results in multi_seed_results.items()}).T\n",
    "df_mean = df_mean.round(3)\n",
    "\n",
    "# Create a DataFrame for standard deviations\n",
    "df_std = pd.DataFrame({model: results[\"std\"] for model, results in multi_seed_results.items()}).T\n",
    "df_std = df_std.round(3)"
   ]
  },
  {
   "cell_type": "code",
   "execution_count": null,
   "metadata": {},
   "outputs": [],
   "source": [
    "print(\"Mean Results:\")\n",
    "print(df_mean)\n",
    "print(\"\\nStandard Deviations:\")\n",
    "print(df_std)\n",
    "\n",
    "# Visualize results with error bars\n",
    "metrics = list(df_mean.columns)\n",
    "num_metrics = len(metrics)\n",
    "num_models = len(df_mean)"
   ]
  },
  {
   "cell_type": "code",
   "execution_count": null,
   "metadata": {},
   "outputs": [],
   "source": [
    "fig, axes = plt.subplots(nrows=(num_metrics + 1) // 2, ncols=2, figsize=(15, 5 * ((num_metrics + 1) // 2)))\n",
    "axes = axes.flatten()\n",
    "\n",
    "for i, metric in enumerate(metrics):\n",
    "    ax = axes[i]\n",
    "    means = df_mean[metric]\n",
    "    stds = df_std[metric]\n",
    "    \n",
    "    ax.bar(range(num_models), means, yerr=stds, capsize=5)\n",
    "    ax.set_title(metric)\n",
    "    ax.set_xticks(range(num_models))\n",
    "    ax.set_xticklabels(df_mean.index, rotation=45)\n",
    "    ax.set_ylabel('Value')\n",
    "\n",
    "plt.tight_layout()\n",
    "plt.show()"
   ]
  },
  {
   "cell_type": "code",
   "execution_count": null,
   "metadata": {},
   "outputs": [],
   "source": []
  }
 ],
 "metadata": {
  "kernelspec": {
   "display_name": "Python 3",
   "language": "python",
   "name": "python3"
  },
  "language_info": {
   "codemirror_mode": {
    "name": "ipython",
    "version": 3
   },
   "file_extension": ".py",
   "mimetype": "text/x-python",
   "name": "python",
   "nbconvert_exporter": "python",
   "pygments_lexer": "ipython3",
   "version": "3.11.6"
  }
 },
 "nbformat": 4,
 "nbformat_minor": 2
}
