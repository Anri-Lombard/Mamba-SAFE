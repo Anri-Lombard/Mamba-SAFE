{
 "cells": [
  {
   "cell_type": "code",
   "execution_count": 1,
   "metadata": {},
   "outputs": [],
   "source": [
    "import csv\n",
    "import json"
   ]
  },
  {
   "cell_type": "code",
   "execution_count": 2,
   "metadata": {},
   "outputs": [],
   "source": [
    "def csv_to_json(loss_csv_path, epoch_csv_path, json_file_path):\n",
    "    # Read epoch CSV file\n",
    "    with open(epoch_csv_path, 'r') as epoch_file:\n",
    "        epoch_reader = csv.DictReader(epoch_file)\n",
    "        epoch_data = {row['train/global_step']: float(row['safe-model-c9fda31e - train/epoch']) for row in epoch_reader}\n",
    "\n",
    "    # Read loss CSV file\n",
    "    with open(loss_csv_path, 'r') as loss_file:\n",
    "        loss_reader = csv.DictReader(loss_file)\n",
    "        loss_data = list(loss_reader)\n",
    "\n",
    "    # Prepare the JSON structure\n",
    "    json_data = {\n",
    "        \"log_history\": []\n",
    "    }\n",
    "\n",
    "    # Convert CSV data to the required JSON format\n",
    "    for row in loss_data:\n",
    "        global_step = row[\"train/global_step\"]\n",
    "        if global_step in epoch_data:\n",
    "            entry = {\n",
    "                \"epoch\": epoch_data[global_step],\n",
    "                \"loss\": float(row[\"safe-model-c9fda31e - eval/loss\"])\n",
    "            }\n",
    "            json_data[\"log_history\"].append(entry)\n",
    "\n",
    "    # Write JSON file\n",
    "    with open(json_file_path, 'w') as json_file:\n",
    "        json.dump(json_data, json_file, indent=2)"
   ]
  },
  {
   "cell_type": "code",
   "execution_count": 3,
   "metadata": {},
   "outputs": [],
   "source": [
    "loss_csv_path = 'safe_small.csv'\n",
    "epoch_csv_path = 'safe_small_epoch.csv'\n",
    "json_file_path = 'safe_small.json'"
   ]
  },
  {
   "cell_type": "code",
   "execution_count": 4,
   "metadata": {},
   "outputs": [
    {
     "name": "stdout",
     "output_type": "stream",
     "text": [
      "Conversion complete. JSON file saved as safe_small.json\n"
     ]
    }
   ],
   "source": [
    "csv_to_json(loss_csv_path, epoch_csv_path, json_file_path)\n",
    "print(f\"Conversion complete. JSON file saved as {json_file_path}\")"
   ]
  },
  {
   "cell_type": "code",
   "execution_count": null,
   "metadata": {},
   "outputs": [],
   "source": []
  }
 ],
 "metadata": {
  "kernelspec": {
   "display_name": ".venv",
   "language": "python",
   "name": "python3"
  },
  "language_info": {
   "codemirror_mode": {
    "name": "ipython",
    "version": 3
   },
   "file_extension": ".py",
   "mimetype": "text/x-python",
   "name": "python",
   "nbconvert_exporter": "python",
   "pygments_lexer": "ipython3",
   "version": "3.12.4"
  }
 },
 "nbformat": 4,
 "nbformat_minor": 2
}
