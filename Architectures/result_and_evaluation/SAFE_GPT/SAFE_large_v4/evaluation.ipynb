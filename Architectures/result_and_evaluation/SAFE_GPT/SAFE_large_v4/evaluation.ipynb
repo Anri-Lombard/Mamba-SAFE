{
 "cells": [
  {
   "cell_type": "code",
   "execution_count": 18,
   "metadata": {},
   "outputs": [],
   "source": [
    "import torch\n",
    "from transformers import AutoModelForCausalLM, AutoTokenizer\n",
    "from safe.tokenizer import SAFETokenizer\n",
    "from safe.trainer.model import SAFEDoubleHeadsModel\n",
    "from rdkit import Chem\n",
    "from rdkit.Chem import Draw, AllChem\n",
    "import os\n",
    "from molfeat.trans.pretrained.hf_transformers import HFModel\n",
    "import datamol as dm\n",
    "import safe as sf\n",
    "import numpy as np\n",
    "import pandas as pd\n",
    "from tqdm import tqdm\n",
    "from collections import defaultdict\n",
    "import pickle\n",
    "import hashlib\n",
    "from PIL import Image\n",
    "import cairosvg"
   ]
  },
  {
   "cell_type": "code",
   "execution_count": 19,
   "metadata": {},
   "outputs": [],
   "source": [
    "os.environ[\"TOKENIZERS_PARALLELISM\"] = \"false\""
   ]
  },
  {
   "cell_type": "code",
   "execution_count": 20,
   "metadata": {},
   "outputs": [],
   "source": [
    "# Load the trained model and tokenizer\n",
    "model_checkpoint = \"./checkpoint-200000\"\n",
    "safe_model = SAFEDoubleHeadsModel.from_pretrained(model_checkpoint)"
   ]
  },
  {
   "cell_type": "code",
   "execution_count": 21,
   "metadata": {},
   "outputs": [],
   "source": [
    "model_tokenizer = \"./tokenizer.json\"\n",
    "safe_tokenizer = SAFETokenizer.from_pretrained(model_tokenizer)"
   ]
  },
  {
   "cell_type": "code",
   "execution_count": 22,
   "metadata": {},
   "outputs": [
    {
     "data": {
      "text/plain": [
       "SAFEDoubleHeadsModel(\n",
       "  (transformer): GPT2Model(\n",
       "    (wte): Embedding(1880, 660)\n",
       "    (wpe): Embedding(1024, 660)\n",
       "    (drop): Dropout(p=0.1, inplace=False)\n",
       "    (h): ModuleList(\n",
       "      (0-9): 10 x GPT2Block(\n",
       "        (ln_1): LayerNorm((660,), eps=1e-05, elementwise_affine=True)\n",
       "        (attn): GPT2SdpaAttention(\n",
       "          (c_attn): Conv1D()\n",
       "          (c_proj): Conv1D()\n",
       "          (attn_dropout): Dropout(p=0.1, inplace=False)\n",
       "          (resid_dropout): Dropout(p=0.1, inplace=False)\n",
       "        )\n",
       "        (ln_2): LayerNorm((660,), eps=1e-05, elementwise_affine=True)\n",
       "        (mlp): GPT2MLP(\n",
       "          (c_fc): Conv1D()\n",
       "          (c_proj): Conv1D()\n",
       "          (act): NewGELUActivation()\n",
       "          (dropout): Dropout(p=0.1, inplace=False)\n",
       "        )\n",
       "      )\n",
       "    )\n",
       "    (ln_f): LayerNorm((660,), eps=1e-05, elementwise_affine=True)\n",
       "  )\n",
       "  (lm_head): Linear(in_features=660, out_features=1880, bias=False)\n",
       "  (multiple_choice_head): PropertyHead(\n",
       "    (summary): Linear(in_features=660, out_features=128, bias=True)\n",
       "    (activation): Tanh()\n",
       "    (out): Linear(in_features=128, out_features=1, bias=True)\n",
       "  )\n",
       ")"
      ]
     },
     "execution_count": 22,
     "metadata": {},
     "output_type": "execute_result"
    }
   ],
   "source": [
    "# # Set the device to GPU if available, else CPU\n",
    "device = torch.device(\"cuda\" if torch.cuda.is_available() else \"cpu\")\n",
    "safe_model.to(device)"
   ]
  },
  {
   "cell_type": "code",
   "execution_count": 23,
   "metadata": {},
   "outputs": [],
   "source": [
    "def hash_smiles_list(smiles_list):\n",
    "    \"\"\"Create a hash of the SMILES list to use as a unique identifier.\"\"\"\n",
    "    return hashlib.md5(''.join(sorted(smiles_list)).encode()).hexdigest()\n",
    "\n",
    "def save_processed_data(data, filename):\n",
    "    \"\"\"Save processed data to a file.\"\"\"\n",
    "    with open(filename, 'wb') as f:\n",
    "        pickle.dump(data, f)\n",
    "\n",
    "def load_processed_data(filename):\n",
    "    \"\"\"Load processed data from a file.\"\"\"\n",
    "    with open(filename, 'rb') as f:\n",
    "        return pickle.load(f)"
   ]
  },
  {
   "cell_type": "code",
   "execution_count": 24,
   "metadata": {},
   "outputs": [],
   "source": [
    "designer = sf.SAFEDesign(\n",
    "    model=safe_model,\n",
    "    tokenizer=safe_tokenizer,\n",
    "    verbose=True,\n",
    ")"
   ]
  },
  {
   "cell_type": "code",
   "execution_count": null,
   "metadata": {},
   "outputs": [],
   "source": []
  },
  {
   "cell_type": "code",
   "execution_count": 25,
   "metadata": {},
   "outputs": [
    {
     "data": {
      "application/vnd.jupyter.widget-view+json": {
       "model_id": "c9b8ab4f07c34b4da4684638c6cd4bab",
       "version_major": 2,
       "version_minor": 0
      },
      "text/plain": [
       "  0%|          | 0/1 [00:00<?, ?it/s]"
      ]
     },
     "metadata": {},
     "output_type": "display_data"
    },
    {
     "name": "stderr",
     "output_type": "stream",
     "text": [
      "\u001b[32m2024-07-21 13:20:45.907\u001b[0m | \u001b[1mINFO    \u001b[0m | \u001b[36msafe.sample\u001b[0m:\u001b[36mde_novo_generation\u001b[0m:\u001b[36m577\u001b[0m - \u001b[1mAfter sanitization, 1 / 200 (0.50 %) generated molecules are valid !\u001b[0m\n"
     ]
    }
   ],
   "source": [
    "generated_smiles = designer.de_novo_generation(sanitize=True, n_samples_per_trial=200, early_stopping=False, max_length=100)"
   ]
  },
  {
   "cell_type": "code",
   "execution_count": 16,
   "metadata": {},
   "outputs": [
    {
     "ename": "IndexError",
     "evalue": "list index out of range",
     "output_type": "error",
     "traceback": [
      "\u001b[0;31m---------------------------------------------------------------------------\u001b[0m",
      "\u001b[0;31mIndexError\u001b[0m                                Traceback (most recent call last)",
      "Cell \u001b[0;32mIn[16], line 3\u001b[0m\n\u001b[1;32m      1\u001b[0m \u001b[38;5;66;03m# Print first 10 generated molecules datamols\u001b[39;00m\n\u001b[1;32m      2\u001b[0m \u001b[38;5;28;01mfor\u001b[39;00m i \u001b[38;5;129;01min\u001b[39;00m \u001b[38;5;28mrange\u001b[39m(\u001b[38;5;241m1\u001b[39m):\n\u001b[0;32m----> 3\u001b[0m     display(dm\u001b[38;5;241m.\u001b[39mto_image(dm\u001b[38;5;241m.\u001b[39mto_mol(\u001b[43mgenerated_smiles\u001b[49m\u001b[43m[\u001b[49m\u001b[43mi\u001b[49m\u001b[43m]\u001b[49m)))\n",
      "\u001b[0;31mIndexError\u001b[0m: list index out of range"
     ]
    }
   ],
   "source": [
    "# Print first 10 generated molecules datamols\n",
    "for i in range(1):\n",
    "    display(dm.to_image(dm.to_mol(generated_smiles[i])))"
   ]
  },
  {
   "cell_type": "code",
   "execution_count": null,
   "metadata": {},
   "outputs": [],
   "source": [
    "mol_1 = dm.to_mol(generated_smiles[0])\n",
    "\n",
    "img = dm.to_image(mol_1)\n",
    "# Image.fromarray(img).save(\"mol_1.png\")\n",
    "img_path = \"mol_1.png\"\n",
    "cairosvg.svg2png(bytestring=img.data, write_to=img_path)"
   ]
  },
  {
   "cell_type": "code",
   "execution_count": null,
   "metadata": {},
   "outputs": [
    {
     "name": "stdout",
     "output_type": "stream",
     "text": [
      "\n",
      "Max length of SMILES: 48\n",
      "Average length of SMILES: 36.28140703517588\n"
     ]
    }
   ],
   "source": [
    "# print max length of SMILES\n",
    "max_len = max([len(s) for s in generated_smiles])\n",
    "print(f\"\\nMax length of SMILES: {max_len}\")\n",
    "\n",
    "# average length of SMILES\n",
    "avg_len = np.mean([len(s) for s in generated_smiles])\n",
    "print(f\"Average length of SMILES: {avg_len}\")"
   ]
  },
  {
   "cell_type": "code",
   "execution_count": null,
   "metadata": {},
   "outputs": [],
   "source": [
    "# Save the generated SMILES\n",
    "# with open(\"generated_smiles_10k.md\", \"w\") as f:\n",
    "#     for smiles in generated_smiles:\n",
    "#         f.write(smiles + \"\\n\")"
   ]
  },
  {
   "cell_type": "code",
   "execution_count": null,
   "metadata": {},
   "outputs": [],
   "source": [
    "# Load the generated SMILES\n",
    "generated_smiles = []\n",
    "with open(\"generated_smiles_10k.md\", \"r\") as f:\n",
    "    for line in f:\n",
    "        generated_smiles.append(line.strip())"
   ]
  },
  {
   "cell_type": "code",
   "execution_count": null,
   "metadata": {},
   "outputs": [],
   "source": [
    "from rdkit.Chem import QED, Crippen\n",
    "from rdkit import DataStructs\n",
    "from rdkit.Chem import RDConfig\n",
    "import os\n",
    "import sys\n",
    "sys.path.append(os.path.join(RDConfig.RDContribDir, 'SA_Score'))\n",
    "# now you can import sascore!\n",
    "import sascorer"
   ]
  },
  {
   "cell_type": "code",
   "execution_count": null,
   "metadata": {},
   "outputs": [],
   "source": [
    "def process_molecules(smiles_list, desc):\n",
    "    \"\"\"Process SMILES strings into RDKit molecules.\"\"\"\n",
    "    mols = []\n",
    "    for smi in tqdm(smiles_list, desc=desc, unit=\"molecule\"):\n",
    "        mol = Chem.MolFromSmiles(smi)\n",
    "        if mol is not None:\n",
    "            mols.append(mol)\n",
    "    return mols\n",
    "\n",
    "def calculate_fingerprints(mols, radius=2, nBits=2048):\n",
    "    \"\"\"Calculate Morgan fingerprints for a list of molecules.\"\"\"\n",
    "    fingerprints = []\n",
    "    for mol in tqdm(mols, desc=\"Calculating fingerprints\", unit=\"molecule\"):\n",
    "        fp = AllChem.GetMorganFingerprintAsBitVect(mol, radius, nBits=nBits)\n",
    "        fingerprints.append(fp)\n",
    "    return fingerprints"
   ]
  },
  {
   "cell_type": "code",
   "execution_count": null,
   "metadata": {},
   "outputs": [],
   "source": [
    "def calculate_diversity(fingerprints):\n",
    "    print(\"Calculating pairwise diversities...\")\n",
    "    n = len(fingerprints)\n",
    "    diversity = 0\n",
    "    total_pairs = (n * (n - 1)) // 2\n",
    "    \n",
    "    with tqdm(total=total_pairs, desc=\"Calculating diversity\", unit=\"pair\") as pbar:\n",
    "        for i in range(n):\n",
    "            diversity += sum(1 - DataStructs.TanimotoSimilarity(fingerprints[i], fingerprints[j]) \n",
    "                             for j in range(i + 1, n))\n",
    "            pbar.update(n - i - 1)\n",
    "    \n",
    "    return diversity / total_pairs if n > 1 else 0"
   ]
  },
  {
   "cell_type": "code",
   "execution_count": null,
   "metadata": {},
   "outputs": [],
   "source": [
    "def calculate_novelty(gen_fps, ref_fps, similarity_threshold=0.9):\n",
    "    print(\"Calculating novelty...\")\n",
    "    novel_count = 0\n",
    "    for gen_fp in tqdm(gen_fps, desc=\"Novelty calculation\", unit=\"molecule\"):\n",
    "        # Use BulkTanimotoSimilarity for efficient comparison\n",
    "        similarities = DataStructs.BulkTanimotoSimilarity(gen_fp, ref_fps)\n",
    "        if max(similarities) < similarity_threshold:\n",
    "            novel_count += 1\n",
    "    \n",
    "    return novel_count / len(gen_fps) if gen_fps else 0"
   ]
  },
  {
   "cell_type": "code",
   "execution_count": null,
   "metadata": {},
   "outputs": [],
   "source": [
    "train_set = pd.read_csv(\"../../../train_from_scratch/Datasets/MOSES/train.csv\")\n",
    "test_set = pd.read_csv(\"../../../train_from_scratch/Datasets/MOSES/test.csv\")\n",
    "all_smiles = pd.concat([train_set, test_set])[\"SMILES\"].unique()\n",
    "\n",
    "moses_smiles = all_smiles.tolist()"
   ]
  },
  {
   "cell_type": "code",
   "execution_count": null,
   "metadata": {},
   "outputs": [],
   "source": [
    "def evaluate_generated_molecules(generated_smiles, reference_smiles):\n",
    "    print(\"Starting molecule evaluation...\")\n",
    "    \n",
    "    # Create hashes for the SMILES lists\n",
    "    gen_hash = hash_smiles_list(generated_smiles)\n",
    "    ref_hash = hash_smiles_list(reference_smiles)\n",
    "    \n",
    "    # Check if processed data exists\n",
    "    gen_mol_file = f\"gen_mols_{gen_hash}.pkl\"\n",
    "    ref_mol_file = f\"ref_mols_{ref_hash}.pkl\"\n",
    "    gen_fp_file = f\"gen_fps_{gen_hash}.pkl\"\n",
    "    ref_fp_file = f\"ref_fps_{ref_hash}.pkl\"\n",
    "    \n",
    "    # Process generated molecules\n",
    "    if os.path.exists(gen_mol_file) and os.path.exists(gen_fp_file):\n",
    "        print(\"Loading processed generated molecules and fingerprints...\")\n",
    "        valid_mols = load_processed_data(gen_mol_file)\n",
    "        gen_fps = load_processed_data(gen_fp_file)\n",
    "    else:\n",
    "        print(\"Processing generated molecules...\")\n",
    "        valid_mols = process_molecules(generated_smiles, \"Processing generated molecules\")\n",
    "        gen_fps = calculate_fingerprints(valid_mols)\n",
    "        save_processed_data(valid_mols, gen_mol_file)\n",
    "        save_processed_data(gen_fps, gen_fp_file)\n",
    "    \n",
    "    # Process reference molecules\n",
    "    if os.path.exists(ref_mol_file) and os.path.exists(ref_fp_file):\n",
    "        print(\"Loading processed reference molecules and fingerprints...\")\n",
    "        reference_mols = load_processed_data(ref_mol_file)\n",
    "        ref_fps = load_processed_data(ref_fp_file)\n",
    "    else:\n",
    "        print(\"Processing reference molecules...\")\n",
    "        reference_mols = process_molecules(reference_smiles, \"Processing reference molecules\")\n",
    "        ref_fps = calculate_fingerprints(reference_mols)\n",
    "        save_processed_data(reference_mols, ref_mol_file)\n",
    "        save_processed_data(ref_fps, ref_fp_file)\n",
    "    \n",
    "    # Calculate basic properties\n",
    "    unique_smiles = set(Chem.MolToSmiles(mol) for mol in valid_mols)\n",
    "    qed_scores = [QED.qed(mol) for mol in valid_mols]\n",
    "    sas_scores = [sascorer.calculateScore(mol) for mol in valid_mols]\n",
    "    \n",
    "    validity = len(valid_mols) / len(generated_smiles) if generated_smiles else 0\n",
    "    uniqueness = len(unique_smiles) / len(generated_smiles) if generated_smiles else 0\n",
    "    \n",
    "    print(\"Calculating diversity...\")\n",
    "    diversity = calculate_diversity(gen_fps)\n",
    "    \n",
    "    print(\"Calculating novelty...\")\n",
    "    novelty = calculate_novelty(gen_fps, ref_fps)\n",
    "    \n",
    "    qed_mean = sum(qed_scores) / len(qed_scores) if qed_scores else 0\n",
    "    sas_mean = sum(sas_scores) / len(sas_scores) if sas_scores else 0\n",
    "    \n",
    "    return {\n",
    "        \"validity\": validity,\n",
    "        \"uniqueness\": uniqueness,\n",
    "        \"diversity\": diversity,\n",
    "        \"novelty\": novelty,\n",
    "        \"qed_mean\": qed_mean,\n",
    "        \"sas_mean\": sas_mean,\n",
    "    }"
   ]
  },
  {
   "cell_type": "code",
   "execution_count": null,
   "metadata": {},
   "outputs": [
    {
     "name": "stdout",
     "output_type": "stream",
     "text": [
      "Starting molecule evaluation...\n",
      "Loading processed generated molecules and fingerprints...\n",
      "Loading processed reference molecules and fingerprints...\n",
      "Calculating diversity...\n",
      "Calculating pairwise diversities...\n"
     ]
    },
    {
     "name": "stderr",
     "output_type": "stream",
     "text": [
      "Calculating diversity: 100%|██████████| 49536081/49536081 [01:32<00:00, 535464.74pair/s]\n"
     ]
    },
    {
     "name": "stdout",
     "output_type": "stream",
     "text": [
      "Calculating novelty...\n",
      "Calculating novelty...\n"
     ]
    },
    {
     "name": "stderr",
     "output_type": "stream",
     "text": [
      "Novelty calculation: 100%|██████████| 9954/9954 [47:36<00:00,  3.48molecule/s]  \n"
     ]
    }
   ],
   "source": [
    "evaluation_results = evaluate_generated_molecules(generated_smiles, moses_smiles)"
   ]
  },
  {
   "cell_type": "code",
   "execution_count": null,
   "metadata": {},
   "outputs": [
    {
     "name": "stdout",
     "output_type": "stream",
     "text": [
      "Validity of paper is 1, computed is 1.000\n",
      "Uniqueness of paper is 0.999, computed is 0.999\n",
      "Diversity of paper is 0.864, computed is 0.865\n",
      "Novelty: 0.686\n",
      "QED mean is 0.804\n",
      "SAS mean is 2.489\n"
     ]
    }
   ],
   "source": [
    "print(f\"Validity of paper is 1, computed is {evaluation_results['validity']:.3f}\")\n",
    "print(f\"Uniqueness of paper is 0.999, computed is {evaluation_results['uniqueness']:.3f}\")\n",
    "print(f\"Diversity of paper is 0.864, computed is {evaluation_results['diversity']:.3f}\")\n",
    "print(f\"Novelty: {evaluation_results['novelty']:.3f}\")\n",
    "print(f\"QED mean is {evaluation_results['qed_mean']:.3f}\")\n",
    "print(f\"SAS mean is {evaluation_results['sas_mean']:.3f}\")"
   ]
  },
  {
   "cell_type": "code",
   "execution_count": null,
   "metadata": {},
   "outputs": [],
   "source": [
    "with open(\"safe_small_results.md\", \"w\") as f:\n",
    "    f.write(f\"Validity of paper is 1, computed is {evaluation_results['validity']:.3f}\\n\")\n",
    "    f.write(f\"Uniqueness of paper is 0.999, computed is {evaluation_results['uniqueness']:.3f}\\n\")\n",
    "    f.write(f\"Diversity of paper is 0.864, computed is {evaluation_results['diversity']:.3f}\\n\")\n",
    "    f.write(f\"Novelty: {evaluation_results['novelty']:.3f}\\n\")\n",
    "    f.write(f\"QED mean is {evaluation_results['qed_mean']:.3f}\\n\")\n",
    "    f.write(f\"SAS mean is {evaluation_results['sas_mean']:.3f}\\n\")"
   ]
  },
  {
   "cell_type": "markdown",
   "metadata": {},
   "source": [
    "More nuanced evaluation"
   ]
  },
  {
   "cell_type": "code",
   "execution_count": null,
   "metadata": {},
   "outputs": [],
   "source": [
    "import pandas as pd\n",
    "from rdkit import Chem\n",
    "from rdkit.Chem import Descriptors, Crippen, rdMolDescriptors, Lipinski\n",
    "import numpy as np\n",
    "import matplotlib.pyplot as plt\n",
    "import seaborn as sns"
   ]
  },
  {
   "cell_type": "code",
   "execution_count": null,
   "metadata": {},
   "outputs": [],
   "source": [
    "def smiles_to_mol(smiles_list):\n",
    "    return [Chem.MolFromSmiles(smi) for smi in smiles_list if Chem.MolFromSmiles(smi) is not None]"
   ]
  },
  {
   "cell_type": "code",
   "execution_count": null,
   "metadata": {},
   "outputs": [],
   "source": [
    "generated_mols = smiles_to_mol(generated_smiles)\n",
    "moses_mols = smiles_to_mol(moses_smiles)"
   ]
  },
  {
   "cell_type": "code",
   "execution_count": null,
   "metadata": {},
   "outputs": [],
   "source": [
    "def calculate_properties(mol_list):\n",
    "    properties = {\n",
    "        'MW': [], 'LogP': [], 'HBD': [], 'HBA': [], 'TPSA': [], 'RotBonds': [], 'QED': []\n",
    "    }\n",
    "    for mol in mol_list:\n",
    "        properties['MW'].append(Descriptors.ExactMolWt(mol))\n",
    "        properties['LogP'].append(Crippen.MolLogP(mol))\n",
    "        properties['HBD'].append(Lipinski.NumHDonors(mol))\n",
    "        properties['HBA'].append(Lipinski.NumHAcceptors(mol))\n",
    "        properties['TPSA'].append(Descriptors.TPSA(mol))\n",
    "        properties['RotBonds'].append(rdMolDescriptors.CalcNumRotatableBonds(mol))\n",
    "        properties['QED'].append(Descriptors.qed(mol))\n",
    "    return properties"
   ]
  },
  {
   "cell_type": "code",
   "execution_count": null,
   "metadata": {},
   "outputs": [],
   "source": [
    "generated_properties = calculate_properties(generated_mols)\n",
    "moses_properties = calculate_properties(moses_mols)"
   ]
  },
  {
   "cell_type": "code",
   "execution_count": null,
   "metadata": {},
   "outputs": [],
   "source": [
    "def plot_property_distributions(gen_props, ref_props, property_name, xlabel, ylabel=\"Density\", plot_type='line'):\n",
    "    plt.figure(figsize=(10, 6))\n",
    "    \n",
    "    if plot_type == 'line':\n",
    "        sns.kdeplot(gen_props, label='Generated', color='blue', fill=True)\n",
    "        sns.kdeplot(ref_props, label='MOSES', color='red', fill=True)\n",
    "    elif plot_type == 'bar':\n",
    "        gen_counts, gen_bins = np.histogram(gen_props, bins=range(min(min(gen_props), min(ref_props)), max(max(gen_props), max(ref_props)) + 2))\n",
    "        ref_counts, ref_bins = np.histogram(ref_props, bins=gen_bins)\n",
    "        \n",
    "        gen_counts = gen_counts / len(gen_props)\n",
    "        ref_counts = ref_counts / len(ref_props)\n",
    "        \n",
    "        width = 0.35\n",
    "        plt.bar(gen_bins[:-1], gen_counts, width, label='Generated', alpha=0.7, color='blue')\n",
    "        plt.bar(ref_bins[:-1] + width, ref_counts, width, label='MOSES', alpha=0.7, color='red')\n",
    "    \n",
    "    plt.xlabel(xlabel)\n",
    "    plt.ylabel(ylabel)\n",
    "    plt.title(f'Distribution of {property_name}')\n",
    "    plt.legend()\n",
    "    plt.savefig(f'{property_name.lower().replace(\" \", \"_\")}_distribution.png')\n",
    "    plt.close()"
   ]
  },
  {
   "cell_type": "code",
   "execution_count": null,
   "metadata": {},
   "outputs": [],
   "source": [
    "def plot_property_boxplots(gen_props, ref_props):\n",
    "    plt.figure(figsize=(15, 10))\n",
    "    \n",
    "    data = []\n",
    "    for prop, name, _, _ in properties_to_plot:\n",
    "        for value in gen_props[prop]:\n",
    "            data.append({\n",
    "                'Property': name,\n",
    "                'Value': value,\n",
    "                'Dataset': 'Generated'\n",
    "            })\n",
    "        for value in ref_props[prop]:\n",
    "            data.append({\n",
    "                'Property': name,\n",
    "                'Value': value,\n",
    "                'Dataset': 'MOSES'\n",
    "            })\n",
    "    \n",
    "    df = pd.DataFrame(data)\n",
    "    \n",
    "    sns.boxplot(x='Property', y='Value', hue='Dataset', data=df)\n",
    "    plt.xticks(rotation=45, ha='right')\n",
    "    plt.title('Box Plots of Molecular Properties')\n",
    "    plt.tight_layout()\n",
    "    plt.savefig('molecular_properties_boxplots.png')\n",
    "    plt.close()"
   ]
  },
  {
   "cell_type": "code",
   "execution_count": null,
   "metadata": {},
   "outputs": [],
   "source": [
    "def plot_individual_boxplots(gen_props, ref_props):\n",
    "    for prop, name, _, _ in properties_to_plot:\n",
    "        plt.figure(figsize=(10, 6))\n",
    "        data = [\n",
    "            {'Property': name, 'Value': value, 'Dataset': 'Generated'} for value in gen_props[prop]\n",
    "        ] + [\n",
    "            {'Property': name, 'Value': value, 'Dataset': 'MOSES'} for value in ref_props[prop]\n",
    "        ]\n",
    "        df = pd.DataFrame(data)\n",
    "        \n",
    "        sns.boxplot(x='Dataset', y='Value', data=df)\n",
    "        plt.title(f'Box Plot of {name}')\n",
    "        plt.ylabel(name)\n",
    "        plt.tight_layout()\n",
    "        plt.savefig(f'{name.lower().replace(\" \", \"_\")}_boxplot.png')\n",
    "        plt.close()"
   ]
  },
  {
   "cell_type": "code",
   "execution_count": null,
   "metadata": {},
   "outputs": [],
   "source": [
    "properties_to_plot = [\n",
    "    ('MW', 'Molecular Weight', 'Molecular Weight (Da)', 'line'),\n",
    "    ('LogP', 'LogP', 'LogP', 'line'),\n",
    "    ('HBD', 'H-Bond Donors', 'Number of H-Bond Donors', 'bar'),\n",
    "    ('HBA', 'H-Bond Acceptors', 'Number of H-Bond Acceptors', 'bar'),\n",
    "    ('TPSA', 'Topological Polar Surface Area', 'TPSA (Å²)', 'line'),\n",
    "    ('RotBonds', 'Rotatable Bonds', 'Number of Rotatable Bonds', 'bar'),\n",
    "    ('QED', 'QED', 'Quantitative Estimate of Drug-likeness', 'line')\n",
    "]\n",
    "\n",
    "for prop, name, xlabel, plot_type in properties_to_plot:\n",
    "    plot_property_distributions(generated_properties[prop], moses_properties[prop], name, xlabel, plot_type=plot_type)"
   ]
  },
  {
   "cell_type": "code",
   "execution_count": null,
   "metadata": {},
   "outputs": [],
   "source": [
    "plot_property_boxplots(generated_properties, moses_properties)"
   ]
  },
  {
   "cell_type": "code",
   "execution_count": null,
   "metadata": {},
   "outputs": [],
   "source": [
    "plot_individual_boxplots(generated_properties, moses_properties)"
   ]
  },
  {
   "cell_type": "code",
   "execution_count": null,
   "metadata": {},
   "outputs": [],
   "source": [
    "from tabulate import tabulate\n",
    "\n",
    "def print_summary_stats(gen_props, ref_props):\n",
    "    headers = [\"Property\", \"Generated (mean ± std)\", \"MOSES (mean ± std)\"]\n",
    "    table_rows = []\n",
    "    \n",
    "    for prop, name, _, _ in properties_to_plot:\n",
    "        gen_mean, gen_std = np.mean(gen_props[prop]), np.std(gen_props[prop])\n",
    "        ref_mean, ref_std = np.mean(ref_props[prop]), np.std(ref_props[prop])\n",
    "        row = [name, f\"{gen_mean:.2f} ± {gen_std:.2f}\", f\"{ref_mean:.2f} ± {ref_std:.2f}\"]\n",
    "        table_rows.append(row)\n",
    "    \n",
    "    print(tabulate(table_rows, headers=headers, tablefmt=\"grid\"))"
   ]
  },
  {
   "cell_type": "code",
   "execution_count": null,
   "metadata": {},
   "outputs": [
    {
     "name": "stdout",
     "output_type": "stream",
     "text": [
      "+--------------------------------+--------------------------+----------------------+\n",
      "| Property                       | Generated (mean ± std)   | MOSES (mean ± std)   |\n",
      "+================================+==========================+======================+\n",
      "| Molecular Weight               | 310.17 ± 28.97           | 306.92 ± 28.00       |\n",
      "+--------------------------------+--------------------------+----------------------+\n",
      "| LogP                           | 2.46 ± 0.96              | 2.44 ± 0.93          |\n",
      "+--------------------------------+--------------------------+----------------------+\n",
      "| H-Bond Donors                  | 1.12 ± 0.84              | 1.12 ± 0.83          |\n",
      "+--------------------------------+--------------------------+----------------------+\n",
      "| H-Bond Acceptors               | 4.34 ± 1.44              | 4.22 ± 1.40          |\n",
      "+--------------------------------+--------------------------+----------------------+\n",
      "| Topological Polar Surface Area | 67.04 ± 18.39            | 65.82 ± 18.10        |\n",
      "+--------------------------------+--------------------------+----------------------+\n",
      "| Rotatable Bonds                | 4.29 ± 1.45              | 4.26 ± 1.48          |\n",
      "+--------------------------------+--------------------------+----------------------+\n",
      "| QED                            | 0.80 ± 0.10              | 0.81 ± 0.09          |\n",
      "+--------------------------------+--------------------------+----------------------+\n"
     ]
    }
   ],
   "source": [
    "print_summary_stats(generated_properties, moses_properties)"
   ]
  },
  {
   "cell_type": "markdown",
   "metadata": {},
   "source": [
    "scaffold analysis"
   ]
  },
  {
   "cell_type": "code",
   "execution_count": null,
   "metadata": {},
   "outputs": [],
   "source": [
    "from rdkit.Chem.Scaffolds import MurckoScaffold"
   ]
  },
  {
   "cell_type": "code",
   "execution_count": null,
   "metadata": {},
   "outputs": [],
   "source": [
    "def analyze_scaffolds(mol_list):\n",
    "    scaffolds = {}\n",
    "    for mol in mol_list:\n",
    "        scaffold = MurckoScaffold.GetScaffoldForMol(mol)\n",
    "        scaffold_smiles = Chem.MolToSmiles(scaffold)\n",
    "        scaffolds[scaffold_smiles] = scaffolds.get(scaffold_smiles, 0) + 1\n",
    "    return scaffolds"
   ]
  },
  {
   "cell_type": "code",
   "execution_count": null,
   "metadata": {},
   "outputs": [],
   "source": [
    "generated_scaffolds = analyze_scaffolds(generated_mols)\n",
    "moses_scaffolds = analyze_scaffolds(moses_mols)"
   ]
  },
  {
   "cell_type": "code",
   "execution_count": null,
   "metadata": {},
   "outputs": [
    {
     "name": "stdout",
     "output_type": "stream",
     "text": [
      "Unique scaffolds in generated set: 7272\n",
      "Unique scaffolds in MOSES set: 404141\n"
     ]
    }
   ],
   "source": [
    "print(f\"Unique scaffolds in generated set: {len(generated_scaffolds)}\")\n",
    "print(f\"Unique scaffolds in MOSES set: {len(moses_scaffolds)}\")"
   ]
  },
  {
   "cell_type": "code",
   "execution_count": null,
   "metadata": {},
   "outputs": [
    {
     "name": "stdout",
     "output_type": "stream",
     "text": [
      "Scaffold diversity in generated set: 0.7306\n",
      "Scaffold diversity in MOSES set: 0.2295\n"
     ]
    }
   ],
   "source": [
    "# Scaffold diversity\n",
    "gen_scaffold_diversity = len(generated_scaffolds) / len(generated_mols)\n",
    "moses_scaffold_diversity = len(moses_scaffolds) / len(moses_mols)\n",
    "\n",
    "print(f\"Scaffold diversity in generated set: {gen_scaffold_diversity:.4f}\")\n",
    "print(f\"Scaffold diversity in MOSES set: {moses_scaffold_diversity:.4f}\")"
   ]
  },
  {
   "cell_type": "code",
   "execution_count": null,
   "metadata": {},
   "outputs": [],
   "source": []
  }
 ],
 "metadata": {
  "kernelspec": {
   "display_name": "Python 3",
   "language": "python",
   "name": "python3"
  },
  "language_info": {
   "codemirror_mode": {
    "name": "ipython",
    "version": 3
   },
   "file_extension": ".py",
   "mimetype": "text/x-python",
   "name": "python",
   "nbconvert_exporter": "python",
   "pygments_lexer": "ipython3",
   "version": "3.12.4"
  }
 },
 "nbformat": 4,
 "nbformat_minor": 2
}
