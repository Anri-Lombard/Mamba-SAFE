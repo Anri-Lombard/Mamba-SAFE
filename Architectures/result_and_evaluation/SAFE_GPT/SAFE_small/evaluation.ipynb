{
 "cells": [
  {
   "cell_type": "code",
   "execution_count": 27,
   "metadata": {},
   "outputs": [],
   "source": [
    "import torch\n",
    "from transformers import AutoModelForCausalLM, AutoTokenizer\n",
    "from safe.tokenizer import SAFETokenizer\n",
    "from safe.trainer.model import SAFEDoubleHeadsModel\n",
    "from rdkit import Chem\n",
    "from rdkit.Chem import Draw, AllChem\n",
    "import os\n",
    "from molfeat.trans.pretrained.hf_transformers import HFModel\n",
    "import datamol as dm\n",
    "import safe as sf"
   ]
  },
  {
   "cell_type": "code",
   "execution_count": 28,
   "metadata": {},
   "outputs": [],
   "source": [
    "os.environ[\"TOKENIZERS_PARALLELISM\"] = \"false\""
   ]
  },
  {
   "cell_type": "code",
   "execution_count": 29,
   "metadata": {},
   "outputs": [],
   "source": [
    "# Load the trained model and tokenizer\n",
    "model_checkpoint = \"./checkpoint-1712000\"\n",
    "safe_model = SAFEDoubleHeadsModel.from_pretrained(model_checkpoint)"
   ]
  },
  {
   "cell_type": "code",
   "execution_count": 30,
   "metadata": {},
   "outputs": [],
   "source": [
    "model_tokenizer = \"./tokenizer.json\"\n",
    "safe_tokenizer = SAFETokenizer.from_pretrained(model_tokenizer)"
   ]
  },
  {
   "cell_type": "code",
   "execution_count": 5,
   "metadata": {},
   "outputs": [
    {
     "data": {
      "text/plain": [
       "SAFEDoubleHeadsModel(\n",
       "  (transformer): GPT2Model(\n",
       "    (wte): Embedding(1880, 512)\n",
       "    (wpe): Embedding(1024, 512)\n",
       "    (drop): Dropout(p=0.1, inplace=False)\n",
       "    (h): ModuleList(\n",
       "      (0-3): 4 x GPT2Block(\n",
       "        (ln_1): LayerNorm((512,), eps=1e-05, elementwise_affine=True)\n",
       "        (attn): GPT2Attention(\n",
       "          (c_attn): Conv1D()\n",
       "          (c_proj): Conv1D()\n",
       "          (attn_dropout): Dropout(p=0.1, inplace=False)\n",
       "          (resid_dropout): Dropout(p=0.1, inplace=False)\n",
       "        )\n",
       "        (ln_2): LayerNorm((512,), eps=1e-05, elementwise_affine=True)\n",
       "        (mlp): GPT2MLP(\n",
       "          (c_fc): Conv1D()\n",
       "          (c_proj): Conv1D()\n",
       "          (act): NewGELUActivation()\n",
       "          (dropout): Dropout(p=0.1, inplace=False)\n",
       "        )\n",
       "      )\n",
       "    )\n",
       "    (ln_f): LayerNorm((512,), eps=1e-05, elementwise_affine=True)\n",
       "  )\n",
       "  (lm_head): Linear(in_features=512, out_features=1880, bias=False)\n",
       "  (multiple_choice_head): PropertyHead(\n",
       "    (summary): Linear(in_features=512, out_features=128, bias=True)\n",
       "    (activation): Tanh()\n",
       "    (out): Linear(in_features=128, out_features=9, bias=True)\n",
       "  )\n",
       ")"
      ]
     },
     "execution_count": 5,
     "metadata": {},
     "output_type": "execute_result"
    }
   ],
   "source": [
    "# # Set the device to GPU if available, else CPU\n",
    "device = torch.device(\"cuda\" if torch.cuda.is_available() else \"cpu\")\n",
    "safe_model.to(device)"
   ]
  },
  {
   "cell_type": "code",
   "execution_count": 6,
   "metadata": {},
   "outputs": [
    {
     "name": "stderr",
     "output_type": "stream",
     "text": [
      "/Library/Frameworks/Python.framework/Versions/3.11/lib/python3.11/site-packages/huggingface_hub/file_download.py:1132: FutureWarning: `resume_download` is deprecated and will be removed in version 1.0.0. Downloads always resume when possible. If you want to force a new download, use `force_download=True`.\n",
      "  warnings.warn(\n"
     ]
    },
    {
     "data": {
      "text/plain": [
       "SAFEDoubleHeadsModel(\n",
       "  (transformer): GPT2Model(\n",
       "    (wte): Embedding(1880, 768)\n",
       "    (wpe): Embedding(1024, 768)\n",
       "    (drop): Dropout(p=0.1, inplace=False)\n",
       "    (h): ModuleList(\n",
       "      (0-11): 12 x GPT2Block(\n",
       "        (ln_1): LayerNorm((768,), eps=1e-05, elementwise_affine=True)\n",
       "        (attn): GPT2Attention(\n",
       "          (c_attn): Conv1D()\n",
       "          (c_proj): Conv1D()\n",
       "          (attn_dropout): Dropout(p=0.1, inplace=False)\n",
       "          (resid_dropout): Dropout(p=0.1, inplace=False)\n",
       "        )\n",
       "        (ln_2): LayerNorm((768,), eps=1e-05, elementwise_affine=True)\n",
       "        (mlp): GPT2MLP(\n",
       "          (c_fc): Conv1D()\n",
       "          (c_proj): Conv1D()\n",
       "          (act): NewGELUActivation()\n",
       "          (dropout): Dropout(p=0.1, inplace=False)\n",
       "        )\n",
       "      )\n",
       "    )\n",
       "    (ln_f): LayerNorm((768,), eps=1e-05, elementwise_affine=True)\n",
       "  )\n",
       "  (lm_head): Linear(in_features=768, out_features=1880, bias=False)\n",
       "  (multiple_choice_head): PropertyHead(\n",
       "    (summary): Linear(in_features=768, out_features=64, bias=True)\n",
       "    (activation): ReLU()\n",
       "    (out): Linear(in_features=64, out_features=1, bias=True)\n",
       "  )\n",
       ")"
      ]
     },
     "execution_count": 6,
     "metadata": {},
     "output_type": "execute_result"
    }
   ],
   "source": [
    "designer = sf.SAFEDesign.load_default(verbose=True)\n",
    "\n",
    "designer.model"
   ]
  },
  {
   "cell_type": "code",
   "execution_count": 7,
   "metadata": {},
   "outputs": [
    {
     "data": {
      "image/svg+xml": [
       "<svg xmlns=\"http://www.w3.org/2000/svg\" xmlns:rdkit=\"http://www.rdkit.org/xml\" xmlns:xlink=\"http://www.w3.org/1999/xlink\" version=\"1.1\" baseProfile=\"full\" xml:space=\"preserve\" width=\"300px\" height=\"300px\" viewBox=\"0 0 300 300\">\n",
       "<!-- END OF HEADER -->\n",
       "<rect style=\"opacity:1.0;fill:#FFFFFF;stroke:none\" width=\"300.0\" height=\"300.0\" x=\"0.0\" y=\"0.0\"> </rect>\n",
       "<path class=\"bond-0 atom-0 atom-1\" d=\"M 158.7,176.6 L 152.4,185.9\" style=\"fill:none;fill-rule:evenodd;stroke:#FF0000;stroke-width:2.0px;stroke-linecap:butt;stroke-linejoin:miter;stroke-opacity:1\"/>\n",
       "<path class=\"bond-0 atom-0 atom-1\" d=\"M 152.4,185.9 L 146.2,195.1\" style=\"fill:none;fill-rule:evenodd;stroke:#000000;stroke-width:2.0px;stroke-linecap:butt;stroke-linejoin:miter;stroke-opacity:1\"/>\n",
       "<path class=\"bond-0 atom-0 atom-1\" d=\"M 155.3,174.4 L 149.1,183.6\" style=\"fill:none;fill-rule:evenodd;stroke:#FF0000;stroke-width:2.0px;stroke-linecap:butt;stroke-linejoin:miter;stroke-opacity:1\"/>\n",
       "<path class=\"bond-0 atom-0 atom-1\" d=\"M 149.1,183.6 L 142.8,192.9\" style=\"fill:none;fill-rule:evenodd;stroke:#000000;stroke-width:2.0px;stroke-linecap:butt;stroke-linejoin:miter;stroke-opacity:1\"/>\n",
       "<path class=\"bond-1 atom-1 atom-2\" d=\"M 145.2,193.0 L 118.2,191.2\" style=\"fill:none;fill-rule:evenodd;stroke:#000000;stroke-width:2.0px;stroke-linecap:butt;stroke-linejoin:miter;stroke-opacity:1\"/>\n",
       "<path class=\"bond-2 atom-2 atom-3\" d=\"M 118.2,191.2 L 91.3,189.3\" style=\"fill:none;fill-rule:evenodd;stroke:#000000;stroke-width:2.0px;stroke-linecap:butt;stroke-linejoin:miter;stroke-opacity:1\"/>\n",
       "<path class=\"bond-2 atom-2 atom-3\" d=\"M 117.9,195.2 L 91.0,193.4\" style=\"fill:none;fill-rule:evenodd;stroke:#000000;stroke-width:2.0px;stroke-linecap:butt;stroke-linejoin:miter;stroke-opacity:1\"/>\n",
       "<path class=\"bond-2 atom-2 atom-3\" d=\"M 118.5,187.1 L 91.6,185.3\" style=\"fill:none;fill-rule:evenodd;stroke:#000000;stroke-width:2.0px;stroke-linecap:butt;stroke-linejoin:miter;stroke-opacity:1\"/>\n",
       "<path class=\"bond-3 atom-3 atom-4\" d=\"M 91.3,189.3 L 64.3,187.5\" style=\"fill:none;fill-rule:evenodd;stroke:#000000;stroke-width:2.0px;stroke-linecap:butt;stroke-linejoin:miter;stroke-opacity:1\"/>\n",
       "<path class=\"bond-4 atom-4 atom-5\" d=\"M 64.3,187.5 L 59.5,177.7\" style=\"fill:none;fill-rule:evenodd;stroke:#000000;stroke-width:2.0px;stroke-linecap:butt;stroke-linejoin:miter;stroke-opacity:1\"/>\n",
       "<path class=\"bond-4 atom-4 atom-5\" d=\"M 59.5,177.7 L 54.8,167.9\" style=\"fill:none;fill-rule:evenodd;stroke:#0000FF;stroke-width:2.0px;stroke-linecap:butt;stroke-linejoin:miter;stroke-opacity:1\"/>\n",
       "<path class=\"bond-5 atom-5 atom-6\" d=\"M 55.6,158.5 L 61.6,149.6\" style=\"fill:none;fill-rule:evenodd;stroke:#0000FF;stroke-width:2.0px;stroke-linecap:butt;stroke-linejoin:miter;stroke-opacity:1\"/>\n",
       "<path class=\"bond-5 atom-5 atom-6\" d=\"M 61.6,149.6 L 67.5,140.8\" style=\"fill:none;fill-rule:evenodd;stroke:#000000;stroke-width:2.0px;stroke-linecap:butt;stroke-linejoin:miter;stroke-opacity:1\"/>\n",
       "<path class=\"bond-6 atom-6 atom-7\" d=\"M 67.5,140.8 L 55.7,116.5\" style=\"fill:none;fill-rule:evenodd;stroke:#000000;stroke-width:2.0px;stroke-linecap:butt;stroke-linejoin:miter;stroke-opacity:1\"/>\n",
       "<path class=\"bond-7 atom-7 atom-8\" d=\"M 55.7,116.5 L 28.7,114.7\" style=\"fill:none;fill-rule:evenodd;stroke:#000000;stroke-width:2.0px;stroke-linecap:butt;stroke-linejoin:miter;stroke-opacity:1\"/>\n",
       "<path class=\"bond-8 atom-8 atom-9\" d=\"M 28.7,114.7 L 13.6,137.1\" style=\"fill:none;fill-rule:evenodd;stroke:#000000;stroke-width:2.0px;stroke-linecap:butt;stroke-linejoin:miter;stroke-opacity:1\"/>\n",
       "<path class=\"bond-9 atom-9 atom-10\" d=\"M 13.6,137.1 L 25.5,161.3\" style=\"fill:none;fill-rule:evenodd;stroke:#000000;stroke-width:2.0px;stroke-linecap:butt;stroke-linejoin:miter;stroke-opacity:1\"/>\n",
       "<path class=\"bond-10 atom-1 atom-11\" d=\"M 145.2,193.0 L 150.0,202.8\" style=\"fill:none;fill-rule:evenodd;stroke:#000000;stroke-width:2.0px;stroke-linecap:butt;stroke-linejoin:miter;stroke-opacity:1\"/>\n",
       "<path class=\"bond-10 atom-1 atom-11\" d=\"M 150.0,202.8 L 154.7,212.6\" style=\"fill:none;fill-rule:evenodd;stroke:#0000FF;stroke-width:2.0px;stroke-linecap:butt;stroke-linejoin:miter;stroke-opacity:1\"/>\n",
       "<path class=\"bond-11 atom-11 atom-12\" d=\"M 160.8,217.6 L 172.4,218.4\" style=\"fill:none;fill-rule:evenodd;stroke:#0000FF;stroke-width:2.0px;stroke-linecap:butt;stroke-linejoin:miter;stroke-opacity:1\"/>\n",
       "<path class=\"bond-11 atom-11 atom-12\" d=\"M 172.4,218.4 L 184.0,219.1\" style=\"fill:none;fill-rule:evenodd;stroke:#000000;stroke-width:2.0px;stroke-linecap:butt;stroke-linejoin:miter;stroke-opacity:1\"/>\n",
       "<path class=\"bond-12 atom-12 atom-13\" d=\"M 184.0,219.1 L 195.9,243.4\" style=\"fill:none;fill-rule:evenodd;stroke:#000000;stroke-width:2.0px;stroke-linecap:butt;stroke-linejoin:miter;stroke-opacity:1\"/>\n",
       "<path class=\"bond-12 atom-12 atom-13\" d=\"M 188.7,219.5 L 198.5,239.5\" style=\"fill:none;fill-rule:evenodd;stroke:#000000;stroke-width:2.0px;stroke-linecap:butt;stroke-linejoin:miter;stroke-opacity:1\"/>\n",
       "<path class=\"bond-13 atom-13 atom-14\" d=\"M 195.9,243.4 L 222.8,245.3\" style=\"fill:none;fill-rule:evenodd;stroke:#000000;stroke-width:2.0px;stroke-linecap:butt;stroke-linejoin:miter;stroke-opacity:1\"/>\n",
       "<path class=\"bond-14 atom-14 atom-15\" d=\"M 222.8,245.3 L 237.9,222.9\" style=\"fill:none;fill-rule:evenodd;stroke:#000000;stroke-width:2.0px;stroke-linecap:butt;stroke-linejoin:miter;stroke-opacity:1\"/>\n",
       "<path class=\"bond-14 atom-14 atom-15\" d=\"M 220.8,241.1 L 233.2,222.5\" style=\"fill:none;fill-rule:evenodd;stroke:#000000;stroke-width:2.0px;stroke-linecap:butt;stroke-linejoin:miter;stroke-opacity:1\"/>\n",
       "<path class=\"bond-15 atom-15 atom-16\" d=\"M 237.9,222.9 L 249.5,223.7\" style=\"fill:none;fill-rule:evenodd;stroke:#000000;stroke-width:2.0px;stroke-linecap:butt;stroke-linejoin:miter;stroke-opacity:1\"/>\n",
       "<path class=\"bond-15 atom-15 atom-16\" d=\"M 249.5,223.7 L 261.1,224.5\" style=\"fill:none;fill-rule:evenodd;stroke:#0000FF;stroke-width:2.0px;stroke-linecap:butt;stroke-linejoin:miter;stroke-opacity:1\"/>\n",
       "<path class=\"bond-16 atom-16 atom-17\" d=\"M 268.0,220.0 L 274.0,211.2\" style=\"fill:none;fill-rule:evenodd;stroke:#0000FF;stroke-width:2.0px;stroke-linecap:butt;stroke-linejoin:miter;stroke-opacity:1\"/>\n",
       "<path class=\"bond-16 atom-16 atom-17\" d=\"M 274.0,211.2 L 279.9,202.3\" style=\"fill:none;fill-rule:evenodd;stroke:#000000;stroke-width:2.0px;stroke-linecap:butt;stroke-linejoin:miter;stroke-opacity:1\"/>\n",
       "<path class=\"bond-16 atom-16 atom-17\" d=\"M 264.7,217.7 L 270.0,209.9\" style=\"fill:none;fill-rule:evenodd;stroke:#0000FF;stroke-width:2.0px;stroke-linecap:butt;stroke-linejoin:miter;stroke-opacity:1\"/>\n",
       "<path class=\"bond-16 atom-16 atom-17\" d=\"M 270.0,209.9 L 275.3,202.0\" style=\"fill:none;fill-rule:evenodd;stroke:#000000;stroke-width:2.0px;stroke-linecap:butt;stroke-linejoin:miter;stroke-opacity:1\"/>\n",
       "<path class=\"bond-17 atom-17 atom-18\" d=\"M 279.9,202.3 L 275.2,192.5\" style=\"fill:none;fill-rule:evenodd;stroke:#000000;stroke-width:2.0px;stroke-linecap:butt;stroke-linejoin:miter;stroke-opacity:1\"/>\n",
       "<path class=\"bond-17 atom-17 atom-18\" d=\"M 275.2,192.5 L 270.4,182.8\" style=\"fill:none;fill-rule:evenodd;stroke:#0000FF;stroke-width:2.0px;stroke-linecap:butt;stroke-linejoin:miter;stroke-opacity:1\"/>\n",
       "<path class=\"bond-18 atom-18 atom-19\" d=\"M 264.3,177.8 L 252.7,177.0\" style=\"fill:none;fill-rule:evenodd;stroke:#0000FF;stroke-width:2.0px;stroke-linecap:butt;stroke-linejoin:miter;stroke-opacity:1\"/>\n",
       "<path class=\"bond-18 atom-18 atom-19\" d=\"M 252.7,177.0 L 241.1,176.2\" style=\"fill:none;fill-rule:evenodd;stroke:#000000;stroke-width:2.0px;stroke-linecap:butt;stroke-linejoin:miter;stroke-opacity:1\"/>\n",
       "<path class=\"bond-18 atom-18 atom-19\" d=\"M 264.0,181.8 L 253.6,181.1\" style=\"fill:none;fill-rule:evenodd;stroke:#0000FF;stroke-width:2.0px;stroke-linecap:butt;stroke-linejoin:miter;stroke-opacity:1\"/>\n",
       "<path class=\"bond-18 atom-18 atom-19\" d=\"M 253.6,181.1 L 243.2,180.4\" style=\"fill:none;fill-rule:evenodd;stroke:#000000;stroke-width:2.0px;stroke-linecap:butt;stroke-linejoin:miter;stroke-opacity:1\"/>\n",
       "<path class=\"bond-19 atom-19 atom-20\" d=\"M 241.1,176.2 L 236.3,166.4\" style=\"fill:none;fill-rule:evenodd;stroke:#000000;stroke-width:2.0px;stroke-linecap:butt;stroke-linejoin:miter;stroke-opacity:1\"/>\n",
       "<path class=\"bond-19 atom-19 atom-20\" d=\"M 236.3,166.4 L 231.6,156.6\" style=\"fill:none;fill-rule:evenodd;stroke:#0000FF;stroke-width:2.0px;stroke-linecap:butt;stroke-linejoin:miter;stroke-opacity:1\"/>\n",
       "<path class=\"bond-20 atom-20 atom-21\" d=\"M 232.4,147.2 L 238.4,138.3\" style=\"fill:none;fill-rule:evenodd;stroke:#0000FF;stroke-width:2.0px;stroke-linecap:butt;stroke-linejoin:miter;stroke-opacity:1\"/>\n",
       "<path class=\"bond-20 atom-20 atom-21\" d=\"M 238.4,138.3 L 244.3,129.5\" style=\"fill:none;fill-rule:evenodd;stroke:#000000;stroke-width:2.0px;stroke-linecap:butt;stroke-linejoin:miter;stroke-opacity:1\"/>\n",
       "<path class=\"bond-21 atom-21 atom-22\" d=\"M 244.3,129.5 L 271.3,131.4\" style=\"fill:none;fill-rule:evenodd;stroke:#000000;stroke-width:2.0px;stroke-linecap:butt;stroke-linejoin:miter;stroke-opacity:1\"/>\n",
       "<path class=\"bond-21 atom-21 atom-22\" d=\"M 246.9,125.6 L 269.2,127.2\" style=\"fill:none;fill-rule:evenodd;stroke:#000000;stroke-width:2.0px;stroke-linecap:butt;stroke-linejoin:miter;stroke-opacity:1\"/>\n",
       "<path class=\"bond-22 atom-22 atom-23\" d=\"M 271.3,131.4 L 286.4,108.9\" style=\"fill:none;fill-rule:evenodd;stroke:#000000;stroke-width:2.0px;stroke-linecap:butt;stroke-linejoin:miter;stroke-opacity:1\"/>\n",
       "<path class=\"bond-23 atom-23 atom-24\" d=\"M 286.4,108.9 L 274.5,84.7\" style=\"fill:none;fill-rule:evenodd;stroke:#000000;stroke-width:2.0px;stroke-linecap:butt;stroke-linejoin:miter;stroke-opacity:1\"/>\n",
       "<path class=\"bond-23 atom-23 atom-24\" d=\"M 281.7,108.6 L 271.9,88.6\" style=\"fill:none;fill-rule:evenodd;stroke:#000000;stroke-width:2.0px;stroke-linecap:butt;stroke-linejoin:miter;stroke-opacity:1\"/>\n",
       "<path class=\"bond-24 atom-24 atom-25\" d=\"M 274.5,84.7 L 247.5,82.8\" style=\"fill:none;fill-rule:evenodd;stroke:#000000;stroke-width:2.0px;stroke-linecap:butt;stroke-linejoin:miter;stroke-opacity:1\"/>\n",
       "<path class=\"bond-25 atom-25 atom-26\" d=\"M 247.5,82.8 L 242.8,73.0\" style=\"fill:none;fill-rule:evenodd;stroke:#000000;stroke-width:2.0px;stroke-linecap:butt;stroke-linejoin:miter;stroke-opacity:1\"/>\n",
       "<path class=\"bond-25 atom-25 atom-26\" d=\"M 242.8,73.0 L 238.0,63.3\" style=\"fill:none;fill-rule:evenodd;stroke:#7F4C19;stroke-width:2.0px;stroke-linecap:butt;stroke-linejoin:miter;stroke-opacity:1\"/>\n",
       "<path class=\"bond-26 atom-25 atom-27\" d=\"M 247.5,82.8 L 232.5,105.2\" style=\"fill:none;fill-rule:evenodd;stroke:#000000;stroke-width:2.0px;stroke-linecap:butt;stroke-linejoin:miter;stroke-opacity:1\"/>\n",
       "<path class=\"bond-26 atom-25 atom-27\" d=\"M 249.6,87.0 L 237.1,105.6\" style=\"fill:none;fill-rule:evenodd;stroke:#000000;stroke-width:2.0px;stroke-linecap:butt;stroke-linejoin:miter;stroke-opacity:1\"/>\n",
       "<path class=\"bond-27 atom-19 atom-28\" d=\"M 241.1,176.2 L 226.0,198.6\" style=\"fill:none;fill-rule:evenodd;stroke:#000000;stroke-width:2.0px;stroke-linecap:butt;stroke-linejoin:miter;stroke-opacity:1\"/>\n",
       "<path class=\"bond-28 atom-28 atom-29\" d=\"M 226.0,198.6 L 199.1,196.7\" style=\"fill:none;fill-rule:evenodd;stroke:#000000;stroke-width:2.0px;stroke-linecap:butt;stroke-linejoin:miter;stroke-opacity:1\"/>\n",
       "<path class=\"bond-28 atom-28 atom-29\" d=\"M 223.4,202.5 L 201.1,200.9\" style=\"fill:none;fill-rule:evenodd;stroke:#000000;stroke-width:2.0px;stroke-linecap:butt;stroke-linejoin:miter;stroke-opacity:1\"/>\n",
       "<path class=\"bond-29 atom-10 atom-5\" d=\"M 25.5,161.3 L 37.1,162.1\" style=\"fill:none;fill-rule:evenodd;stroke:#000000;stroke-width:2.0px;stroke-linecap:butt;stroke-linejoin:miter;stroke-opacity:1\"/>\n",
       "<path class=\"bond-29 atom-10 atom-5\" d=\"M 37.1,162.1 L 48.7,162.9\" style=\"fill:none;fill-rule:evenodd;stroke:#0000FF;stroke-width:2.0px;stroke-linecap:butt;stroke-linejoin:miter;stroke-opacity:1\"/>\n",
       "<path class=\"bond-30 atom-29 atom-12\" d=\"M 199.1,196.7 L 184.0,219.1\" style=\"fill:none;fill-rule:evenodd;stroke:#000000;stroke-width:2.0px;stroke-linecap:butt;stroke-linejoin:miter;stroke-opacity:1\"/>\n",
       "<path class=\"bond-31 atom-28 atom-15\" d=\"M 226.0,198.6 L 237.9,222.9\" style=\"fill:none;fill-rule:evenodd;stroke:#000000;stroke-width:2.0px;stroke-linecap:butt;stroke-linejoin:miter;stroke-opacity:1\"/>\n",
       "<path class=\"bond-32 atom-27 atom-21\" d=\"M 232.5,105.2 L 244.3,129.5\" style=\"fill:none;fill-rule:evenodd;stroke:#000000;stroke-width:2.0px;stroke-linecap:butt;stroke-linejoin:miter;stroke-opacity:1\"/>\n",
       "<path d=\"M 143.8,192.9 L 145.2,193.0 L 145.4,193.5\" style=\"fill:none;stroke:#000000;stroke-width:2.0px;stroke-linecap:butt;stroke-linejoin:miter;stroke-opacity:1;\"/>\n",
       "<path d=\"M 119.6,191.3 L 118.2,191.2 L 116.9,191.1\" style=\"fill:none;stroke:#000000;stroke-width:2.0px;stroke-linecap:butt;stroke-linejoin:miter;stroke-opacity:1;\"/>\n",
       "<path d=\"M 92.6,189.4 L 91.3,189.3 L 89.9,189.2\" style=\"fill:none;stroke:#000000;stroke-width:2.0px;stroke-linecap:butt;stroke-linejoin:miter;stroke-opacity:1;\"/>\n",
       "<path d=\"M 65.7,187.5 L 64.3,187.5 L 64.1,187.0\" style=\"fill:none;stroke:#000000;stroke-width:2.0px;stroke-linecap:butt;stroke-linejoin:miter;stroke-opacity:1;\"/>\n",
       "<path d=\"M 67.2,141.2 L 67.5,140.8 L 66.9,139.6\" style=\"fill:none;stroke:#000000;stroke-width:2.0px;stroke-linecap:butt;stroke-linejoin:miter;stroke-opacity:1;\"/>\n",
       "<path d=\"M 56.3,117.7 L 55.7,116.5 L 54.3,116.4\" style=\"fill:none;stroke:#000000;stroke-width:2.0px;stroke-linecap:butt;stroke-linejoin:miter;stroke-opacity:1;\"/>\n",
       "<path d=\"M 30.1,114.7 L 28.7,114.7 L 28.0,115.8\" style=\"fill:none;stroke:#000000;stroke-width:2.0px;stroke-linecap:butt;stroke-linejoin:miter;stroke-opacity:1;\"/>\n",
       "<path d=\"M 14.4,135.9 L 13.6,137.1 L 14.2,138.3\" style=\"fill:none;stroke:#000000;stroke-width:2.0px;stroke-linecap:butt;stroke-linejoin:miter;stroke-opacity:1;\"/>\n",
       "<path d=\"M 24.9,160.1 L 25.5,161.3 L 26.1,161.4\" style=\"fill:none;stroke:#000000;stroke-width:2.0px;stroke-linecap:butt;stroke-linejoin:miter;stroke-opacity:1;\"/>\n",
       "<path d=\"M 195.3,242.2 L 195.9,243.4 L 197.2,243.5\" style=\"fill:none;stroke:#000000;stroke-width:2.0px;stroke-linecap:butt;stroke-linejoin:miter;stroke-opacity:1;\"/>\n",
       "<path d=\"M 221.5,245.2 L 222.8,245.3 L 223.6,244.2\" style=\"fill:none;stroke:#000000;stroke-width:2.0px;stroke-linecap:butt;stroke-linejoin:miter;stroke-opacity:1;\"/>\n",
       "<path d=\"M 279.6,202.7 L 279.9,202.3 L 279.7,201.8\" style=\"fill:none;stroke:#000000;stroke-width:2.0px;stroke-linecap:butt;stroke-linejoin:miter;stroke-opacity:1;\"/>\n",
       "<path d=\"M 269.9,131.3 L 271.3,131.4 L 272.0,130.2\" style=\"fill:none;stroke:#000000;stroke-width:2.0px;stroke-linecap:butt;stroke-linejoin:miter;stroke-opacity:1;\"/>\n",
       "<path d=\"M 285.6,110.1 L 286.4,108.9 L 285.8,107.7\" style=\"fill:none;stroke:#000000;stroke-width:2.0px;stroke-linecap:butt;stroke-linejoin:miter;stroke-opacity:1;\"/>\n",
       "<path d=\"M 275.1,85.9 L 274.5,84.7 L 273.1,84.6\" style=\"fill:none;stroke:#000000;stroke-width:2.0px;stroke-linecap:butt;stroke-linejoin:miter;stroke-opacity:1;\"/>\n",
       "<path d=\"M 233.2,104.1 L 232.5,105.2 L 233.1,106.4\" style=\"fill:none;stroke:#000000;stroke-width:2.0px;stroke-linecap:butt;stroke-linejoin:miter;stroke-opacity:1;\"/>\n",
       "<path d=\"M 200.4,196.8 L 199.1,196.7 L 198.3,197.9\" style=\"fill:none;stroke:#000000;stroke-width:2.0px;stroke-linecap:butt;stroke-linejoin:miter;stroke-opacity:1;\"/>\n",
       "<path class=\"atom-0\" d=\"M 156.7 170.6 Q 156.7 168.8, 157.7 167.8 Q 158.6 166.7, 160.3 166.7 Q 162.0 166.7, 162.9 167.8 Q 163.8 168.8, 163.8 170.6 Q 163.8 172.5, 162.9 173.6 Q 161.9 174.6, 160.3 174.6 Q 158.6 174.6, 157.7 173.6 Q 156.7 172.5, 156.7 170.6 M 160.3 173.7 Q 161.4 173.7, 162.1 173.0 Q 162.7 172.2, 162.7 170.6 Q 162.7 169.1, 162.1 168.4 Q 161.4 167.6, 160.3 167.6 Q 159.1 167.6, 158.5 168.4 Q 157.8 169.1, 157.8 170.6 Q 157.8 172.2, 158.5 173.0 Q 159.1 173.7, 160.3 173.7 \" fill=\"#FF0000\"/>\n",
       "<path class=\"atom-5\" d=\"M 50.8 159.4 L 53.3 163.4 Q 53.5 163.8, 53.9 164.5 Q 54.3 165.3, 54.3 165.3 L 54.3 159.4 L 55.4 159.4 L 55.4 167.0 L 54.3 167.0 L 51.6 162.6 Q 51.3 162.1, 51.0 161.5 Q 50.6 160.9, 50.5 160.7 L 50.5 167.0 L 49.6 167.0 L 49.6 159.4 L 50.8 159.4 \" fill=\"#0000FF\"/>\n",
       "<path class=\"atom-11\" d=\"M 146.6 213.5 L 147.7 213.5 L 147.7 216.7 L 151.6 216.7 L 151.6 213.5 L 152.6 213.5 L 152.6 221.1 L 151.6 221.1 L 151.6 217.6 L 147.7 217.6 L 147.7 221.1 L 146.6 221.1 L 146.6 213.5 \" fill=\"#0000FF\"/>\n",
       "<path class=\"atom-11\" d=\"M 155.4 213.5 L 157.9 217.5 Q 158.1 217.9, 158.5 218.6 Q 158.9 219.4, 158.9 219.4 L 158.9 213.5 L 159.9 213.5 L 159.9 221.1 L 158.9 221.1 L 156.2 216.7 Q 155.9 216.2, 155.6 215.6 Q 155.2 215.0, 155.1 214.8 L 155.1 221.1 L 154.1 221.1 L 154.1 213.5 L 155.4 213.5 \" fill=\"#0000FF\"/>\n",
       "<path class=\"atom-16\" d=\"M 263.2 220.9 L 265.7 224.9 Q 265.9 225.3, 266.3 226.1 Q 266.7 226.8, 266.7 226.8 L 266.7 220.9 L 267.8 220.9 L 267.8 228.5 L 266.7 228.5 L 264.0 224.1 Q 263.7 223.6, 263.4 223.0 Q 263.0 222.4, 262.9 222.2 L 262.9 228.5 L 261.9 228.5 L 261.9 220.9 L 263.2 220.9 \" fill=\"#0000FF\"/>\n",
       "<path class=\"atom-18\" d=\"M 266.4 174.2 L 268.9 178.3 Q 269.1 178.7, 269.5 179.4 Q 269.9 180.1, 270.0 180.2 L 270.0 174.2 L 271.0 174.2 L 271.0 181.9 L 269.9 181.9 L 267.2 177.4 Q 266.9 176.9, 266.6 176.3 Q 266.3 175.7, 266.2 175.5 L 266.2 181.9 L 265.2 181.9 L 265.2 174.2 L 266.4 174.2 \" fill=\"#0000FF\"/>\n",
       "<path class=\"atom-20\" d=\"M 218.9 148.1 L 219.9 148.1 L 219.9 151.3 L 223.8 151.3 L 223.8 148.1 L 224.8 148.1 L 224.8 155.7 L 223.8 155.7 L 223.8 152.2 L 219.9 152.2 L 219.9 155.7 L 218.9 155.7 L 218.9 148.1 \" fill=\"#0000FF\"/>\n",
       "<path class=\"atom-20\" d=\"M 227.6 148.1 L 230.1 152.1 Q 230.3 152.5, 230.7 153.3 Q 231.1 154.0, 231.1 154.0 L 231.1 148.1 L 232.1 148.1 L 232.1 155.7 L 231.1 155.7 L 228.4 151.3 Q 228.1 150.8, 227.8 150.2 Q 227.4 149.6, 227.3 149.4 L 227.3 155.7 L 226.3 155.7 L 226.3 148.1 L 227.6 148.1 \" fill=\"#0000FF\"/>\n",
       "<path class=\"atom-26\" d=\"M 231.7 58.4 Q 232.4 58.6, 232.8 59.0 Q 233.2 59.5, 233.2 60.1 Q 233.2 61.2, 232.5 61.8 Q 231.8 62.4, 230.5 62.4 L 228.0 62.4 L 228.0 54.7 L 230.2 54.7 Q 231.5 54.7, 232.2 55.3 Q 232.9 55.8, 232.9 56.8 Q 232.9 57.9, 231.7 58.4 M 229.0 55.6 L 229.0 58.0 L 230.2 58.0 Q 231.0 58.0, 231.4 57.7 Q 231.8 57.4, 231.8 56.8 Q 231.8 55.6, 230.2 55.6 L 229.0 55.6 M 230.5 61.5 Q 231.3 61.5, 231.7 61.2 Q 232.1 60.8, 232.1 60.1 Q 232.1 59.5, 231.6 59.2 Q 231.2 58.9, 230.4 58.9 L 229.0 58.9 L 229.0 61.5 L 230.5 61.5 \" fill=\"#7F4C19\"/>\n",
       "<path class=\"atom-26\" d=\"M 234.9 56.8 L 235.0 57.6 Q 235.6 56.7, 236.6 56.7 Q 236.9 56.7, 237.3 56.8 L 237.1 57.7 Q 236.6 57.6, 236.4 57.6 Q 235.9 57.6, 235.6 57.8 Q 235.3 58.0, 235.1 58.4 L 235.1 62.4 L 234.1 62.4 L 234.1 56.8 L 234.9 56.8 \" fill=\"#7F4C19\"/>\n",
       "</svg>"
      ],
      "text/plain": [
       "<IPython.core.display.SVG object>"
      ]
     },
     "execution_count": 7,
     "metadata": {},
     "output_type": "execute_result"
    }
   ],
   "source": [
    "candidate_smiles = \"O=C(C#CCN1CCCCC1)Nc1ccc2ncnc(Nc3cccc(Br)c3)c2c1\"\n",
    "candidate_mol = dm.to_mol(candidate_smiles)\n",
    "\n",
    "dm.to_image(candidate_mol)"
   ]
  },
  {
   "cell_type": "code",
   "execution_count": 8,
   "metadata": {},
   "outputs": [],
   "source": [
    "designer = sf.SAFEDesign(\n",
    "    model=safe_model,\n",
    "    tokenizer=safe_tokenizer,\n",
    "    verbose=True,\n",
    ")"
   ]
  },
  {
   "cell_type": "code",
   "execution_count": 9,
   "metadata": {},
   "outputs": [
    {
     "data": {
      "application/vnd.jupyter.widget-view+json": {
       "model_id": "6029bca267d547448d1859dac438a184",
       "version_major": 2,
       "version_minor": 0
      },
      "text/plain": [
       "  0%|          | 0/1 [00:00<?, ?it/s]"
      ]
     },
     "metadata": {},
     "output_type": "display_data"
    },
    {
     "name": "stderr",
     "output_type": "stream",
     "text": [
      "Failed to find the pandas get_adjustment() function to patch\n",
      "Failed to patch pandas - PandasTools will have limited functionality\n",
      "Failed to find the pandas get_adjustment() function to patch\n",
      "Failed to patch pandas - PandasTools will have limited functionality\n",
      "Failed to find the pandas get_adjustment() function to patch\n",
      "Failed to patch pandas - PandasTools will have limited functionality\n",
      "Failed to find the pandas get_adjustment() function to patch\n",
      "Failed to patch pandas - PandasTools will have limited functionality\n",
      "Failed to find the pandas get_adjustment() function to patch\n",
      "Failed to patch pandas - PandasTools will have limited functionality\n",
      "Failed to find the pandas get_adjustment() function to patch\n",
      "Failed to patch pandas - PandasTools will have limited functionality\n",
      "Failed to find the pandas get_adjustment() function to patch\n",
      "Failed to patch pandas - PandasTools will have limited functionality\n",
      "Failed to find the pandas get_adjustment() function to patch\n",
      "Failed to patch pandas - PandasTools will have limited functionality\n",
      "Failed to find the pandas get_adjustment() function to patch\n",
      "Failed to patch pandas - PandasTools will have limited functionality\n",
      "Failed to find the pandas get_adjustment() function to patch\n",
      "Failed to patch pandas - PandasTools will have limited functionality\n",
      "\u001b[32m2024-06-26 23:15:29.052\u001b[0m | \u001b[1mINFO    \u001b[0m | \u001b[36msafe.sample\u001b[0m:\u001b[36mde_novo_generation\u001b[0m:\u001b[36m577\u001b[0m - \u001b[1mAfter sanitization, 9969 / 10000 (99.69 %) generated molecules are valid !\u001b[0m\n"
     ]
    }
   ],
   "source": [
    "generated_smiles = designer.de_novo_generation(sanitize=True, n_samples_per_trial=10000, early_stopping=False)"
   ]
  },
  {
   "cell_type": "code",
   "execution_count": 10,
   "metadata": {},
   "outputs": [],
   "source": [
    "from rdkit.Chem import QED, Crippen\n",
    "from rdkit import DataStructs\n",
    "from rdkit.Chem import RDConfig\n",
    "import os\n",
    "import sys\n",
    "sys.path.append(os.path.join(RDConfig.RDContribDir, 'SA_Score'))\n",
    "# now you can import sascore!\n",
    "import sascorer"
   ]
  },
  {
   "cell_type": "code",
   "execution_count": 11,
   "metadata": {},
   "outputs": [],
   "source": [
    "def calculate_diversity(molecules, radius=2, nBits=2048):\n",
    "    fingerprints = []\n",
    "    for mol in molecules:\n",
    "        fp = AllChem.GetMorganFingerprintAsBitVect(mol, radius, nBits=nBits)\n",
    "        fingerprints.append(fp)\n",
    "    \n",
    "    diversity = 0\n",
    "    n = len(fingerprints)\n",
    "    for i in range(n):\n",
    "        for j in range(i + 1, n):\n",
    "            similarity = DataStructs.TanimotoSimilarity(fingerprints[i], fingerprints[j])\n",
    "            diversity += 1 - similarity\n",
    "    \n",
    "    if n > 1:\n",
    "        diversity /= (n * (n - 1) / 2)  # Normalize by the number of pairwise comparisons\n",
    "    else:\n",
    "        diversity = 0  # If only one molecule, diversity is zero\n",
    "    \n",
    "    return diversity"
   ]
  },
  {
   "cell_type": "code",
   "execution_count": 12,
   "metadata": {},
   "outputs": [],
   "source": [
    "def evaluate_generated_molecules(generated_smiles):\n",
    "    valid_mols = []\n",
    "    unique_smiles = set()\n",
    "    qed_scores = []\n",
    "    sas_scores = []\n",
    "    \n",
    "    for smi in generated_smiles:\n",
    "        mol = Chem.MolFromSmiles(smi)\n",
    "        if mol is not None:\n",
    "            valid_mols.append(mol)\n",
    "            unique_smiles.add(Chem.MolToSmiles(mol))\n",
    "            qed_scores.append(QED.qed(mol))\n",
    "            sas_scores.append(sascorer.calculateScore(mol))\n",
    "    \n",
    "    validity = len(valid_mols) / len(generated_smiles) if generated_smiles else 0\n",
    "    uniqueness = len(unique_smiles) / len(generated_smiles) if generated_smiles else 0\n",
    "    diversity = calculate_diversity(valid_mols)\n",
    "    qed_mean = sum(qed_scores) / len(qed_scores) if qed_scores else 0\n",
    "    sas_mean = sum(sas_scores) / len(sas_scores) if sas_scores else 0\n",
    "    \n",
    "    return {\n",
    "        \"validity\": validity,\n",
    "        \"uniqueness\": uniqueness,\n",
    "        \"diversity\": diversity,\n",
    "        \"qed_mean\": qed_mean,\n",
    "        \"sas_mean\": sas_mean,\n",
    "    }"
   ]
  },
  {
   "cell_type": "code",
   "execution_count": 13,
   "metadata": {},
   "outputs": [],
   "source": [
    "evaluation_results = evaluate_generated_molecules(generated_smiles)"
   ]
  },
  {
   "cell_type": "code",
   "execution_count": 14,
   "metadata": {},
   "outputs": [
    {
     "name": "stdout",
     "output_type": "stream",
     "text": [
      "Validity of paper is 1, computed is 1.0\n",
      "Uniqueness of paper is 0.999, computed is 0.998896579396128\n",
      "Diversity of paper is 0.864, computed is 0.8654041163360857\n",
      "QED mean is 0.8017938199281026\n",
      "SAS mean is 2.4877209476063795\n"
     ]
    }
   ],
   "source": [
    "print(f\"Validity of paper is 1, computed is {evaluation_results['validity']}\")\n",
    "print(f\"Uniqueness of paper is 0.999, computed is {evaluation_results['uniqueness']}\")\n",
    "print(f\"Diversity of paper is 0.864, computed is {evaluation_results['diversity']}\")\n",
    "print(f\"QED mean is {evaluation_results['qed_mean']}\")\n",
    "print(f\"SAS mean is {evaluation_results['sas_mean']}\")"
   ]
  },
  {
   "cell_type": "code",
   "execution_count": 15,
   "metadata": {},
   "outputs": [],
   "source": [
    "# Save to safe_small_results.txt\n",
    "with open(\"safe_small_results.txt\", \"w\") as f:\n",
    "    f.write(f\"Validity of paper is 1, computed is {evaluation_results['validity']}\\n\")\n",
    "    f.write(f\"Uniqueness of paper is 0.999, computed is {evaluation_results['uniqueness']}\\n\")\n",
    "    f.write(f\"Diversity of paper is 0.864, computed is {evaluation_results['diversity']}\\n\")\n",
    "    f.write(f\"QED mean is {evaluation_results['qed_mean']}\\n\")\n",
    "    f.write(f\"SAS mean is {evaluation_results['sas_mean']}\\n\")"
   ]
  },
  {
   "cell_type": "markdown",
   "metadata": {},
   "source": [
    "More nuanced evaluation"
   ]
  },
  {
   "cell_type": "code",
   "execution_count": null,
   "metadata": {},
   "outputs": [],
   "source": [
    "import pandas as pd\n",
    "from rdkit import Chem\n",
    "from rdkit.Chem import Descriptors, Crippen, rdMolDescriptors, Lipinski\n",
    "import numpy as np\n",
    "import matplotlib.pyplot as plt\n",
    "import seaborn as sns"
   ]
  },
  {
   "cell_type": "code",
   "execution_count": 40,
   "metadata": {},
   "outputs": [],
   "source": [
    "# Load MOSES test set\n",
    "moses_test = pd.read_csv('test.csv')\n",
    "moses_smiles = moses_test['SMILES'].tolist()"
   ]
  },
  {
   "cell_type": "code",
   "execution_count": 42,
   "metadata": {},
   "outputs": [],
   "source": [
    "def smiles_to_mol(smiles_list):\n",
    "    return [Chem.MolFromSmiles(smi) for smi in smiles_list if Chem.MolFromSmiles(smi) is not None]"
   ]
  },
  {
   "cell_type": "code",
   "execution_count": 43,
   "metadata": {},
   "outputs": [],
   "source": [
    "generated_mols = smiles_to_mol(generated_smiles)\n",
    "moses_mols = smiles_to_mol(moses_smiles)"
   ]
  },
  {
   "cell_type": "code",
   "execution_count": 44,
   "metadata": {},
   "outputs": [],
   "source": [
    "def calculate_properties(mol_list):\n",
    "    properties = {\n",
    "        'MW': [], 'LogP': [], 'HBD': [], 'HBA': [], 'TPSA': [], 'RotBonds': [], 'QED': []\n",
    "    }\n",
    "    for mol in mol_list:\n",
    "        properties['MW'].append(Descriptors.ExactMolWt(mol))\n",
    "        properties['LogP'].append(Crippen.MolLogP(mol))\n",
    "        properties['HBD'].append(Lipinski.NumHDonors(mol))\n",
    "        properties['HBA'].append(Lipinski.NumHAcceptors(mol))\n",
    "        properties['TPSA'].append(Descriptors.TPSA(mol))\n",
    "        properties['RotBonds'].append(rdMolDescriptors.CalcNumRotatableBonds(mol))\n",
    "        properties['QED'].append(Descriptors.qed(mol))\n",
    "    return properties"
   ]
  },
  {
   "cell_type": "code",
   "execution_count": 45,
   "metadata": {},
   "outputs": [],
   "source": [
    "generated_properties = calculate_properties(generated_mols)\n",
    "moses_properties = calculate_properties(moses_mols)"
   ]
  },
  {
   "cell_type": "code",
   "execution_count": null,
   "metadata": {},
   "outputs": [],
   "source": [
    "def plot_property_distributions(gen_props, ref_props, property_name, xlabel, ylabel=\"Density\"):\n",
    "    plt.figure(figsize=(10, 6))\n",
    "    sns.kdeplot(gen_props, shade=True, label='Generated', color='blue')\n",
    "    sns.kdeplot(ref_props, shade=True, label='MOSES', color='red')\n",
    "    plt.xlabel(xlabel)\n",
    "    plt.ylabel(ylabel)\n",
    "    plt.title(f'Distribution of {property_name}')\n",
    "    plt.legend()\n",
    "    plt.savefig(f'{property_name.lower().replace(\" \", \"_\")}_distribution.png')\n",
    "    plt.close()"
   ]
  },
  {
   "cell_type": "code",
   "execution_count": null,
   "metadata": {},
   "outputs": [],
   "source": [
    "properties_to_plot = [\n",
    "    ('MW', 'Molecular Weight', 'Molecular Weight (Da)'),\n",
    "    ('LogP', 'LogP', 'LogP'),\n",
    "    ('HBD', 'H-Bond Donors', 'Number of H-Bond Donors'),\n",
    "    ('HBA', 'H-Bond Acceptors', 'Number of H-Bond Acceptors'),\n",
    "    ('TPSA', 'Topological Polar Surface Area', 'TPSA (Å²)'),\n",
    "    ('RotBonds', 'Rotatable Bonds', 'Number of Rotatable Bonds'),\n",
    "    ('QED', 'QED', 'Quantitative Estimate of Drug-likeness')\n",
    "]\n",
    "\n",
    "for prop, name, xlabel in properties_to_plot:\n",
    "    plot_property_distributions(generated_properties[prop], moses_properties[prop], name, xlabel)"
   ]
  },
  {
   "cell_type": "code",
   "execution_count": null,
   "metadata": {},
   "outputs": [],
   "source": [
    "def print_summary_stats(gen_props, ref_props):\n",
    "    print(\"Property\\tGenerated (mean ± std)\\tMOSES (mean ± std)\")\n",
    "    for prop, name, _ in properties_to_plot:\n",
    "        gen_mean, gen_std = np.mean(gen_props[prop]), np.std(gen_props[prop])\n",
    "        ref_mean, ref_std = np.mean(ref_props[prop]), np.std(ref_props[prop])\n",
    "        print(f\"{name}\\t{gen_mean:.2f} ± {gen_std:.2f}\\t{ref_mean:.2f} ± {ref_std:.2f}\")"
   ]
  },
  {
   "cell_type": "code",
   "execution_count": null,
   "metadata": {},
   "outputs": [],
   "source": [
    "print_summary_stats(generated_properties, moses_properties)"
   ]
  },
  {
   "cell_type": "markdown",
   "metadata": {},
   "source": [
    "scaffold analysis"
   ]
  },
  {
   "cell_type": "code",
   "execution_count": null,
   "metadata": {},
   "outputs": [],
   "source": [
    "from rdkit.Chem.Scaffolds import MurckoScaffold"
   ]
  },
  {
   "cell_type": "code",
   "execution_count": null,
   "metadata": {},
   "outputs": [],
   "source": [
    "def analyze_scaffolds(mol_list):\n",
    "    scaffolds = {}\n",
    "    for mol in mol_list:\n",
    "        scaffold = MurckoScaffold.GetScaffoldForMol(mol)\n",
    "        scaffold_smiles = Chem.MolToSmiles(scaffold)\n",
    "        scaffolds[scaffold_smiles] = scaffolds.get(scaffold_smiles, 0) + 1\n",
    "    return scaffolds"
   ]
  },
  {
   "cell_type": "code",
   "execution_count": null,
   "metadata": {},
   "outputs": [],
   "source": [
    "generated_scaffolds = analyze_scaffolds(generated_mols)\n",
    "moses_scaffolds = analyze_scaffolds(moses_mols)"
   ]
  },
  {
   "cell_type": "code",
   "execution_count": null,
   "metadata": {},
   "outputs": [],
   "source": [
    "print(f\"Unique scaffolds in generated set: {len(generated_scaffolds)}\")\n",
    "print(f\"Unique scaffolds in MOSES set: {len(moses_scaffolds)}\")"
   ]
  },
  {
   "cell_type": "code",
   "execution_count": null,
   "metadata": {},
   "outputs": [],
   "source": [
    "# Scaffold diversity\n",
    "gen_scaffold_diversity = len(generated_scaffolds) / len(generated_mols)\n",
    "moses_scaffold_diversity = len(moses_scaffolds) / len(moses_mols)\n",
    "\n",
    "print(f\"Scaffold diversity in generated set: {gen_scaffold_diversity:.4f}\")\n",
    "print(f\"Scaffold diversity in MOSES set: {moses_scaffold_diversity:.4f}\")"
   ]
  },
  {
   "cell_type": "markdown",
   "metadata": {},
   "source": [
    "Novelty Assessment"
   ]
  },
  {
   "cell_type": "code",
   "execution_count": null,
   "metadata": {},
   "outputs": [],
   "source": [
    "def calculate_novelty(gen_mols, ref_mols, similarity_threshold=0.4):\n",
    "    ref_fps = [AllChem.GetMorganFingerprintAsBitVect(mol, 2, nBits=2048) for mol in ref_mols]\n",
    "    \n",
    "    novel_count = 0\n",
    "    for gen_mol in gen_mols:\n",
    "        gen_fp = AllChem.GetMorganFingerprintAsBitVect(gen_mol, 2, nBits=2048)\n",
    "        max_similarity = max(DataStructs.TanimotoSimilarity(gen_fp, ref_fp) for ref_fp in ref_fps)\n",
    "        if max_similarity < similarity_threshold:\n",
    "            novel_count += 1\n",
    "    \n",
    "    novelty = novel_count / len(gen_mols)\n",
    "    return novelty"
   ]
  },
  {
   "cell_type": "code",
   "execution_count": null,
   "metadata": {},
   "outputs": [],
   "source": [
    "novelty = calculate_novelty(generated_mols, moses_mols)\n",
    "print(f\"Novelty: {novelty:.4f}\")"
   ]
  },
  {
   "cell_type": "code",
   "execution_count": null,
   "metadata": {},
   "outputs": [],
   "source": []
  }
 ],
 "metadata": {
  "kernelspec": {
   "display_name": "Python 3",
   "language": "python",
   "name": "python3"
  },
  "language_info": {
   "codemirror_mode": {
    "name": "ipython",
    "version": 3
   },
   "file_extension": ".py",
   "mimetype": "text/x-python",
   "name": "python",
   "nbconvert_exporter": "python",
   "pygments_lexer": "ipython3",
   "version": "3.11.6"
  }
 },
 "nbformat": 4,
 "nbformat_minor": 2
}
