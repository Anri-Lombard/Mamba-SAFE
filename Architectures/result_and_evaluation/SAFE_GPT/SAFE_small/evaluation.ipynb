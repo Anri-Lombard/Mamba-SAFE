{
 "cells": [
  {
   "cell_type": "code",
   "execution_count": 1,
   "metadata": {},
   "outputs": [
    {
     "name": "stderr",
     "output_type": "stream",
     "text": [
      "Failed to find the pandas get_adjustment() function to patch\n",
      "Failed to patch pandas - PandasTools will have limited functionality\n"
     ]
    }
   ],
   "source": [
    "import torch\n",
    "from transformers import AutoModelForCausalLM, AutoTokenizer\n",
    "from safe.tokenizer import SAFETokenizer\n",
    "from safe.trainer.model import SAFEDoubleHeadsModel\n",
    "from rdkit import Chem\n",
    "from rdkit.Chem import Draw, AllChem\n",
    "import os\n",
    "from molfeat.trans.pretrained.hf_transformers import HFModel\n",
    "import datamol as dm\n",
    "import safe as sf\n",
    "import numpy as np\n",
    "import pandas as pd\n",
    "from tqdm import tqdm"
   ]
  },
  {
   "cell_type": "code",
   "execution_count": 2,
   "metadata": {},
   "outputs": [],
   "source": [
    "os.environ[\"TOKENIZERS_PARALLELISM\"] = \"false\""
   ]
  },
  {
   "cell_type": "code",
   "execution_count": 3,
   "metadata": {},
   "outputs": [],
   "source": [
    "# Load the trained model and tokenizer\n",
    "model_checkpoint = \"./checkpoint-1712000\"\n",
    "safe_model = SAFEDoubleHeadsModel.from_pretrained(model_checkpoint)"
   ]
  },
  {
   "cell_type": "code",
   "execution_count": 4,
   "metadata": {},
   "outputs": [],
   "source": [
    "model_tokenizer = \"./tokenizer.json\"\n",
    "safe_tokenizer = SAFETokenizer.from_pretrained(model_tokenizer)"
   ]
  },
  {
   "cell_type": "code",
   "execution_count": 5,
   "metadata": {},
   "outputs": [
    {
     "data": {
      "text/plain": [
       "SAFEDoubleHeadsModel(\n",
       "  (transformer): GPT2Model(\n",
       "    (wte): Embedding(1880, 512)\n",
       "    (wpe): Embedding(1024, 512)\n",
       "    (drop): Dropout(p=0.1, inplace=False)\n",
       "    (h): ModuleList(\n",
       "      (0-3): 4 x GPT2Block(\n",
       "        (ln_1): LayerNorm((512,), eps=1e-05, elementwise_affine=True)\n",
       "        (attn): GPT2Attention(\n",
       "          (c_attn): Conv1D()\n",
       "          (c_proj): Conv1D()\n",
       "          (attn_dropout): Dropout(p=0.1, inplace=False)\n",
       "          (resid_dropout): Dropout(p=0.1, inplace=False)\n",
       "        )\n",
       "        (ln_2): LayerNorm((512,), eps=1e-05, elementwise_affine=True)\n",
       "        (mlp): GPT2MLP(\n",
       "          (c_fc): Conv1D()\n",
       "          (c_proj): Conv1D()\n",
       "          (act): NewGELUActivation()\n",
       "          (dropout): Dropout(p=0.1, inplace=False)\n",
       "        )\n",
       "      )\n",
       "    )\n",
       "    (ln_f): LayerNorm((512,), eps=1e-05, elementwise_affine=True)\n",
       "  )\n",
       "  (lm_head): Linear(in_features=512, out_features=1880, bias=False)\n",
       "  (multiple_choice_head): PropertyHead(\n",
       "    (summary): Linear(in_features=512, out_features=128, bias=True)\n",
       "    (activation): Tanh()\n",
       "    (out): Linear(in_features=128, out_features=9, bias=True)\n",
       "  )\n",
       ")"
      ]
     },
     "execution_count": 5,
     "metadata": {},
     "output_type": "execute_result"
    }
   ],
   "source": [
    "# # Set the device to GPU if available, else CPU\n",
    "device = torch.device(\"cuda\" if torch.cuda.is_available() else \"cpu\")\n",
    "safe_model.to(device)"
   ]
  },
  {
   "cell_type": "code",
   "execution_count": 6,
   "metadata": {},
   "outputs": [],
   "source": [
    "designer = sf.SAFEDesign(\n",
    "    model=safe_model,\n",
    "    tokenizer=safe_tokenizer,\n",
    "    verbose=True,\n",
    ")"
   ]
  },
  {
   "cell_type": "code",
   "execution_count": 7,
   "metadata": {},
   "outputs": [],
   "source": [
    "# generated_smiles = designer.de_novo_generation(sanitize=True, n_samples_per_trial=10000, early_stopping=False)"
   ]
  },
  {
   "cell_type": "code",
   "execution_count": 8,
   "metadata": {},
   "outputs": [],
   "source": [
    "# type(generated_smiles)"
   ]
  },
  {
   "cell_type": "code",
   "execution_count": 9,
   "metadata": {},
   "outputs": [],
   "source": [
    "# Save the generated SMILES\n",
    "# with open(\"generated_smiles_10k.md\", \"w\") as f:\n",
    "#     for smiles in generated_smiles:\n",
    "#         f.write(smiles + \"\\n\")"
   ]
  },
  {
   "cell_type": "code",
   "execution_count": 10,
   "metadata": {},
   "outputs": [],
   "source": [
    "# Load the generated SMILES\n",
    "generated_smiles = []\n",
    "with open(\"generated_smiles_10k.md\", \"r\") as f:\n",
    "    for line in f:\n",
    "        generated_smiles.append(line.strip())"
   ]
  },
  {
   "cell_type": "code",
   "execution_count": 11,
   "metadata": {},
   "outputs": [],
   "source": [
    "from rdkit.Chem import QED, Crippen\n",
    "from rdkit import DataStructs\n",
    "from rdkit.Chem import RDConfig\n",
    "import os\n",
    "import sys\n",
    "sys.path.append(os.path.join(RDConfig.RDContribDir, 'SA_Score'))\n",
    "# now you can import sascore!\n",
    "import sascorer"
   ]
  },
  {
   "cell_type": "code",
   "execution_count": 12,
   "metadata": {},
   "outputs": [],
   "source": [
    "def calculate_diversity(molecules, radius=2, nBits=2048):\n",
    "    print(\"Calculating fingerprints...\")\n",
    "    fingerprints = []\n",
    "    for mol in tqdm(molecules, desc=\"Generating fingerprints\", unit=\"molecule\"):\n",
    "        fp = AllChem.GetMorganFingerprintAsBitVect(mol, radius, nBits=nBits)\n",
    "        fingerprints.append(fp)\n",
    "    \n",
    "    print(\"Calculating pairwise diversities...\")\n",
    "    diversity = 0\n",
    "    n = len(fingerprints)\n",
    "    total_pairs = (n * (n - 1)) // 2\n",
    "    pair_counter = 0\n",
    "    \n",
    "    with tqdm(total=total_pairs, desc=\"Calculating diversity\", unit=\"pair\") as pbar:\n",
    "        for i in range(n):\n",
    "            for j in range(i + 1, n):\n",
    "                similarity = DataStructs.TanimotoSimilarity(fingerprints[i], fingerprints[j])\n",
    "                diversity += 1 - similarity\n",
    "                pair_counter += 1\n",
    "                pbar.update(1)\n",
    "    \n",
    "    if n > 1:\n",
    "        diversity /= total_pairs  # Normalize by the number of pairwise comparisons\n",
    "    else:\n",
    "        diversity = 0  # If only one molecule, diversity is zero\n",
    "    \n",
    "    return diversity"
   ]
  },
  {
   "cell_type": "code",
   "execution_count": 13,
   "metadata": {},
   "outputs": [],
   "source": [
    "def calculate_novelty(generated_mols, reference_mols, radius=2, nBits=2048):\n",
    "    ref_fps = [AllChem.GetMorganFingerprintAsBitVect(mol, radius, nBits=nBits) for mol in reference_mols]\n",
    "    gen_fps = [AllChem.GetMorganFingerprintAsBitVect(mol, radius, nBits=nBits) for mol in generated_mols]\n",
    "    \n",
    "    novel_count = 0\n",
    "    for gen_fp in tqdm(gen_fps, desc=\"Calculating novelty\", unit=\"molecule\"):\n",
    "        if all(DataStructs.TanimotoSimilarity(gen_fp, ref_fp) < 0.9 for ref_fp in ref_fps):\n",
    "            novel_count += 1\n",
    "    \n",
    "    return novel_count / len(generated_mols) if generated_mols else 0"
   ]
  },
  {
   "cell_type": "code",
   "execution_count": 14,
   "metadata": {},
   "outputs": [],
   "source": [
    "train_set = pd.read_csv(\"../../../train_from_scratch/Datasets/MOSES/train.csv\")\n",
    "test_set = pd.read_csv(\"../../../train_from_scratch/Datasets/MOSES/test.csv\")\n",
    "all_smiles = pd.concat([train_set, test_set])[\"SMILES\"].unique()\n",
    "\n",
    "moses_smiles = all_smiles.tolist()"
   ]
  },
  {
   "cell_type": "code",
   "execution_count": 15,
   "metadata": {},
   "outputs": [],
   "source": [
    "def evaluate_generated_molecules(generated_smiles, reference_smiles):\n",
    "    print(\"Starting molecule evaluation...\")\n",
    "    valid_mols = []\n",
    "    unique_smiles = set()\n",
    "    qed_scores = []\n",
    "    sas_scores = []\n",
    "\n",
    "    print(\"Converting reference SMILES to molecules...\")\n",
    "    reference_mols = []\n",
    "    for smi in tqdm(reference_smiles, desc=\"Processing reference molecules\", unit=\"molecule\"):\n",
    "        mol = Chem.MolFromSmiles(smi)\n",
    "        if mol is not None:\n",
    "            reference_mols.append(mol)\n",
    "    \n",
    "    print(\"Processing generated molecules...\")\n",
    "    for smi in tqdm(generated_smiles, desc=\"Processing generated molecules\", unit=\"molecule\"):\n",
    "        mol = Chem.MolFromSmiles(smi)\n",
    "        if mol is not None:\n",
    "            valid_mols.append(mol)\n",
    "            unique_smiles.add(Chem.MolToSmiles(mol))\n",
    "            qed_scores.append(QED.qed(mol))\n",
    "            sas_scores.append(sascorer.calculateScore(mol))\n",
    "    \n",
    "    validity = len(valid_mols) / len(generated_smiles) if generated_smiles else 0\n",
    "    uniqueness = len(unique_smiles) / len(generated_smiles) if generated_smiles else 0\n",
    "    \n",
    "    print(\"Calculating diversity...\")\n",
    "    diversity = calculate_diversity(valid_mols)\n",
    "    \n",
    "    print(\"Calculating novelty...\")\n",
    "    novelty = calculate_novelty(valid_mols, reference_mols)\n",
    "    \n",
    "    qed_mean = sum(qed_scores) / len(qed_scores) if qed_scores else 0\n",
    "    sas_mean = sum(sas_scores) / len(sas_scores) if sas_scores else 0\n",
    "    \n",
    "    return {\n",
    "        \"validity\": validity,\n",
    "        \"uniqueness\": uniqueness,\n",
    "        \"diversity\": diversity,\n",
    "        \"novelty\": novelty,\n",
    "        \"qed_mean\": qed_mean,\n",
    "        \"sas_mean\": sas_mean,\n",
    "    }"
   ]
  },
  {
   "cell_type": "code",
   "execution_count": 16,
   "metadata": {},
   "outputs": [
    {
     "name": "stdout",
     "output_type": "stream",
     "text": [
      "Starting molecule evaluation...\n",
      "Converting reference SMILES to molecules...\n"
     ]
    },
    {
     "name": "stderr",
     "output_type": "stream",
     "text": [
      "Processing reference molecules:  27%|██▋       | 477295/1760737 [00:37<01:34, 13570.69molecule/s]"
     ]
    }
   ],
   "source": [
    "evaluation_results = evaluate_generated_molecules(generated_smiles, moses_smiles)"
   ]
  },
  {
   "cell_type": "code",
   "execution_count": null,
   "metadata": {},
   "outputs": [
    {
     "name": "stdout",
     "output_type": "stream",
     "text": [
      "Validity of paper is 1, computed is 1.0\n",
      "Uniqueness of paper is 0.999, computed is 0.9990945674044266\n",
      "Diversity of paper is 0.864, computed is 0.8649861835608464\n",
      "QED mean is 0.8026260562951251\n",
      "SAS mean is 2.47734016850271\n"
     ]
    }
   ],
   "source": [
    "print(f\"Validity of paper is 1, computed is {evaluation_results['validity']:.3f}\")\n",
    "print(f\"Uniqueness of paper is 0.999, computed is {evaluation_results['uniqueness']:.3f}\")\n",
    "print(f\"Diversity of paper is 0.864, computed is {evaluation_results['diversity']:.3f}\")\n",
    "print(f\"Novelty: {evaluation_results['novelty']:.3f}\")\n",
    "print(f\"QED mean is {evaluation_results['qed_mean']:.3f}\")\n",
    "print(f\"SAS mean is {evaluation_results['sas_mean']:.3f}\")"
   ]
  },
  {
   "cell_type": "code",
   "execution_count": null,
   "metadata": {},
   "outputs": [],
   "source": [
    "with open(\"safe_small_results.md\", \"w\") as f:\n",
    "    f.write(f\"Validity of paper is 1, computed is {evaluation_results['validity']:.3f}\\n\")\n",
    "    f.write(f\"Uniqueness of paper is 0.999, computed is {evaluation_results['uniqueness']:.3f}\\n\")\n",
    "    f.write(f\"Diversity of paper is 0.864, computed is {evaluation_results['diversity']:.3f}\\n\")\n",
    "    f.write(f\"Novelty: {evaluation_results['novelty']:.3f}\\n\")\n",
    "    f.write(f\"QED mean is {evaluation_results['qed_mean']:.3f}\\n\")\n",
    "    f.write(f\"SAS mean is {evaluation_results['sas_mean']:.3f}\\n\")"
   ]
  },
  {
   "cell_type": "markdown",
   "metadata": {},
   "source": [
    "More nuanced evaluation"
   ]
  },
  {
   "cell_type": "code",
   "execution_count": null,
   "metadata": {},
   "outputs": [],
   "source": [
    "import pandas as pd\n",
    "from rdkit import Chem\n",
    "from rdkit.Chem import Descriptors, Crippen, rdMolDescriptors, Lipinski\n",
    "import numpy as np\n",
    "import matplotlib.pyplot as plt\n",
    "import seaborn as sns"
   ]
  },
  {
   "cell_type": "code",
   "execution_count": null,
   "metadata": {},
   "outputs": [],
   "source": [
    "def smiles_to_mol(smiles_list):\n",
    "    return [Chem.MolFromSmiles(smi) for smi in smiles_list if Chem.MolFromSmiles(smi) is not None]"
   ]
  },
  {
   "cell_type": "code",
   "execution_count": null,
   "metadata": {},
   "outputs": [],
   "source": [
    "generated_mols = smiles_to_mol(generated_smiles)\n",
    "moses_mols = smiles_to_mol(moses_smiles)"
   ]
  },
  {
   "cell_type": "code",
   "execution_count": null,
   "metadata": {},
   "outputs": [],
   "source": [
    "def calculate_properties(mol_list):\n",
    "    properties = {\n",
    "        'MW': [], 'LogP': [], 'HBD': [], 'HBA': [], 'TPSA': [], 'RotBonds': [], 'QED': []\n",
    "    }\n",
    "    for mol in mol_list:\n",
    "        properties['MW'].append(Descriptors.ExactMolWt(mol))\n",
    "        properties['LogP'].append(Crippen.MolLogP(mol))\n",
    "        properties['HBD'].append(Lipinski.NumHDonors(mol))\n",
    "        properties['HBA'].append(Lipinski.NumHAcceptors(mol))\n",
    "        properties['TPSA'].append(Descriptors.TPSA(mol))\n",
    "        properties['RotBonds'].append(rdMolDescriptors.CalcNumRotatableBonds(mol))\n",
    "        properties['QED'].append(Descriptors.qed(mol))\n",
    "    return properties"
   ]
  },
  {
   "cell_type": "code",
   "execution_count": null,
   "metadata": {},
   "outputs": [],
   "source": [
    "generated_properties = calculate_properties(generated_mols)\n",
    "moses_properties = calculate_properties(moses_mols)"
   ]
  },
  {
   "cell_type": "code",
   "execution_count": null,
   "metadata": {},
   "outputs": [],
   "source": [
    "def plot_property_distributions(gen_props, ref_props, property_name, xlabel, ylabel=\"Density\", plot_type='line'):\n",
    "    plt.figure(figsize=(10, 6))\n",
    "    \n",
    "    if plot_type == 'line':\n",
    "        sns.kdeplot(gen_props, label='Generated', color='blue')\n",
    "        sns.kdeplot(ref_props, label='MOSES', color='red')\n",
    "    elif plot_type == 'bar':\n",
    "        gen_counts, gen_bins = np.histogram(gen_props, bins=20)\n",
    "        ref_counts, ref_bins = np.histogram(ref_props, bins=gen_bins)\n",
    "        \n",
    "        gen_counts = gen_counts / len(gen_props)\n",
    "        ref_counts = ref_counts / len(ref_props)\n",
    "        \n",
    "        width = 0.35\n",
    "        plt.bar(gen_bins[:-1], gen_counts, width, label='Generated', alpha=0.7, color='blue')\n",
    "        plt.bar(ref_bins[:-1] + width, ref_counts, width, label='MOSES', alpha=0.7, color='red')\n",
    "    \n",
    "    plt.xlabel(xlabel)\n",
    "    plt.ylabel(ylabel)\n",
    "    plt.title(f'Distribution of {property_name}')\n",
    "    plt.legend()\n",
    "    plt.savefig(f'{property_name.lower().replace(\" \", \"_\")}_distribution.png')\n",
    "    plt.close()"
   ]
  },
  {
   "cell_type": "code",
   "execution_count": null,
   "metadata": {},
   "outputs": [],
   "source": [
    "def plot_property_boxplots(gen_props, ref_props):\n",
    "    plt.figure(figsize=(15, 10))\n",
    "    \n",
    "    data = []\n",
    "    for prop, name, _, _ in properties_to_plot:\n",
    "        data.append({\n",
    "            'Property': name,\n",
    "            'Value': gen_props[prop],\n",
    "            'Dataset': 'Generated'\n",
    "        })\n",
    "        data.append({\n",
    "            'Property': name,\n",
    "            'Value': ref_props[prop],\n",
    "            'Dataset': 'MOSES'\n",
    "        })\n",
    "    \n",
    "    df = pd.DataFrame(data)\n",
    "    \n",
    "    sns.boxplot(x='Property', y='Value', hue='Dataset', data=df)\n",
    "    plt.xticks(rotation=45, ha='right')\n",
    "    plt.title('Box Plots of Molecular Properties')\n",
    "    plt.tight_layout()\n",
    "    plt.savefig('molecular_properties_boxplots.png')\n",
    "    plt.close()"
   ]
  },
  {
   "cell_type": "code",
   "execution_count": null,
   "metadata": {},
   "outputs": [
    {
     "name": "stderr",
     "output_type": "stream",
     "text": [
      "/var/folders/3q/r2zc74911hn2f967w656zszm0000gn/T/ipykernel_38478/1586451105.py:3: FutureWarning: \n",
      "\n",
      "`shade` is now deprecated in favor of `fill`; setting `fill=True`.\n",
      "This will become an error in seaborn v0.14.0; please update your code.\n",
      "\n",
      "  sns.kdeplot(gen_props, shade=True, label='Generated', color='blue')\n",
      "/var/folders/3q/r2zc74911hn2f967w656zszm0000gn/T/ipykernel_38478/1586451105.py:4: FutureWarning: \n",
      "\n",
      "`shade` is now deprecated in favor of `fill`; setting `fill=True`.\n",
      "This will become an error in seaborn v0.14.0; please update your code.\n",
      "\n",
      "  sns.kdeplot(ref_props, shade=True, label='MOSES', color='red')\n",
      "/var/folders/3q/r2zc74911hn2f967w656zszm0000gn/T/ipykernel_38478/1586451105.py:3: FutureWarning: \n",
      "\n",
      "`shade` is now deprecated in favor of `fill`; setting `fill=True`.\n",
      "This will become an error in seaborn v0.14.0; please update your code.\n",
      "\n",
      "  sns.kdeplot(gen_props, shade=True, label='Generated', color='blue')\n",
      "/var/folders/3q/r2zc74911hn2f967w656zszm0000gn/T/ipykernel_38478/1586451105.py:4: FutureWarning: \n",
      "\n",
      "`shade` is now deprecated in favor of `fill`; setting `fill=True`.\n",
      "This will become an error in seaborn v0.14.0; please update your code.\n",
      "\n",
      "  sns.kdeplot(ref_props, shade=True, label='MOSES', color='red')\n",
      "/var/folders/3q/r2zc74911hn2f967w656zszm0000gn/T/ipykernel_38478/1586451105.py:3: FutureWarning: \n",
      "\n",
      "`shade` is now deprecated in favor of `fill`; setting `fill=True`.\n",
      "This will become an error in seaborn v0.14.0; please update your code.\n",
      "\n",
      "  sns.kdeplot(gen_props, shade=True, label='Generated', color='blue')\n",
      "/var/folders/3q/r2zc74911hn2f967w656zszm0000gn/T/ipykernel_38478/1586451105.py:4: FutureWarning: \n",
      "\n",
      "`shade` is now deprecated in favor of `fill`; setting `fill=True`.\n",
      "This will become an error in seaborn v0.14.0; please update your code.\n",
      "\n",
      "  sns.kdeplot(ref_props, shade=True, label='MOSES', color='red')\n",
      "/var/folders/3q/r2zc74911hn2f967w656zszm0000gn/T/ipykernel_38478/1586451105.py:3: FutureWarning: \n",
      "\n",
      "`shade` is now deprecated in favor of `fill`; setting `fill=True`.\n",
      "This will become an error in seaborn v0.14.0; please update your code.\n",
      "\n",
      "  sns.kdeplot(gen_props, shade=True, label='Generated', color='blue')\n",
      "/var/folders/3q/r2zc74911hn2f967w656zszm0000gn/T/ipykernel_38478/1586451105.py:4: FutureWarning: \n",
      "\n",
      "`shade` is now deprecated in favor of `fill`; setting `fill=True`.\n",
      "This will become an error in seaborn v0.14.0; please update your code.\n",
      "\n",
      "  sns.kdeplot(ref_props, shade=True, label='MOSES', color='red')\n",
      "/var/folders/3q/r2zc74911hn2f967w656zszm0000gn/T/ipykernel_38478/1586451105.py:3: FutureWarning: \n",
      "\n",
      "`shade` is now deprecated in favor of `fill`; setting `fill=True`.\n",
      "This will become an error in seaborn v0.14.0; please update your code.\n",
      "\n",
      "  sns.kdeplot(gen_props, shade=True, label='Generated', color='blue')\n",
      "/var/folders/3q/r2zc74911hn2f967w656zszm0000gn/T/ipykernel_38478/1586451105.py:4: FutureWarning: \n",
      "\n",
      "`shade` is now deprecated in favor of `fill`; setting `fill=True`.\n",
      "This will become an error in seaborn v0.14.0; please update your code.\n",
      "\n",
      "  sns.kdeplot(ref_props, shade=True, label='MOSES', color='red')\n",
      "/var/folders/3q/r2zc74911hn2f967w656zszm0000gn/T/ipykernel_38478/1586451105.py:3: FutureWarning: \n",
      "\n",
      "`shade` is now deprecated in favor of `fill`; setting `fill=True`.\n",
      "This will become an error in seaborn v0.14.0; please update your code.\n",
      "\n",
      "  sns.kdeplot(gen_props, shade=True, label='Generated', color='blue')\n",
      "/var/folders/3q/r2zc74911hn2f967w656zszm0000gn/T/ipykernel_38478/1586451105.py:4: FutureWarning: \n",
      "\n",
      "`shade` is now deprecated in favor of `fill`; setting `fill=True`.\n",
      "This will become an error in seaborn v0.14.0; please update your code.\n",
      "\n",
      "  sns.kdeplot(ref_props, shade=True, label='MOSES', color='red')\n",
      "/var/folders/3q/r2zc74911hn2f967w656zszm0000gn/T/ipykernel_38478/1586451105.py:3: FutureWarning: \n",
      "\n",
      "`shade` is now deprecated in favor of `fill`; setting `fill=True`.\n",
      "This will become an error in seaborn v0.14.0; please update your code.\n",
      "\n",
      "  sns.kdeplot(gen_props, shade=True, label='Generated', color='blue')\n",
      "/var/folders/3q/r2zc74911hn2f967w656zszm0000gn/T/ipykernel_38478/1586451105.py:4: FutureWarning: \n",
      "\n",
      "`shade` is now deprecated in favor of `fill`; setting `fill=True`.\n",
      "This will become an error in seaborn v0.14.0; please update your code.\n",
      "\n",
      "  sns.kdeplot(ref_props, shade=True, label='MOSES', color='red')\n"
     ]
    }
   ],
   "source": [
    "properties_to_plot = [\n",
    "    ('MW', 'Molecular Weight', 'Molecular Weight (Da)', 'line'),\n",
    "    ('LogP', 'LogP', 'LogP', 'line'),\n",
    "    ('HBD', 'H-Bond Donors', 'Number of H-Bond Donors', 'bar'),\n",
    "    ('HBA', 'H-Bond Acceptors', 'Number of H-Bond Acceptors', 'bar'),\n",
    "    ('TPSA', 'Topological Polar Surface Area', 'TPSA (Å²)', 'line'),\n",
    "    ('RotBonds', 'Rotatable Bonds', 'Number of Rotatable Bonds', 'bar'),\n",
    "    ('QED', 'QED', 'Quantitative Estimate of Drug-likeness', 'line')\n",
    "]\n",
    "\n",
    "for prop, name, xlabel, plot_type in properties_to_plot:\n",
    "    plot_property_distributions(generated_properties[prop], moses_properties[prop], name, xlabel, plot_type=plot_type)"
   ]
  },
  {
   "cell_type": "code",
   "execution_count": null,
   "metadata": {},
   "outputs": [],
   "source": [
    "plot_property_boxplots(generated_properties, moses_properties)"
   ]
  },
  {
   "cell_type": "code",
   "execution_count": null,
   "metadata": {},
   "outputs": [],
   "source": [
    "from tabulate import tabulate\n",
    "\n",
    "def print_summary_stats(gen_props, ref_props):\n",
    "    headers = [\"Property\", \"Generated (mean ± std)\", \"MOSES (mean ± std)\"]\n",
    "    table_rows = []\n",
    "    \n",
    "    for prop, name, _ in properties_to_plot:\n",
    "        gen_mean, gen_std = np.mean(gen_props[prop]), np.std(gen_props[prop])\n",
    "        ref_mean, ref_std = np.mean(ref_props[prop]), np.std(ref_props[prop])\n",
    "        row = [name, f\"{gen_mean:.2f} ± {gen_std:.2f}\", f\"{ref_mean:.2f} ± {ref_std:.2f}\"]\n",
    "        table_rows.append(row)\n",
    "    \n",
    "    print(tabulate(table_rows, headers=headers, tablefmt=\"grid\"))"
   ]
  },
  {
   "cell_type": "code",
   "execution_count": null,
   "metadata": {},
   "outputs": [
    {
     "name": "stdout",
     "output_type": "stream",
     "text": [
      "+--------------------------------+--------------------------+----------------------+\n",
      "| Property                       | Generated (mean ± std)   | MOSES (mean ± std)   |\n",
      "+================================+==========================+======================+\n",
      "| Molecular Weight               | 310.36 ± 29.27           | 306.92 ± 28.05       |\n",
      "+--------------------------------+--------------------------+----------------------+\n",
      "| LogP                           | 2.47 ± 0.96              | 2.44 ± 0.93          |\n",
      "+--------------------------------+--------------------------+----------------------+\n",
      "| H-Bond Donors                  | 1.12 ± 0.84              | 1.12 ± 0.83          |\n",
      "+--------------------------------+--------------------------+----------------------+\n",
      "| H-Bond Acceptors               | 4.32 ± 1.43              | 4.22 ± 1.40          |\n",
      "+--------------------------------+--------------------------+----------------------+\n",
      "| Topological Polar Surface Area | 66.89 ± 18.70            | 65.83 ± 18.10        |\n",
      "+--------------------------------+--------------------------+----------------------+\n",
      "| Rotatable Bonds                | 4.30 ± 1.45              | 4.26 ± 1.48          |\n",
      "+--------------------------------+--------------------------+----------------------+\n",
      "| QED                            | 0.80 ± 0.10              | 0.81 ± 0.09          |\n",
      "+--------------------------------+--------------------------+----------------------+\n"
     ]
    }
   ],
   "source": [
    "print_summary_stats(generated_properties, moses_properties)"
   ]
  },
  {
   "cell_type": "markdown",
   "metadata": {},
   "source": [
    "scaffold analysis"
   ]
  },
  {
   "cell_type": "code",
   "execution_count": null,
   "metadata": {},
   "outputs": [],
   "source": [
    "from rdkit.Chem.Scaffolds import MurckoScaffold"
   ]
  },
  {
   "cell_type": "code",
   "execution_count": null,
   "metadata": {},
   "outputs": [],
   "source": [
    "def analyze_scaffolds(mol_list):\n",
    "    scaffolds = {}\n",
    "    for mol in mol_list:\n",
    "        scaffold = MurckoScaffold.GetScaffoldForMol(mol)\n",
    "        scaffold_smiles = Chem.MolToSmiles(scaffold)\n",
    "        scaffolds[scaffold_smiles] = scaffolds.get(scaffold_smiles, 0) + 1\n",
    "    return scaffolds"
   ]
  },
  {
   "cell_type": "code",
   "execution_count": null,
   "metadata": {},
   "outputs": [],
   "source": [
    "generated_scaffolds = analyze_scaffolds(generated_mols)\n",
    "moses_scaffolds = analyze_scaffolds(moses_mols)"
   ]
  },
  {
   "cell_type": "code",
   "execution_count": null,
   "metadata": {},
   "outputs": [
    {
     "name": "stdout",
     "output_type": "stream",
     "text": [
      "Unique scaffolds in generated set: 7299\n",
      "Unique scaffolds in MOSES set: 77215\n"
     ]
    }
   ],
   "source": [
    "print(f\"Unique scaffolds in generated set: {len(generated_scaffolds)}\")\n",
    "print(f\"Unique scaffolds in MOSES set: {len(moses_scaffolds)}\")"
   ]
  },
  {
   "cell_type": "code",
   "execution_count": null,
   "metadata": {},
   "outputs": [
    {
     "name": "stdout",
     "output_type": "stream",
     "text": [
      "Scaffold diversity in generated set: 0.7343\n",
      "Scaffold diversity in MOSES set: 0.4385\n"
     ]
    }
   ],
   "source": [
    "# Scaffold diversity\n",
    "gen_scaffold_diversity = len(generated_scaffolds) / len(generated_mols)\n",
    "moses_scaffold_diversity = len(moses_scaffolds) / len(moses_mols)\n",
    "\n",
    "print(f\"Scaffold diversity in generated set: {gen_scaffold_diversity:.4f}\")\n",
    "print(f\"Scaffold diversity in MOSES set: {moses_scaffold_diversity:.4f}\")"
   ]
  },
  {
   "cell_type": "code",
   "execution_count": null,
   "metadata": {},
   "outputs": [],
   "source": []
  }
 ],
 "metadata": {
  "kernelspec": {
   "display_name": "Python 3",
   "language": "python",
   "name": "python3"
  },
  "language_info": {
   "codemirror_mode": {
    "name": "ipython",
    "version": 3
   },
   "file_extension": ".py",
   "mimetype": "text/x-python",
   "name": "python",
   "nbconvert_exporter": "python",
   "pygments_lexer": "ipython3",
   "version": "3.11.6"
  }
 },
 "nbformat": 4,
 "nbformat_minor": 2
}
