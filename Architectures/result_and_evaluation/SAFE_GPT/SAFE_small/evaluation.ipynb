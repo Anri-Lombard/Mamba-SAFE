{
 "cells": [
  {
   "cell_type": "code",
   "execution_count": 24,
   "metadata": {},
   "outputs": [],
   "source": [
    "import torch\n",
    "from transformers import AutoModelForCausalLM, AutoTokenizer\n",
    "from safe.tokenizer import SAFETokenizer\n",
    "from safe.trainer.model import SAFEDoubleHeadsModel\n",
    "from rdkit import Chem\n",
    "from rdkit.Chem import Draw, AllChem, rdFingerprintGenerator\n",
    "from rdkit import rdBase\n",
    "rdBase.DisableLog('rdApp.warning')\n",
    "import os\n",
    "from molfeat.trans.pretrained.hf_transformers import HFModel\n",
    "import datamol as dm\n",
    "import safe as sf\n",
    "import numpy as np\n",
    "import pandas as pd\n",
    "from tqdm import tqdm\n",
    "from collections import defaultdict\n",
    "import pickle\n",
    "import hashlib\n",
    "from PIL import Image\n",
    "import cairosvg"
   ]
  },
  {
   "cell_type": "code",
   "execution_count": 25,
   "metadata": {},
   "outputs": [],
   "source": [
    "os.environ[\"TOKENIZERS_PARALLELISM\"] = \"false\""
   ]
  },
  {
   "cell_type": "code",
   "execution_count": 26,
   "metadata": {},
   "outputs": [],
   "source": [
    "# Load the trained model and tokenizer\n",
    "model_checkpoint = \".\"\n",
    "safe_model = SAFEDoubleHeadsModel.from_pretrained(model_checkpoint)"
   ]
  },
  {
   "cell_type": "code",
   "execution_count": 27,
   "metadata": {},
   "outputs": [],
   "source": [
    "model_tokenizer = \"./tokenizer.json\"\n",
    "safe_tokenizer = SAFETokenizer.from_pretrained(model_tokenizer)"
   ]
  },
  {
   "cell_type": "code",
   "execution_count": 28,
   "metadata": {},
   "outputs": [
    {
     "data": {
      "text/plain": [
       "SAFEDoubleHeadsModel(\n",
       "  (transformer): GPT2Model(\n",
       "    (wte): Embedding(1880, 512)\n",
       "    (wpe): Embedding(1024, 512)\n",
       "    (drop): Dropout(p=0.1, inplace=False)\n",
       "    (h): ModuleList(\n",
       "      (0-5): 6 x GPT2Block(\n",
       "        (ln_1): LayerNorm((512,), eps=1e-05, elementwise_affine=True)\n",
       "        (attn): GPT2SdpaAttention(\n",
       "          (c_attn): Conv1D()\n",
       "          (c_proj): Conv1D()\n",
       "          (attn_dropout): Dropout(p=0.1, inplace=False)\n",
       "          (resid_dropout): Dropout(p=0.1, inplace=False)\n",
       "        )\n",
       "        (ln_2): LayerNorm((512,), eps=1e-05, elementwise_affine=True)\n",
       "        (mlp): GPT2MLP(\n",
       "          (c_fc): Conv1D()\n",
       "          (c_proj): Conv1D()\n",
       "          (act): NewGELUActivation()\n",
       "          (dropout): Dropout(p=0.1, inplace=False)\n",
       "        )\n",
       "      )\n",
       "    )\n",
       "    (ln_f): LayerNorm((512,), eps=1e-05, elementwise_affine=True)\n",
       "  )\n",
       "  (lm_head): Linear(in_features=512, out_features=1880, bias=False)\n",
       "  (multiple_choice_head): PropertyHead(\n",
       "    (summary): Linear(in_features=512, out_features=128, bias=True)\n",
       "    (activation): Tanh()\n",
       "    (out): Linear(in_features=128, out_features=9, bias=True)\n",
       "  )\n",
       ")"
      ]
     },
     "execution_count": 28,
     "metadata": {},
     "output_type": "execute_result"
    }
   ],
   "source": [
    "# # Set the device to GPU if available, else CPU\n",
    "device = torch.device(\"cuda\" if torch.cuda.is_available() else \"cpu\")\n",
    "safe_model.to(device)"
   ]
  },
  {
   "cell_type": "code",
   "execution_count": 29,
   "metadata": {},
   "outputs": [],
   "source": [
    "def hash_smiles_list(smiles_list):\n",
    "    \"\"\"Create a hash of the SMILES list to use as a unique identifier.\"\"\"\n",
    "    return hashlib.md5(''.join(sorted(smiles_list)).encode()).hexdigest()\n",
    "\n",
    "def save_processed_data(data, filename):\n",
    "    \"\"\"Save processed data to a file.\"\"\"\n",
    "    with open(filename, 'wb') as f:\n",
    "        pickle.dump(data, f)\n",
    "\n",
    "def load_processed_data(filename):\n",
    "    \"\"\"Load processed data from a file.\"\"\"\n",
    "    with open(filename, 'rb') as f:\n",
    "        return pickle.load(f)"
   ]
  },
  {
   "cell_type": "code",
   "execution_count": 30,
   "metadata": {},
   "outputs": [],
   "source": [
    "designer = sf.SAFEDesign(\n",
    "    model=safe_model,\n",
    "    tokenizer=safe_tokenizer,\n",
    "    verbose=True,\n",
    ")"
   ]
  },
  {
   "cell_type": "code",
   "execution_count": null,
   "metadata": {},
   "outputs": [],
   "source": []
  },
  {
   "cell_type": "code",
   "execution_count": 31,
   "metadata": {},
   "outputs": [
    {
     "data": {
      "application/vnd.jupyter.widget-view+json": {
       "model_id": "daefa2cb1d1a461cbac1bbd805c46172",
       "version_major": 2,
       "version_minor": 0
      },
      "text/plain": [
       "  0%|          | 0/1 [00:00<?, ?it/s]"
      ]
     },
     "metadata": {},
     "output_type": "display_data"
    },
    {
     "name": "stderr",
     "output_type": "stream",
     "text": [
      "\u001b[32m2024-08-04 17:41:53.987\u001b[0m | \u001b[1mINFO    \u001b[0m | \u001b[36msafe.sample\u001b[0m:\u001b[36mde_novo_generation\u001b[0m:\u001b[36m592\u001b[0m - \u001b[1mAfter sanitization, 99 / 100 (99.00 %) generated molecules are valid !\u001b[0m\n"
     ]
    }
   ],
   "source": [
    "generated_smiles = designer.de_novo_generation(sanitize=True, n_samples_per_trial=100, early_stopping=False, max_length=100)"
   ]
  },
  {
   "cell_type": "code",
   "execution_count": 32,
   "metadata": {},
   "outputs": [
    {
     "data": {
      "image/svg+xml": [
       "<svg xmlns=\"http://www.w3.org/2000/svg\" xmlns:rdkit=\"http://www.rdkit.org/xml\" xmlns:xlink=\"http://www.w3.org/1999/xlink\" version=\"1.1\" baseProfile=\"full\" xml:space=\"preserve\" width=\"300px\" height=\"300px\" viewBox=\"0 0 300 300\">\n",
       "<!-- END OF HEADER -->\n",
       "<rect style=\"opacity:1.0;fill:#FFFFFF;stroke:none\" width=\"300.0\" height=\"300.0\" x=\"0.0\" y=\"0.0\"> </rect>\n",
       "<path class=\"bond-0 atom-0 atom-1\" d=\"M 112.7,179.1 L 120.8,172.6\" style=\"fill:none;fill-rule:evenodd;stroke:#000000;stroke-width:2.0px;stroke-linecap:butt;stroke-linejoin:miter;stroke-opacity:1\"/>\n",
       "<path class=\"bond-0 atom-0 atom-1\" d=\"M 120.8,172.6 L 128.9,166.1\" style=\"fill:none;fill-rule:evenodd;stroke:#0000FF;stroke-width:2.0px;stroke-linecap:butt;stroke-linejoin:miter;stroke-opacity:1\"/>\n",
       "<path class=\"bond-1 atom-1 atom-2\" d=\"M 131.8,158.8 L 130.2,148.5\" style=\"fill:none;fill-rule:evenodd;stroke:#0000FF;stroke-width:2.0px;stroke-linecap:butt;stroke-linejoin:miter;stroke-opacity:1\"/>\n",
       "<path class=\"bond-1 atom-1 atom-2\" d=\"M 130.2,148.5 L 128.6,138.2\" style=\"fill:none;fill-rule:evenodd;stroke:#000000;stroke-width:2.0px;stroke-linecap:butt;stroke-linejoin:miter;stroke-opacity:1\"/>\n",
       "<path class=\"bond-2 atom-2 atom-3\" d=\"M 128.6,138.2 L 105.0,128.9\" style=\"fill:none;fill-rule:evenodd;stroke:#000000;stroke-width:2.0px;stroke-linecap:butt;stroke-linejoin:miter;stroke-opacity:1\"/>\n",
       "<path class=\"bond-3 atom-3 atom-4\" d=\"M 105.0,128.9 L 96.1,134.7\" style=\"fill:none;fill-rule:evenodd;stroke:#000000;stroke-width:2.0px;stroke-linecap:butt;stroke-linejoin:miter;stroke-opacity:1\"/>\n",
       "<path class=\"bond-3 atom-3 atom-4\" d=\"M 96.1,134.7 L 87.2,140.4\" style=\"fill:none;fill-rule:evenodd;stroke:#0000FF;stroke-width:2.0px;stroke-linecap:butt;stroke-linejoin:miter;stroke-opacity:1\"/>\n",
       "<path class=\"bond-3 atom-3 atom-4\" d=\"M 100.6,127.2 L 92.9,132.2\" style=\"fill:none;fill-rule:evenodd;stroke:#000000;stroke-width:2.0px;stroke-linecap:butt;stroke-linejoin:miter;stroke-opacity:1\"/>\n",
       "<path class=\"bond-3 atom-3 atom-4\" d=\"M 92.9,132.2 L 85.1,137.2\" style=\"fill:none;fill-rule:evenodd;stroke:#0000FF;stroke-width:2.0px;stroke-linecap:butt;stroke-linejoin:miter;stroke-opacity:1\"/>\n",
       "<path class=\"bond-4 atom-4 atom-5\" d=\"M 80.1,139.7 L 72.0,133.2\" style=\"fill:none;fill-rule:evenodd;stroke:#0000FF;stroke-width:2.0px;stroke-linecap:butt;stroke-linejoin:miter;stroke-opacity:1\"/>\n",
       "<path class=\"bond-4 atom-4 atom-5\" d=\"M 72.0,133.2 L 64.0,126.6\" style=\"fill:none;fill-rule:evenodd;stroke:#000000;stroke-width:2.0px;stroke-linecap:butt;stroke-linejoin:miter;stroke-opacity:1\"/>\n",
       "<path class=\"bond-5 atom-5 atom-6\" d=\"M 64.0,126.6 L 39.5,133.0\" style=\"fill:none;fill-rule:evenodd;stroke:#000000;stroke-width:2.0px;stroke-linecap:butt;stroke-linejoin:miter;stroke-opacity:1\"/>\n",
       "<path class=\"bond-6 atom-6 atom-7\" d=\"M 39.5,133.0 L 21.4,150.9\" style=\"fill:none;fill-rule:evenodd;stroke:#000000;stroke-width:2.0px;stroke-linecap:butt;stroke-linejoin:miter;stroke-opacity:1\"/>\n",
       "<path class=\"bond-7 atom-7 atom-8\" d=\"M 21.4,150.9 L 15.0,126.3\" style=\"fill:none;fill-rule:evenodd;stroke:#000000;stroke-width:2.0px;stroke-linecap:butt;stroke-linejoin:miter;stroke-opacity:1\"/>\n",
       "<path class=\"bond-8 atom-5 atom-9\" d=\"M 64.0,126.6 L 67.7,117.0\" style=\"fill:none;fill-rule:evenodd;stroke:#000000;stroke-width:2.0px;stroke-linecap:butt;stroke-linejoin:miter;stroke-opacity:1\"/>\n",
       "<path class=\"bond-8 atom-5 atom-9\" d=\"M 67.7,117.0 L 71.5,107.4\" style=\"fill:none;fill-rule:evenodd;stroke:#0000FF;stroke-width:2.0px;stroke-linecap:butt;stroke-linejoin:miter;stroke-opacity:1\"/>\n",
       "<path class=\"bond-8 atom-5 atom-9\" d=\"M 68.6,125.4 L 71.8,117.1\" style=\"fill:none;fill-rule:evenodd;stroke:#000000;stroke-width:2.0px;stroke-linecap:butt;stroke-linejoin:miter;stroke-opacity:1\"/>\n",
       "<path class=\"bond-8 atom-5 atom-9\" d=\"M 71.8,117.1 L 75.0,108.8\" style=\"fill:none;fill-rule:evenodd;stroke:#0000FF;stroke-width:2.0px;stroke-linecap:butt;stroke-linejoin:miter;stroke-opacity:1\"/>\n",
       "<path class=\"bond-9 atom-9 atom-10\" d=\"M 76.8,103.2 L 85.6,103.7\" style=\"fill:none;fill-rule:evenodd;stroke:#0000FF;stroke-width:2.0px;stroke-linecap:butt;stroke-linejoin:miter;stroke-opacity:1\"/>\n",
       "<path class=\"bond-9 atom-9 atom-10\" d=\"M 85.6,103.7 L 94.4,104.2\" style=\"fill:none;fill-rule:evenodd;stroke:#FF0000;stroke-width:2.0px;stroke-linecap:butt;stroke-linejoin:miter;stroke-opacity:1\"/>\n",
       "<path class=\"bond-10 atom-1 atom-11\" d=\"M 136.0,164.6 L 146.1,168.5\" style=\"fill:none;fill-rule:evenodd;stroke:#0000FF;stroke-width:2.0px;stroke-linecap:butt;stroke-linejoin:miter;stroke-opacity:1\"/>\n",
       "<path class=\"bond-10 atom-1 atom-11\" d=\"M 146.1,168.5 L 156.1,172.4\" style=\"fill:none;fill-rule:evenodd;stroke:#000000;stroke-width:2.0px;stroke-linecap:butt;stroke-linejoin:miter;stroke-opacity:1\"/>\n",
       "<path class=\"bond-11 atom-11 atom-12\" d=\"M 154.1,171.6 L 155.7,182.5\" style=\"fill:none;fill-rule:evenodd;stroke:#000000;stroke-width:2.0px;stroke-linecap:butt;stroke-linejoin:miter;stroke-opacity:1\"/>\n",
       "<path class=\"bond-11 atom-11 atom-12\" d=\"M 155.7,182.5 L 157.4,193.3\" style=\"fill:none;fill-rule:evenodd;stroke:#FF0000;stroke-width:2.0px;stroke-linecap:butt;stroke-linejoin:miter;stroke-opacity:1\"/>\n",
       "<path class=\"bond-11 atom-11 atom-12\" d=\"M 157.8,171.1 L 159.5,181.9\" style=\"fill:none;fill-rule:evenodd;stroke:#000000;stroke-width:2.0px;stroke-linecap:butt;stroke-linejoin:miter;stroke-opacity:1\"/>\n",
       "<path class=\"bond-11 atom-11 atom-12\" d=\"M 159.5,181.9 L 161.1,192.8\" style=\"fill:none;fill-rule:evenodd;stroke:#FF0000;stroke-width:2.0px;stroke-linecap:butt;stroke-linejoin:miter;stroke-opacity:1\"/>\n",
       "<path class=\"bond-12 atom-11 atom-13\" d=\"M 156.1,172.4 L 175.9,156.6\" style=\"fill:none;fill-rule:evenodd;stroke:#000000;stroke-width:2.0px;stroke-linecap:butt;stroke-linejoin:miter;stroke-opacity:1\"/>\n",
       "<path class=\"bond-13 atom-13 atom-14\" d=\"M 175.9,156.6 L 185.6,160.4\" style=\"fill:none;fill-rule:evenodd;stroke:#000000;stroke-width:2.0px;stroke-linecap:butt;stroke-linejoin:miter;stroke-opacity:1\"/>\n",
       "<path class=\"bond-13 atom-13 atom-14\" d=\"M 185.6,160.4 L 195.4,164.2\" style=\"fill:none;fill-rule:evenodd;stroke:#FF0000;stroke-width:2.0px;stroke-linecap:butt;stroke-linejoin:miter;stroke-opacity:1\"/>\n",
       "<path class=\"bond-14 atom-14 atom-15\" d=\"M 203.7,162.5 L 211.5,156.2\" style=\"fill:none;fill-rule:evenodd;stroke:#FF0000;stroke-width:2.0px;stroke-linecap:butt;stroke-linejoin:miter;stroke-opacity:1\"/>\n",
       "<path class=\"bond-14 atom-14 atom-15\" d=\"M 211.5,156.2 L 219.3,149.9\" style=\"fill:none;fill-rule:evenodd;stroke:#000000;stroke-width:2.0px;stroke-linecap:butt;stroke-linejoin:miter;stroke-opacity:1\"/>\n",
       "<path class=\"bond-15 atom-15 atom-16\" d=\"M 219.3,149.9 L 243.0,159.1\" style=\"fill:none;fill-rule:evenodd;stroke:#000000;stroke-width:2.0px;stroke-linecap:butt;stroke-linejoin:miter;stroke-opacity:1\"/>\n",
       "<path class=\"bond-15 atom-15 atom-16\" d=\"M 222.8,147.2 L 242.3,154.8\" style=\"fill:none;fill-rule:evenodd;stroke:#000000;stroke-width:2.0px;stroke-linecap:butt;stroke-linejoin:miter;stroke-opacity:1\"/>\n",
       "<path class=\"bond-16 atom-16 atom-17\" d=\"M 243.0,159.1 L 262.8,143.3\" style=\"fill:none;fill-rule:evenodd;stroke:#000000;stroke-width:2.0px;stroke-linecap:butt;stroke-linejoin:miter;stroke-opacity:1\"/>\n",
       "<path class=\"bond-17 atom-17 atom-18\" d=\"M 262.8,143.3 L 258.9,118.2\" style=\"fill:none;fill-rule:evenodd;stroke:#000000;stroke-width:2.0px;stroke-linecap:butt;stroke-linejoin:miter;stroke-opacity:1\"/>\n",
       "<path class=\"bond-17 atom-17 atom-18\" d=\"M 258.7,141.7 L 255.5,120.9\" style=\"fill:none;fill-rule:evenodd;stroke:#000000;stroke-width:2.0px;stroke-linecap:butt;stroke-linejoin:miter;stroke-opacity:1\"/>\n",
       "<path class=\"bond-18 atom-18 atom-19\" d=\"M 258.9,118.2 L 267.2,111.6\" style=\"fill:none;fill-rule:evenodd;stroke:#000000;stroke-width:2.0px;stroke-linecap:butt;stroke-linejoin:miter;stroke-opacity:1\"/>\n",
       "<path class=\"bond-18 atom-18 atom-19\" d=\"M 267.2,111.6 L 275.4,105.0\" style=\"fill:none;fill-rule:evenodd;stroke:#7F4C19;stroke-width:2.0px;stroke-linecap:butt;stroke-linejoin:miter;stroke-opacity:1\"/>\n",
       "<path class=\"bond-19 atom-18 atom-20\" d=\"M 258.9,118.2 L 235.3,109.0\" style=\"fill:none;fill-rule:evenodd;stroke:#000000;stroke-width:2.0px;stroke-linecap:butt;stroke-linejoin:miter;stroke-opacity:1\"/>\n",
       "<path class=\"bond-20 atom-20 atom-21\" d=\"M 235.3,109.0 L 215.5,124.8\" style=\"fill:none;fill-rule:evenodd;stroke:#000000;stroke-width:2.0px;stroke-linecap:butt;stroke-linejoin:miter;stroke-opacity:1\"/>\n",
       "<path class=\"bond-20 atom-20 atom-21\" d=\"M 235.9,113.3 L 219.6,126.4\" style=\"fill:none;fill-rule:evenodd;stroke:#000000;stroke-width:2.0px;stroke-linecap:butt;stroke-linejoin:miter;stroke-opacity:1\"/>\n",
       "<path class=\"bond-21 atom-10 atom-3\" d=\"M 99.7,109.0 L 102.4,119.0\" style=\"fill:none;fill-rule:evenodd;stroke:#FF0000;stroke-width:2.0px;stroke-linecap:butt;stroke-linejoin:miter;stroke-opacity:1\"/>\n",
       "<path class=\"bond-21 atom-10 atom-3\" d=\"M 102.4,119.0 L 105.0,128.9\" style=\"fill:none;fill-rule:evenodd;stroke:#000000;stroke-width:2.0px;stroke-linecap:butt;stroke-linejoin:miter;stroke-opacity:1\"/>\n",
       "<path class=\"bond-22 atom-21 atom-15\" d=\"M 215.5,124.8 L 219.3,149.9\" style=\"fill:none;fill-rule:evenodd;stroke:#000000;stroke-width:2.0px;stroke-linecap:butt;stroke-linejoin:miter;stroke-opacity:1\"/>\n",
       "<path class=\"bond-23 atom-8 atom-6\" d=\"M 15.0,126.3 L 39.5,133.0\" style=\"fill:none;fill-rule:evenodd;stroke:#000000;stroke-width:2.0px;stroke-linecap:butt;stroke-linejoin:miter;stroke-opacity:1\"/>\n",
       "<path d=\"M 128.7,138.7 L 128.6,138.2 L 127.4,137.7\" style=\"fill:none;stroke:#000000;stroke-width:2.0px;stroke-linecap:butt;stroke-linejoin:miter;stroke-opacity:1;\"/>\n",
       "<path d=\"M 22.3,150.0 L 21.4,150.9 L 21.1,149.7\" style=\"fill:none;stroke:#000000;stroke-width:2.0px;stroke-linecap:butt;stroke-linejoin:miter;stroke-opacity:1;\"/>\n",
       "<path d=\"M 15.3,127.6 L 15.0,126.3 L 16.2,126.7\" style=\"fill:none;stroke:#000000;stroke-width:2.0px;stroke-linecap:butt;stroke-linejoin:miter;stroke-opacity:1;\"/>\n",
       "<path d=\"M 155.6,172.2 L 156.1,172.4 L 157.1,171.7\" style=\"fill:none;stroke:#000000;stroke-width:2.0px;stroke-linecap:butt;stroke-linejoin:miter;stroke-opacity:1;\"/>\n",
       "<path d=\"M 174.9,157.4 L 175.9,156.6 L 176.4,156.8\" style=\"fill:none;stroke:#000000;stroke-width:2.0px;stroke-linecap:butt;stroke-linejoin:miter;stroke-opacity:1;\"/>\n",
       "<path d=\"M 241.8,158.7 L 243.0,159.1 L 243.9,158.3\" style=\"fill:none;stroke:#000000;stroke-width:2.0px;stroke-linecap:butt;stroke-linejoin:miter;stroke-opacity:1;\"/>\n",
       "<path d=\"M 261.8,144.1 L 262.8,143.3 L 262.6,142.0\" style=\"fill:none;stroke:#000000;stroke-width:2.0px;stroke-linecap:butt;stroke-linejoin:miter;stroke-opacity:1;\"/>\n",
       "<path d=\"M 236.5,109.4 L 235.3,109.0 L 234.3,109.8\" style=\"fill:none;stroke:#000000;stroke-width:2.0px;stroke-linecap:butt;stroke-linejoin:miter;stroke-opacity:1;\"/>\n",
       "<path d=\"M 216.5,124.1 L 215.5,124.8 L 215.7,126.1\" style=\"fill:none;stroke:#000000;stroke-width:2.0px;stroke-linecap:butt;stroke-linejoin:miter;stroke-opacity:1;\"/>\n",
       "<path class=\"atom-1\" d=\"M 130.9 159.6 L 133.2 163.4 Q 133.5 163.8, 133.8 164.5 Q 134.2 165.2, 134.2 165.2 L 134.2 159.6 L 135.2 159.6 L 135.2 166.8 L 134.2 166.8 L 131.7 162.7 Q 131.4 162.2, 131.1 161.6 Q 130.8 161.1, 130.7 160.9 L 130.7 166.8 L 129.7 166.8 L 129.7 159.6 L 130.9 159.6 \" fill=\"#0000FF\"/>\n",
       "<path class=\"atom-4\" d=\"M 82.1 139.1 L 84.4 142.9 Q 84.6 143.2, 85.0 143.9 Q 85.4 144.6, 85.4 144.6 L 85.4 139.1 L 86.4 139.1 L 86.4 146.3 L 85.4 146.3 L 82.9 142.1 Q 82.6 141.6, 82.2 141.0 Q 81.9 140.5, 81.8 140.3 L 81.8 146.3 L 80.9 146.3 L 80.9 139.1 L 82.1 139.1 \" fill=\"#0000FF\"/>\n",
       "<path class=\"atom-9\" d=\"M 71.6 99.4 L 74.0 103.2 Q 74.2 103.5, 74.6 104.2 Q 75.0 104.9, 75.0 104.9 L 75.0 99.4 L 75.9 99.4 L 75.9 106.6 L 75.0 106.6 L 72.4 102.4 Q 72.1 101.9, 71.8 101.3 Q 71.5 100.8, 71.4 100.6 L 71.4 106.6 L 70.5 106.6 L 70.5 99.4 L 71.6 99.4 \" fill=\"#0000FF\"/>\n",
       "<path class=\"atom-10\" d=\"M 95.2 104.4 Q 95.2 102.7, 96.1 101.7 Q 96.9 100.8, 98.5 100.8 Q 100.1 100.8, 101.0 101.7 Q 101.8 102.7, 101.8 104.4 Q 101.8 106.2, 101.0 107.2 Q 100.1 108.2, 98.5 108.2 Q 97.0 108.2, 96.1 107.2 Q 95.2 106.2, 95.2 104.4 M 98.5 107.3 Q 99.6 107.3, 100.2 106.6 Q 100.8 105.9, 100.8 104.4 Q 100.8 103.0, 100.2 102.3 Q 99.6 101.6, 98.5 101.6 Q 97.4 101.6, 96.8 102.3 Q 96.3 103.0, 96.3 104.4 Q 96.3 105.9, 96.8 106.6 Q 97.4 107.3, 98.5 107.3 \" fill=\"#FF0000\"/>\n",
       "<path class=\"atom-12\" d=\"M 156.6 197.5 Q 156.6 195.8, 157.5 194.9 Q 158.3 193.9, 159.9 193.9 Q 161.5 193.9, 162.4 194.9 Q 163.2 195.8, 163.2 197.5 Q 163.2 199.3, 162.4 200.3 Q 161.5 201.3, 159.9 201.3 Q 158.4 201.3, 157.5 200.3 Q 156.6 199.3, 156.6 197.5 M 159.9 200.5 Q 161.0 200.5, 161.6 199.7 Q 162.2 199.0, 162.2 197.5 Q 162.2 196.1, 161.6 195.4 Q 161.0 194.7, 159.9 194.7 Q 158.8 194.7, 158.2 195.4 Q 157.7 196.1, 157.7 197.5 Q 157.7 199.0, 158.2 199.7 Q 158.8 200.5, 159.9 200.5 \" fill=\"#FF0000\"/>\n",
       "<path class=\"atom-14\" d=\"M 196.2 165.8 Q 196.2 164.1, 197.1 163.1 Q 197.9 162.2, 199.5 162.2 Q 201.1 162.2, 202.0 163.1 Q 202.8 164.1, 202.8 165.8 Q 202.8 167.6, 202.0 168.5 Q 201.1 169.5, 199.5 169.5 Q 197.9 169.5, 197.1 168.5 Q 196.2 167.6, 196.2 165.8 M 199.5 168.7 Q 200.6 168.7, 201.2 168.0 Q 201.8 167.3, 201.8 165.8 Q 201.8 164.4, 201.2 163.7 Q 200.6 163.0, 199.5 163.0 Q 198.4 163.0, 197.8 163.7 Q 197.2 164.4, 197.2 165.8 Q 197.2 167.3, 197.8 168.0 Q 198.4 168.7, 199.5 168.7 \" fill=\"#FF0000\"/>\n",
       "<path class=\"atom-19\" d=\"M 279.8 102.1 Q 280.4 102.3, 280.8 102.8 Q 281.1 103.2, 281.1 103.8 Q 281.1 104.8, 280.5 105.4 Q 279.9 105.9, 278.7 105.9 L 276.3 105.9 L 276.3 98.7 L 278.4 98.7 Q 279.6 98.7, 280.2 99.2 Q 280.9 99.7, 280.9 100.6 Q 280.9 101.7, 279.8 102.1 M 277.2 99.5 L 277.2 101.8 L 278.4 101.8 Q 279.1 101.8, 279.5 101.5 Q 279.8 101.2, 279.8 100.6 Q 279.8 99.5, 278.4 99.5 L 277.2 99.5 M 278.7 105.1 Q 279.4 105.1, 279.8 104.8 Q 280.1 104.4, 280.1 103.8 Q 280.1 103.2, 279.7 102.9 Q 279.3 102.6, 278.5 102.6 L 277.2 102.6 L 277.2 105.1 L 278.7 105.1 \" fill=\"#7F4C19\"/>\n",
       "<path class=\"atom-19\" d=\"M 282.8 100.7 L 282.9 101.4 Q 283.4 100.6, 284.3 100.6 Q 284.6 100.6, 285.0 100.7 L 284.8 101.6 Q 284.4 101.5, 284.2 101.5 Q 283.7 101.5, 283.5 101.6 Q 283.2 101.8, 283.0 102.2 L 283.0 105.9 L 282.0 105.9 L 282.0 100.7 L 282.8 100.7 \" fill=\"#7F4C19\"/>\n",
       "</svg>"
      ],
      "text/plain": [
       "<IPython.core.display.SVG object>"
      ]
     },
     "metadata": {},
     "output_type": "display_data"
    },
    {
     "data": {
      "image/svg+xml": [
       "<svg xmlns=\"http://www.w3.org/2000/svg\" xmlns:rdkit=\"http://www.rdkit.org/xml\" xmlns:xlink=\"http://www.w3.org/1999/xlink\" version=\"1.1\" baseProfile=\"full\" xml:space=\"preserve\" width=\"300px\" height=\"300px\" viewBox=\"0 0 300 300\">\n",
       "<!-- END OF HEADER -->\n",
       "<rect style=\"opacity:1.0;fill:#FFFFFF;stroke:none\" width=\"300.0\" height=\"300.0\" x=\"0.0\" y=\"0.0\"> </rect>\n",
       "<path class=\"bond-0 atom-0 atom-1\" d=\"M 15.0,168.5 L 40.4,174.2\" style=\"fill:none;fill-rule:evenodd;stroke:#000000;stroke-width:2.0px;stroke-linecap:butt;stroke-linejoin:miter;stroke-opacity:1\"/>\n",
       "<path class=\"bond-1 atom-1 atom-2\" d=\"M 40.4,174.2 L 48.2,199.1\" style=\"fill:none;fill-rule:evenodd;stroke:#000000;stroke-width:2.0px;stroke-linecap:butt;stroke-linejoin:miter;stroke-opacity:1\"/>\n",
       "<path class=\"bond-2 atom-1 atom-3\" d=\"M 40.4,174.2 L 47.5,166.6\" style=\"fill:none;fill-rule:evenodd;stroke:#000000;stroke-width:2.0px;stroke-linecap:butt;stroke-linejoin:miter;stroke-opacity:1\"/>\n",
       "<path class=\"bond-2 atom-1 atom-3\" d=\"M 47.5,166.6 L 54.5,159.0\" style=\"fill:none;fill-rule:evenodd;stroke:#0000FF;stroke-width:2.0px;stroke-linecap:butt;stroke-linejoin:miter;stroke-opacity:1\"/>\n",
       "<path class=\"bond-3 atom-3 atom-4\" d=\"M 61.8,155.5 L 72.9,156.8\" style=\"fill:none;fill-rule:evenodd;stroke:#0000FF;stroke-width:2.0px;stroke-linecap:butt;stroke-linejoin:miter;stroke-opacity:1\"/>\n",
       "<path class=\"bond-3 atom-3 atom-4\" d=\"M 72.9,156.8 L 84.0,158.1\" style=\"fill:none;fill-rule:evenodd;stroke:#000000;stroke-width:2.0px;stroke-linecap:butt;stroke-linejoin:miter;stroke-opacity:1\"/>\n",
       "<path class=\"bond-4 atom-4 atom-5\" d=\"M 84.0,158.1 L 94.9,134.4\" style=\"fill:none;fill-rule:evenodd;stroke:#000000;stroke-width:2.0px;stroke-linecap:butt;stroke-linejoin:miter;stroke-opacity:1\"/>\n",
       "<path class=\"bond-5 atom-5 atom-6\" d=\"M 94.9,134.4 L 120.5,129.3\" style=\"fill:none;fill-rule:evenodd;stroke:#000000;stroke-width:2.0px;stroke-linecap:butt;stroke-linejoin:miter;stroke-opacity:1\"/>\n",
       "<path class=\"bond-6 atom-6 atom-7\" d=\"M 122.0,131.0 L 125.6,120.5\" style=\"fill:none;fill-rule:evenodd;stroke:#000000;stroke-width:2.0px;stroke-linecap:butt;stroke-linejoin:miter;stroke-opacity:1\"/>\n",
       "<path class=\"bond-6 atom-6 atom-7\" d=\"M 125.6,120.5 L 129.1,110.0\" style=\"fill:none;fill-rule:evenodd;stroke:#FF0000;stroke-width:2.0px;stroke-linecap:butt;stroke-linejoin:miter;stroke-opacity:1\"/>\n",
       "<path class=\"bond-6 atom-6 atom-7\" d=\"M 118.3,129.8 L 121.9,119.2\" style=\"fill:none;fill-rule:evenodd;stroke:#000000;stroke-width:2.0px;stroke-linecap:butt;stroke-linejoin:miter;stroke-opacity:1\"/>\n",
       "<path class=\"bond-6 atom-6 atom-7\" d=\"M 121.9,119.2 L 125.4,108.7\" style=\"fill:none;fill-rule:evenodd;stroke:#FF0000;stroke-width:2.0px;stroke-linecap:butt;stroke-linejoin:miter;stroke-opacity:1\"/>\n",
       "<path class=\"bond-7 atom-6 atom-8\" d=\"M 120.5,129.3 L 127.3,137.0\" style=\"fill:none;fill-rule:evenodd;stroke:#000000;stroke-width:2.0px;stroke-linecap:butt;stroke-linejoin:miter;stroke-opacity:1\"/>\n",
       "<path class=\"bond-7 atom-6 atom-8\" d=\"M 127.3,137.0 L 134.1,144.7\" style=\"fill:none;fill-rule:evenodd;stroke:#0000FF;stroke-width:2.0px;stroke-linecap:butt;stroke-linejoin:miter;stroke-opacity:1\"/>\n",
       "<path class=\"bond-8 atom-8 atom-9\" d=\"M 141.4,148.2 L 152.3,146.0\" style=\"fill:none;fill-rule:evenodd;stroke:#0000FF;stroke-width:2.0px;stroke-linecap:butt;stroke-linejoin:miter;stroke-opacity:1\"/>\n",
       "<path class=\"bond-8 atom-8 atom-9\" d=\"M 152.3,146.0 L 163.3,143.8\" style=\"fill:none;fill-rule:evenodd;stroke:#000000;stroke-width:2.0px;stroke-linecap:butt;stroke-linejoin:miter;stroke-opacity:1\"/>\n",
       "<path class=\"bond-9 atom-9 atom-10\" d=\"M 163.3,143.8 L 180.5,163.4\" style=\"fill:none;fill-rule:evenodd;stroke:#000000;stroke-width:2.0px;stroke-linecap:butt;stroke-linejoin:miter;stroke-opacity:1\"/>\n",
       "<path class=\"bond-10 atom-10 atom-11\" d=\"M 180.5,163.4 L 206.1,158.3\" style=\"fill:none;fill-rule:evenodd;stroke:#000000;stroke-width:2.0px;stroke-linecap:butt;stroke-linejoin:miter;stroke-opacity:1\"/>\n",
       "<path class=\"bond-11 atom-11 atom-12\" d=\"M 206.1,158.3 L 223.3,177.9\" style=\"fill:none;fill-rule:evenodd;stroke:#000000;stroke-width:2.0px;stroke-linecap:butt;stroke-linejoin:miter;stroke-opacity:1\"/>\n",
       "<path class=\"bond-11 atom-11 atom-12\" d=\"M 210.5,157.4 L 224.7,173.6\" style=\"fill:none;fill-rule:evenodd;stroke:#000000;stroke-width:2.0px;stroke-linecap:butt;stroke-linejoin:miter;stroke-opacity:1\"/>\n",
       "<path class=\"bond-12 atom-12 atom-13\" d=\"M 223.3,177.9 L 248.9,172.8\" style=\"fill:none;fill-rule:evenodd;stroke:#000000;stroke-width:2.0px;stroke-linecap:butt;stroke-linejoin:miter;stroke-opacity:1\"/>\n",
       "<path class=\"bond-13 atom-13 atom-14\" d=\"M 248.9,172.8 L 257.2,148.1\" style=\"fill:none;fill-rule:evenodd;stroke:#000000;stroke-width:2.0px;stroke-linecap:butt;stroke-linejoin:miter;stroke-opacity:1\"/>\n",
       "<path class=\"bond-13 atom-13 atom-14\" d=\"M 245.9,169.4 L 252.8,149.0\" style=\"fill:none;fill-rule:evenodd;stroke:#000000;stroke-width:2.0px;stroke-linecap:butt;stroke-linejoin:miter;stroke-opacity:1\"/>\n",
       "<path class=\"bond-14 atom-14 atom-15\" d=\"M 257.2,148.1 L 268.5,145.9\" style=\"fill:none;fill-rule:evenodd;stroke:#000000;stroke-width:2.0px;stroke-linecap:butt;stroke-linejoin:miter;stroke-opacity:1\"/>\n",
       "<path class=\"bond-14 atom-14 atom-15\" d=\"M 268.5,145.9 L 279.7,143.6\" style=\"fill:none;fill-rule:evenodd;stroke:#33CCCC;stroke-width:2.0px;stroke-linecap:butt;stroke-linejoin:miter;stroke-opacity:1\"/>\n",
       "<path class=\"bond-15 atom-14 atom-16\" d=\"M 257.2,148.1 L 240.0,128.5\" style=\"fill:none;fill-rule:evenodd;stroke:#000000;stroke-width:2.0px;stroke-linecap:butt;stroke-linejoin:miter;stroke-opacity:1\"/>\n",
       "<path class=\"bond-16 atom-16 atom-17\" d=\"M 240.0,128.5 L 214.4,133.6\" style=\"fill:none;fill-rule:evenodd;stroke:#000000;stroke-width:2.0px;stroke-linecap:butt;stroke-linejoin:miter;stroke-opacity:1\"/>\n",
       "<path class=\"bond-16 atom-16 atom-17\" d=\"M 238.6,132.8 L 217.4,137.0\" style=\"fill:none;fill-rule:evenodd;stroke:#000000;stroke-width:2.0px;stroke-linecap:butt;stroke-linejoin:miter;stroke-opacity:1\"/>\n",
       "<path class=\"bond-17 atom-5 atom-18\" d=\"M 94.9,134.4 L 75.8,116.7\" style=\"fill:none;fill-rule:evenodd;stroke:#000000;stroke-width:2.0px;stroke-linecap:butt;stroke-linejoin:miter;stroke-opacity:1\"/>\n",
       "<path class=\"bond-18 atom-18 atom-19\" d=\"M 75.8,116.7 L 53.0,129.5\" style=\"fill:none;fill-rule:evenodd;stroke:#000000;stroke-width:2.0px;stroke-linecap:butt;stroke-linejoin:miter;stroke-opacity:1\"/>\n",
       "<path class=\"bond-19 atom-19 atom-20\" d=\"M 55.1,128.3 L 44.8,123.5\" style=\"fill:none;fill-rule:evenodd;stroke:#000000;stroke-width:2.0px;stroke-linecap:butt;stroke-linejoin:miter;stroke-opacity:1\"/>\n",
       "<path class=\"bond-19 atom-19 atom-20\" d=\"M 44.8,123.5 L 34.4,118.8\" style=\"fill:none;fill-rule:evenodd;stroke:#FF0000;stroke-width:2.0px;stroke-linecap:butt;stroke-linejoin:miter;stroke-opacity:1\"/>\n",
       "<path class=\"bond-19 atom-19 atom-20\" d=\"M 53.5,131.9 L 43.1,127.1\" style=\"fill:none;fill-rule:evenodd;stroke:#000000;stroke-width:2.0px;stroke-linecap:butt;stroke-linejoin:miter;stroke-opacity:1\"/>\n",
       "<path class=\"bond-19 atom-19 atom-20\" d=\"M 43.1,127.1 L 32.8,122.3\" style=\"fill:none;fill-rule:evenodd;stroke:#FF0000;stroke-width:2.0px;stroke-linecap:butt;stroke-linejoin:miter;stroke-opacity:1\"/>\n",
       "<path class=\"bond-20 atom-19 atom-3\" d=\"M 53.0,129.5 L 55.1,140.0\" style=\"fill:none;fill-rule:evenodd;stroke:#000000;stroke-width:2.0px;stroke-linecap:butt;stroke-linejoin:miter;stroke-opacity:1\"/>\n",
       "<path class=\"bond-20 atom-19 atom-3\" d=\"M 55.1,140.0 L 57.2,150.5\" style=\"fill:none;fill-rule:evenodd;stroke:#0000FF;stroke-width:2.0px;stroke-linecap:butt;stroke-linejoin:miter;stroke-opacity:1\"/>\n",
       "<path class=\"bond-21 atom-17 atom-11\" d=\"M 214.4,133.6 L 206.1,158.3\" style=\"fill:none;fill-rule:evenodd;stroke:#000000;stroke-width:2.0px;stroke-linecap:butt;stroke-linejoin:miter;stroke-opacity:1\"/>\n",
       "<path d=\"M 83.5,158.0 L 84.0,158.1 L 84.6,156.9\" style=\"fill:none;stroke:#000000;stroke-width:2.0px;stroke-linecap:butt;stroke-linejoin:miter;stroke-opacity:1;\"/>\n",
       "<path d=\"M 119.2,129.6 L 120.5,129.3 L 120.9,129.7\" style=\"fill:none;stroke:#000000;stroke-width:2.0px;stroke-linecap:butt;stroke-linejoin:miter;stroke-opacity:1;\"/>\n",
       "<path d=\"M 162.7,143.9 L 163.3,143.8 L 164.2,144.8\" style=\"fill:none;stroke:#000000;stroke-width:2.0px;stroke-linecap:butt;stroke-linejoin:miter;stroke-opacity:1;\"/>\n",
       "<path d=\"M 179.6,162.4 L 180.5,163.4 L 181.8,163.2\" style=\"fill:none;stroke:#000000;stroke-width:2.0px;stroke-linecap:butt;stroke-linejoin:miter;stroke-opacity:1;\"/>\n",
       "<path d=\"M 222.4,176.9 L 223.3,177.9 L 224.6,177.7\" style=\"fill:none;stroke:#000000;stroke-width:2.0px;stroke-linecap:butt;stroke-linejoin:miter;stroke-opacity:1;\"/>\n",
       "<path d=\"M 247.6,173.1 L 248.9,172.8 L 249.3,171.6\" style=\"fill:none;stroke:#000000;stroke-width:2.0px;stroke-linecap:butt;stroke-linejoin:miter;stroke-opacity:1;\"/>\n",
       "<path d=\"M 240.9,129.5 L 240.0,128.5 L 238.7,128.8\" style=\"fill:none;stroke:#000000;stroke-width:2.0px;stroke-linecap:butt;stroke-linejoin:miter;stroke-opacity:1;\"/>\n",
       "<path d=\"M 215.7,133.4 L 214.4,133.6 L 214.0,134.8\" style=\"fill:none;stroke:#000000;stroke-width:2.0px;stroke-linecap:butt;stroke-linejoin:miter;stroke-opacity:1;\"/>\n",
       "<path d=\"M 76.7,117.6 L 75.8,116.7 L 74.6,117.4\" style=\"fill:none;stroke:#000000;stroke-width:2.0px;stroke-linecap:butt;stroke-linejoin:miter;stroke-opacity:1;\"/>\n",
       "<path d=\"M 54.2,128.8 L 53.0,129.5 L 53.1,130.0\" style=\"fill:none;stroke:#000000;stroke-width:2.0px;stroke-linecap:butt;stroke-linejoin:miter;stroke-opacity:1;\"/>\n",
       "<path class=\"atom-3\" d=\"M 56.5 151.4 L 58.9 155.3 Q 59.2 155.7, 59.5 156.4 Q 59.9 157.1, 60.0 157.1 L 60.0 151.4 L 60.9 151.4 L 60.9 158.7 L 59.9 158.7 L 57.3 154.5 Q 57.0 154.0, 56.7 153.4 Q 56.4 152.8, 56.3 152.6 L 56.3 158.7 L 55.3 158.7 L 55.3 151.4 L 56.5 151.4 \" fill=\"#0000FF\"/>\n",
       "<path class=\"atom-7\" d=\"M 125.5 104.6 Q 125.5 102.9, 126.4 101.9 Q 127.2 100.9, 128.9 100.9 Q 130.5 100.9, 131.4 101.9 Q 132.3 102.9, 132.3 104.6 Q 132.3 106.4, 131.4 107.5 Q 130.5 108.5, 128.9 108.5 Q 127.3 108.5, 126.4 107.5 Q 125.5 106.4, 125.5 104.6 M 128.9 107.6 Q 130.0 107.6, 130.6 106.9 Q 131.2 106.1, 131.2 104.6 Q 131.2 103.2, 130.6 102.5 Q 130.0 101.7, 128.9 101.7 Q 127.8 101.7, 127.1 102.4 Q 126.5 103.2, 126.5 104.6 Q 126.5 106.1, 127.1 106.9 Q 127.8 107.6, 128.9 107.6 \" fill=\"#FF0000\"/>\n",
       "<path class=\"atom-8\" d=\"M 136.1 145.2 L 138.5 149.1 Q 138.7 149.5, 139.1 150.2 Q 139.5 150.9, 139.5 151.0 L 139.5 145.2 L 140.5 145.2 L 140.5 152.6 L 139.5 152.6 L 136.9 148.3 Q 136.6 147.8, 136.3 147.3 Q 136.0 146.7, 135.9 146.5 L 135.9 152.6 L 134.9 152.6 L 134.9 145.2 L 136.1 145.2 \" fill=\"#0000FF\"/>\n",
       "<path class=\"atom-8\" d=\"M 134.8 153.3 L 135.8 153.3 L 135.8 156.5 L 139.6 156.5 L 139.6 153.3 L 140.6 153.3 L 140.6 160.7 L 139.6 160.7 L 139.6 157.3 L 135.8 157.3 L 135.8 160.7 L 134.8 160.7 L 134.8 153.3 \" fill=\"#0000FF\"/>\n",
       "<path class=\"atom-15\" d=\"M 280.6 139.3 L 285.0 139.3 L 285.0 140.2 L 281.6 140.2 L 281.6 142.4 L 284.6 142.4 L 284.6 143.3 L 281.6 143.3 L 281.6 146.7 L 280.6 146.7 L 280.6 139.3 \" fill=\"#33CCCC\"/>\n",
       "<path class=\"atom-20\" d=\"M 26.0 118.6 Q 26.0 116.8, 26.8 115.8 Q 27.7 114.8, 29.3 114.8 Q 31.0 114.8, 31.9 115.8 Q 32.7 116.8, 32.7 118.6 Q 32.7 120.4, 31.8 121.4 Q 31.0 122.4, 29.3 122.4 Q 27.7 122.4, 26.8 121.4 Q 26.0 120.4, 26.0 118.6 M 29.3 121.6 Q 30.5 121.6, 31.1 120.8 Q 31.7 120.1, 31.7 118.6 Q 31.7 117.1, 31.1 116.4 Q 30.5 115.7, 29.3 115.7 Q 28.2 115.7, 27.6 116.4 Q 27.0 117.1, 27.0 118.6 Q 27.0 120.1, 27.6 120.8 Q 28.2 121.6, 29.3 121.6 \" fill=\"#FF0000\"/>\n",
       "</svg>"
      ],
      "text/plain": [
       "<IPython.core.display.SVG object>"
      ]
     },
     "metadata": {},
     "output_type": "display_data"
    },
    {
     "data": {
      "image/svg+xml": [
       "<svg xmlns=\"http://www.w3.org/2000/svg\" xmlns:rdkit=\"http://www.rdkit.org/xml\" xmlns:xlink=\"http://www.w3.org/1999/xlink\" version=\"1.1\" baseProfile=\"full\" xml:space=\"preserve\" width=\"300px\" height=\"300px\" viewBox=\"0 0 300 300\">\n",
       "<!-- END OF HEADER -->\n",
       "<rect style=\"opacity:1.0;fill:#FFFFFF;stroke:none\" width=\"300.0\" height=\"300.0\" x=\"0.0\" y=\"0.0\"> </rect>\n",
       "<path class=\"bond-0 atom-0 atom-1\" d=\"M 268.8,187.0 L 262.5,158.5\" style=\"fill:none;fill-rule:evenodd;stroke:#000000;stroke-width:2.0px;stroke-linecap:butt;stroke-linejoin:miter;stroke-opacity:1\"/>\n",
       "<path class=\"bond-1 atom-1 atom-2\" d=\"M 262.5,158.5 L 270.2,149.9\" style=\"fill:none;fill-rule:evenodd;stroke:#000000;stroke-width:2.0px;stroke-linecap:butt;stroke-linejoin:miter;stroke-opacity:1\"/>\n",
       "<path class=\"bond-1 atom-1 atom-2\" d=\"M 270.2,149.9 L 277.8,141.3\" style=\"fill:none;fill-rule:evenodd;stroke:#0000FF;stroke-width:2.0px;stroke-linecap:butt;stroke-linejoin:miter;stroke-opacity:1\"/>\n",
       "<path class=\"bond-1 atom-1 atom-2\" d=\"M 261.4,153.2 L 267.9,145.8\" style=\"fill:none;fill-rule:evenodd;stroke:#000000;stroke-width:2.0px;stroke-linecap:butt;stroke-linejoin:miter;stroke-opacity:1\"/>\n",
       "<path class=\"bond-1 atom-1 atom-2\" d=\"M 267.9,145.8 L 274.5,138.4\" style=\"fill:none;fill-rule:evenodd;stroke:#0000FF;stroke-width:2.0px;stroke-linecap:butt;stroke-linejoin:miter;stroke-opacity:1\"/>\n",
       "<path class=\"bond-2 atom-2 atom-3\" d=\"M 278.9,131.6 L 274.5,124.2\" style=\"fill:none;fill-rule:evenodd;stroke:#0000FF;stroke-width:2.0px;stroke-linecap:butt;stroke-linejoin:miter;stroke-opacity:1\"/>\n",
       "<path class=\"bond-2 atom-2 atom-3\" d=\"M 274.5,124.2 L 270.2,116.8\" style=\"fill:none;fill-rule:evenodd;stroke:#FF0000;stroke-width:2.0px;stroke-linecap:butt;stroke-linejoin:miter;stroke-opacity:1\"/>\n",
       "<path class=\"bond-3 atom-3 atom-4\" d=\"M 262.3,112.6 L 250.5,115.2\" style=\"fill:none;fill-rule:evenodd;stroke:#FF0000;stroke-width:2.0px;stroke-linecap:butt;stroke-linejoin:miter;stroke-opacity:1\"/>\n",
       "<path class=\"bond-3 atom-3 atom-4\" d=\"M 250.5,115.2 L 238.6,117.9\" style=\"fill:none;fill-rule:evenodd;stroke:#000000;stroke-width:2.0px;stroke-linecap:butt;stroke-linejoin:miter;stroke-opacity:1\"/>\n",
       "<path class=\"bond-4 atom-4 atom-5\" d=\"M 238.6,117.9 L 216.8,98.5\" style=\"fill:none;fill-rule:evenodd;stroke:#000000;stroke-width:2.0px;stroke-linecap:butt;stroke-linejoin:miter;stroke-opacity:1\"/>\n",
       "<path class=\"bond-5 atom-4 atom-6\" d=\"M 238.6,117.9 L 235.8,146.9\" style=\"fill:none;fill-rule:evenodd;stroke:#000000;stroke-width:2.0px;stroke-linecap:butt;stroke-linejoin:miter;stroke-opacity:1\"/>\n",
       "<path class=\"bond-5 atom-4 atom-6\" d=\"M 242.7,121.4 L 240.5,144.1\" style=\"fill:none;fill-rule:evenodd;stroke:#000000;stroke-width:2.0px;stroke-linecap:butt;stroke-linejoin:miter;stroke-opacity:1\"/>\n",
       "<path class=\"bond-6 atom-6 atom-7\" d=\"M 235.8,146.9 L 210.7,161.7\" style=\"fill:none;fill-rule:evenodd;stroke:#000000;stroke-width:2.0px;stroke-linecap:butt;stroke-linejoin:miter;stroke-opacity:1\"/>\n",
       "<path class=\"bond-7 atom-7 atom-8\" d=\"M 210.7,161.7 L 210.8,173.7\" style=\"fill:none;fill-rule:evenodd;stroke:#000000;stroke-width:2.0px;stroke-linecap:butt;stroke-linejoin:miter;stroke-opacity:1\"/>\n",
       "<path class=\"bond-7 atom-7 atom-8\" d=\"M 210.8,173.7 L 210.9,185.7\" style=\"fill:none;fill-rule:evenodd;stroke:#FF0000;stroke-width:2.0px;stroke-linecap:butt;stroke-linejoin:miter;stroke-opacity:1\"/>\n",
       "<path class=\"bond-8 atom-7 atom-9\" d=\"M 210.7,161.7 L 185.3,147.3\" style=\"fill:none;fill-rule:evenodd;stroke:#000000;stroke-width:2.0px;stroke-linecap:butt;stroke-linejoin:miter;stroke-opacity:1\"/>\n",
       "<path class=\"bond-9 atom-9 atom-10\" d=\"M 185.3,147.3 L 160.2,162.0\" style=\"fill:none;fill-rule:evenodd;stroke:#000000;stroke-width:2.0px;stroke-linecap:butt;stroke-linejoin:miter;stroke-opacity:1\"/>\n",
       "<path class=\"bond-10 atom-10 atom-11\" d=\"M 160.2,162.0 L 157.4,191.1\" style=\"fill:none;fill-rule:evenodd;stroke:#000000;stroke-width:2.0px;stroke-linecap:butt;stroke-linejoin:miter;stroke-opacity:1\"/>\n",
       "<path class=\"bond-10 atom-10 atom-11\" d=\"M 155.5,164.8 L 153.3,187.5\" style=\"fill:none;fill-rule:evenodd;stroke:#000000;stroke-width:2.0px;stroke-linecap:butt;stroke-linejoin:miter;stroke-opacity:1\"/>\n",
       "<path class=\"bond-11 atom-11 atom-12\" d=\"M 157.4,191.1 L 145.2,193.8\" style=\"fill:none;fill-rule:evenodd;stroke:#000000;stroke-width:2.0px;stroke-linecap:butt;stroke-linejoin:miter;stroke-opacity:1\"/>\n",
       "<path class=\"bond-11 atom-11 atom-12\" d=\"M 145.2,193.8 L 133.0,196.4\" style=\"fill:none;fill-rule:evenodd;stroke:#0000FF;stroke-width:2.0px;stroke-linecap:butt;stroke-linejoin:miter;stroke-opacity:1\"/>\n",
       "<path class=\"bond-12 atom-12 atom-13\" d=\"M 125.9,192.3 L 120.0,182.2\" style=\"fill:none;fill-rule:evenodd;stroke:#0000FF;stroke-width:2.0px;stroke-linecap:butt;stroke-linejoin:miter;stroke-opacity:1\"/>\n",
       "<path class=\"bond-12 atom-12 atom-13\" d=\"M 120.0,182.2 L 114.1,172.2\" style=\"fill:none;fill-rule:evenodd;stroke:#000000;stroke-width:2.0px;stroke-linecap:butt;stroke-linejoin:miter;stroke-opacity:1\"/>\n",
       "<path class=\"bond-12 atom-12 atom-13\" d=\"M 129.7,190.0 L 124.6,181.4\" style=\"fill:none;fill-rule:evenodd;stroke:#0000FF;stroke-width:2.0px;stroke-linecap:butt;stroke-linejoin:miter;stroke-opacity:1\"/>\n",
       "<path class=\"bond-12 atom-12 atom-13\" d=\"M 124.6,181.4 L 119.5,172.7\" style=\"fill:none;fill-rule:evenodd;stroke:#000000;stroke-width:2.0px;stroke-linecap:butt;stroke-linejoin:miter;stroke-opacity:1\"/>\n",
       "<path class=\"bond-13 atom-13 atom-14\" d=\"M 114.1,172.2 L 101.7,171.0\" style=\"fill:none;fill-rule:evenodd;stroke:#000000;stroke-width:2.0px;stroke-linecap:butt;stroke-linejoin:miter;stroke-opacity:1\"/>\n",
       "<path class=\"bond-13 atom-13 atom-14\" d=\"M 101.7,171.0 L 89.2,169.8\" style=\"fill:none;fill-rule:evenodd;stroke:#0000FF;stroke-width:2.0px;stroke-linecap:butt;stroke-linejoin:miter;stroke-opacity:1\"/>\n",
       "<path class=\"bond-14 atom-14 atom-15\" d=\"M 82.8,164.3 L 77.9,153.6\" style=\"fill:none;fill-rule:evenodd;stroke:#0000FF;stroke-width:2.0px;stroke-linecap:butt;stroke-linejoin:miter;stroke-opacity:1\"/>\n",
       "<path class=\"bond-14 atom-14 atom-15\" d=\"M 77.9,153.6 L 73.0,142.9\" style=\"fill:none;fill-rule:evenodd;stroke:#000000;stroke-width:2.0px;stroke-linecap:butt;stroke-linejoin:miter;stroke-opacity:1\"/>\n",
       "<path class=\"bond-15 atom-15 atom-16\" d=\"M 74.1,145.2 L 81.0,135.4\" style=\"fill:none;fill-rule:evenodd;stroke:#000000;stroke-width:2.0px;stroke-linecap:butt;stroke-linejoin:miter;stroke-opacity:1\"/>\n",
       "<path class=\"bond-15 atom-15 atom-16\" d=\"M 81.0,135.4 L 88.0,125.7\" style=\"fill:none;fill-rule:evenodd;stroke:#FF0000;stroke-width:2.0px;stroke-linecap:butt;stroke-linejoin:miter;stroke-opacity:1\"/>\n",
       "<path class=\"bond-15 atom-15 atom-16\" d=\"M 70.5,142.6 L 77.5,132.9\" style=\"fill:none;fill-rule:evenodd;stroke:#000000;stroke-width:2.0px;stroke-linecap:butt;stroke-linejoin:miter;stroke-opacity:1\"/>\n",
       "<path class=\"bond-15 atom-15 atom-16\" d=\"M 77.5,132.9 L 84.4,123.1\" style=\"fill:none;fill-rule:evenodd;stroke:#FF0000;stroke-width:2.0px;stroke-linecap:butt;stroke-linejoin:miter;stroke-opacity:1\"/>\n",
       "<path class=\"bond-16 atom-15 atom-17\" d=\"M 73.0,142.9 L 44.0,140.0\" style=\"fill:none;fill-rule:evenodd;stroke:#000000;stroke-width:2.0px;stroke-linecap:butt;stroke-linejoin:miter;stroke-opacity:1\"/>\n",
       "<path class=\"bond-17 atom-17 atom-18\" d=\"M 44.0,140.0 L 46.8,111.0\" style=\"fill:none;fill-rule:evenodd;stroke:#000000;stroke-width:2.0px;stroke-linecap:butt;stroke-linejoin:miter;stroke-opacity:1\"/>\n",
       "<path class=\"bond-18 atom-17 atom-19\" d=\"M 44.0,140.0 L 41.2,169.0\" style=\"fill:none;fill-rule:evenodd;stroke:#000000;stroke-width:2.0px;stroke-linecap:butt;stroke-linejoin:miter;stroke-opacity:1\"/>\n",
       "<path class=\"bond-19 atom-17 atom-20\" d=\"M 44.0,140.0 L 15.0,137.2\" style=\"fill:none;fill-rule:evenodd;stroke:#000000;stroke-width:2.0px;stroke-linecap:butt;stroke-linejoin:miter;stroke-opacity:1\"/>\n",
       "<path class=\"bond-20 atom-13 atom-21\" d=\"M 114.1,172.2 L 122.0,163.3\" style=\"fill:none;fill-rule:evenodd;stroke:#000000;stroke-width:2.0px;stroke-linecap:butt;stroke-linejoin:miter;stroke-opacity:1\"/>\n",
       "<path class=\"bond-20 atom-13 atom-21\" d=\"M 122.0,163.3 L 129.8,154.5\" style=\"fill:none;fill-rule:evenodd;stroke:#CCCC00;stroke-width:2.0px;stroke-linecap:butt;stroke-linejoin:miter;stroke-opacity:1\"/>\n",
       "<path class=\"bond-21 atom-6 atom-1\" d=\"M 235.8,146.9 L 262.5,158.5\" style=\"fill:none;fill-rule:evenodd;stroke:#000000;stroke-width:2.0px;stroke-linecap:butt;stroke-linejoin:miter;stroke-opacity:1\"/>\n",
       "<path class=\"bond-22 atom-21 atom-10\" d=\"M 137.1,152.0 L 148.6,157.0\" style=\"fill:none;fill-rule:evenodd;stroke:#CCCC00;stroke-width:2.0px;stroke-linecap:butt;stroke-linejoin:miter;stroke-opacity:1\"/>\n",
       "<path class=\"bond-22 atom-21 atom-10\" d=\"M 148.6,157.0 L 160.2,162.0\" style=\"fill:none;fill-rule:evenodd;stroke:#000000;stroke-width:2.0px;stroke-linecap:butt;stroke-linejoin:miter;stroke-opacity:1\"/>\n",
       "<path d=\"M 186.6,148.0 L 185.3,147.3 L 184.1,148.0\" style=\"fill:none;stroke:#000000;stroke-width:2.0px;stroke-linecap:butt;stroke-linejoin:miter;stroke-opacity:1;\"/>\n",
       "<path d=\"M 157.5,189.6 L 157.4,191.1 L 156.7,191.2\" style=\"fill:none;stroke:#000000;stroke-width:2.0px;stroke-linecap:butt;stroke-linejoin:miter;stroke-opacity:1;\"/>\n",
       "<path d=\"M 73.3,143.4 L 73.0,142.9 L 71.6,142.7\" style=\"fill:none;stroke:#000000;stroke-width:2.0px;stroke-linecap:butt;stroke-linejoin:miter;stroke-opacity:1;\"/>\n",
       "<path class=\"atom-2\" d=\"M 280.0 132.6 L 282.7 137.0 Q 283.0 137.4, 283.4 138.2 Q 283.9 139.0, 283.9 139.0 L 283.9 132.6 L 285.0 132.6 L 285.0 140.8 L 283.9 140.8 L 281.0 136.1 Q 280.6 135.5, 280.3 134.9 Q 279.9 134.2, 279.8 134.0 L 279.8 140.8 L 278.7 140.8 L 278.7 132.6 L 280.0 132.6 \" fill=\"#0000FF\"/>\n",
       "<path class=\"atom-3\" d=\"M 263.3 111.6 Q 263.3 109.6, 264.3 108.5 Q 265.3 107.4, 267.1 107.4 Q 268.9 107.4, 269.9 108.5 Q 270.9 109.6, 270.9 111.6 Q 270.9 113.6, 269.9 114.7 Q 268.9 115.9, 267.1 115.9 Q 265.3 115.9, 264.3 114.7 Q 263.3 113.6, 263.3 111.6 M 267.1 114.9 Q 268.4 114.9, 269.0 114.1 Q 269.7 113.3, 269.7 111.6 Q 269.7 110.0, 269.0 109.2 Q 268.4 108.3, 267.1 108.3 Q 265.8 108.3, 265.1 109.2 Q 264.5 110.0, 264.5 111.6 Q 264.5 113.3, 265.1 114.1 Q 265.8 114.9, 267.1 114.9 \" fill=\"#FF0000\"/>\n",
       "<path class=\"atom-8\" d=\"M 207.1 190.8 Q 207.1 188.8, 208.1 187.7 Q 209.1 186.6, 210.9 186.6 Q 212.7 186.6, 213.7 187.7 Q 214.7 188.8, 214.7 190.8 Q 214.7 192.8, 213.7 194.0 Q 212.7 195.1, 210.9 195.1 Q 209.1 195.1, 208.1 194.0 Q 207.1 192.8, 207.1 190.8 M 210.9 194.2 Q 212.2 194.2, 212.8 193.3 Q 213.5 192.5, 213.5 190.8 Q 213.5 189.2, 212.8 188.4 Q 212.2 187.6, 210.9 187.6 Q 209.6 187.6, 209.0 188.4 Q 208.3 189.2, 208.3 190.8 Q 208.3 192.5, 209.0 193.3 Q 209.6 194.2, 210.9 194.2 \" fill=\"#FF0000\"/>\n",
       "<path class=\"atom-8\" d=\"M 216.0 186.7 L 217.1 186.7 L 217.1 190.2 L 221.3 190.2 L 221.3 186.7 L 222.4 186.7 L 222.4 195.0 L 221.3 195.0 L 221.3 191.2 L 217.1 191.2 L 217.1 195.0 L 216.0 195.0 L 216.0 186.7 \" fill=\"#FF0000\"/>\n",
       "<path class=\"atom-12\" d=\"M 127.1 193.2 L 129.8 197.6 Q 130.0 198.0, 130.5 198.8 Q 130.9 199.6, 130.9 199.6 L 130.9 193.2 L 132.0 193.2 L 132.0 201.5 L 130.9 201.5 L 128.0 196.7 Q 127.6 196.1, 127.3 195.5 Q 126.9 194.9, 126.8 194.7 L 126.8 201.5 L 125.8 201.5 L 125.8 193.2 L 127.1 193.2 \" fill=\"#0000FF\"/>\n",
       "<path class=\"atom-14\" d=\"M 73.9 165.3 L 75.0 165.3 L 75.0 168.8 L 79.2 168.8 L 79.2 165.3 L 80.3 165.3 L 80.3 173.5 L 79.2 173.5 L 79.2 169.7 L 75.0 169.7 L 75.0 173.5 L 73.9 173.5 L 73.9 165.3 \" fill=\"#0000FF\"/>\n",
       "<path class=\"atom-14\" d=\"M 83.3 165.3 L 86.0 169.6 Q 86.2 170.1, 86.7 170.9 Q 87.1 171.6, 87.1 171.7 L 87.1 165.3 L 88.2 165.3 L 88.2 173.5 L 87.1 173.5 L 84.2 168.7 Q 83.9 168.2, 83.5 167.5 Q 83.1 166.9, 83.0 166.7 L 83.0 173.5 L 82.0 173.5 L 82.0 165.3 L 83.3 165.3 \" fill=\"#0000FF\"/>\n",
       "<path class=\"atom-16\" d=\"M 86.2 119.2 Q 86.2 117.2, 87.2 116.1 Q 88.2 115.0, 90.0 115.0 Q 91.8 115.0, 92.8 116.1 Q 93.8 117.2, 93.8 119.2 Q 93.8 121.2, 92.8 122.3 Q 91.8 123.4, 90.0 123.4 Q 88.2 123.4, 87.2 122.3 Q 86.2 121.2, 86.2 119.2 M 90.0 122.5 Q 91.2 122.5, 91.9 121.7 Q 92.6 120.8, 92.6 119.2 Q 92.6 117.5, 91.9 116.7 Q 91.2 115.9, 90.0 115.9 Q 88.7 115.9, 88.0 116.7 Q 87.4 117.5, 87.4 119.2 Q 87.4 120.8, 88.0 121.7 Q 88.7 122.5, 90.0 122.5 \" fill=\"#FF0000\"/>\n",
       "<path class=\"atom-21\" d=\"M 131.1 153.2 Q 131.2 153.3, 131.6 153.4 Q 132.0 153.6, 132.4 153.7 Q 132.8 153.8, 133.3 153.8 Q 134.0 153.8, 134.5 153.4 Q 134.9 153.0, 134.9 152.4 Q 134.9 151.9, 134.7 151.6 Q 134.5 151.4, 134.1 151.2 Q 133.8 151.1, 133.2 150.9 Q 132.5 150.7, 132.0 150.4 Q 131.6 150.2, 131.3 149.8 Q 131.0 149.3, 131.0 148.6 Q 131.0 147.6, 131.7 146.9 Q 132.4 146.3, 133.8 146.3 Q 134.7 146.3, 135.8 146.7 L 135.6 147.6 Q 134.6 147.2, 133.8 147.2 Q 133.0 147.2, 132.6 147.6 Q 132.1 147.9, 132.1 148.5 Q 132.1 148.9, 132.4 149.2 Q 132.6 149.4, 132.9 149.6 Q 133.3 149.7, 133.8 149.9 Q 134.6 150.2, 135.0 150.4 Q 135.5 150.6, 135.8 151.1 Q 136.1 151.6, 136.1 152.4 Q 136.1 153.5, 135.3 154.1 Q 134.6 154.7, 133.3 154.7 Q 132.6 154.7, 132.0 154.6 Q 131.5 154.4, 130.8 154.2 L 131.1 153.2 \" fill=\"#CCCC00\"/>\n",
       "</svg>"
      ],
      "text/plain": [
       "<IPython.core.display.SVG object>"
      ]
     },
     "metadata": {},
     "output_type": "display_data"
    },
    {
     "data": {
      "image/svg+xml": [
       "<svg xmlns=\"http://www.w3.org/2000/svg\" xmlns:rdkit=\"http://www.rdkit.org/xml\" xmlns:xlink=\"http://www.w3.org/1999/xlink\" version=\"1.1\" baseProfile=\"full\" xml:space=\"preserve\" width=\"300px\" height=\"300px\" viewBox=\"0 0 300 300\">\n",
       "<!-- END OF HEADER -->\n",
       "<rect style=\"opacity:1.0;fill:#FFFFFF;stroke:none\" width=\"300.0\" height=\"300.0\" x=\"0.0\" y=\"0.0\"> </rect>\n",
       "<path class=\"bond-0 atom-0 atom-1\" d=\"M 36.3,243.9 L 45.9,205.1\" style=\"fill:none;fill-rule:evenodd;stroke:#000000;stroke-width:2.0px;stroke-linecap:butt;stroke-linejoin:miter;stroke-opacity:1\"/>\n",
       "<path class=\"bond-1 atom-1 atom-2\" d=\"M 45.9,205.1 L 82.9,190.1\" style=\"fill:none;fill-rule:evenodd;stroke:#000000;stroke-width:2.0px;stroke-linecap:butt;stroke-linejoin:miter;stroke-opacity:1\"/>\n",
       "<path class=\"bond-2 atom-2 atom-3\" d=\"M 82.9,190.1 L 80.1,150.2\" style=\"fill:none;fill-rule:evenodd;stroke:#000000;stroke-width:2.0px;stroke-linecap:butt;stroke-linejoin:miter;stroke-opacity:1\"/>\n",
       "<path class=\"bond-3 atom-3 atom-4\" d=\"M 80.1,150.2 L 92.1,140.1\" style=\"fill:none;fill-rule:evenodd;stroke:#000000;stroke-width:2.0px;stroke-linecap:butt;stroke-linejoin:miter;stroke-opacity:1\"/>\n",
       "<path class=\"bond-3 atom-3 atom-4\" d=\"M 92.1,140.1 L 104.2,130.0\" style=\"fill:none;fill-rule:evenodd;stroke:#FF0000;stroke-width:2.0px;stroke-linecap:butt;stroke-linejoin:miter;stroke-opacity:1\"/>\n",
       "<path class=\"bond-4 atom-4 atom-5\" d=\"M 117.2,126.9 L 132.7,132.5\" style=\"fill:none;fill-rule:evenodd;stroke:#FF0000;stroke-width:2.0px;stroke-linecap:butt;stroke-linejoin:miter;stroke-opacity:1\"/>\n",
       "<path class=\"bond-4 atom-4 atom-5\" d=\"M 132.7,132.5 L 148.2,138.1\" style=\"fill:none;fill-rule:evenodd;stroke:#000000;stroke-width:2.0px;stroke-linecap:butt;stroke-linejoin:miter;stroke-opacity:1\"/>\n",
       "<path class=\"bond-5 atom-5 atom-6\" d=\"M 145.0,137.0 L 148.0,154.0\" style=\"fill:none;fill-rule:evenodd;stroke:#000000;stroke-width:2.0px;stroke-linecap:butt;stroke-linejoin:miter;stroke-opacity:1\"/>\n",
       "<path class=\"bond-5 atom-5 atom-6\" d=\"M 148.0,154.0 L 151.0,171.0\" style=\"fill:none;fill-rule:evenodd;stroke:#FF0000;stroke-width:2.0px;stroke-linecap:butt;stroke-linejoin:miter;stroke-opacity:1\"/>\n",
       "<path class=\"bond-5 atom-5 atom-6\" d=\"M 150.9,135.9 L 153.9,152.9\" style=\"fill:none;fill-rule:evenodd;stroke:#000000;stroke-width:2.0px;stroke-linecap:butt;stroke-linejoin:miter;stroke-opacity:1\"/>\n",
       "<path class=\"bond-5 atom-5 atom-6\" d=\"M 153.9,152.9 L 156.9,169.9\" style=\"fill:none;fill-rule:evenodd;stroke:#FF0000;stroke-width:2.0px;stroke-linecap:butt;stroke-linejoin:miter;stroke-opacity:1\"/>\n",
       "<path class=\"bond-6 atom-5 atom-7\" d=\"M 148.2,138.1 L 178.8,112.4\" style=\"fill:none;fill-rule:evenodd;stroke:#000000;stroke-width:2.0px;stroke-linecap:butt;stroke-linejoin:miter;stroke-opacity:1\"/>\n",
       "<path class=\"bond-7 atom-7 atom-8\" d=\"M 178.8,112.4 L 204.5,143.0\" style=\"fill:none;fill-rule:evenodd;stroke:#000000;stroke-width:2.0px;stroke-linecap:butt;stroke-linejoin:miter;stroke-opacity:1\"/>\n",
       "<path class=\"bond-8 atom-8 atom-9\" d=\"M 204.5,143.0 L 190.9,180.5\" style=\"fill:none;fill-rule:evenodd;stroke:#000000;stroke-width:2.0px;stroke-linecap:butt;stroke-linejoin:miter;stroke-opacity:1\"/>\n",
       "<path class=\"bond-8 atom-8 atom-9\" d=\"M 209.0,148.3 L 197.7,179.3\" style=\"fill:none;fill-rule:evenodd;stroke:#000000;stroke-width:2.0px;stroke-linecap:butt;stroke-linejoin:miter;stroke-opacity:1\"/>\n",
       "<path class=\"bond-9 atom-9 atom-10\" d=\"M 190.9,180.5 L 216.6,211.1\" style=\"fill:none;fill-rule:evenodd;stroke:#000000;stroke-width:2.0px;stroke-linecap:butt;stroke-linejoin:miter;stroke-opacity:1\"/>\n",
       "<path class=\"bond-10 atom-10 atom-11\" d=\"M 216.6,211.1 L 255.9,204.1\" style=\"fill:none;fill-rule:evenodd;stroke:#000000;stroke-width:2.0px;stroke-linecap:butt;stroke-linejoin:miter;stroke-opacity:1\"/>\n",
       "<path class=\"bond-10 atom-10 atom-11\" d=\"M 219.0,204.6 L 251.5,198.8\" style=\"fill:none;fill-rule:evenodd;stroke:#000000;stroke-width:2.0px;stroke-linecap:butt;stroke-linejoin:miter;stroke-opacity:1\"/>\n",
       "<path class=\"bond-11 atom-11 atom-12\" d=\"M 255.9,204.1 L 266.4,216.6\" style=\"fill:none;fill-rule:evenodd;stroke:#000000;stroke-width:2.0px;stroke-linecap:butt;stroke-linejoin:miter;stroke-opacity:1\"/>\n",
       "<path class=\"bond-11 atom-11 atom-12\" d=\"M 266.4,216.6 L 277.0,229.1\" style=\"fill:none;fill-rule:evenodd;stroke:#33CCCC;stroke-width:2.0px;stroke-linecap:butt;stroke-linejoin:miter;stroke-opacity:1\"/>\n",
       "<path class=\"bond-12 atom-11 atom-13\" d=\"M 255.9,204.1 L 269.5,166.6\" style=\"fill:none;fill-rule:evenodd;stroke:#000000;stroke-width:2.0px;stroke-linecap:butt;stroke-linejoin:miter;stroke-opacity:1\"/>\n",
       "<path class=\"bond-13 atom-13 atom-14\" d=\"M 269.5,166.6 L 243.8,136.0\" style=\"fill:none;fill-rule:evenodd;stroke:#000000;stroke-width:2.0px;stroke-linecap:butt;stroke-linejoin:miter;stroke-opacity:1\"/>\n",
       "<path class=\"bond-13 atom-13 atom-14\" d=\"M 262.7,167.8 L 241.5,142.5\" style=\"fill:none;fill-rule:evenodd;stroke:#000000;stroke-width:2.0px;stroke-linecap:butt;stroke-linejoin:miter;stroke-opacity:1\"/>\n",
       "<path class=\"bond-14 atom-7 atom-15\" d=\"M 178.8,112.4 L 209.4,86.7\" style=\"fill:none;fill-rule:evenodd;stroke:#000000;stroke-width:2.0px;stroke-linecap:butt;stroke-linejoin:miter;stroke-opacity:1\"/>\n",
       "<path class=\"bond-15 atom-15 atom-16\" d=\"M 209.4,86.7 L 183.6,56.1\" style=\"fill:none;fill-rule:evenodd;stroke:#000000;stroke-width:2.0px;stroke-linecap:butt;stroke-linejoin:miter;stroke-opacity:1\"/>\n",
       "<path class=\"bond-16 atom-16 atom-17\" d=\"M 183.6,56.1 L 153.1,81.9\" style=\"fill:none;fill-rule:evenodd;stroke:#000000;stroke-width:2.0px;stroke-linecap:butt;stroke-linejoin:miter;stroke-opacity:1\"/>\n",
       "<path class=\"bond-17 atom-3 atom-18\" d=\"M 80.1,150.2 L 41.3,140.6\" style=\"fill:none;fill-rule:evenodd;stroke:#000000;stroke-width:2.0px;stroke-linecap:butt;stroke-linejoin:miter;stroke-opacity:1\"/>\n",
       "<path class=\"bond-18 atom-18 atom-19\" d=\"M 44.9,141.5 L 38.5,125.6\" style=\"fill:none;fill-rule:evenodd;stroke:#000000;stroke-width:2.0px;stroke-linecap:butt;stroke-linejoin:miter;stroke-opacity:1\"/>\n",
       "<path class=\"bond-18 atom-18 atom-19\" d=\"M 38.5,125.6 L 32.0,109.7\" style=\"fill:none;fill-rule:evenodd;stroke:#FF0000;stroke-width:2.0px;stroke-linecap:butt;stroke-linejoin:miter;stroke-opacity:1\"/>\n",
       "<path class=\"bond-18 atom-18 atom-19\" d=\"M 39.4,143.8 L 32.9,127.8\" style=\"fill:none;fill-rule:evenodd;stroke:#000000;stroke-width:2.0px;stroke-linecap:butt;stroke-linejoin:miter;stroke-opacity:1\"/>\n",
       "<path class=\"bond-18 atom-18 atom-19\" d=\"M 32.9,127.8 L 26.5,111.9\" style=\"fill:none;fill-rule:evenodd;stroke:#FF0000;stroke-width:2.0px;stroke-linecap:butt;stroke-linejoin:miter;stroke-opacity:1\"/>\n",
       "<path class=\"bond-19 atom-18 atom-20\" d=\"M 41.3,140.6 L 33.0,154.0\" style=\"fill:none;fill-rule:evenodd;stroke:#000000;stroke-width:2.0px;stroke-linecap:butt;stroke-linejoin:miter;stroke-opacity:1\"/>\n",
       "<path class=\"bond-19 atom-18 atom-20\" d=\"M 33.0,154.0 L 24.6,167.5\" style=\"fill:none;fill-rule:evenodd;stroke:#FF0000;stroke-width:2.0px;stroke-linecap:butt;stroke-linejoin:miter;stroke-opacity:1\"/>\n",
       "<path class=\"bond-20 atom-20 atom-1\" d=\"M 26.3,181.7 L 36.1,193.4\" style=\"fill:none;fill-rule:evenodd;stroke:#FF0000;stroke-width:2.0px;stroke-linecap:butt;stroke-linejoin:miter;stroke-opacity:1\"/>\n",
       "<path class=\"bond-20 atom-20 atom-1\" d=\"M 36.1,193.4 L 45.9,205.1\" style=\"fill:none;fill-rule:evenodd;stroke:#000000;stroke-width:2.0px;stroke-linecap:butt;stroke-linejoin:miter;stroke-opacity:1\"/>\n",
       "<path class=\"bond-21 atom-17 atom-7\" d=\"M 153.1,81.9 L 178.8,112.4\" style=\"fill:none;fill-rule:evenodd;stroke:#000000;stroke-width:2.0px;stroke-linecap:butt;stroke-linejoin:miter;stroke-opacity:1\"/>\n",
       "<path class=\"bond-22 atom-14 atom-8\" d=\"M 243.8,136.0 L 204.5,143.0\" style=\"fill:none;fill-rule:evenodd;stroke:#000000;stroke-width:2.0px;stroke-linecap:butt;stroke-linejoin:miter;stroke-opacity:1\"/>\n",
       "<path d=\"M 81.1,190.8 L 82.9,190.1 L 82.8,188.1\" style=\"fill:none;stroke:#000000;stroke-width:2.0px;stroke-linecap:butt;stroke-linejoin:miter;stroke-opacity:1;\"/>\n",
       "<path d=\"M 147.4,137.9 L 148.2,138.1 L 149.7,136.9\" style=\"fill:none;stroke:#000000;stroke-width:2.0px;stroke-linecap:butt;stroke-linejoin:miter;stroke-opacity:1;\"/>\n",
       "<path d=\"M 191.6,178.7 L 190.9,180.5 L 192.2,182.1\" style=\"fill:none;stroke:#000000;stroke-width:2.0px;stroke-linecap:butt;stroke-linejoin:miter;stroke-opacity:1;\"/>\n",
       "<path d=\"M 215.3,209.6 L 216.6,211.1 L 218.6,210.8\" style=\"fill:none;stroke:#000000;stroke-width:2.0px;stroke-linecap:butt;stroke-linejoin:miter;stroke-opacity:1;\"/>\n",
       "<path d=\"M 268.9,168.5 L 269.5,166.6 L 268.3,165.1\" style=\"fill:none;stroke:#000000;stroke-width:2.0px;stroke-linecap:butt;stroke-linejoin:miter;stroke-opacity:1;\"/>\n",
       "<path d=\"M 245.1,137.5 L 243.8,136.0 L 241.9,136.4\" style=\"fill:none;stroke:#000000;stroke-width:2.0px;stroke-linecap:butt;stroke-linejoin:miter;stroke-opacity:1;\"/>\n",
       "<path d=\"M 207.8,88.0 L 209.4,86.7 L 208.1,85.2\" style=\"fill:none;stroke:#000000;stroke-width:2.0px;stroke-linecap:butt;stroke-linejoin:miter;stroke-opacity:1;\"/>\n",
       "<path d=\"M 184.9,57.7 L 183.6,56.1 L 182.1,57.4\" style=\"fill:none;stroke:#000000;stroke-width:2.0px;stroke-linecap:butt;stroke-linejoin:miter;stroke-opacity:1;\"/>\n",
       "<path d=\"M 154.6,80.6 L 153.1,81.9 L 154.4,83.4\" style=\"fill:none;stroke:#000000;stroke-width:2.0px;stroke-linecap:butt;stroke-linejoin:miter;stroke-opacity:1;\"/>\n",
       "<path d=\"M 43.3,141.1 L 41.3,140.6 L 40.9,141.3\" style=\"fill:none;stroke:#000000;stroke-width:2.0px;stroke-linecap:butt;stroke-linejoin:miter;stroke-opacity:1;\"/>\n",
       "<path class=\"atom-4\" d=\"M 105.5 124.6 Q 105.5 121.8, 106.8 120.3 Q 108.2 118.8, 110.7 118.8 Q 113.2 118.8, 114.5 120.3 Q 115.9 121.8, 115.9 124.6 Q 115.9 127.3, 114.5 128.9 Q 113.1 130.4, 110.7 130.4 Q 108.2 130.4, 106.8 128.9 Q 105.5 127.3, 105.5 124.6 M 110.7 129.1 Q 112.4 129.1, 113.3 128.0 Q 114.3 126.8, 114.3 124.6 Q 114.3 122.3, 113.3 121.2 Q 112.4 120.1, 110.7 120.1 Q 108.9 120.1, 108.0 121.2 Q 107.1 122.3, 107.1 124.6 Q 107.1 126.8, 108.0 128.0 Q 108.9 129.1, 110.7 129.1 \" fill=\"#FF0000\"/>\n",
       "<path class=\"atom-6\" d=\"M 150.0 177.5 Q 150.0 174.8, 151.3 173.3 Q 152.7 171.7, 155.2 171.7 Q 157.7 171.7, 159.0 173.3 Q 160.4 174.8, 160.4 177.5 Q 160.4 180.3, 159.0 181.8 Q 157.7 183.4, 155.2 183.4 Q 152.7 183.4, 151.3 181.8 Q 150.0 180.3, 150.0 177.5 M 155.2 182.1 Q 156.9 182.1, 157.9 180.9 Q 158.8 179.8, 158.8 177.5 Q 158.8 175.3, 157.9 174.2 Q 156.9 173.0, 155.2 173.0 Q 153.5 173.0, 152.5 174.1 Q 151.6 175.3, 151.6 177.5 Q 151.6 179.8, 152.5 180.9 Q 153.5 182.1, 155.2 182.1 \" fill=\"#FF0000\"/>\n",
       "<path class=\"atom-12\" d=\"M 278.3 229.1 L 285.0 229.1 L 285.0 230.3 L 279.8 230.3 L 279.8 233.8 L 284.4 233.8 L 284.4 235.1 L 279.8 235.1 L 279.8 240.4 L 278.3 240.4 L 278.3 229.1 \" fill=\"#33CCCC\"/>\n",
       "<path class=\"atom-19\" d=\"M 21.1 103.6 Q 21.1 100.9, 22.5 99.4 Q 23.8 97.9, 26.3 97.9 Q 28.8 97.9, 30.2 99.4 Q 31.5 100.9, 31.5 103.6 Q 31.5 106.4, 30.1 107.9 Q 28.8 109.5, 26.3 109.5 Q 23.8 109.5, 22.5 107.9 Q 21.1 106.4, 21.1 103.6 M 26.3 108.2 Q 28.0 108.2, 29.0 107.1 Q 29.9 105.9, 29.9 103.6 Q 29.9 101.4, 29.0 100.3 Q 28.0 99.2, 26.3 99.2 Q 24.6 99.2, 23.6 100.3 Q 22.7 101.4, 22.7 103.6 Q 22.7 105.9, 23.6 107.1 Q 24.6 108.2, 26.3 108.2 \" fill=\"#FF0000\"/>\n",
       "<path class=\"atom-20\" d=\"M 15.0 174.5 Q 15.0 171.8, 16.3 170.3 Q 17.7 168.8, 20.2 168.8 Q 22.7 168.8, 24.0 170.3 Q 25.4 171.8, 25.4 174.5 Q 25.4 177.3, 24.0 178.9 Q 22.7 180.4, 20.2 180.4 Q 17.7 180.4, 16.3 178.9 Q 15.0 177.3, 15.0 174.5 M 20.2 179.1 Q 21.9 179.1, 22.8 178.0 Q 23.8 176.8, 23.8 174.5 Q 23.8 172.3, 22.8 171.2 Q 21.9 170.1, 20.2 170.1 Q 18.5 170.1, 17.5 171.2 Q 16.6 172.3, 16.6 174.5 Q 16.6 176.8, 17.5 178.0 Q 18.5 179.1, 20.2 179.1 \" fill=\"#FF0000\"/>\n",
       "</svg>"
      ],
      "text/plain": [
       "<IPython.core.display.SVG object>"
      ]
     },
     "metadata": {},
     "output_type": "display_data"
    },
    {
     "data": {
      "image/svg+xml": [
       "<svg xmlns=\"http://www.w3.org/2000/svg\" xmlns:rdkit=\"http://www.rdkit.org/xml\" xmlns:xlink=\"http://www.w3.org/1999/xlink\" version=\"1.1\" baseProfile=\"full\" xml:space=\"preserve\" width=\"300px\" height=\"300px\" viewBox=\"0 0 300 300\">\n",
       "<!-- END OF HEADER -->\n",
       "<rect style=\"opacity:1.0;fill:#FFFFFF;stroke:none\" width=\"300.0\" height=\"300.0\" x=\"0.0\" y=\"0.0\"> </rect>\n",
       "<path class=\"bond-0 atom-0 atom-1\" d=\"M 15.0,201.6 L 41.7,181.2\" style=\"fill:none;fill-rule:evenodd;stroke:#000000;stroke-width:2.0px;stroke-linecap:butt;stroke-linejoin:miter;stroke-opacity:1\"/>\n",
       "<path class=\"bond-1 atom-1 atom-2\" d=\"M 44.4,182.3 L 42.5,168.0\" style=\"fill:none;fill-rule:evenodd;stroke:#000000;stroke-width:2.0px;stroke-linecap:butt;stroke-linejoin:miter;stroke-opacity:1\"/>\n",
       "<path class=\"bond-1 atom-1 atom-2\" d=\"M 42.5,168.0 L 40.7,153.6\" style=\"fill:none;fill-rule:evenodd;stroke:#FF0000;stroke-width:2.0px;stroke-linecap:butt;stroke-linejoin:miter;stroke-opacity:1\"/>\n",
       "<path class=\"bond-1 atom-1 atom-2\" d=\"M 39.4,182.9 L 37.5,168.6\" style=\"fill:none;fill-rule:evenodd;stroke:#000000;stroke-width:2.0px;stroke-linecap:butt;stroke-linejoin:miter;stroke-opacity:1\"/>\n",
       "<path class=\"bond-1 atom-1 atom-2\" d=\"M 37.5,168.6 L 35.7,154.3\" style=\"fill:none;fill-rule:evenodd;stroke:#FF0000;stroke-width:2.0px;stroke-linecap:butt;stroke-linejoin:miter;stroke-opacity:1\"/>\n",
       "<path class=\"bond-2 atom-1 atom-3\" d=\"M 41.7,181.2 L 54.8,186.7\" style=\"fill:none;fill-rule:evenodd;stroke:#000000;stroke-width:2.0px;stroke-linecap:butt;stroke-linejoin:miter;stroke-opacity:1\"/>\n",
       "<path class=\"bond-2 atom-1 atom-3\" d=\"M 54.8,186.7 L 68.0,192.1\" style=\"fill:none;fill-rule:evenodd;stroke:#0000FF;stroke-width:2.0px;stroke-linecap:butt;stroke-linejoin:miter;stroke-opacity:1\"/>\n",
       "<path class=\"bond-3 atom-3 atom-4\" d=\"M 77.4,190.5 L 88.4,182.1\" style=\"fill:none;fill-rule:evenodd;stroke:#0000FF;stroke-width:2.0px;stroke-linecap:butt;stroke-linejoin:miter;stroke-opacity:1\"/>\n",
       "<path class=\"bond-3 atom-3 atom-4\" d=\"M 88.4,182.1 L 99.4,173.7\" style=\"fill:none;fill-rule:evenodd;stroke:#000000;stroke-width:2.0px;stroke-linecap:butt;stroke-linejoin:miter;stroke-opacity:1\"/>\n",
       "<path class=\"bond-4 atom-4 atom-5\" d=\"M 99.4,173.7 L 131.6,183.3\" style=\"fill:none;fill-rule:evenodd;stroke:#000000;stroke-width:2.0px;stroke-linecap:butt;stroke-linejoin:miter;stroke-opacity:1\"/>\n",
       "<path class=\"bond-5 atom-5 atom-6\" d=\"M 131.6,183.3 L 139.1,172.4\" style=\"fill:none;fill-rule:evenodd;stroke:#000000;stroke-width:2.0px;stroke-linecap:butt;stroke-linejoin:miter;stroke-opacity:1\"/>\n",
       "<path class=\"bond-5 atom-5 atom-6\" d=\"M 139.1,172.4 L 146.6,161.5\" style=\"fill:none;fill-rule:evenodd;stroke:#0000FF;stroke-width:2.0px;stroke-linecap:butt;stroke-linejoin:miter;stroke-opacity:1\"/>\n",
       "<path class=\"bond-6 atom-6 atom-7\" d=\"M 155.4,155.5 L 167.7,155.2\" style=\"fill:none;fill-rule:evenodd;stroke:#0000FF;stroke-width:2.0px;stroke-linecap:butt;stroke-linejoin:miter;stroke-opacity:1\"/>\n",
       "<path class=\"bond-6 atom-6 atom-7\" d=\"M 167.7,155.2 L 180.1,154.9\" style=\"fill:none;fill-rule:evenodd;stroke:#CCCC00;stroke-width:2.0px;stroke-linecap:butt;stroke-linejoin:miter;stroke-opacity:1\"/>\n",
       "<path class=\"bond-7 atom-7 atom-8\" d=\"M 186.6,148.9 L 186.4,138.1\" style=\"fill:none;fill-rule:evenodd;stroke:#CCCC00;stroke-width:2.0px;stroke-linecap:butt;stroke-linejoin:miter;stroke-opacity:1\"/>\n",
       "<path class=\"bond-7 atom-7 atom-8\" d=\"M 186.4,138.1 L 186.1,127.3\" style=\"fill:none;fill-rule:evenodd;stroke:#FF0000;stroke-width:2.0px;stroke-linecap:butt;stroke-linejoin:miter;stroke-opacity:1\"/>\n",
       "<path class=\"bond-7 atom-7 atom-8\" d=\"M 181.6,149.0 L 181.3,138.2\" style=\"fill:none;fill-rule:evenodd;stroke:#CCCC00;stroke-width:2.0px;stroke-linecap:butt;stroke-linejoin:miter;stroke-opacity:1\"/>\n",
       "<path class=\"bond-7 atom-7 atom-8\" d=\"M 181.3,138.2 L 181.1,127.4\" style=\"fill:none;fill-rule:evenodd;stroke:#FF0000;stroke-width:2.0px;stroke-linecap:butt;stroke-linejoin:miter;stroke-opacity:1\"/>\n",
       "<path class=\"bond-8 atom-7 atom-9\" d=\"M 181.9,161.0 L 182.1,171.8\" style=\"fill:none;fill-rule:evenodd;stroke:#CCCC00;stroke-width:2.0px;stroke-linecap:butt;stroke-linejoin:miter;stroke-opacity:1\"/>\n",
       "<path class=\"bond-8 atom-7 atom-9\" d=\"M 182.1,171.8 L 182.4,182.6\" style=\"fill:none;fill-rule:evenodd;stroke:#FF0000;stroke-width:2.0px;stroke-linecap:butt;stroke-linejoin:miter;stroke-opacity:1\"/>\n",
       "<path class=\"bond-8 atom-7 atom-9\" d=\"M 186.9,160.9 L 187.2,171.7\" style=\"fill:none;fill-rule:evenodd;stroke:#CCCC00;stroke-width:2.0px;stroke-linecap:butt;stroke-linejoin:miter;stroke-opacity:1\"/>\n",
       "<path class=\"bond-8 atom-7 atom-9\" d=\"M 187.2,171.7 L 187.4,182.4\" style=\"fill:none;fill-rule:evenodd;stroke:#FF0000;stroke-width:2.0px;stroke-linecap:butt;stroke-linejoin:miter;stroke-opacity:1\"/>\n",
       "<path class=\"bond-9 atom-7 atom-10\" d=\"M 188.4,154.7 L 203.1,154.4\" style=\"fill:none;fill-rule:evenodd;stroke:#CCCC00;stroke-width:2.0px;stroke-linecap:butt;stroke-linejoin:miter;stroke-opacity:1\"/>\n",
       "<path class=\"bond-9 atom-7 atom-10\" d=\"M 203.1,154.4 L 217.8,154.0\" style=\"fill:none;fill-rule:evenodd;stroke:#000000;stroke-width:2.0px;stroke-linecap:butt;stroke-linejoin:miter;stroke-opacity:1\"/>\n",
       "<path class=\"bond-10 atom-10 atom-11\" d=\"M 217.8,154.0 L 235.3,182.7\" style=\"fill:none;fill-rule:evenodd;stroke:#000000;stroke-width:2.0px;stroke-linecap:butt;stroke-linejoin:miter;stroke-opacity:1\"/>\n",
       "<path class=\"bond-10 atom-10 atom-11\" d=\"M 223.6,153.9 L 238.1,177.6\" style=\"fill:none;fill-rule:evenodd;stroke:#000000;stroke-width:2.0px;stroke-linecap:butt;stroke-linejoin:miter;stroke-opacity:1\"/>\n",
       "<path class=\"bond-11 atom-11 atom-12\" d=\"M 235.3,182.7 L 268.9,181.9\" style=\"fill:none;fill-rule:evenodd;stroke:#000000;stroke-width:2.0px;stroke-linecap:butt;stroke-linejoin:miter;stroke-opacity:1\"/>\n",
       "<path class=\"bond-12 atom-12 atom-13\" d=\"M 268.9,181.9 L 285.0,152.4\" style=\"fill:none;fill-rule:evenodd;stroke:#000000;stroke-width:2.0px;stroke-linecap:butt;stroke-linejoin:miter;stroke-opacity:1\"/>\n",
       "<path class=\"bond-12 atom-12 atom-13\" d=\"M 265.9,176.9 L 279.2,152.5\" style=\"fill:none;fill-rule:evenodd;stroke:#000000;stroke-width:2.0px;stroke-linecap:butt;stroke-linejoin:miter;stroke-opacity:1\"/>\n",
       "<path class=\"bond-13 atom-13 atom-14\" d=\"M 285.0,152.4 L 267.5,123.7\" style=\"fill:none;fill-rule:evenodd;stroke:#000000;stroke-width:2.0px;stroke-linecap:butt;stroke-linejoin:miter;stroke-opacity:1\"/>\n",
       "<path class=\"bond-14 atom-14 atom-15\" d=\"M 267.5,123.7 L 233.9,124.5\" style=\"fill:none;fill-rule:evenodd;stroke:#000000;stroke-width:2.0px;stroke-linecap:butt;stroke-linejoin:miter;stroke-opacity:1\"/>\n",
       "<path class=\"bond-14 atom-14 atom-15\" d=\"M 264.7,128.8 L 236.9,129.5\" style=\"fill:none;fill-rule:evenodd;stroke:#000000;stroke-width:2.0px;stroke-linecap:butt;stroke-linejoin:miter;stroke-opacity:1\"/>\n",
       "<path class=\"bond-15 atom-6 atom-16\" d=\"M 146.2,149.8 L 138.2,139.4\" style=\"fill:none;fill-rule:evenodd;stroke:#0000FF;stroke-width:2.0px;stroke-linecap:butt;stroke-linejoin:miter;stroke-opacity:1\"/>\n",
       "<path class=\"bond-15 atom-6 atom-16\" d=\"M 138.2,139.4 L 130.3,129.0\" style=\"fill:none;fill-rule:evenodd;stroke:#000000;stroke-width:2.0px;stroke-linecap:butt;stroke-linejoin:miter;stroke-opacity:1\"/>\n",
       "<path class=\"bond-16 atom-16 atom-17\" d=\"M 130.3,129.0 L 98.6,140.1\" style=\"fill:none;fill-rule:evenodd;stroke:#000000;stroke-width:2.0px;stroke-linecap:butt;stroke-linejoin:miter;stroke-opacity:1\"/>\n",
       "<path class=\"bond-17 atom-17 atom-18\" d=\"M 98.6,140.1 L 70.9,121.0\" style=\"fill:none;fill-rule:evenodd;stroke:#000000;stroke-width:2.0px;stroke-linecap:butt;stroke-linejoin:miter;stroke-opacity:1\"/>\n",
       "<path class=\"bond-18 atom-18 atom-19\" d=\"M 70.9,121.0 L 37.4,118.3\" style=\"fill:none;fill-rule:evenodd;stroke:#000000;stroke-width:2.0px;stroke-linecap:butt;stroke-linejoin:miter;stroke-opacity:1\"/>\n",
       "<path class=\"bond-19 atom-19 atom-20\" d=\"M 37.4,118.3 L 56.5,90.7\" style=\"fill:none;fill-rule:evenodd;stroke:#000000;stroke-width:2.0px;stroke-linecap:butt;stroke-linejoin:miter;stroke-opacity:1\"/>\n",
       "<path class=\"bond-20 atom-17 atom-4\" d=\"M 98.6,140.1 L 99.4,173.7\" style=\"fill:none;fill-rule:evenodd;stroke:#000000;stroke-width:2.0px;stroke-linecap:butt;stroke-linejoin:miter;stroke-opacity:1\"/>\n",
       "<path class=\"bond-21 atom-20 atom-18\" d=\"M 56.5,90.7 L 70.9,121.0\" style=\"fill:none;fill-rule:evenodd;stroke:#000000;stroke-width:2.0px;stroke-linecap:butt;stroke-linejoin:miter;stroke-opacity:1\"/>\n",
       "<path class=\"bond-22 atom-15 atom-10\" d=\"M 233.9,124.5 L 217.8,154.0\" style=\"fill:none;fill-rule:evenodd;stroke:#000000;stroke-width:2.0px;stroke-linecap:butt;stroke-linejoin:miter;stroke-opacity:1\"/>\n",
       "<path d=\"M 40.4,182.2 L 41.7,181.2 L 42.3,181.5\" style=\"fill:none;stroke:#000000;stroke-width:2.0px;stroke-linecap:butt;stroke-linejoin:miter;stroke-opacity:1;\"/>\n",
       "<path d=\"M 130.0,182.8 L 131.6,183.3 L 132.0,182.8\" style=\"fill:none;stroke:#000000;stroke-width:2.0px;stroke-linecap:butt;stroke-linejoin:miter;stroke-opacity:1;\"/>\n",
       "<path d=\"M 234.5,181.3 L 235.3,182.7 L 237.0,182.7\" style=\"fill:none;stroke:#000000;stroke-width:2.0px;stroke-linecap:butt;stroke-linejoin:miter;stroke-opacity:1;\"/>\n",
       "<path d=\"M 267.2,181.9 L 268.9,181.9 L 269.7,180.4\" style=\"fill:none;stroke:#000000;stroke-width:2.0px;stroke-linecap:butt;stroke-linejoin:miter;stroke-opacity:1;\"/>\n",
       "<path d=\"M 284.2,153.9 L 285.0,152.4 L 284.1,151.0\" style=\"fill:none;stroke:#000000;stroke-width:2.0px;stroke-linecap:butt;stroke-linejoin:miter;stroke-opacity:1;\"/>\n",
       "<path d=\"M 268.4,125.1 L 267.5,123.7 L 265.8,123.8\" style=\"fill:none;stroke:#000000;stroke-width:2.0px;stroke-linecap:butt;stroke-linejoin:miter;stroke-opacity:1;\"/>\n",
       "<path d=\"M 235.6,124.5 L 233.9,124.5 L 233.1,126.0\" style=\"fill:none;stroke:#000000;stroke-width:2.0px;stroke-linecap:butt;stroke-linejoin:miter;stroke-opacity:1;\"/>\n",
       "<path d=\"M 130.7,129.5 L 130.3,129.0 L 128.7,129.5\" style=\"fill:none;stroke:#000000;stroke-width:2.0px;stroke-linecap:butt;stroke-linejoin:miter;stroke-opacity:1;\"/>\n",
       "<path d=\"M 39.1,118.5 L 37.4,118.3 L 38.4,116.9\" style=\"fill:none;stroke:#000000;stroke-width:2.0px;stroke-linecap:butt;stroke-linejoin:miter;stroke-opacity:1;\"/>\n",
       "<path d=\"M 55.6,92.1 L 56.5,90.7 L 57.2,92.2\" style=\"fill:none;stroke:#000000;stroke-width:2.0px;stroke-linecap:butt;stroke-linejoin:miter;stroke-opacity:1;\"/>\n",
       "<path class=\"atom-2\" d=\"M 33.0 147.9 Q 33.0 145.6, 34.1 144.3 Q 35.3 143.1, 37.4 143.1 Q 39.5 143.1, 40.6 144.3 Q 41.7 145.6, 41.7 147.9 Q 41.7 150.2, 40.6 151.5 Q 39.5 152.8, 37.4 152.8 Q 35.3 152.8, 34.1 151.5 Q 33.0 150.2, 33.0 147.9 M 37.4 151.7 Q 38.8 151.7, 39.6 150.8 Q 40.4 149.8, 40.4 147.9 Q 40.4 146.0, 39.6 145.1 Q 38.8 144.1, 37.4 144.1 Q 35.9 144.1, 35.1 145.1 Q 34.3 146.0, 34.3 147.9 Q 34.3 149.8, 35.1 150.8 Q 35.9 151.7, 37.4 151.7 \" fill=\"#FF0000\"/>\n",
       "<path class=\"atom-3\" d=\"M 70.6 189.3 L 73.7 194.4 Q 74.0 194.9, 74.5 195.8 Q 75.0 196.7, 75.0 196.7 L 75.0 189.3 L 76.3 189.3 L 76.3 198.9 L 75.0 198.9 L 71.7 193.3 Q 71.3 192.7, 70.9 192.0 Q 70.5 191.2, 70.3 191.0 L 70.3 198.9 L 69.1 198.9 L 69.1 189.3 L 70.6 189.3 \" fill=\"#0000FF\"/>\n",
       "<path class=\"atom-3\" d=\"M 69.0 199.8 L 70.3 199.8 L 70.3 203.8 L 75.1 203.8 L 75.1 199.8 L 76.4 199.8 L 76.4 209.3 L 75.1 209.3 L 75.1 204.9 L 70.3 204.9 L 70.3 209.3 L 69.0 209.3 L 69.0 199.8 \" fill=\"#0000FF\"/>\n",
       "<path class=\"atom-6\" d=\"M 148.6 150.9 L 151.7 155.9 Q 152.0 156.4, 152.5 157.3 Q 153.0 158.2, 153.0 158.3 L 153.0 150.9 L 154.3 150.9 L 154.3 160.4 L 153.0 160.4 L 149.6 154.9 Q 149.2 154.3, 148.8 153.5 Q 148.4 152.8, 148.3 152.5 L 148.3 160.4 L 147.1 160.4 L 147.1 150.9 L 148.6 150.9 \" fill=\"#0000FF\"/>\n",
       "<path class=\"atom-7\" d=\"M 181.6 158.1 Q 181.7 158.1, 182.1 158.3 Q 182.6 158.5, 183.0 158.6 Q 183.5 158.7, 184.0 158.7 Q 184.9 158.7, 185.4 158.3 Q 186.0 157.9, 186.0 157.1 Q 186.0 156.6, 185.7 156.3 Q 185.4 155.9, 185.0 155.8 Q 184.6 155.6, 184.0 155.4 Q 183.1 155.1, 182.6 154.9 Q 182.1 154.6, 181.7 154.1 Q 181.4 153.6, 181.4 152.8 Q 181.4 151.6, 182.2 150.8 Q 183.0 150.1, 184.6 150.1 Q 185.7 150.1, 187.0 150.6 L 186.7 151.7 Q 185.5 151.2, 184.7 151.2 Q 183.8 151.2, 183.2 151.6 Q 182.7 151.9, 182.7 152.6 Q 182.7 153.1, 183.0 153.4 Q 183.3 153.7, 183.6 153.9 Q 184.0 154.1, 184.7 154.3 Q 185.5 154.6, 186.0 154.8 Q 186.6 155.1, 186.9 155.6 Q 187.3 156.2, 187.3 157.1 Q 187.3 158.4, 186.4 159.1 Q 185.5 159.8, 184.1 159.8 Q 183.2 159.8, 182.6 159.6 Q 182.0 159.5, 181.2 159.2 L 181.6 158.1 \" fill=\"#CCCC00\"/>\n",
       "<path class=\"atom-8\" d=\"M 179.1 121.3 Q 179.1 119.0, 180.2 117.7 Q 181.3 116.4, 183.4 116.4 Q 185.5 116.4, 186.7 117.7 Q 187.8 119.0, 187.8 121.3 Q 187.8 123.6, 186.7 124.9 Q 185.5 126.2, 183.4 126.2 Q 181.3 126.2, 180.2 124.9 Q 179.1 123.6, 179.1 121.3 M 183.4 125.1 Q 184.9 125.1, 185.7 124.2 Q 186.5 123.2, 186.5 121.3 Q 186.5 119.4, 185.7 118.5 Q 184.9 117.5, 183.4 117.5 Q 182.0 117.5, 181.2 118.5 Q 180.4 119.4, 180.4 121.3 Q 180.4 123.2, 181.2 124.2 Q 182.0 125.1, 183.4 125.1 \" fill=\"#FF0000\"/>\n",
       "<path class=\"atom-9\" d=\"M 180.7 188.4 Q 180.7 186.2, 181.8 184.9 Q 183.0 183.6, 185.1 183.6 Q 187.2 183.6, 188.3 184.9 Q 189.4 186.2, 189.4 188.4 Q 189.4 190.8, 188.3 192.1 Q 187.1 193.4, 185.1 193.4 Q 183.0 193.4, 181.8 192.1 Q 180.7 190.8, 180.7 188.4 M 185.1 192.3 Q 186.5 192.3, 187.3 191.3 Q 188.1 190.4, 188.1 188.4 Q 188.1 186.6, 187.3 185.6 Q 186.5 184.7, 185.1 184.7 Q 183.6 184.7, 182.8 185.6 Q 182.0 186.6, 182.0 188.4 Q 182.0 190.4, 182.8 191.3 Q 183.6 192.3, 185.1 192.3 \" fill=\"#FF0000\"/>\n",
       "</svg>"
      ],
      "text/plain": [
       "<IPython.core.display.SVG object>"
      ]
     },
     "metadata": {},
     "output_type": "display_data"
    },
    {
     "data": {
      "image/svg+xml": [
       "<svg xmlns=\"http://www.w3.org/2000/svg\" xmlns:rdkit=\"http://www.rdkit.org/xml\" xmlns:xlink=\"http://www.w3.org/1999/xlink\" version=\"1.1\" baseProfile=\"full\" xml:space=\"preserve\" width=\"300px\" height=\"300px\" viewBox=\"0 0 300 300\">\n",
       "<!-- END OF HEADER -->\n",
       "<rect style=\"opacity:1.0;fill:#FFFFFF;stroke:none\" width=\"300.0\" height=\"300.0\" x=\"0.0\" y=\"0.0\"> </rect>\n",
       "<path class=\"bond-0 atom-0 atom-1\" d=\"M 15.0,123.6 L 21.5,132.1\" style=\"fill:none;fill-rule:evenodd;stroke:#000000;stroke-width:2.0px;stroke-linecap:butt;stroke-linejoin:miter;stroke-opacity:1\"/>\n",
       "<path class=\"bond-0 atom-0 atom-1\" d=\"M 21.5,132.1 L 28.0,140.7\" style=\"fill:none;fill-rule:evenodd;stroke:#FF0000;stroke-width:2.0px;stroke-linecap:butt;stroke-linejoin:miter;stroke-opacity:1\"/>\n",
       "<path class=\"bond-1 atom-1 atom-2\" d=\"M 36.1,145.0 L 47.6,143.5\" style=\"fill:none;fill-rule:evenodd;stroke:#FF0000;stroke-width:2.0px;stroke-linecap:butt;stroke-linejoin:miter;stroke-opacity:1\"/>\n",
       "<path class=\"bond-1 atom-1 atom-2\" d=\"M 47.6,143.5 L 59.0,142.1\" style=\"fill:none;fill-rule:evenodd;stroke:#000000;stroke-width:2.0px;stroke-linecap:butt;stroke-linejoin:miter;stroke-opacity:1\"/>\n",
       "<path class=\"bond-2 atom-2 atom-3\" d=\"M 59.0,142.1 L 69.7,116.7\" style=\"fill:none;fill-rule:evenodd;stroke:#000000;stroke-width:2.0px;stroke-linecap:butt;stroke-linejoin:miter;stroke-opacity:1\"/>\n",
       "<path class=\"bond-2 atom-2 atom-3\" d=\"M 63.7,141.5 L 72.5,120.5\" style=\"fill:none;fill-rule:evenodd;stroke:#000000;stroke-width:2.0px;stroke-linecap:butt;stroke-linejoin:miter;stroke-opacity:1\"/>\n",
       "<path class=\"bond-3 atom-3 atom-4\" d=\"M 69.7,116.7 L 97.0,113.2\" style=\"fill:none;fill-rule:evenodd;stroke:#000000;stroke-width:2.0px;stroke-linecap:butt;stroke-linejoin:miter;stroke-opacity:1\"/>\n",
       "<path class=\"bond-4 atom-4 atom-5\" d=\"M 97.0,113.2 L 113.6,135.2\" style=\"fill:none;fill-rule:evenodd;stroke:#000000;stroke-width:2.0px;stroke-linecap:butt;stroke-linejoin:miter;stroke-opacity:1\"/>\n",
       "<path class=\"bond-4 atom-4 atom-5\" d=\"M 95.1,117.6 L 108.9,135.8\" style=\"fill:none;fill-rule:evenodd;stroke:#000000;stroke-width:2.0px;stroke-linecap:butt;stroke-linejoin:miter;stroke-opacity:1\"/>\n",
       "<path class=\"bond-5 atom-5 atom-6\" d=\"M 113.6,135.2 L 125.4,133.7\" style=\"fill:none;fill-rule:evenodd;stroke:#000000;stroke-width:2.0px;stroke-linecap:butt;stroke-linejoin:miter;stroke-opacity:1\"/>\n",
       "<path class=\"bond-5 atom-5 atom-6\" d=\"M 125.4,133.7 L 137.1,132.2\" style=\"fill:none;fill-rule:evenodd;stroke:#0000FF;stroke-width:2.0px;stroke-linecap:butt;stroke-linejoin:miter;stroke-opacity:1\"/>\n",
       "<path class=\"bond-6 atom-6 atom-7\" d=\"M 144.6,136.6 L 151.1,145.1\" style=\"fill:none;fill-rule:evenodd;stroke:#0000FF;stroke-width:2.0px;stroke-linecap:butt;stroke-linejoin:miter;stroke-opacity:1\"/>\n",
       "<path class=\"bond-6 atom-6 atom-7\" d=\"M 151.1,145.1 L 157.6,153.7\" style=\"fill:none;fill-rule:evenodd;stroke:#000000;stroke-width:2.0px;stroke-linecap:butt;stroke-linejoin:miter;stroke-opacity:1\"/>\n",
       "<path class=\"bond-7 atom-7 atom-8\" d=\"M 156.2,151.8 L 151.6,162.6\" style=\"fill:none;fill-rule:evenodd;stroke:#000000;stroke-width:2.0px;stroke-linecap:butt;stroke-linejoin:miter;stroke-opacity:1\"/>\n",
       "<path class=\"bond-7 atom-7 atom-8\" d=\"M 151.6,162.6 L 147.1,173.4\" style=\"fill:none;fill-rule:evenodd;stroke:#FF0000;stroke-width:2.0px;stroke-linecap:butt;stroke-linejoin:miter;stroke-opacity:1\"/>\n",
       "<path class=\"bond-7 atom-7 atom-8\" d=\"M 160.0,153.4 L 155.4,164.2\" style=\"fill:none;fill-rule:evenodd;stroke:#000000;stroke-width:2.0px;stroke-linecap:butt;stroke-linejoin:miter;stroke-opacity:1\"/>\n",
       "<path class=\"bond-7 atom-7 atom-8\" d=\"M 155.4,164.2 L 150.9,175.0\" style=\"fill:none;fill-rule:evenodd;stroke:#FF0000;stroke-width:2.0px;stroke-linecap:butt;stroke-linejoin:miter;stroke-opacity:1\"/>\n",
       "<path class=\"bond-8 atom-7 atom-9\" d=\"M 157.6,153.7 L 185.0,150.3\" style=\"fill:none;fill-rule:evenodd;stroke:#000000;stroke-width:2.0px;stroke-linecap:butt;stroke-linejoin:miter;stroke-opacity:1\"/>\n",
       "<path class=\"bond-9 atom-9 atom-10\" d=\"M 185.0,150.3 L 201.6,172.2\" style=\"fill:none;fill-rule:evenodd;stroke:#000000;stroke-width:2.0px;stroke-linecap:butt;stroke-linejoin:miter;stroke-opacity:1\"/>\n",
       "<path class=\"bond-9 atom-9 atom-10\" d=\"M 189.7,149.7 L 203.5,167.8\" style=\"fill:none;fill-rule:evenodd;stroke:#000000;stroke-width:2.0px;stroke-linecap:butt;stroke-linejoin:miter;stroke-opacity:1\"/>\n",
       "<path class=\"bond-10 atom-10 atom-11\" d=\"M 201.6,172.2 L 228.9,168.8\" style=\"fill:none;fill-rule:evenodd;stroke:#000000;stroke-width:2.0px;stroke-linecap:butt;stroke-linejoin:miter;stroke-opacity:1\"/>\n",
       "<path class=\"bond-11 atom-11 atom-12\" d=\"M 228.9,168.8 L 239.6,143.4\" style=\"fill:none;fill-rule:evenodd;stroke:#000000;stroke-width:2.0px;stroke-linecap:butt;stroke-linejoin:miter;stroke-opacity:1\"/>\n",
       "<path class=\"bond-11 atom-11 atom-12\" d=\"M 226.1,165.0 L 234.9,144.0\" style=\"fill:none;fill-rule:evenodd;stroke:#000000;stroke-width:2.0px;stroke-linecap:butt;stroke-linejoin:miter;stroke-opacity:1\"/>\n",
       "<path class=\"bond-12 atom-12 atom-13\" d=\"M 239.6,143.4 L 251.6,141.9\" style=\"fill:none;fill-rule:evenodd;stroke:#000000;stroke-width:2.0px;stroke-linecap:butt;stroke-linejoin:miter;stroke-opacity:1\"/>\n",
       "<path class=\"bond-12 atom-12 atom-13\" d=\"M 251.6,141.9 L 263.5,140.3\" style=\"fill:none;fill-rule:evenodd;stroke:#CCCC00;stroke-width:2.0px;stroke-linecap:butt;stroke-linejoin:miter;stroke-opacity:1\"/>\n",
       "<path class=\"bond-13 atom-13 atom-14\" d=\"M 270.4,144.4 L 277.0,153.1\" style=\"fill:none;fill-rule:evenodd;stroke:#CCCC00;stroke-width:2.0px;stroke-linecap:butt;stroke-linejoin:miter;stroke-opacity:1\"/>\n",
       "<path class=\"bond-13 atom-13 atom-14\" d=\"M 277.0,153.1 L 283.6,161.9\" style=\"fill:none;fill-rule:evenodd;stroke:#000000;stroke-width:2.0px;stroke-linecap:butt;stroke-linejoin:miter;stroke-opacity:1\"/>\n",
       "<path class=\"bond-14 atom-13 atom-15\" d=\"M 269.0,135.1 L 272.3,127.3\" style=\"fill:none;fill-rule:evenodd;stroke:#CCCC00;stroke-width:2.0px;stroke-linecap:butt;stroke-linejoin:miter;stroke-opacity:1\"/>\n",
       "<path class=\"bond-14 atom-13 atom-15\" d=\"M 272.3,127.3 L 275.5,119.5\" style=\"fill:none;fill-rule:evenodd;stroke:#FF0000;stroke-width:2.0px;stroke-linecap:butt;stroke-linejoin:miter;stroke-opacity:1\"/>\n",
       "<path class=\"bond-15 atom-12 atom-16\" d=\"M 239.6,143.4 L 223.0,121.4\" style=\"fill:none;fill-rule:evenodd;stroke:#000000;stroke-width:2.0px;stroke-linecap:butt;stroke-linejoin:miter;stroke-opacity:1\"/>\n",
       "<path class=\"bond-16 atom-16 atom-17\" d=\"M 223.0,121.4 L 195.6,124.9\" style=\"fill:none;fill-rule:evenodd;stroke:#000000;stroke-width:2.0px;stroke-linecap:butt;stroke-linejoin:miter;stroke-opacity:1\"/>\n",
       "<path class=\"bond-16 atom-16 atom-17\" d=\"M 221.1,125.8 L 198.5,128.7\" style=\"fill:none;fill-rule:evenodd;stroke:#000000;stroke-width:2.0px;stroke-linecap:butt;stroke-linejoin:miter;stroke-opacity:1\"/>\n",
       "<path class=\"bond-17 atom-5 atom-18\" d=\"M 113.6,135.2 L 103.0,160.6\" style=\"fill:none;fill-rule:evenodd;stroke:#000000;stroke-width:2.0px;stroke-linecap:butt;stroke-linejoin:miter;stroke-opacity:1\"/>\n",
       "<path class=\"bond-18 atom-18 atom-19\" d=\"M 103.0,160.6 L 75.6,164.0\" style=\"fill:none;fill-rule:evenodd;stroke:#000000;stroke-width:2.0px;stroke-linecap:butt;stroke-linejoin:miter;stroke-opacity:1\"/>\n",
       "<path class=\"bond-18 atom-18 atom-19\" d=\"M 100.1,156.8 L 77.5,159.6\" style=\"fill:none;fill-rule:evenodd;stroke:#000000;stroke-width:2.0px;stroke-linecap:butt;stroke-linejoin:miter;stroke-opacity:1\"/>\n",
       "<path class=\"bond-19 atom-19 atom-20\" d=\"M 75.6,164.0 L 64.9,189.4\" style=\"fill:none;fill-rule:evenodd;stroke:#000000;stroke-width:2.0px;stroke-linecap:butt;stroke-linejoin:miter;stroke-opacity:1\"/>\n",
       "<path class=\"bond-20 atom-19 atom-2\" d=\"M 75.6,164.0 L 59.0,142.1\" style=\"fill:none;fill-rule:evenodd;stroke:#000000;stroke-width:2.0px;stroke-linecap:butt;stroke-linejoin:miter;stroke-opacity:1\"/>\n",
       "<path class=\"bond-21 atom-17 atom-9\" d=\"M 195.6,124.9 L 185.0,150.3\" style=\"fill:none;fill-rule:evenodd;stroke:#000000;stroke-width:2.0px;stroke-linecap:butt;stroke-linejoin:miter;stroke-opacity:1\"/>\n",
       "<path d=\"M 69.1,118.0 L 69.7,116.7 L 71.0,116.5\" style=\"fill:none;stroke:#000000;stroke-width:2.0px;stroke-linecap:butt;stroke-linejoin:miter;stroke-opacity:1;\"/>\n",
       "<path d=\"M 95.6,113.4 L 97.0,113.2 L 97.8,114.3\" style=\"fill:none;stroke:#000000;stroke-width:2.0px;stroke-linecap:butt;stroke-linejoin:miter;stroke-opacity:1;\"/>\n",
       "<path d=\"M 157.3,153.3 L 157.6,153.7 L 159.0,153.5\" style=\"fill:none;stroke:#000000;stroke-width:2.0px;stroke-linecap:butt;stroke-linejoin:miter;stroke-opacity:1;\"/>\n",
       "<path d=\"M 200.8,171.1 L 201.6,172.2 L 203.0,172.0\" style=\"fill:none;stroke:#000000;stroke-width:2.0px;stroke-linecap:butt;stroke-linejoin:miter;stroke-opacity:1;\"/>\n",
       "<path d=\"M 227.6,168.9 L 228.9,168.8 L 229.5,167.5\" style=\"fill:none;stroke:#000000;stroke-width:2.0px;stroke-linecap:butt;stroke-linejoin:miter;stroke-opacity:1;\"/>\n",
       "<path d=\"M 223.8,122.5 L 223.0,121.4 L 221.6,121.6\" style=\"fill:none;stroke:#000000;stroke-width:2.0px;stroke-linecap:butt;stroke-linejoin:miter;stroke-opacity:1;\"/>\n",
       "<path d=\"M 197.0,124.7 L 195.6,124.9 L 195.1,126.1\" style=\"fill:none;stroke:#000000;stroke-width:2.0px;stroke-linecap:butt;stroke-linejoin:miter;stroke-opacity:1;\"/>\n",
       "<path d=\"M 103.5,159.3 L 103.0,160.6 L 101.6,160.8\" style=\"fill:none;stroke:#000000;stroke-width:2.0px;stroke-linecap:butt;stroke-linejoin:miter;stroke-opacity:1;\"/>\n",
       "<path class=\"atom-1\" d=\"M 28.1 145.5 Q 28.1 143.7, 29.0 142.6 Q 29.9 141.6, 31.6 141.6 Q 33.4 141.6, 34.3 142.6 Q 35.2 143.7, 35.2 145.5 Q 35.2 147.4, 34.3 148.5 Q 33.4 149.6, 31.6 149.6 Q 29.9 149.6, 29.0 148.5 Q 28.1 147.5, 28.1 145.5 M 31.6 148.7 Q 32.8 148.7, 33.5 147.9 Q 34.1 147.1, 34.1 145.5 Q 34.1 144.0, 33.5 143.2 Q 32.8 142.5, 31.6 142.5 Q 30.5 142.5, 29.8 143.2 Q 29.2 144.0, 29.2 145.5 Q 29.2 147.1, 29.8 147.9 Q 30.5 148.7, 31.6 148.7 \" fill=\"#FF0000\"/>\n",
       "<path class=\"atom-6\" d=\"M 139.3 127.8 L 141.8 132.0 Q 142.1 132.4, 142.5 133.1 Q 142.9 133.9, 142.9 133.9 L 142.9 127.8 L 143.9 127.8 L 143.9 135.6 L 142.9 135.6 L 140.1 131.1 Q 139.8 130.6, 139.5 130.0 Q 139.1 129.4, 139.0 129.2 L 139.0 135.6 L 138.0 135.6 L 138.0 127.8 L 139.3 127.8 \" fill=\"#0000FF\"/>\n",
       "<path class=\"atom-6\" d=\"M 145.5 127.8 L 146.5 127.8 L 146.5 131.2 L 150.5 131.2 L 150.5 127.8 L 151.6 127.8 L 151.6 135.6 L 150.5 135.6 L 150.5 132.0 L 146.5 132.0 L 146.5 135.6 L 145.5 135.6 L 145.5 127.8 \" fill=\"#0000FF\"/>\n",
       "<path class=\"atom-8\" d=\"M 143.4 179.1 Q 143.4 177.2, 144.3 176.2 Q 145.2 175.1, 146.9 175.1 Q 148.7 175.1, 149.6 176.2 Q 150.5 177.2, 150.5 179.1 Q 150.5 181.0, 149.6 182.1 Q 148.7 183.2, 146.9 183.2 Q 145.2 183.2, 144.3 182.1 Q 143.4 181.0, 143.4 179.1 M 146.9 182.3 Q 148.1 182.3, 148.8 181.5 Q 149.4 180.7, 149.4 179.1 Q 149.4 177.6, 148.8 176.8 Q 148.1 176.0, 146.9 176.0 Q 145.8 176.0, 145.1 176.8 Q 144.5 177.6, 144.5 179.1 Q 144.5 180.7, 145.1 181.5 Q 145.8 182.3, 146.9 182.3 \" fill=\"#FF0000\"/>\n",
       "<path class=\"atom-13\" d=\"M 264.8 142.6 Q 264.8 142.6, 265.2 142.8 Q 265.6 142.9, 266.0 143.0 Q 266.4 143.1, 266.8 143.1 Q 267.5 143.1, 267.9 142.8 Q 268.4 142.4, 268.4 141.8 Q 268.4 141.3, 268.1 141.1 Q 267.9 140.8, 267.6 140.7 Q 267.3 140.5, 266.7 140.4 Q 266.0 140.2, 265.6 140.0 Q 265.2 139.8, 264.9 139.3 Q 264.6 138.9, 264.6 138.2 Q 264.6 137.2, 265.3 136.6 Q 266.0 136.0, 267.3 136.0 Q 268.2 136.0, 269.2 136.5 L 268.9 137.3 Q 268.0 136.9, 267.3 136.9 Q 266.5 136.9, 266.1 137.2 Q 265.7 137.5, 265.7 138.1 Q 265.7 138.5, 265.9 138.8 Q 266.2 139.0, 266.5 139.2 Q 266.8 139.3, 267.3 139.5 Q 268.0 139.7, 268.4 139.9 Q 268.9 140.1, 269.1 140.6 Q 269.5 141.0, 269.5 141.8 Q 269.5 142.9, 268.7 143.4 Q 268.0 144.0, 266.8 144.0 Q 266.1 144.0, 265.6 143.9 Q 265.1 143.7, 264.5 143.5 L 264.8 142.6 \" fill=\"#CCCC00\"/>\n",
       "<path class=\"atom-13\" d=\"M 270.5 137.3 L 271.9 137.3 L 271.9 135.9 L 272.5 135.9 L 272.5 137.3 L 273.9 137.3 L 273.9 137.8 L 272.5 137.8 L 272.5 139.3 L 271.9 139.3 L 271.9 137.8 L 270.5 137.8 L 270.5 137.3 \" fill=\"#CCCC00\"/>\n",
       "<path class=\"atom-15\" d=\"M 274.1 114.5 Q 274.1 112.7, 275.0 111.6 Q 275.9 110.6, 277.6 110.6 Q 279.4 110.6, 280.3 111.6 Q 281.2 112.7, 281.2 114.5 Q 281.2 116.4, 280.3 117.5 Q 279.3 118.6, 277.6 118.6 Q 275.9 118.6, 275.0 117.5 Q 274.1 116.5, 274.1 114.5 M 277.6 117.7 Q 278.8 117.7, 279.5 116.9 Q 280.1 116.1, 280.1 114.5 Q 280.1 113.0, 279.5 112.2 Q 278.8 111.5, 277.6 111.5 Q 276.4 111.5, 275.8 112.2 Q 275.2 113.0, 275.2 114.5 Q 275.2 116.1, 275.8 116.9 Q 276.4 117.7, 277.6 117.7 \" fill=\"#FF0000\"/>\n",
       "<path class=\"atom-15\" d=\"M 282.3 111.9 L 285.0 111.9 L 285.0 112.4 L 282.3 112.4 L 282.3 111.9 \" fill=\"#FF0000\"/>\n",
       "</svg>"
      ],
      "text/plain": [
       "<IPython.core.display.SVG object>"
      ]
     },
     "metadata": {},
     "output_type": "display_data"
    },
    {
     "data": {
      "image/svg+xml": [
       "<svg xmlns=\"http://www.w3.org/2000/svg\" xmlns:rdkit=\"http://www.rdkit.org/xml\" xmlns:xlink=\"http://www.w3.org/1999/xlink\" version=\"1.1\" baseProfile=\"full\" xml:space=\"preserve\" width=\"300px\" height=\"300px\" viewBox=\"0 0 300 300\">\n",
       "<!-- END OF HEADER -->\n",
       "<rect style=\"opacity:1.0;fill:#FFFFFF;stroke:none\" width=\"300.0\" height=\"300.0\" x=\"0.0\" y=\"0.0\"> </rect>\n",
       "<path class=\"bond-0 atom-0 atom-1\" d=\"M 126.1,202.1 L 127.0,190.5\" style=\"fill:none;fill-rule:evenodd;stroke:#FF0000;stroke-width:2.0px;stroke-linecap:butt;stroke-linejoin:miter;stroke-opacity:1\"/>\n",
       "<path class=\"bond-0 atom-0 atom-1\" d=\"M 127.0,190.5 L 127.9,178.9\" style=\"fill:none;fill-rule:evenodd;stroke:#000000;stroke-width:2.0px;stroke-linecap:butt;stroke-linejoin:miter;stroke-opacity:1\"/>\n",
       "<path class=\"bond-0 atom-0 atom-1\" d=\"M 130.2,202.4 L 131.0,190.8\" style=\"fill:none;fill-rule:evenodd;stroke:#FF0000;stroke-width:2.0px;stroke-linecap:butt;stroke-linejoin:miter;stroke-opacity:1\"/>\n",
       "<path class=\"bond-0 atom-0 atom-1\" d=\"M 131.0,190.8 L 131.9,179.2\" style=\"fill:none;fill-rule:evenodd;stroke:#000000;stroke-width:2.0px;stroke-linecap:butt;stroke-linejoin:miter;stroke-opacity:1\"/>\n",
       "<path class=\"bond-1 atom-1 atom-2\" d=\"M 129.8,180.2 L 107.6,165.1\" style=\"fill:none;fill-rule:evenodd;stroke:#000000;stroke-width:2.0px;stroke-linecap:butt;stroke-linejoin:miter;stroke-opacity:1\"/>\n",
       "<path class=\"bond-2 atom-2 atom-3\" d=\"M 107.6,165.1 L 97.7,169.9\" style=\"fill:none;fill-rule:evenodd;stroke:#000000;stroke-width:2.0px;stroke-linecap:butt;stroke-linejoin:miter;stroke-opacity:1\"/>\n",
       "<path class=\"bond-2 atom-2 atom-3\" d=\"M 97.7,169.9 L 87.8,174.7\" style=\"fill:none;fill-rule:evenodd;stroke:#FF0000;stroke-width:2.0px;stroke-linecap:butt;stroke-linejoin:miter;stroke-opacity:1\"/>\n",
       "<path class=\"bond-3 atom-3 atom-4\" d=\"M 79.1,173.8 L 70.2,167.8\" style=\"fill:none;fill-rule:evenodd;stroke:#FF0000;stroke-width:2.0px;stroke-linecap:butt;stroke-linejoin:miter;stroke-opacity:1\"/>\n",
       "<path class=\"bond-3 atom-3 atom-4\" d=\"M 70.2,167.8 L 61.3,161.7\" style=\"fill:none;fill-rule:evenodd;stroke:#000000;stroke-width:2.0px;stroke-linecap:butt;stroke-linejoin:miter;stroke-opacity:1\"/>\n",
       "<path class=\"bond-4 atom-4 atom-5\" d=\"M 61.3,161.7 L 63.3,135.0\" style=\"fill:none;fill-rule:evenodd;stroke:#000000;stroke-width:2.0px;stroke-linecap:butt;stroke-linejoin:miter;stroke-opacity:1\"/>\n",
       "<path class=\"bond-4 atom-4 atom-5\" d=\"M 57.5,159.1 L 59.1,137.0\" style=\"fill:none;fill-rule:evenodd;stroke:#000000;stroke-width:2.0px;stroke-linecap:butt;stroke-linejoin:miter;stroke-opacity:1\"/>\n",
       "<path class=\"bond-5 atom-5 atom-6\" d=\"M 63.3,135.0 L 41.1,119.9\" style=\"fill:none;fill-rule:evenodd;stroke:#000000;stroke-width:2.0px;stroke-linecap:butt;stroke-linejoin:miter;stroke-opacity:1\"/>\n",
       "<path class=\"bond-6 atom-6 atom-7\" d=\"M 41.1,119.9 L 41.9,109.1\" style=\"fill:none;fill-rule:evenodd;stroke:#000000;stroke-width:2.0px;stroke-linecap:butt;stroke-linejoin:miter;stroke-opacity:1\"/>\n",
       "<path class=\"bond-6 atom-6 atom-7\" d=\"M 41.9,109.1 L 42.7,98.2\" style=\"fill:none;fill-rule:evenodd;stroke:#00CC00;stroke-width:2.0px;stroke-linecap:butt;stroke-linejoin:miter;stroke-opacity:1\"/>\n",
       "<path class=\"bond-7 atom-6 atom-8\" d=\"M 41.1,119.9 L 17.0,131.6\" style=\"fill:none;fill-rule:evenodd;stroke:#000000;stroke-width:2.0px;stroke-linecap:butt;stroke-linejoin:miter;stroke-opacity:1\"/>\n",
       "<path class=\"bond-7 atom-6 atom-8\" d=\"M 40.8,124.5 L 20.8,134.2\" style=\"fill:none;fill-rule:evenodd;stroke:#000000;stroke-width:2.0px;stroke-linecap:butt;stroke-linejoin:miter;stroke-opacity:1\"/>\n",
       "<path class=\"bond-8 atom-8 atom-9\" d=\"M 17.0,131.6 L 15.0,158.3\" style=\"fill:none;fill-rule:evenodd;stroke:#000000;stroke-width:2.0px;stroke-linecap:butt;stroke-linejoin:miter;stroke-opacity:1\"/>\n",
       "<path class=\"bond-9 atom-9 atom-10\" d=\"M 15.0,158.3 L 37.2,173.4\" style=\"fill:none;fill-rule:evenodd;stroke:#000000;stroke-width:2.0px;stroke-linecap:butt;stroke-linejoin:miter;stroke-opacity:1\"/>\n",
       "<path class=\"bond-9 atom-9 atom-10\" d=\"M 19.2,156.3 L 37.5,168.7\" style=\"fill:none;fill-rule:evenodd;stroke:#000000;stroke-width:2.0px;stroke-linecap:butt;stroke-linejoin:miter;stroke-opacity:1\"/>\n",
       "<path class=\"bond-10 atom-10 atom-11\" d=\"M 37.2,173.4 L 36.4,184.4\" style=\"fill:none;fill-rule:evenodd;stroke:#000000;stroke-width:2.0px;stroke-linecap:butt;stroke-linejoin:miter;stroke-opacity:1\"/>\n",
       "<path class=\"bond-10 atom-10 atom-11\" d=\"M 36.4,184.4 L 35.5,195.4\" style=\"fill:none;fill-rule:evenodd;stroke:#33CCCC;stroke-width:2.0px;stroke-linecap:butt;stroke-linejoin:miter;stroke-opacity:1\"/>\n",
       "<path class=\"bond-11 atom-1 atom-12\" d=\"M 129.8,180.2 L 140.0,175.3\" style=\"fill:none;fill-rule:evenodd;stroke:#000000;stroke-width:2.0px;stroke-linecap:butt;stroke-linejoin:miter;stroke-opacity:1\"/>\n",
       "<path class=\"bond-11 atom-1 atom-12\" d=\"M 140.0,175.3 L 150.1,170.4\" style=\"fill:none;fill-rule:evenodd;stroke:#0000FF;stroke-width:2.0px;stroke-linecap:butt;stroke-linejoin:miter;stroke-opacity:1\"/>\n",
       "<path class=\"bond-12 atom-12 atom-13\" d=\"M 157.7,171.1 L 166.9,177.4\" style=\"fill:none;fill-rule:evenodd;stroke:#0000FF;stroke-width:2.0px;stroke-linecap:butt;stroke-linejoin:miter;stroke-opacity:1\"/>\n",
       "<path class=\"bond-12 atom-12 atom-13\" d=\"M 166.9,177.4 L 176.1,183.6\" style=\"fill:none;fill-rule:evenodd;stroke:#000000;stroke-width:2.0px;stroke-linecap:butt;stroke-linejoin:miter;stroke-opacity:1\"/>\n",
       "<path class=\"bond-13 atom-13 atom-14\" d=\"M 176.1,183.6 L 200.2,172.0\" style=\"fill:none;fill-rule:evenodd;stroke:#000000;stroke-width:2.0px;stroke-linecap:butt;stroke-linejoin:miter;stroke-opacity:1\"/>\n",
       "<path class=\"bond-14 atom-14 atom-15\" d=\"M 200.2,172.0 L 223.8,184.6\" style=\"fill:none;fill-rule:evenodd;stroke:#000000;stroke-width:2.0px;stroke-linecap:butt;stroke-linejoin:miter;stroke-opacity:1\"/>\n",
       "<path class=\"bond-14 atom-14 atom-15\" d=\"M 204.7,169.8 L 223.2,179.7\" style=\"fill:none;fill-rule:evenodd;stroke:#000000;stroke-width:2.0px;stroke-linecap:butt;stroke-linejoin:miter;stroke-opacity:1\"/>\n",
       "<path class=\"bond-15 atom-15 atom-16\" d=\"M 223.8,184.6 L 231.6,177.2\" style=\"fill:none;fill-rule:evenodd;stroke:#000000;stroke-width:2.0px;stroke-linecap:butt;stroke-linejoin:miter;stroke-opacity:1\"/>\n",
       "<path class=\"bond-15 atom-15 atom-16\" d=\"M 231.6,177.2 L 239.4,169.7\" style=\"fill:none;fill-rule:evenodd;stroke:#0000FF;stroke-width:2.0px;stroke-linecap:butt;stroke-linejoin:miter;stroke-opacity:1\"/>\n",
       "<path class=\"bond-16 atom-16 atom-17\" d=\"M 247.0,166.4 L 258.4,167.2\" style=\"fill:none;fill-rule:evenodd;stroke:#0000FF;stroke-width:2.0px;stroke-linecap:butt;stroke-linejoin:miter;stroke-opacity:1\"/>\n",
       "<path class=\"bond-16 atom-16 atom-17\" d=\"M 258.4,167.2 L 269.9,168.1\" style=\"fill:none;fill-rule:evenodd;stroke:#000000;stroke-width:2.0px;stroke-linecap:butt;stroke-linejoin:miter;stroke-opacity:1\"/>\n",
       "<path class=\"bond-17 atom-17 atom-18\" d=\"M 269.9,168.1 L 285.0,145.9\" style=\"fill:none;fill-rule:evenodd;stroke:#000000;stroke-width:2.0px;stroke-linecap:butt;stroke-linejoin:miter;stroke-opacity:1\"/>\n",
       "<path class=\"bond-17 atom-17 atom-18\" d=\"M 267.9,163.9 L 280.4,145.5\" style=\"fill:none;fill-rule:evenodd;stroke:#000000;stroke-width:2.0px;stroke-linecap:butt;stroke-linejoin:miter;stroke-opacity:1\"/>\n",
       "<path class=\"bond-18 atom-18 atom-19\" d=\"M 285.0,145.9 L 273.3,121.7\" style=\"fill:none;fill-rule:evenodd;stroke:#000000;stroke-width:2.0px;stroke-linecap:butt;stroke-linejoin:miter;stroke-opacity:1\"/>\n",
       "<path class=\"bond-19 atom-19 atom-20\" d=\"M 273.3,121.7 L 246.6,119.8\" style=\"fill:none;fill-rule:evenodd;stroke:#000000;stroke-width:2.0px;stroke-linecap:butt;stroke-linejoin:miter;stroke-opacity:1\"/>\n",
       "<path class=\"bond-19 atom-19 atom-20\" d=\"M 270.7,125.6 L 248.6,124.0\" style=\"fill:none;fill-rule:evenodd;stroke:#000000;stroke-width:2.0px;stroke-linecap:butt;stroke-linejoin:miter;stroke-opacity:1\"/>\n",
       "<path class=\"bond-20 atom-20 atom-21\" d=\"M 246.6,119.8 L 231.5,141.9\" style=\"fill:none;fill-rule:evenodd;stroke:#000000;stroke-width:2.0px;stroke-linecap:butt;stroke-linejoin:miter;stroke-opacity:1\"/>\n",
       "<path class=\"bond-21 atom-21 atom-22\" d=\"M 231.5,141.9 L 220.1,143.5\" style=\"fill:none;fill-rule:evenodd;stroke:#000000;stroke-width:2.0px;stroke-linecap:butt;stroke-linejoin:miter;stroke-opacity:1\"/>\n",
       "<path class=\"bond-21 atom-21 atom-22\" d=\"M 220.1,143.5 L 208.7,145.1\" style=\"fill:none;fill-rule:evenodd;stroke:#0000FF;stroke-width:2.0px;stroke-linecap:butt;stroke-linejoin:miter;stroke-opacity:1\"/>\n",
       "<path class=\"bond-21 atom-21 atom-22\" d=\"M 229.2,146.3 L 219.2,147.7\" style=\"fill:none;fill-rule:evenodd;stroke:#000000;stroke-width:2.0px;stroke-linecap:butt;stroke-linejoin:miter;stroke-opacity:1\"/>\n",
       "<path class=\"bond-21 atom-21 atom-22\" d=\"M 219.2,147.7 L 209.3,149.0\" style=\"fill:none;fill-rule:evenodd;stroke:#0000FF;stroke-width:2.0px;stroke-linecap:butt;stroke-linejoin:miter;stroke-opacity:1\"/>\n",
       "<path class=\"bond-22 atom-10 atom-4\" d=\"M 37.2,173.4 L 61.3,161.7\" style=\"fill:none;fill-rule:evenodd;stroke:#000000;stroke-width:2.0px;stroke-linecap:butt;stroke-linejoin:miter;stroke-opacity:1\"/>\n",
       "<path class=\"bond-23 atom-22 atom-14\" d=\"M 204.1,150.3 L 202.2,161.1\" style=\"fill:none;fill-rule:evenodd;stroke:#0000FF;stroke-width:2.0px;stroke-linecap:butt;stroke-linejoin:miter;stroke-opacity:1\"/>\n",
       "<path class=\"bond-23 atom-22 atom-14\" d=\"M 202.2,161.1 L 200.2,172.0\" style=\"fill:none;fill-rule:evenodd;stroke:#000000;stroke-width:2.0px;stroke-linecap:butt;stroke-linejoin:miter;stroke-opacity:1\"/>\n",
       "<path class=\"bond-24 atom-21 atom-16\" d=\"M 231.5,141.9 L 236.2,151.7\" style=\"fill:none;fill-rule:evenodd;stroke:#000000;stroke-width:2.0px;stroke-linecap:butt;stroke-linejoin:miter;stroke-opacity:1\"/>\n",
       "<path class=\"bond-24 atom-21 atom-16\" d=\"M 236.2,151.7 L 240.9,161.4\" style=\"fill:none;fill-rule:evenodd;stroke:#0000FF;stroke-width:2.0px;stroke-linecap:butt;stroke-linejoin:miter;stroke-opacity:1\"/>\n",
       "<path d=\"M 128.7,179.5 L 129.8,180.2 L 130.3,180.0\" style=\"fill:none;stroke:#000000;stroke-width:2.0px;stroke-linecap:butt;stroke-linejoin:miter;stroke-opacity:1;\"/>\n",
       "<path d=\"M 108.7,165.9 L 107.6,165.1 L 107.1,165.4\" style=\"fill:none;stroke:#000000;stroke-width:2.0px;stroke-linecap:butt;stroke-linejoin:miter;stroke-opacity:1;\"/>\n",
       "<path d=\"M 63.2,136.3 L 63.3,135.0 L 62.2,134.2\" style=\"fill:none;stroke:#000000;stroke-width:2.0px;stroke-linecap:butt;stroke-linejoin:miter;stroke-opacity:1;\"/>\n",
       "<path d=\"M 18.2,131.0 L 17.0,131.6 L 16.9,132.9\" style=\"fill:none;stroke:#000000;stroke-width:2.0px;stroke-linecap:butt;stroke-linejoin:miter;stroke-opacity:1;\"/>\n",
       "<path d=\"M 15.1,157.0 L 15.0,158.3 L 16.1,159.1\" style=\"fill:none;stroke:#000000;stroke-width:2.0px;stroke-linecap:butt;stroke-linejoin:miter;stroke-opacity:1;\"/>\n",
       "<path d=\"M 175.6,183.3 L 176.1,183.6 L 177.3,183.0\" style=\"fill:none;stroke:#000000;stroke-width:2.0px;stroke-linecap:butt;stroke-linejoin:miter;stroke-opacity:1;\"/>\n",
       "<path d=\"M 222.7,184.0 L 223.8,184.6 L 224.2,184.3\" style=\"fill:none;stroke:#000000;stroke-width:2.0px;stroke-linecap:butt;stroke-linejoin:miter;stroke-opacity:1;\"/>\n",
       "<path d=\"M 269.4,168.0 L 269.9,168.1 L 270.7,166.9\" style=\"fill:none;stroke:#000000;stroke-width:2.0px;stroke-linecap:butt;stroke-linejoin:miter;stroke-opacity:1;\"/>\n",
       "<path d=\"M 284.2,147.0 L 285.0,145.9 L 284.4,144.7\" style=\"fill:none;stroke:#000000;stroke-width:2.0px;stroke-linecap:butt;stroke-linejoin:miter;stroke-opacity:1;\"/>\n",
       "<path d=\"M 273.9,123.0 L 273.3,121.7 L 272.0,121.7\" style=\"fill:none;stroke:#000000;stroke-width:2.0px;stroke-linecap:butt;stroke-linejoin:miter;stroke-opacity:1;\"/>\n",
       "<path d=\"M 247.9,119.9 L 246.6,119.8 L 245.9,120.9\" style=\"fill:none;stroke:#000000;stroke-width:2.0px;stroke-linecap:butt;stroke-linejoin:miter;stroke-opacity:1;\"/>\n",
       "<path class=\"atom-0\" d=\"M 124.3 207.0 Q 124.3 205.1, 125.2 204.1 Q 126.1 203.1, 127.8 203.1 Q 129.5 203.1, 130.4 204.1 Q 131.3 205.1, 131.3 207.0 Q 131.3 208.8, 130.4 209.9 Q 129.5 210.9, 127.8 210.9 Q 126.1 210.9, 125.2 209.9 Q 124.3 208.8, 124.3 207.0 M 127.8 210.0 Q 129.0 210.0, 129.6 209.3 Q 130.2 208.5, 130.2 207.0 Q 130.2 205.5, 129.6 204.7 Q 129.0 204.0, 127.8 204.0 Q 126.6 204.0, 126.0 204.7 Q 125.4 205.5, 125.4 207.0 Q 125.4 208.5, 126.0 209.3 Q 126.6 210.0, 127.8 210.0 \" fill=\"#FF0000\"/>\n",
       "<path class=\"atom-3\" d=\"M 80.0 176.8 Q 80.0 175.0, 80.9 174.0 Q 81.8 173.0, 83.5 173.0 Q 85.2 173.0, 86.1 174.0 Q 87.0 175.0, 87.0 176.8 Q 87.0 178.7, 86.0 179.7 Q 85.1 180.7, 83.5 180.7 Q 81.8 180.7, 80.9 179.7 Q 80.0 178.7, 80.0 176.8 M 83.5 179.9 Q 84.6 179.9, 85.3 179.1 Q 85.9 178.3, 85.9 176.8 Q 85.9 175.3, 85.3 174.6 Q 84.6 173.8, 83.5 173.8 Q 82.3 173.8, 81.7 174.6 Q 81.1 175.3, 81.1 176.8 Q 81.1 178.3, 81.7 179.1 Q 82.3 179.9, 83.5 179.9 \" fill=\"#FF0000\"/>\n",
       "<path class=\"atom-7\" d=\"M 40.2 93.4 Q 40.2 91.6, 41.0 90.6 Q 41.9 89.6, 43.6 89.6 Q 45.2 89.6, 46.0 90.7 L 45.3 91.2 Q 44.7 90.4, 43.6 90.4 Q 42.5 90.4, 41.8 91.2 Q 41.2 92.0, 41.2 93.4 Q 41.2 94.9, 41.9 95.7 Q 42.5 96.5, 43.7 96.5 Q 44.6 96.5, 45.5 96.0 L 45.8 96.8 Q 45.4 97.0, 44.8 97.2 Q 44.2 97.3, 43.6 97.3 Q 41.9 97.3, 41.0 96.3 Q 40.2 95.3, 40.2 93.4 \" fill=\"#00CC00\"/>\n",
       "<path class=\"atom-7\" d=\"M 46.8 89.1 L 47.8 89.1 L 47.8 97.2 L 46.8 97.2 L 46.8 89.1 \" fill=\"#00CC00\"/>\n",
       "<path class=\"atom-11\" d=\"M 32.9 196.3 L 37.5 196.3 L 37.5 197.2 L 34.0 197.2 L 34.0 199.5 L 37.1 199.5 L 37.1 200.4 L 34.0 200.4 L 34.0 203.9 L 32.9 203.9 L 32.9 196.3 \" fill=\"#33CCCC\"/>\n",
       "<path class=\"atom-12\" d=\"M 152.2 164.7 L 154.7 168.8 Q 155.0 169.2, 155.4 169.9 Q 155.8 170.6, 155.8 170.6 L 155.8 164.7 L 156.8 164.7 L 156.8 172.3 L 155.8 172.3 L 153.1 167.9 Q 152.8 167.4, 152.4 166.8 Q 152.1 166.2, 152.0 166.1 L 152.0 172.3 L 151.0 172.3 L 151.0 164.7 L 152.2 164.7 \" fill=\"#0000FF\"/>\n",
       "<path class=\"atom-12\" d=\"M 150.9 156.4 L 152.0 156.4 L 152.0 159.6 L 155.9 159.6 L 155.9 156.4 L 156.9 156.4 L 156.9 164.0 L 155.9 164.0 L 155.9 160.5 L 152.0 160.5 L 152.0 164.0 L 150.9 164.0 L 150.9 156.4 \" fill=\"#0000FF\"/>\n",
       "<path class=\"atom-16\" d=\"M 241.5 162.3 L 244.0 166.3 Q 244.2 166.7, 244.6 167.4 Q 245.0 168.1, 245.1 168.2 L 245.1 162.3 L 246.1 162.3 L 246.1 169.9 L 245.0 169.9 L 242.4 165.5 Q 242.1 165.0, 241.7 164.4 Q 241.4 163.8, 241.3 163.6 L 241.3 169.9 L 240.3 169.9 L 240.3 162.3 L 241.5 162.3 \" fill=\"#0000FF\"/>\n",
       "<path class=\"atom-22\" d=\"M 203.3 141.8 L 205.8 145.8 Q 206.0 146.2, 206.4 146.9 Q 206.8 147.6, 206.8 147.7 L 206.8 141.8 L 207.9 141.8 L 207.9 149.4 L 206.8 149.4 L 204.1 145.0 Q 203.8 144.5, 203.5 143.9 Q 203.2 143.3, 203.1 143.1 L 203.1 149.4 L 202.1 149.4 L 202.1 141.8 L 203.3 141.8 \" fill=\"#0000FF\"/>\n",
       "</svg>"
      ],
      "text/plain": [
       "<IPython.core.display.SVG object>"
      ]
     },
     "metadata": {},
     "output_type": "display_data"
    },
    {
     "data": {
      "image/svg+xml": [
       "<svg xmlns=\"http://www.w3.org/2000/svg\" xmlns:rdkit=\"http://www.rdkit.org/xml\" xmlns:xlink=\"http://www.w3.org/1999/xlink\" version=\"1.1\" baseProfile=\"full\" xml:space=\"preserve\" width=\"300px\" height=\"300px\" viewBox=\"0 0 300 300\">\n",
       "<!-- END OF HEADER -->\n",
       "<rect style=\"opacity:1.0;fill:#FFFFFF;stroke:none\" width=\"300.0\" height=\"300.0\" x=\"0.0\" y=\"0.0\"> </rect>\n",
       "<path class=\"bond-0 atom-0 atom-1\" d=\"M 15.0,190.1 L 24.4,192.2\" style=\"fill:none;fill-rule:evenodd;stroke:#000000;stroke-width:2.0px;stroke-linecap:butt;stroke-linejoin:miter;stroke-opacity:1\"/>\n",
       "<path class=\"bond-0 atom-0 atom-1\" d=\"M 24.4,192.2 L 33.8,194.3\" style=\"fill:none;fill-rule:evenodd;stroke:#0000FF;stroke-width:2.0px;stroke-linecap:butt;stroke-linejoin:miter;stroke-opacity:1\"/>\n",
       "<path class=\"bond-1 atom-1 atom-2\" d=\"M 40.1,191.6 L 46.1,185.0\" style=\"fill:none;fill-rule:evenodd;stroke:#0000FF;stroke-width:2.0px;stroke-linecap:butt;stroke-linejoin:miter;stroke-opacity:1\"/>\n",
       "<path class=\"bond-1 atom-1 atom-2\" d=\"M 46.1,185.0 L 52.2,178.5\" style=\"fill:none;fill-rule:evenodd;stroke:#000000;stroke-width:2.0px;stroke-linecap:butt;stroke-linejoin:miter;stroke-opacity:1\"/>\n",
       "<path class=\"bond-2 atom-2 atom-3\" d=\"M 54.1,178.9 L 51.2,169.7\" style=\"fill:none;fill-rule:evenodd;stroke:#000000;stroke-width:2.0px;stroke-linecap:butt;stroke-linejoin:miter;stroke-opacity:1\"/>\n",
       "<path class=\"bond-2 atom-2 atom-3\" d=\"M 51.2,169.7 L 48.3,160.6\" style=\"fill:none;fill-rule:evenodd;stroke:#FF0000;stroke-width:2.0px;stroke-linecap:butt;stroke-linejoin:miter;stroke-opacity:1\"/>\n",
       "<path class=\"bond-2 atom-2 atom-3\" d=\"M 50.9,179.9 L 48.0,170.7\" style=\"fill:none;fill-rule:evenodd;stroke:#000000;stroke-width:2.0px;stroke-linecap:butt;stroke-linejoin:miter;stroke-opacity:1\"/>\n",
       "<path class=\"bond-2 atom-2 atom-3\" d=\"M 48.0,170.7 L 45.1,161.6\" style=\"fill:none;fill-rule:evenodd;stroke:#FF0000;stroke-width:2.0px;stroke-linecap:butt;stroke-linejoin:miter;stroke-opacity:1\"/>\n",
       "<path class=\"bond-3 atom-2 atom-4\" d=\"M 52.2,178.5 L 74.1,183.4\" style=\"fill:none;fill-rule:evenodd;stroke:#000000;stroke-width:2.0px;stroke-linecap:butt;stroke-linejoin:miter;stroke-opacity:1\"/>\n",
       "<path class=\"bond-4 atom-4 atom-5\" d=\"M 74.1,183.4 L 80.2,176.8\" style=\"fill:none;fill-rule:evenodd;stroke:#000000;stroke-width:2.0px;stroke-linecap:butt;stroke-linejoin:miter;stroke-opacity:1\"/>\n",
       "<path class=\"bond-4 atom-4 atom-5\" d=\"M 80.2,176.8 L 86.2,170.2\" style=\"fill:none;fill-rule:evenodd;stroke:#0000FF;stroke-width:2.0px;stroke-linecap:butt;stroke-linejoin:miter;stroke-opacity:1\"/>\n",
       "<path class=\"bond-5 atom-5 atom-6\" d=\"M 92.5,167.2 L 102.1,168.3\" style=\"fill:none;fill-rule:evenodd;stroke:#0000FF;stroke-width:2.0px;stroke-linecap:butt;stroke-linejoin:miter;stroke-opacity:1\"/>\n",
       "<path class=\"bond-5 atom-5 atom-6\" d=\"M 102.1,168.3 L 111.7,169.4\" style=\"fill:none;fill-rule:evenodd;stroke:#000000;stroke-width:2.0px;stroke-linecap:butt;stroke-linejoin:miter;stroke-opacity:1\"/>\n",
       "<path class=\"bond-6 atom-6 atom-7\" d=\"M 111.7,169.4 L 121.1,148.9\" style=\"fill:none;fill-rule:evenodd;stroke:#000000;stroke-width:2.0px;stroke-linecap:butt;stroke-linejoin:miter;stroke-opacity:1\"/>\n",
       "<path class=\"bond-6 atom-6 atom-7\" d=\"M 109.6,165.8 L 117.0,149.8\" style=\"fill:none;fill-rule:evenodd;stroke:#000000;stroke-width:2.0px;stroke-linecap:butt;stroke-linejoin:miter;stroke-opacity:1\"/>\n",
       "<path class=\"bond-7 atom-7 atom-8\" d=\"M 121.1,148.9 L 130.5,147.0\" style=\"fill:none;fill-rule:evenodd;stroke:#000000;stroke-width:2.0px;stroke-linecap:butt;stroke-linejoin:miter;stroke-opacity:1\"/>\n",
       "<path class=\"bond-7 atom-7 atom-8\" d=\"M 130.5,147.0 L 139.9,145.1\" style=\"fill:none;fill-rule:evenodd;stroke:#0000FF;stroke-width:2.0px;stroke-linecap:butt;stroke-linejoin:miter;stroke-opacity:1\"/>\n",
       "<path class=\"bond-8 atom-8 atom-9\" d=\"M 146.3,148.1 L 152.1,154.7\" style=\"fill:none;fill-rule:evenodd;stroke:#0000FF;stroke-width:2.0px;stroke-linecap:butt;stroke-linejoin:miter;stroke-opacity:1\"/>\n",
       "<path class=\"bond-8 atom-8 atom-9\" d=\"M 152.1,154.7 L 158.0,161.4\" style=\"fill:none;fill-rule:evenodd;stroke:#000000;stroke-width:2.0px;stroke-linecap:butt;stroke-linejoin:miter;stroke-opacity:1\"/>\n",
       "<path class=\"bond-9 atom-9 atom-10\" d=\"M 156.7,159.9 L 153.6,169.0\" style=\"fill:none;fill-rule:evenodd;stroke:#000000;stroke-width:2.0px;stroke-linecap:butt;stroke-linejoin:miter;stroke-opacity:1\"/>\n",
       "<path class=\"bond-9 atom-9 atom-10\" d=\"M 153.6,169.0 L 150.5,178.2\" style=\"fill:none;fill-rule:evenodd;stroke:#FF0000;stroke-width:2.0px;stroke-linecap:butt;stroke-linejoin:miter;stroke-opacity:1\"/>\n",
       "<path class=\"bond-9 atom-9 atom-10\" d=\"M 159.9,161.0 L 156.8,170.1\" style=\"fill:none;fill-rule:evenodd;stroke:#000000;stroke-width:2.0px;stroke-linecap:butt;stroke-linejoin:miter;stroke-opacity:1\"/>\n",
       "<path class=\"bond-9 atom-9 atom-10\" d=\"M 156.8,170.1 L 153.7,179.3\" style=\"fill:none;fill-rule:evenodd;stroke:#FF0000;stroke-width:2.0px;stroke-linecap:butt;stroke-linejoin:miter;stroke-opacity:1\"/>\n",
       "<path class=\"bond-10 atom-9 atom-11\" d=\"M 158.0,161.4 L 180.0,156.9\" style=\"fill:none;fill-rule:evenodd;stroke:#000000;stroke-width:2.0px;stroke-linecap:butt;stroke-linejoin:miter;stroke-opacity:1\"/>\n",
       "<path class=\"bond-11 atom-11 atom-12\" d=\"M 180.0,156.9 L 194.9,173.8\" style=\"fill:none;fill-rule:evenodd;stroke:#000000;stroke-width:2.0px;stroke-linecap:butt;stroke-linejoin:miter;stroke-opacity:1\"/>\n",
       "<path class=\"bond-12 atom-12 atom-13\" d=\"M 194.9,173.8 L 217.0,169.3\" style=\"fill:none;fill-rule:evenodd;stroke:#000000;stroke-width:2.0px;stroke-linecap:butt;stroke-linejoin:miter;stroke-opacity:1\"/>\n",
       "<path class=\"bond-13 atom-13 atom-14\" d=\"M 217.0,169.3 L 231.8,186.2\" style=\"fill:none;fill-rule:evenodd;stroke:#000000;stroke-width:2.0px;stroke-linecap:butt;stroke-linejoin:miter;stroke-opacity:1\"/>\n",
       "<path class=\"bond-13 atom-13 atom-14\" d=\"M 220.8,168.6 L 233.1,182.5\" style=\"fill:none;fill-rule:evenodd;stroke:#000000;stroke-width:2.0px;stroke-linecap:butt;stroke-linejoin:miter;stroke-opacity:1\"/>\n",
       "<path class=\"bond-14 atom-14 atom-15\" d=\"M 231.8,186.2 L 253.9,181.8\" style=\"fill:none;fill-rule:evenodd;stroke:#000000;stroke-width:2.0px;stroke-linecap:butt;stroke-linejoin:miter;stroke-opacity:1\"/>\n",
       "<path class=\"bond-15 atom-15 atom-16\" d=\"M 253.9,181.8 L 261.1,160.4\" style=\"fill:none;fill-rule:evenodd;stroke:#000000;stroke-width:2.0px;stroke-linecap:butt;stroke-linejoin:miter;stroke-opacity:1\"/>\n",
       "<path class=\"bond-15 atom-15 atom-16\" d=\"M 251.3,178.8 L 257.2,161.2\" style=\"fill:none;fill-rule:evenodd;stroke:#000000;stroke-width:2.0px;stroke-linecap:butt;stroke-linejoin:miter;stroke-opacity:1\"/>\n",
       "<path class=\"bond-16 atom-16 atom-17\" d=\"M 261.1,160.4 L 270.8,158.5\" style=\"fill:none;fill-rule:evenodd;stroke:#000000;stroke-width:2.0px;stroke-linecap:butt;stroke-linejoin:miter;stroke-opacity:1\"/>\n",
       "<path class=\"bond-16 atom-16 atom-17\" d=\"M 270.8,158.5 L 280.5,156.5\" style=\"fill:none;fill-rule:evenodd;stroke:#33CCCC;stroke-width:2.0px;stroke-linecap:butt;stroke-linejoin:miter;stroke-opacity:1\"/>\n",
       "<path class=\"bond-17 atom-16 atom-18\" d=\"M 261.1,160.4 L 246.2,143.6\" style=\"fill:none;fill-rule:evenodd;stroke:#000000;stroke-width:2.0px;stroke-linecap:butt;stroke-linejoin:miter;stroke-opacity:1\"/>\n",
       "<path class=\"bond-18 atom-18 atom-19\" d=\"M 246.2,143.6 L 224.1,148.0\" style=\"fill:none;fill-rule:evenodd;stroke:#000000;stroke-width:2.0px;stroke-linecap:butt;stroke-linejoin:miter;stroke-opacity:1\"/>\n",
       "<path class=\"bond-18 atom-18 atom-19\" d=\"M 244.9,147.3 L 226.7,150.9\" style=\"fill:none;fill-rule:evenodd;stroke:#000000;stroke-width:2.0px;stroke-linecap:butt;stroke-linejoin:miter;stroke-opacity:1\"/>\n",
       "<path class=\"bond-19 atom-7 atom-20\" d=\"M 121.1,148.9 L 104.5,133.7\" style=\"fill:none;fill-rule:evenodd;stroke:#000000;stroke-width:2.0px;stroke-linecap:butt;stroke-linejoin:miter;stroke-opacity:1\"/>\n",
       "<path class=\"bond-20 atom-20 atom-21\" d=\"M 104.5,133.7 L 107.1,111.4\" style=\"fill:none;fill-rule:evenodd;stroke:#000000;stroke-width:2.0px;stroke-linecap:butt;stroke-linejoin:miter;stroke-opacity:1\"/>\n",
       "<path class=\"bond-21 atom-21 atom-22\" d=\"M 107.1,111.4 L 99.6,105.8\" style=\"fill:none;fill-rule:evenodd;stroke:#000000;stroke-width:2.0px;stroke-linecap:butt;stroke-linejoin:miter;stroke-opacity:1\"/>\n",
       "<path class=\"bond-21 atom-21 atom-22\" d=\"M 99.6,105.8 L 92.2,100.3\" style=\"fill:none;fill-rule:evenodd;stroke:#0000FF;stroke-width:2.0px;stroke-linecap:butt;stroke-linejoin:miter;stroke-opacity:1\"/>\n",
       "<path class=\"bond-22 atom-21 atom-23\" d=\"M 106.9,113.3 L 115.8,109.4\" style=\"fill:none;fill-rule:evenodd;stroke:#000000;stroke-width:2.0px;stroke-linecap:butt;stroke-linejoin:miter;stroke-opacity:1\"/>\n",
       "<path class=\"bond-22 atom-21 atom-23\" d=\"M 115.8,109.4 L 124.7,105.6\" style=\"fill:none;fill-rule:evenodd;stroke:#FF0000;stroke-width:2.0px;stroke-linecap:butt;stroke-linejoin:miter;stroke-opacity:1\"/>\n",
       "<path class=\"bond-22 atom-21 atom-23\" d=\"M 105.5,110.2 L 114.4,106.3\" style=\"fill:none;fill-rule:evenodd;stroke:#000000;stroke-width:2.0px;stroke-linecap:butt;stroke-linejoin:miter;stroke-opacity:1\"/>\n",
       "<path class=\"bond-22 atom-21 atom-23\" d=\"M 114.4,106.3 L 123.4,102.5\" style=\"fill:none;fill-rule:evenodd;stroke:#FF0000;stroke-width:2.0px;stroke-linecap:butt;stroke-linejoin:miter;stroke-opacity:1\"/>\n",
       "<path class=\"bond-23 atom-20 atom-24\" d=\"M 104.5,133.7 L 96.3,138.4\" style=\"fill:none;fill-rule:evenodd;stroke:#000000;stroke-width:2.0px;stroke-linecap:butt;stroke-linejoin:miter;stroke-opacity:1\"/>\n",
       "<path class=\"bond-23 atom-20 atom-24\" d=\"M 96.3,138.4 L 88.1,143.0\" style=\"fill:none;fill-rule:evenodd;stroke:#0000FF;stroke-width:2.0px;stroke-linecap:butt;stroke-linejoin:miter;stroke-opacity:1\"/>\n",
       "<path class=\"bond-23 atom-20 atom-24\" d=\"M 104.0,137.9 L 96.9,141.9\" style=\"fill:none;fill-rule:evenodd;stroke:#000000;stroke-width:2.0px;stroke-linecap:butt;stroke-linejoin:miter;stroke-opacity:1\"/>\n",
       "<path class=\"bond-23 atom-20 atom-24\" d=\"M 96.9,141.9 L 89.7,145.9\" style=\"fill:none;fill-rule:evenodd;stroke:#0000FF;stroke-width:2.0px;stroke-linecap:butt;stroke-linejoin:miter;stroke-opacity:1\"/>\n",
       "<path class=\"bond-24 atom-24 atom-5\" d=\"M 85.7,148.7 L 88.6,162.9\" style=\"fill:none;fill-rule:evenodd;stroke:#0000FF;stroke-width:2.0px;stroke-linecap:butt;stroke-linejoin:miter;stroke-opacity:1\"/>\n",
       "<path class=\"bond-25 atom-19 atom-13\" d=\"M 224.1,148.0 L 217.0,169.3\" style=\"fill:none;fill-rule:evenodd;stroke:#000000;stroke-width:2.0px;stroke-linecap:butt;stroke-linejoin:miter;stroke-opacity:1\"/>\n",
       "<path d=\"M 51.9,178.8 L 52.2,178.5 L 53.3,178.7\" style=\"fill:none;stroke:#000000;stroke-width:2.0px;stroke-linecap:butt;stroke-linejoin:miter;stroke-opacity:1;\"/>\n",
       "<path d=\"M 73.0,183.1 L 74.1,183.4 L 74.4,183.0\" style=\"fill:none;stroke:#000000;stroke-width:2.0px;stroke-linecap:butt;stroke-linejoin:miter;stroke-opacity:1;\"/>\n",
       "<path d=\"M 111.2,169.3 L 111.7,169.4 L 112.2,168.4\" style=\"fill:none;stroke:#000000;stroke-width:2.0px;stroke-linecap:butt;stroke-linejoin:miter;stroke-opacity:1;\"/>\n",
       "<path d=\"M 157.7,161.0 L 158.0,161.4 L 159.1,161.1\" style=\"fill:none;stroke:#000000;stroke-width:2.0px;stroke-linecap:butt;stroke-linejoin:miter;stroke-opacity:1;\"/>\n",
       "<path d=\"M 178.9,157.1 L 180.0,156.9 L 180.8,157.8\" style=\"fill:none;stroke:#000000;stroke-width:2.0px;stroke-linecap:butt;stroke-linejoin:miter;stroke-opacity:1;\"/>\n",
       "<path d=\"M 194.2,172.9 L 194.9,173.8 L 196.0,173.6\" style=\"fill:none;stroke:#000000;stroke-width:2.0px;stroke-linecap:butt;stroke-linejoin:miter;stroke-opacity:1;\"/>\n",
       "<path d=\"M 231.1,185.4 L 231.8,186.2 L 232.9,186.0\" style=\"fill:none;stroke:#000000;stroke-width:2.0px;stroke-linecap:butt;stroke-linejoin:miter;stroke-opacity:1;\"/>\n",
       "<path d=\"M 252.8,182.0 L 253.9,181.8 L 254.2,180.7\" style=\"fill:none;stroke:#000000;stroke-width:2.0px;stroke-linecap:butt;stroke-linejoin:miter;stroke-opacity:1;\"/>\n",
       "<path d=\"M 246.9,144.4 L 246.2,143.6 L 245.1,143.8\" style=\"fill:none;stroke:#000000;stroke-width:2.0px;stroke-linecap:butt;stroke-linejoin:miter;stroke-opacity:1;\"/>\n",
       "<path d=\"M 225.2,147.8 L 224.1,148.0 L 223.8,149.1\" style=\"fill:none;stroke:#000000;stroke-width:2.0px;stroke-linecap:butt;stroke-linejoin:miter;stroke-opacity:1;\"/>\n",
       "<path d=\"M 106.9,112.5 L 107.1,111.4 L 106.7,111.1\" style=\"fill:none;stroke:#000000;stroke-width:2.0px;stroke-linecap:butt;stroke-linejoin:miter;stroke-opacity:1;\"/>\n",
       "<path class=\"atom-1\" d=\"M 35.5 191.8 L 37.6 195.2 Q 37.8 195.6, 38.2 196.2 Q 38.5 196.8, 38.5 196.8 L 38.5 191.8 L 39.4 191.8 L 39.4 198.2 L 38.5 198.2 L 36.3 194.5 Q 36.0 194.1, 35.7 193.6 Q 35.4 193.1, 35.4 192.9 L 35.4 198.2 L 34.5 198.2 L 34.5 191.8 L 35.5 191.8 \" fill=\"#0000FF\"/>\n",
       "<path class=\"atom-1\" d=\"M 34.5 198.9 L 35.3 198.9 L 35.3 201.6 L 38.6 201.6 L 38.6 198.9 L 39.4 198.9 L 39.4 205.2 L 38.6 205.2 L 38.6 202.3 L 35.3 202.3 L 35.3 205.2 L 34.5 205.2 L 34.5 198.9 \" fill=\"#0000FF\"/>\n",
       "<path class=\"atom-3\" d=\"M 42.5 157.0 Q 42.5 155.5, 43.3 154.6 Q 44.0 153.8, 45.4 153.8 Q 46.9 153.8, 47.6 154.6 Q 48.4 155.5, 48.4 157.0 Q 48.4 158.6, 47.6 159.5 Q 46.8 160.3, 45.4 160.3 Q 44.0 160.3, 43.3 159.5 Q 42.5 158.6, 42.5 157.0 M 45.4 159.6 Q 46.4 159.6, 46.9 159.0 Q 47.5 158.3, 47.5 157.0 Q 47.5 155.8, 46.9 155.1 Q 46.4 154.5, 45.4 154.5 Q 44.5 154.5, 43.9 155.1 Q 43.4 155.8, 43.4 157.0 Q 43.4 158.3, 43.9 159.0 Q 44.5 159.6, 45.4 159.6 \" fill=\"#FF0000\"/>\n",
       "<path class=\"atom-5\" d=\"M 87.9 163.6 L 90.0 167.0 Q 90.2 167.3, 90.6 167.9 Q 90.9 168.5, 90.9 168.6 L 90.9 163.6 L 91.8 163.6 L 91.8 170.0 L 90.9 170.0 L 88.7 166.3 Q 88.4 165.9, 88.1 165.4 Q 87.8 164.9, 87.8 164.7 L 87.8 170.0 L 86.9 170.0 L 86.9 163.6 L 87.9 163.6 \" fill=\"#0000FF\"/>\n",
       "<path class=\"atom-8\" d=\"M 141.7 141.3 L 143.8 144.7 Q 144.0 145.0, 144.3 145.6 Q 144.7 146.2, 144.7 146.3 L 144.7 141.3 L 145.5 141.3 L 145.5 147.7 L 144.6 147.7 L 142.4 144.0 Q 142.1 143.6, 141.9 143.1 Q 141.6 142.6, 141.5 142.4 L 141.5 147.7 L 140.7 147.7 L 140.7 141.3 L 141.7 141.3 \" fill=\"#0000FF\"/>\n",
       "<path class=\"atom-8\" d=\"M 140.6 134.3 L 141.5 134.3 L 141.5 137.0 L 144.7 137.0 L 144.7 134.3 L 145.6 134.3 L 145.6 140.7 L 144.7 140.7 L 144.7 137.7 L 141.5 137.7 L 141.5 140.7 L 140.6 140.7 L 140.6 134.3 \" fill=\"#0000FF\"/>\n",
       "<path class=\"atom-10\" d=\"M 147.9 182.7 Q 147.9 181.2, 148.6 180.3 Q 149.4 179.5, 150.8 179.5 Q 152.2 179.5, 153.0 180.3 Q 153.7 181.2, 153.7 182.7 Q 153.7 184.2, 153.0 185.1 Q 152.2 186.0, 150.8 186.0 Q 149.4 186.0, 148.6 185.1 Q 147.9 184.3, 147.9 182.7 M 150.8 185.3 Q 151.8 185.3, 152.3 184.6 Q 152.8 184.0, 152.8 182.7 Q 152.8 181.4, 152.3 180.8 Q 151.8 180.2, 150.8 180.2 Q 149.8 180.2, 149.3 180.8 Q 148.8 181.4, 148.8 182.7 Q 148.8 184.0, 149.3 184.6 Q 149.8 185.3, 150.8 185.3 \" fill=\"#FF0000\"/>\n",
       "<path class=\"atom-17\" d=\"M 281.2 152.8 L 285.0 152.8 L 285.0 153.5 L 282.1 153.5 L 282.1 155.5 L 284.7 155.5 L 284.7 156.2 L 282.1 156.2 L 282.1 159.2 L 281.2 159.2 L 281.2 152.8 \" fill=\"#33CCCC\"/>\n",
       "<path class=\"atom-22\" d=\"M 76.7 94.8 L 77.6 94.8 L 77.6 97.5 L 80.8 97.5 L 80.8 94.8 L 81.7 94.8 L 81.7 101.1 L 80.8 101.1 L 80.8 98.2 L 77.6 98.2 L 77.6 101.1 L 76.7 101.1 L 76.7 94.8 \" fill=\"#0000FF\"/>\n",
       "<path class=\"atom-22\" d=\"M 83.0 100.9 Q 83.1 100.5, 83.5 100.3 Q 83.8 100.1, 84.4 100.1 Q 85.0 100.1, 85.3 100.4 Q 85.7 100.8, 85.7 101.4 Q 85.7 102.0, 85.2 102.6 Q 84.8 103.2, 83.8 103.9 L 85.8 103.9 L 85.8 104.3 L 82.9 104.3 L 82.9 103.9 Q 83.7 103.4, 84.2 103.0 Q 84.7 102.5, 84.9 102.2 Q 85.1 101.8, 85.1 101.4 Q 85.1 101.0, 84.9 100.8 Q 84.7 100.6, 84.4 100.6 Q 84.0 100.6, 83.8 100.7 Q 83.6 100.8, 83.4 101.1 L 83.0 100.9 \" fill=\"#0000FF\"/>\n",
       "<path class=\"atom-22\" d=\"M 87.6 94.8 L 89.7 98.2 Q 89.9 98.5, 90.2 99.1 Q 90.6 99.7, 90.6 99.7 L 90.6 94.8 L 91.4 94.8 L 91.4 101.1 L 90.6 101.1 L 88.3 97.5 Q 88.1 97.0, 87.8 96.5 Q 87.5 96.0, 87.4 95.9 L 87.4 101.1 L 86.6 101.1 L 86.6 94.8 L 87.6 94.8 \" fill=\"#0000FF\"/>\n",
       "<path class=\"atom-23\" d=\"M 124.8 102.5 Q 124.8 100.9, 125.6 100.1 Q 126.3 99.2, 127.7 99.2 Q 129.1 99.2, 129.9 100.1 Q 130.6 100.9, 130.6 102.5 Q 130.6 104.0, 129.9 104.9 Q 129.1 105.8, 127.7 105.8 Q 126.3 105.8, 125.6 104.9 Q 124.8 104.0, 124.8 102.5 M 127.7 105.0 Q 128.7 105.0, 129.2 104.4 Q 129.7 103.7, 129.7 102.5 Q 129.7 101.2, 129.2 100.6 Q 128.7 99.9, 127.7 99.9 Q 126.7 99.9, 126.2 100.6 Q 125.7 101.2, 125.7 102.5 Q 125.7 103.7, 126.2 104.4 Q 126.7 105.0, 127.7 105.0 \" fill=\"#FF0000\"/>\n",
       "<path class=\"atom-24\" d=\"M 83.5 141.6 L 85.6 145.0 Q 85.8 145.3, 86.1 145.9 Q 86.5 146.5, 86.5 146.5 L 86.5 141.6 L 87.3 141.6 L 87.3 147.9 L 86.4 147.9 L 84.2 144.3 Q 83.9 143.8, 83.7 143.3 Q 83.4 142.8, 83.3 142.7 L 83.3 147.9 L 82.5 147.9 L 82.5 141.6 L 83.5 141.6 \" fill=\"#0000FF\"/>\n",
       "</svg>"
      ],
      "text/plain": [
       "<IPython.core.display.SVG object>"
      ]
     },
     "metadata": {},
     "output_type": "display_data"
    },
    {
     "data": {
      "image/svg+xml": [
       "<svg xmlns=\"http://www.w3.org/2000/svg\" xmlns:rdkit=\"http://www.rdkit.org/xml\" xmlns:xlink=\"http://www.w3.org/1999/xlink\" version=\"1.1\" baseProfile=\"full\" xml:space=\"preserve\" width=\"300px\" height=\"300px\" viewBox=\"0 0 300 300\">\n",
       "<!-- END OF HEADER -->\n",
       "<rect style=\"opacity:1.0;fill:#FFFFFF;stroke:none\" width=\"300.0\" height=\"300.0\" x=\"0.0\" y=\"0.0\"> </rect>\n",
       "<path class=\"bond-0 atom-0 atom-1\" d=\"M 15.0,114.6 L 42.8,121.9\" style=\"fill:none;fill-rule:evenodd;stroke:#000000;stroke-width:2.0px;stroke-linecap:butt;stroke-linejoin:miter;stroke-opacity:1\"/>\n",
       "<path class=\"bond-1 atom-1 atom-2\" d=\"M 42.8,121.9 L 53.2,148.8\" style=\"fill:none;fill-rule:evenodd;stroke:#000000;stroke-width:2.0px;stroke-linecap:butt;stroke-linejoin:miter;stroke-opacity:1\"/>\n",
       "<path class=\"bond-2 atom-2 atom-3\" d=\"M 53.2,148.8 L 82.0,147.2\" style=\"fill:none;fill-rule:evenodd;stroke:#000000;stroke-width:2.0px;stroke-linecap:butt;stroke-linejoin:miter;stroke-opacity:1\"/>\n",
       "<path class=\"bond-2 atom-2 atom-3\" d=\"M 56.1,144.3 L 78.6,143.1\" style=\"fill:none;fill-rule:evenodd;stroke:#000000;stroke-width:2.0px;stroke-linecap:butt;stroke-linejoin:miter;stroke-opacity:1\"/>\n",
       "<path class=\"bond-3 atom-3 atom-4\" d=\"M 82.0,147.2 L 100.1,169.5\" style=\"fill:none;fill-rule:evenodd;stroke:#000000;stroke-width:2.0px;stroke-linecap:butt;stroke-linejoin:miter;stroke-opacity:1\"/>\n",
       "<path class=\"bond-4 atom-4 atom-5\" d=\"M 98.6,167.6 L 94.2,179.1\" style=\"fill:none;fill-rule:evenodd;stroke:#000000;stroke-width:2.0px;stroke-linecap:butt;stroke-linejoin:miter;stroke-opacity:1\"/>\n",
       "<path class=\"bond-4 atom-4 atom-5\" d=\"M 94.2,179.1 L 89.8,190.6\" style=\"fill:none;fill-rule:evenodd;stroke:#FF0000;stroke-width:2.0px;stroke-linecap:butt;stroke-linejoin:miter;stroke-opacity:1\"/>\n",
       "<path class=\"bond-4 atom-4 atom-5\" d=\"M 102.6,169.1 L 98.2,180.6\" style=\"fill:none;fill-rule:evenodd;stroke:#000000;stroke-width:2.0px;stroke-linecap:butt;stroke-linejoin:miter;stroke-opacity:1\"/>\n",
       "<path class=\"bond-4 atom-4 atom-5\" d=\"M 98.2,180.6 L 93.8,192.1\" style=\"fill:none;fill-rule:evenodd;stroke:#FF0000;stroke-width:2.0px;stroke-linecap:butt;stroke-linejoin:miter;stroke-opacity:1\"/>\n",
       "<path class=\"bond-5 atom-4 atom-6\" d=\"M 100.1,169.5 L 112.3,167.5\" style=\"fill:none;fill-rule:evenodd;stroke:#000000;stroke-width:2.0px;stroke-linecap:butt;stroke-linejoin:miter;stroke-opacity:1\"/>\n",
       "<path class=\"bond-5 atom-4 atom-6\" d=\"M 112.3,167.5 L 124.5,165.6\" style=\"fill:none;fill-rule:evenodd;stroke:#0000FF;stroke-width:2.0px;stroke-linecap:butt;stroke-linejoin:miter;stroke-opacity:1\"/>\n",
       "<path class=\"bond-6 atom-6 atom-7\" d=\"M 132.6,170.0 L 139.7,178.6\" style=\"fill:none;fill-rule:evenodd;stroke:#0000FF;stroke-width:2.0px;stroke-linecap:butt;stroke-linejoin:miter;stroke-opacity:1\"/>\n",
       "<path class=\"bond-6 atom-6 atom-7\" d=\"M 139.7,178.6 L 146.7,187.2\" style=\"fill:none;fill-rule:evenodd;stroke:#000000;stroke-width:2.0px;stroke-linecap:butt;stroke-linejoin:miter;stroke-opacity:1\"/>\n",
       "<path class=\"bond-7 atom-7 atom-8\" d=\"M 146.7,187.2 L 175.1,182.7\" style=\"fill:none;fill-rule:evenodd;stroke:#000000;stroke-width:2.0px;stroke-linecap:butt;stroke-linejoin:miter;stroke-opacity:1\"/>\n",
       "<path class=\"bond-8 atom-8 atom-9\" d=\"M 175.1,182.7 L 180.4,172.3\" style=\"fill:none;fill-rule:evenodd;stroke:#000000;stroke-width:2.0px;stroke-linecap:butt;stroke-linejoin:miter;stroke-opacity:1\"/>\n",
       "<path class=\"bond-8 atom-8 atom-9\" d=\"M 180.4,172.3 L 185.6,162.0\" style=\"fill:none;fill-rule:evenodd;stroke:#0000FF;stroke-width:2.0px;stroke-linecap:butt;stroke-linejoin:miter;stroke-opacity:1\"/>\n",
       "<path class=\"bond-8 atom-8 atom-9\" d=\"M 180.4,181.8 L 184.9,172.9\" style=\"fill:none;fill-rule:evenodd;stroke:#000000;stroke-width:2.0px;stroke-linecap:butt;stroke-linejoin:miter;stroke-opacity:1\"/>\n",
       "<path class=\"bond-8 atom-8 atom-9\" d=\"M 184.9,172.9 L 189.5,164.0\" style=\"fill:none;fill-rule:evenodd;stroke:#0000FF;stroke-width:2.0px;stroke-linecap:butt;stroke-linejoin:miter;stroke-opacity:1\"/>\n",
       "<path class=\"bond-9 atom-9 atom-10\" d=\"M 192.2,157.6 L 204.4,159.5\" style=\"fill:none;fill-rule:evenodd;stroke:#0000FF;stroke-width:2.0px;stroke-linecap:butt;stroke-linejoin:miter;stroke-opacity:1\"/>\n",
       "<path class=\"bond-9 atom-9 atom-10\" d=\"M 204.4,159.5 L 216.6,161.4\" style=\"fill:none;fill-rule:evenodd;stroke:#000000;stroke-width:2.0px;stroke-linecap:butt;stroke-linejoin:miter;stroke-opacity:1\"/>\n",
       "<path class=\"bond-10 atom-10 atom-11\" d=\"M 216.6,161.4 L 236.9,141.0\" style=\"fill:none;fill-rule:evenodd;stroke:#000000;stroke-width:2.0px;stroke-linecap:butt;stroke-linejoin:miter;stroke-opacity:1\"/>\n",
       "<path class=\"bond-11 atom-11 atom-12\" d=\"M 236.9,141.0 L 264.7,148.4\" style=\"fill:none;fill-rule:evenodd;stroke:#000000;stroke-width:2.0px;stroke-linecap:butt;stroke-linejoin:miter;stroke-opacity:1\"/>\n",
       "<path class=\"bond-11 atom-11 atom-12\" d=\"M 240.4,137.5 L 263.4,143.5\" style=\"fill:none;fill-rule:evenodd;stroke:#000000;stroke-width:2.0px;stroke-linecap:butt;stroke-linejoin:miter;stroke-opacity:1\"/>\n",
       "<path class=\"bond-12 atom-12 atom-13\" d=\"M 264.7,148.4 L 285.0,127.9\" style=\"fill:none;fill-rule:evenodd;stroke:#000000;stroke-width:2.0px;stroke-linecap:butt;stroke-linejoin:miter;stroke-opacity:1\"/>\n",
       "<path class=\"bond-13 atom-13 atom-14\" d=\"M 285.0,127.9 L 277.5,100.2\" style=\"fill:none;fill-rule:evenodd;stroke:#000000;stroke-width:2.0px;stroke-linecap:butt;stroke-linejoin:miter;stroke-opacity:1\"/>\n",
       "<path class=\"bond-13 atom-13 atom-14\" d=\"M 280.2,126.7 L 274.0,103.7\" style=\"fill:none;fill-rule:evenodd;stroke:#000000;stroke-width:2.0px;stroke-linecap:butt;stroke-linejoin:miter;stroke-opacity:1\"/>\n",
       "<path class=\"bond-14 atom-14 atom-15\" d=\"M 277.5,100.2 L 249.6,92.8\" style=\"fill:none;fill-rule:evenodd;stroke:#000000;stroke-width:2.0px;stroke-linecap:butt;stroke-linejoin:miter;stroke-opacity:1\"/>\n",
       "<path class=\"bond-15 atom-15 atom-16\" d=\"M 249.6,92.8 L 241.5,101.0\" style=\"fill:none;fill-rule:evenodd;stroke:#000000;stroke-width:2.0px;stroke-linecap:butt;stroke-linejoin:miter;stroke-opacity:1\"/>\n",
       "<path class=\"bond-15 atom-15 atom-16\" d=\"M 241.5,101.0 L 233.4,109.1\" style=\"fill:none;fill-rule:evenodd;stroke:#0000FF;stroke-width:2.0px;stroke-linecap:butt;stroke-linejoin:miter;stroke-opacity:1\"/>\n",
       "<path class=\"bond-15 atom-15 atom-16\" d=\"M 250.9,97.6 L 243.7,104.9\" style=\"fill:none;fill-rule:evenodd;stroke:#000000;stroke-width:2.0px;stroke-linecap:butt;stroke-linejoin:miter;stroke-opacity:1\"/>\n",
       "<path class=\"bond-15 atom-15 atom-16\" d=\"M 243.7,104.9 L 236.5,112.2\" style=\"fill:none;fill-rule:evenodd;stroke:#0000FF;stroke-width:2.0px;stroke-linecap:butt;stroke-linejoin:miter;stroke-opacity:1\"/>\n",
       "<path class=\"bond-16 atom-10 atom-17\" d=\"M 216.6,161.4 L 218.5,173.1\" style=\"fill:none;fill-rule:evenodd;stroke:#000000;stroke-width:2.0px;stroke-linecap:butt;stroke-linejoin:miter;stroke-opacity:1\"/>\n",
       "<path class=\"bond-16 atom-10 atom-17\" d=\"M 218.5,173.1 L 220.4,184.8\" style=\"fill:none;fill-rule:evenodd;stroke:#0000FF;stroke-width:2.0px;stroke-linecap:butt;stroke-linejoin:miter;stroke-opacity:1\"/>\n",
       "<path class=\"bond-16 atom-10 atom-17\" d=\"M 212.8,165.2 L 214.5,175.3\" style=\"fill:none;fill-rule:evenodd;stroke:#000000;stroke-width:2.0px;stroke-linecap:butt;stroke-linejoin:miter;stroke-opacity:1\"/>\n",
       "<path class=\"bond-16 atom-10 atom-17\" d=\"M 214.5,175.3 L 216.1,185.5\" style=\"fill:none;fill-rule:evenodd;stroke:#0000FF;stroke-width:2.0px;stroke-linecap:butt;stroke-linejoin:miter;stroke-opacity:1\"/>\n",
       "<path class=\"bond-17 atom-17 atom-18\" d=\"M 217.1,191.9 L 208.7,196.2\" style=\"fill:none;fill-rule:evenodd;stroke:#0000FF;stroke-width:2.0px;stroke-linecap:butt;stroke-linejoin:miter;stroke-opacity:1\"/>\n",
       "<path class=\"bond-17 atom-17 atom-18\" d=\"M 208.7,196.2 L 200.3,200.6\" style=\"fill:none;fill-rule:evenodd;stroke:#FF0000;stroke-width:2.0px;stroke-linecap:butt;stroke-linejoin:miter;stroke-opacity:1\"/>\n",
       "<path class=\"bond-18 atom-3 atom-19\" d=\"M 82.0,147.2 L 85.0,135.8\" style=\"fill:none;fill-rule:evenodd;stroke:#000000;stroke-width:2.0px;stroke-linecap:butt;stroke-linejoin:miter;stroke-opacity:1\"/>\n",
       "<path class=\"bond-18 atom-3 atom-19\" d=\"M 85.0,135.8 L 88.0,124.4\" style=\"fill:none;fill-rule:evenodd;stroke:#0000FF;stroke-width:2.0px;stroke-linecap:butt;stroke-linejoin:miter;stroke-opacity:1\"/>\n",
       "<path class=\"bond-19 atom-19 atom-20\" d=\"M 93.4,117.8 L 104.8,113.4\" style=\"fill:none;fill-rule:evenodd;stroke:#0000FF;stroke-width:2.0px;stroke-linecap:butt;stroke-linejoin:miter;stroke-opacity:1\"/>\n",
       "<path class=\"bond-19 atom-19 atom-20\" d=\"M 104.8,113.4 L 116.2,109.0\" style=\"fill:none;fill-rule:evenodd;stroke:#000000;stroke-width:2.0px;stroke-linecap:butt;stroke-linejoin:miter;stroke-opacity:1\"/>\n",
       "<path class=\"bond-20 atom-19 atom-21\" d=\"M 85.3,116.8 L 69.2,106.4\" style=\"fill:none;fill-rule:evenodd;stroke:#0000FF;stroke-width:2.0px;stroke-linecap:butt;stroke-linejoin:miter;stroke-opacity:1\"/>\n",
       "<path class=\"bond-21 atom-21 atom-1\" d=\"M 61.1,107.1 L 52.0,114.5\" style=\"fill:none;fill-rule:evenodd;stroke:#0000FF;stroke-width:2.0px;stroke-linecap:butt;stroke-linejoin:miter;stroke-opacity:1\"/>\n",
       "<path class=\"bond-21 atom-21 atom-1\" d=\"M 52.0,114.5 L 42.8,121.9\" style=\"fill:none;fill-rule:evenodd;stroke:#000000;stroke-width:2.0px;stroke-linecap:butt;stroke-linejoin:miter;stroke-opacity:1\"/>\n",
       "<path class=\"bond-21 atom-21 atom-1\" d=\"M 63.8,110.4 L 55.9,116.9\" style=\"fill:none;fill-rule:evenodd;stroke:#0000FF;stroke-width:2.0px;stroke-linecap:butt;stroke-linejoin:miter;stroke-opacity:1\"/>\n",
       "<path class=\"bond-21 atom-21 atom-1\" d=\"M 55.9,116.9 L 48.0,123.3\" style=\"fill:none;fill-rule:evenodd;stroke:#000000;stroke-width:2.0px;stroke-linecap:butt;stroke-linejoin:miter;stroke-opacity:1\"/>\n",
       "<path class=\"bond-22 atom-18 atom-8\" d=\"M 190.9,198.3 L 183.0,190.5\" style=\"fill:none;fill-rule:evenodd;stroke:#FF0000;stroke-width:2.0px;stroke-linecap:butt;stroke-linejoin:miter;stroke-opacity:1\"/>\n",
       "<path class=\"bond-22 atom-18 atom-8\" d=\"M 183.0,190.5 L 175.1,182.7\" style=\"fill:none;fill-rule:evenodd;stroke:#000000;stroke-width:2.0px;stroke-linecap:butt;stroke-linejoin:miter;stroke-opacity:1\"/>\n",
       "<path class=\"bond-23 atom-16 atom-11\" d=\"M 230.7,118.2 L 233.8,129.6\" style=\"fill:none;fill-rule:evenodd;stroke:#0000FF;stroke-width:2.0px;stroke-linecap:butt;stroke-linejoin:miter;stroke-opacity:1\"/>\n",
       "<path class=\"bond-23 atom-16 atom-11\" d=\"M 233.8,129.6 L 236.9,141.0\" style=\"fill:none;fill-rule:evenodd;stroke:#000000;stroke-width:2.0px;stroke-linecap:butt;stroke-linejoin:miter;stroke-opacity:1\"/>\n",
       "<path d=\"M 52.7,147.4 L 53.2,148.8 L 54.7,148.7\" style=\"fill:none;stroke:#000000;stroke-width:2.0px;stroke-linecap:butt;stroke-linejoin:miter;stroke-opacity:1;\"/>\n",
       "<path d=\"M 99.2,168.4 L 100.1,169.5 L 100.7,169.4\" style=\"fill:none;stroke:#000000;stroke-width:2.0px;stroke-linecap:butt;stroke-linejoin:miter;stroke-opacity:1;\"/>\n",
       "<path d=\"M 146.4,186.8 L 146.7,187.2 L 148.2,187.0\" style=\"fill:none;stroke:#000000;stroke-width:2.0px;stroke-linecap:butt;stroke-linejoin:miter;stroke-opacity:1;\"/>\n",
       "<path d=\"M 263.3,148.0 L 264.7,148.4 L 265.7,147.3\" style=\"fill:none;stroke:#000000;stroke-width:2.0px;stroke-linecap:butt;stroke-linejoin:miter;stroke-opacity:1;\"/>\n",
       "<path d=\"M 284.0,129.0 L 285.0,127.9 L 284.6,126.6\" style=\"fill:none;stroke:#000000;stroke-width:2.0px;stroke-linecap:butt;stroke-linejoin:miter;stroke-opacity:1;\"/>\n",
       "<path d=\"M 277.8,101.6 L 277.5,100.2 L 276.1,99.8\" style=\"fill:none;stroke:#000000;stroke-width:2.0px;stroke-linecap:butt;stroke-linejoin:miter;stroke-opacity:1;\"/>\n",
       "<path d=\"M 251.0,93.2 L 249.6,92.8 L 249.2,93.2\" style=\"fill:none;stroke:#000000;stroke-width:2.0px;stroke-linecap:butt;stroke-linejoin:miter;stroke-opacity:1;\"/>\n",
       "<path class=\"atom-5\" d=\"M 86.2 196.4 Q 86.2 194.5, 87.1 193.4 Q 88.1 192.3, 89.9 192.3 Q 91.7 192.3, 92.7 193.4 Q 93.6 194.5, 93.6 196.4 Q 93.6 198.4, 92.7 199.5 Q 91.7 200.7, 89.9 200.7 Q 88.1 200.7, 87.1 199.5 Q 86.2 198.4, 86.2 196.4 M 89.9 199.7 Q 91.1 199.7, 91.8 198.9 Q 92.5 198.1, 92.5 196.4 Q 92.5 194.8, 91.8 194.0 Q 91.1 193.2, 89.9 193.2 Q 88.7 193.2, 88.0 194.0 Q 87.3 194.8, 87.3 196.4 Q 87.3 198.1, 88.0 198.9 Q 88.7 199.7, 89.9 199.7 \" fill=\"#FF0000\"/>\n",
       "<path class=\"atom-6\" d=\"M 126.8 160.9 L 129.4 165.2 Q 129.7 165.6, 130.1 166.4 Q 130.5 167.1, 130.6 167.2 L 130.6 160.9 L 131.6 160.9 L 131.6 169.0 L 130.5 169.0 L 127.7 164.3 Q 127.3 163.7, 127.0 163.1 Q 126.6 162.5, 126.5 162.3 L 126.5 169.0 L 125.5 169.0 L 125.5 160.9 L 126.8 160.9 \" fill=\"#0000FF\"/>\n",
       "<path class=\"atom-6\" d=\"M 133.2 160.9 L 134.3 160.9 L 134.3 164.3 L 138.5 164.3 L 138.5 160.9 L 139.6 160.9 L 139.6 169.0 L 138.5 169.0 L 138.5 165.2 L 134.3 165.2 L 134.3 169.0 L 133.2 169.0 L 133.2 160.9 \" fill=\"#0000FF\"/>\n",
       "<path class=\"atom-9\" d=\"M 186.3 152.9 L 189.0 157.2 Q 189.3 157.6, 189.7 158.4 Q 190.1 159.2, 190.2 159.2 L 190.2 152.9 L 191.2 152.9 L 191.2 161.1 L 190.1 161.1 L 187.3 156.3 Q 186.9 155.8, 186.6 155.1 Q 186.2 154.5, 186.1 154.3 L 186.1 161.1 L 185.1 161.1 L 185.1 152.9 L 186.3 152.9 \" fill=\"#0000FF\"/>\n",
       "<path class=\"atom-16\" d=\"M 227.5 109.1 L 230.2 113.4 Q 230.5 113.9, 230.9 114.6 Q 231.3 115.4, 231.4 115.5 L 231.4 109.1 L 232.4 109.1 L 232.4 117.3 L 231.3 117.3 L 228.5 112.6 Q 228.1 112.0, 227.8 111.4 Q 227.4 110.7, 227.3 110.5 L 227.3 117.3 L 226.3 117.3 L 226.3 109.1 L 227.5 109.1 \" fill=\"#0000FF\"/>\n",
       "<path class=\"atom-17\" d=\"M 219.4 185.7 L 222.0 190.1 Q 222.3 190.5, 222.7 191.3 Q 223.2 192.0, 223.2 192.1 L 223.2 185.7 L 224.3 185.7 L 224.3 193.9 L 223.1 193.9 L 220.3 189.2 Q 219.9 188.6, 219.6 188.0 Q 219.2 187.4, 219.1 187.2 L 219.1 193.9 L 218.1 193.9 L 218.1 185.7 L 219.4 185.7 \" fill=\"#0000FF\"/>\n",
       "<path class=\"atom-18\" d=\"M 191.8 203.0 Q 191.8 201.0, 192.8 199.9 Q 193.8 198.8, 195.6 198.8 Q 197.4 198.8, 198.3 199.9 Q 199.3 201.0, 199.3 203.0 Q 199.3 205.0, 198.3 206.1 Q 197.3 207.2, 195.6 207.2 Q 193.8 207.2, 192.8 206.1 Q 191.8 205.0, 191.8 203.0 M 195.6 206.3 Q 196.8 206.3, 197.5 205.5 Q 198.2 204.6, 198.2 203.0 Q 198.2 201.4, 197.5 200.6 Q 196.8 199.8, 195.6 199.8 Q 194.3 199.8, 193.6 200.6 Q 193.0 201.4, 193.0 203.0 Q 193.0 204.6, 193.6 205.5 Q 194.3 206.3, 195.6 206.3 \" fill=\"#FF0000\"/>\n",
       "<path class=\"atom-19\" d=\"M 87.5 115.3 L 90.2 119.6 Q 90.5 120.0, 90.9 120.8 Q 91.3 121.6, 91.3 121.6 L 91.3 115.3 L 92.4 115.3 L 92.4 123.4 L 91.3 123.4 L 88.4 118.7 Q 88.1 118.2, 87.7 117.5 Q 87.4 116.9, 87.3 116.7 L 87.3 123.4 L 86.2 123.4 L 86.2 115.3 L 87.5 115.3 \" fill=\"#0000FF\"/>\n",
       "<path class=\"atom-21\" d=\"M 63.3 99.7 L 66.0 104.0 Q 66.3 104.4, 66.7 105.2 Q 67.1 106.0, 67.2 106.0 L 67.2 99.7 L 68.2 99.7 L 68.2 107.8 L 67.1 107.8 L 64.2 103.1 Q 63.9 102.6, 63.6 101.9 Q 63.2 101.3, 63.1 101.1 L 63.1 107.8 L 62.1 107.8 L 62.1 99.7 L 63.3 99.7 \" fill=\"#0000FF\"/>\n",
       "</svg>"
      ],
      "text/plain": [
       "<IPython.core.display.SVG object>"
      ]
     },
     "metadata": {},
     "output_type": "display_data"
    },
    {
     "data": {
      "image/svg+xml": [
       "<svg xmlns=\"http://www.w3.org/2000/svg\" xmlns:rdkit=\"http://www.rdkit.org/xml\" xmlns:xlink=\"http://www.w3.org/1999/xlink\" version=\"1.1\" baseProfile=\"full\" xml:space=\"preserve\" width=\"300px\" height=\"300px\" viewBox=\"0 0 300 300\">\n",
       "<!-- END OF HEADER -->\n",
       "<rect style=\"opacity:1.0;fill:#FFFFFF;stroke:none\" width=\"300.0\" height=\"300.0\" x=\"0.0\" y=\"0.0\"> </rect>\n",
       "<path class=\"bond-0 atom-0 atom-1\" d=\"M 285.0,138.2 L 271.5,145.8\" style=\"fill:none;fill-rule:evenodd;stroke:#000000;stroke-width:2.0px;stroke-linecap:butt;stroke-linejoin:miter;stroke-opacity:1\"/>\n",
       "<path class=\"bond-0 atom-0 atom-1\" d=\"M 271.5,145.8 L 258.1,153.4\" style=\"fill:none;fill-rule:evenodd;stroke:#0000FF;stroke-width:2.0px;stroke-linecap:butt;stroke-linejoin:miter;stroke-opacity:1\"/>\n",
       "<path class=\"bond-1 atom-1 atom-2\" d=\"M 247.7,153.2 L 234.5,145.3\" style=\"fill:none;fill-rule:evenodd;stroke:#0000FF;stroke-width:2.0px;stroke-linecap:butt;stroke-linejoin:miter;stroke-opacity:1\"/>\n",
       "<path class=\"bond-1 atom-1 atom-2\" d=\"M 234.5,145.3 L 221.3,137.5\" style=\"fill:none;fill-rule:evenodd;stroke:#000000;stroke-width:2.0px;stroke-linecap:butt;stroke-linejoin:miter;stroke-opacity:1\"/>\n",
       "<path class=\"bond-2 atom-2 atom-3\" d=\"M 224.0,139.1 L 224.2,123.2\" style=\"fill:none;fill-rule:evenodd;stroke:#000000;stroke-width:2.0px;stroke-linecap:butt;stroke-linejoin:miter;stroke-opacity:1\"/>\n",
       "<path class=\"bond-2 atom-2 atom-3\" d=\"M 224.2,123.2 L 224.4,107.4\" style=\"fill:none;fill-rule:evenodd;stroke:#FF0000;stroke-width:2.0px;stroke-linecap:butt;stroke-linejoin:miter;stroke-opacity:1\"/>\n",
       "<path class=\"bond-2 atom-2 atom-3\" d=\"M 218.5,139.1 L 218.7,123.2\" style=\"fill:none;fill-rule:evenodd;stroke:#000000;stroke-width:2.0px;stroke-linecap:butt;stroke-linejoin:miter;stroke-opacity:1\"/>\n",
       "<path class=\"bond-2 atom-2 atom-3\" d=\"M 218.7,123.2 L 218.8,107.3\" style=\"fill:none;fill-rule:evenodd;stroke:#FF0000;stroke-width:2.0px;stroke-linecap:butt;stroke-linejoin:miter;stroke-opacity:1\"/>\n",
       "<path class=\"bond-3 atom-2 atom-4\" d=\"M 221.3,137.5 L 207.8,145.1\" style=\"fill:none;fill-rule:evenodd;stroke:#000000;stroke-width:2.0px;stroke-linecap:butt;stroke-linejoin:miter;stroke-opacity:1\"/>\n",
       "<path class=\"bond-3 atom-2 atom-4\" d=\"M 207.8,145.1 L 194.3,152.6\" style=\"fill:none;fill-rule:evenodd;stroke:#0000FF;stroke-width:2.0px;stroke-linecap:butt;stroke-linejoin:miter;stroke-opacity:1\"/>\n",
       "<path class=\"bond-4 atom-4 atom-5\" d=\"M 184.0,152.5 L 170.8,144.6\" style=\"fill:none;fill-rule:evenodd;stroke:#0000FF;stroke-width:2.0px;stroke-linecap:butt;stroke-linejoin:miter;stroke-opacity:1\"/>\n",
       "<path class=\"bond-4 atom-4 atom-5\" d=\"M 170.8,144.6 L 157.5,136.8\" style=\"fill:none;fill-rule:evenodd;stroke:#000000;stroke-width:2.0px;stroke-linecap:butt;stroke-linejoin:miter;stroke-opacity:1\"/>\n",
       "<path class=\"bond-5 atom-5 atom-6\" d=\"M 157.5,136.8 L 125.4,154.8\" style=\"fill:none;fill-rule:evenodd;stroke:#000000;stroke-width:2.0px;stroke-linecap:butt;stroke-linejoin:miter;stroke-opacity:1\"/>\n",
       "<path class=\"bond-6 atom-6 atom-7\" d=\"M 122.7,153.2 L 122.5,169.2\" style=\"fill:none;fill-rule:evenodd;stroke:#000000;stroke-width:2.0px;stroke-linecap:butt;stroke-linejoin:miter;stroke-opacity:1\"/>\n",
       "<path class=\"bond-6 atom-6 atom-7\" d=\"M 122.5,169.2 L 122.3,185.1\" style=\"fill:none;fill-rule:evenodd;stroke:#FF0000;stroke-width:2.0px;stroke-linecap:butt;stroke-linejoin:miter;stroke-opacity:1\"/>\n",
       "<path class=\"bond-6 atom-6 atom-7\" d=\"M 128.2,153.3 L 128.0,169.2\" style=\"fill:none;fill-rule:evenodd;stroke:#000000;stroke-width:2.0px;stroke-linecap:butt;stroke-linejoin:miter;stroke-opacity:1\"/>\n",
       "<path class=\"bond-6 atom-6 atom-7\" d=\"M 128.0,169.2 L 127.8,185.2\" style=\"fill:none;fill-rule:evenodd;stroke:#FF0000;stroke-width:2.0px;stroke-linecap:butt;stroke-linejoin:miter;stroke-opacity:1\"/>\n",
       "<path class=\"bond-7 atom-6 atom-8\" d=\"M 125.4,154.8 L 112.2,147.0\" style=\"fill:none;fill-rule:evenodd;stroke:#000000;stroke-width:2.0px;stroke-linecap:butt;stroke-linejoin:miter;stroke-opacity:1\"/>\n",
       "<path class=\"bond-7 atom-6 atom-8\" d=\"M 112.2,147.0 L 98.9,139.1\" style=\"fill:none;fill-rule:evenodd;stroke:#0000FF;stroke-width:2.0px;stroke-linecap:butt;stroke-linejoin:miter;stroke-opacity:1\"/>\n",
       "<path class=\"bond-8 atom-8 atom-9\" d=\"M 94.3,129.6 L 95.6,114.5\" style=\"fill:none;fill-rule:evenodd;stroke:#0000FF;stroke-width:2.0px;stroke-linecap:butt;stroke-linejoin:miter;stroke-opacity:1\"/>\n",
       "<path class=\"bond-8 atom-8 atom-9\" d=\"M 95.6,114.5 L 96.9,99.4\" style=\"fill:none;fill-rule:evenodd;stroke:#000000;stroke-width:2.0px;stroke-linecap:butt;stroke-linejoin:miter;stroke-opacity:1\"/>\n",
       "<path class=\"bond-9 atom-9 atom-10\" d=\"M 96.9,99.4 L 70.2,74.0\" style=\"fill:none;fill-rule:evenodd;stroke:#000000;stroke-width:2.0px;stroke-linecap:butt;stroke-linejoin:miter;stroke-opacity:1\"/>\n",
       "<path class=\"bond-10 atom-10 atom-11\" d=\"M 70.2,74.0 L 33.8,79.1\" style=\"fill:none;fill-rule:evenodd;stroke:#000000;stroke-width:2.0px;stroke-linecap:butt;stroke-linejoin:miter;stroke-opacity:1\"/>\n",
       "<path class=\"bond-11 atom-11 atom-12\" d=\"M 33.8,79.1 L 15.0,110.8\" style=\"fill:none;fill-rule:evenodd;stroke:#000000;stroke-width:2.0px;stroke-linecap:butt;stroke-linejoin:miter;stroke-opacity:1\"/>\n",
       "<path class=\"bond-12 atom-12 atom-13\" d=\"M 15.0,110.8 L 28.1,145.2\" style=\"fill:none;fill-rule:evenodd;stroke:#000000;stroke-width:2.0px;stroke-linecap:butt;stroke-linejoin:miter;stroke-opacity:1\"/>\n",
       "<path class=\"bond-13 atom-13 atom-14\" d=\"M 28.1,145.2 L 63.1,156.4\" style=\"fill:none;fill-rule:evenodd;stroke:#000000;stroke-width:2.0px;stroke-linecap:butt;stroke-linejoin:miter;stroke-opacity:1\"/>\n",
       "<path class=\"bond-14 atom-14 atom-15\" d=\"M 63.1,156.4 L 68.2,192.9\" style=\"fill:none;fill-rule:evenodd;stroke:#000000;stroke-width:2.0px;stroke-linecap:butt;stroke-linejoin:miter;stroke-opacity:1\"/>\n",
       "<path class=\"bond-15 atom-15 atom-16\" d=\"M 68.2,192.9 L 56.2,202.2\" style=\"fill:none;fill-rule:evenodd;stroke:#000000;stroke-width:2.0px;stroke-linecap:butt;stroke-linejoin:miter;stroke-opacity:1\"/>\n",
       "<path class=\"bond-15 atom-15 atom-16\" d=\"M 56.2,202.2 L 44.3,211.5\" style=\"fill:none;fill-rule:evenodd;stroke:#0000FF;stroke-width:2.0px;stroke-linecap:butt;stroke-linejoin:miter;stroke-opacity:1\"/>\n",
       "<path class=\"bond-16 atom-15 atom-17\" d=\"M 65.7,194.9 L 80.5,200.9\" style=\"fill:none;fill-rule:evenodd;stroke:#000000;stroke-width:2.0px;stroke-linecap:butt;stroke-linejoin:miter;stroke-opacity:1\"/>\n",
       "<path class=\"bond-16 atom-15 atom-17\" d=\"M 80.5,200.9 L 95.3,206.9\" style=\"fill:none;fill-rule:evenodd;stroke:#FF0000;stroke-width:2.0px;stroke-linecap:butt;stroke-linejoin:miter;stroke-opacity:1\"/>\n",
       "<path class=\"bond-16 atom-15 atom-17\" d=\"M 67.7,189.7 L 82.5,195.7\" style=\"fill:none;fill-rule:evenodd;stroke:#000000;stroke-width:2.0px;stroke-linecap:butt;stroke-linejoin:miter;stroke-opacity:1\"/>\n",
       "<path class=\"bond-16 atom-15 atom-17\" d=\"M 82.5,195.7 L 97.3,201.7\" style=\"fill:none;fill-rule:evenodd;stroke:#FF0000;stroke-width:2.0px;stroke-linecap:butt;stroke-linejoin:miter;stroke-opacity:1\"/>\n",
       "<path class=\"bond-17 atom-14 atom-8\" d=\"M 63.1,156.4 L 75.8,148.0\" style=\"fill:none;fill-rule:evenodd;stroke:#000000;stroke-width:2.0px;stroke-linecap:butt;stroke-linejoin:miter;stroke-opacity:1\"/>\n",
       "<path class=\"bond-17 atom-14 atom-8\" d=\"M 75.8,148.0 L 88.6,139.5\" style=\"fill:none;fill-rule:evenodd;stroke:#0000FF;stroke-width:2.0px;stroke-linecap:butt;stroke-linejoin:miter;stroke-opacity:1\"/>\n",
       "<path d=\"M 221.9,137.9 L 221.3,137.5 L 220.6,137.9\" style=\"fill:none;stroke:#000000;stroke-width:2.0px;stroke-linecap:butt;stroke-linejoin:miter;stroke-opacity:1;\"/>\n",
       "<path d=\"M 158.2,137.2 L 157.5,136.8 L 155.9,137.7\" style=\"fill:none;stroke:#000000;stroke-width:2.0px;stroke-linecap:butt;stroke-linejoin:miter;stroke-opacity:1;\"/>\n",
       "<path d=\"M 127.0,153.9 L 125.4,154.8 L 124.8,154.4\" style=\"fill:none;stroke:#000000;stroke-width:2.0px;stroke-linecap:butt;stroke-linejoin:miter;stroke-opacity:1;\"/>\n",
       "<path d=\"M 96.9,100.1 L 96.9,99.4 L 95.6,98.1\" style=\"fill:none;stroke:#000000;stroke-width:2.0px;stroke-linecap:butt;stroke-linejoin:miter;stroke-opacity:1;\"/>\n",
       "<path d=\"M 71.6,75.3 L 70.2,74.0 L 68.4,74.3\" style=\"fill:none;stroke:#000000;stroke-width:2.0px;stroke-linecap:butt;stroke-linejoin:miter;stroke-opacity:1;\"/>\n",
       "<path d=\"M 35.6,78.9 L 33.8,79.1 L 32.8,80.7\" style=\"fill:none;stroke:#000000;stroke-width:2.0px;stroke-linecap:butt;stroke-linejoin:miter;stroke-opacity:1;\"/>\n",
       "<path d=\"M 15.9,109.2 L 15.0,110.8 L 15.7,112.5\" style=\"fill:none;stroke:#000000;stroke-width:2.0px;stroke-linecap:butt;stroke-linejoin:miter;stroke-opacity:1;\"/>\n",
       "<path d=\"M 27.4,143.5 L 28.1,145.2 L 29.8,145.8\" style=\"fill:none;stroke:#000000;stroke-width:2.0px;stroke-linecap:butt;stroke-linejoin:miter;stroke-opacity:1;\"/>\n",
       "<path d=\"M 67.9,191.1 L 68.2,192.9 L 67.6,193.4\" style=\"fill:none;stroke:#000000;stroke-width:2.0px;stroke-linecap:butt;stroke-linejoin:miter;stroke-opacity:1;\"/>\n",
       "<path class=\"atom-1\" d=\"M 250.6 151.0 L 254.0 156.6 Q 254.4 157.1, 254.9 158.1 Q 255.5 159.1, 255.5 159.1 L 255.5 151.0 L 256.9 151.0 L 256.9 161.5 L 255.4 161.5 L 251.8 155.4 Q 251.3 154.7, 250.9 153.9 Q 250.5 153.1, 250.3 152.9 L 250.3 161.5 L 249.0 161.5 L 249.0 151.0 L 250.6 151.0 \" fill=\"#0000FF\"/>\n",
       "<path class=\"atom-1\" d=\"M 248.8 162.5 L 250.3 162.5 L 250.3 166.9 L 255.6 166.9 L 255.6 162.5 L 257.0 162.5 L 257.0 172.9 L 255.6 172.9 L 255.6 168.1 L 250.3 168.1 L 250.3 172.9 L 248.8 172.9 L 248.8 162.5 \" fill=\"#0000FF\"/>\n",
       "<path class=\"atom-3\" d=\"M 216.9 100.7 Q 216.9 98.2, 218.1 96.8 Q 219.4 95.4, 221.7 95.4 Q 224.0 95.4, 225.2 96.8 Q 226.5 98.2, 226.5 100.7 Q 226.5 103.3, 225.2 104.7 Q 223.9 106.1, 221.7 106.1 Q 219.4 106.1, 218.1 104.7 Q 216.9 103.3, 216.9 100.7 M 221.7 104.9 Q 223.3 104.9, 224.1 103.9 Q 225.0 102.8, 225.0 100.7 Q 225.0 98.7, 224.1 97.6 Q 223.3 96.6, 221.7 96.6 Q 220.1 96.6, 219.2 97.6 Q 218.4 98.7, 218.4 100.7 Q 218.4 102.8, 219.2 103.9 Q 220.1 104.9, 221.7 104.9 \" fill=\"#FF0000\"/>\n",
       "<path class=\"atom-4\" d=\"M 186.9 150.3 L 190.3 155.8 Q 190.6 156.4, 191.2 157.4 Q 191.7 158.4, 191.7 158.4 L 191.7 150.3 L 193.1 150.3 L 193.1 160.8 L 191.7 160.8 L 188.0 154.7 Q 187.6 154.0, 187.1 153.2 Q 186.7 152.4, 186.6 152.1 L 186.6 160.8 L 185.2 160.8 L 185.2 150.3 L 186.9 150.3 \" fill=\"#0000FF\"/>\n",
       "<path class=\"atom-4\" d=\"M 185.1 161.8 L 186.5 161.8 L 186.5 166.2 L 191.8 166.2 L 191.8 161.8 L 193.2 161.8 L 193.2 172.2 L 191.8 172.2 L 191.8 167.4 L 186.5 167.4 L 186.5 172.2 L 185.1 172.2 L 185.1 161.8 \" fill=\"#0000FF\"/>\n",
       "<path class=\"atom-7\" d=\"M 120.2 191.7 Q 120.2 189.2, 121.5 187.8 Q 122.7 186.4, 125.0 186.4 Q 127.3 186.4, 128.6 187.8 Q 129.8 189.2, 129.8 191.7 Q 129.8 194.2, 128.5 195.6 Q 127.3 197.1, 125.0 197.1 Q 122.7 197.1, 121.5 195.6 Q 120.2 194.2, 120.2 191.7 M 125.0 195.9 Q 126.6 195.9, 127.4 194.8 Q 128.3 193.7, 128.3 191.7 Q 128.3 189.6, 127.4 188.6 Q 126.6 187.5, 125.0 187.5 Q 123.4 187.5, 122.5 188.6 Q 121.7 189.6, 121.7 191.7 Q 121.7 193.8, 122.5 194.8 Q 123.4 195.9, 125.0 195.9 \" fill=\"#FF0000\"/>\n",
       "<path class=\"atom-8\" d=\"M 91.4 130.8 L 94.9 136.4 Q 95.2 136.9, 95.7 137.9 Q 96.3 138.9, 96.3 138.9 L 96.3 130.8 L 97.7 130.8 L 97.7 141.3 L 96.3 141.3 L 92.6 135.2 Q 92.2 134.5, 91.7 133.7 Q 91.3 132.9, 91.2 132.7 L 91.2 141.3 L 89.8 141.3 L 89.8 130.8 L 91.4 130.8 \" fill=\"#0000FF\"/>\n",
       "<path class=\"atom-16\" d=\"M 19.0 210.3 L 20.4 210.3 L 20.4 214.7 L 25.8 214.7 L 25.8 210.3 L 27.2 210.3 L 27.2 220.7 L 25.8 220.7 L 25.8 215.9 L 20.4 215.9 L 20.4 220.7 L 19.0 220.7 L 19.0 210.3 \" fill=\"#0000FF\"/>\n",
       "<path class=\"atom-16\" d=\"M 29.2 220.4 Q 29.5 219.7, 30.1 219.4 Q 30.7 219.0, 31.5 219.0 Q 32.6 219.0, 33.1 219.6 Q 33.7 220.1, 33.7 221.1 Q 33.7 222.1, 33.0 223.1 Q 32.2 224.0, 30.7 225.2 L 33.8 225.2 L 33.8 226.0 L 29.2 226.0 L 29.2 225.3 Q 30.5 224.4, 31.2 223.7 Q 32.0 223.0, 32.4 222.4 Q 32.8 221.8, 32.8 221.2 Q 32.8 220.5, 32.4 220.1 Q 32.1 219.8, 31.5 219.8 Q 31.0 219.8, 30.6 220.0 Q 30.2 220.2, 30.0 220.7 L 29.2 220.4 \" fill=\"#0000FF\"/>\n",
       "<path class=\"atom-16\" d=\"M 36.8 210.3 L 40.3 215.8 Q 40.6 216.4, 41.1 217.4 Q 41.7 218.4, 41.7 218.4 L 41.7 210.3 L 43.1 210.3 L 43.1 220.7 L 41.7 220.7 L 38.0 214.7 Q 37.6 214.0, 37.1 213.2 Q 36.7 212.4, 36.5 212.1 L 36.5 220.7 L 35.2 220.7 L 35.2 210.3 L 36.8 210.3 \" fill=\"#0000FF\"/>\n",
       "<path class=\"atom-17\" d=\"M 97.5 206.8 Q 97.5 204.3, 98.7 202.9 Q 100.0 201.5, 102.3 201.5 Q 104.6 201.5, 105.8 202.9 Q 107.1 204.3, 107.1 206.8 Q 107.1 209.3, 105.8 210.7 Q 104.6 212.2, 102.3 212.2 Q 100.0 212.2, 98.7 210.7 Q 97.5 209.3, 97.5 206.8 M 102.3 211.0 Q 103.9 211.0, 104.7 209.9 Q 105.6 208.9, 105.6 206.8 Q 105.6 204.7, 104.7 203.7 Q 103.9 202.6, 102.3 202.6 Q 100.7 202.6, 99.8 203.7 Q 99.0 204.7, 99.0 206.8 Q 99.0 208.9, 99.8 209.9 Q 100.7 211.0, 102.3 211.0 \" fill=\"#FF0000\"/>\n",
       "</svg>"
      ],
      "text/plain": [
       "<IPython.core.display.SVG object>"
      ]
     },
     "metadata": {},
     "output_type": "display_data"
    }
   ],
   "source": [
    "# Print first 10 generated molecules datamols\n",
    "for i in range(10):\n",
    "    display(dm.to_image(dm.to_mol(generated_smiles[i])))"
   ]
  },
  {
   "cell_type": "code",
   "execution_count": 33,
   "metadata": {},
   "outputs": [],
   "source": [
    "mol_1 = dm.to_mol(generated_smiles[0])\n",
    "\n",
    "img = dm.to_image(mol_1)\n",
    "# Image.fromarray(img).save(\"mol_1.png\")\n",
    "img_path = \"mol_1.png\"\n",
    "cairosvg.svg2png(bytestring=img.data, write_to=img_path)"
   ]
  },
  {
   "cell_type": "code",
   "execution_count": 34,
   "metadata": {},
   "outputs": [
    {
     "name": "stdout",
     "output_type": "stream",
     "text": [
      "\n",
      "Max length of SMILES: 50\n",
      "Average length of SMILES: 37.23232323232323\n"
     ]
    }
   ],
   "source": [
    "# print max length of SMILES\n",
    "max_len = max([len(s) for s in generated_smiles])\n",
    "print(f\"\\nMax length of SMILES: {max_len}\")\n",
    "\n",
    "# average length of SMILES\n",
    "avg_len = np.mean([len(s) for s in generated_smiles])\n",
    "print(f\"Average length of SMILES: {avg_len}\")"
   ]
  },
  {
   "cell_type": "code",
   "execution_count": 35,
   "metadata": {},
   "outputs": [],
   "source": [
    "# Save the generated SMILES\n",
    "# with open(\"generated_smiles_10k.md\", \"w\") as f:\n",
    "#     for smiles in generated_smiles:\n",
    "#         f.write(smiles + \"\\n\")"
   ]
  },
  {
   "cell_type": "code",
   "execution_count": 36,
   "metadata": {},
   "outputs": [],
   "source": [
    "# Load the generated SMILES\n",
    "generated_smiles = []\n",
    "with open(\"generated_smiles_10k.md\", \"r\") as f:\n",
    "    for line in f:\n",
    "        generated_smiles.append(line.strip())"
   ]
  },
  {
   "cell_type": "code",
   "execution_count": 37,
   "metadata": {},
   "outputs": [],
   "source": [
    "from rdkit.Chem import QED, Crippen\n",
    "from rdkit import DataStructs\n",
    "from rdkit.Chem import RDConfig\n",
    "import os\n",
    "import sys\n",
    "sys.path.append(os.path.join(RDConfig.RDContribDir, 'SA_Score'))\n",
    "# now you can import sascore!\n",
    "import sascorer"
   ]
  },
  {
   "cell_type": "code",
   "execution_count": 38,
   "metadata": {},
   "outputs": [],
   "source": [
    "def process_molecules(smiles_list, desc):\n",
    "    \"\"\"Process SMILES strings into RDKit molecules.\"\"\"\n",
    "    mols = []\n",
    "    for smi in tqdm(smiles_list, desc=desc, unit=\"molecule\"):\n",
    "        mol = Chem.MolFromSmiles(smi)\n",
    "        if mol is not None:\n",
    "            mols.append(mol)\n",
    "    return mols\n",
    "\n",
    "def calculate_fingerprints(mols, radius=2, nBits=2048):\n",
    "    \"\"\"Calculate Morgan fingerprints for a list of molecules using MorganGenerator.\"\"\"\n",
    "    fingerprints = []\n",
    "    morgan_gen = rdFingerprintGenerator.GetMorganGenerator(radius=radius, nBits=nBits)\n",
    "    # morgan_gen = GetMorganGenerator(radius=radius, nBits=nBits)\n",
    "    \n",
    "    for mol in tqdm(mols, desc=\"Calculating fingerprints\", unit=\"molecule\"):\n",
    "        fp = morgan_gen.GetFingerprint(mol)\n",
    "        fingerprints.append(fp)\n",
    "    \n",
    "    return fingerprints"
   ]
  },
  {
   "cell_type": "code",
   "execution_count": 39,
   "metadata": {},
   "outputs": [],
   "source": [
    "def calculate_diversity(fingerprints):\n",
    "    print(\"Calculating pairwise diversities...\")\n",
    "    n = len(fingerprints)\n",
    "    diversity = 0\n",
    "    total_pairs = (n * (n - 1)) // 2\n",
    "    \n",
    "    with tqdm(total=total_pairs, desc=\"Calculating diversity\", unit=\"pair\") as pbar:\n",
    "        for i in range(n):\n",
    "            diversity += sum(1 - DataStructs.TanimotoSimilarity(fingerprints[i], fingerprints[j]) \n",
    "                             for j in range(i + 1, n))\n",
    "            pbar.update(n - i - 1)\n",
    "    \n",
    "    return diversity / total_pairs if n > 1 else 0"
   ]
  },
  {
   "cell_type": "code",
   "execution_count": 40,
   "metadata": {},
   "outputs": [],
   "source": [
    "# def calculate_novelty(gen_fps, ref_fps, similarity_threshold=0.9):\n",
    "#     print(\"Calculating novelty...\")\n",
    "#     novel_count = 0\n",
    "#     for gen_fp in tqdm(gen_fps, desc=\"Novelty calculation\", unit=\"molecule\"):\n",
    "#         # Use BulkTanimotoSimilarity for efficient comparison\n",
    "#         similarities = DataStructs.BulkTanimotoSimilarity(gen_fp, ref_fps)\n",
    "#         if max(similarities) < similarity_threshold:\n",
    "#             novel_count += 1\n",
    "    \n",
    "#     return novel_count / len(gen_fps) if gen_fps else 0"
   ]
  },
  {
   "cell_type": "code",
   "execution_count": 41,
   "metadata": {},
   "outputs": [],
   "source": [
    "train_set = pd.read_csv(\"../../../train_from_scratch/Datasets/MOSES/train.csv\")\n",
    "test_set = pd.read_csv(\"../../../train_from_scratch/Datasets/MOSES/test.csv\")\n",
    "all_smiles = pd.concat([train_set, test_set])[\"SMILES\"].unique()\n",
    "\n",
    "moses_smiles = all_smiles.tolist()"
   ]
  },
  {
   "cell_type": "code",
   "execution_count": 42,
   "metadata": {},
   "outputs": [],
   "source": [
    "# TODO: valid is not calculated correctly\n",
    "\n",
    "def evaluate_generated_molecules(generated_smiles, reference_smiles):\n",
    "    print(\"Starting molecule evaluation...\")\n",
    "    \n",
    "    # Create hashes for the SMILES lists\n",
    "    gen_hash = hash_smiles_list(generated_smiles)\n",
    "    ref_hash = hash_smiles_list(reference_smiles)\n",
    "    \n",
    "    # Check if processed data exists\n",
    "    gen_mol_file = f\"gen_mols_{gen_hash}.pkl\"\n",
    "    # ref_mol_file = f\"ref_mols_{ref_hash}.pkl\"\n",
    "    gen_fp_file = f\"gen_fps_{gen_hash}.pkl\"\n",
    "    # ref_fp_file = f\"ref_fps_{ref_hash}.pkl\"\n",
    "    \n",
    "    # Process generated molecules\n",
    "    if os.path.exists(gen_mol_file) and os.path.exists(gen_fp_file):\n",
    "        print(\"Loading processed generated molecules and fingerprints...\")\n",
    "        valid_mols = load_processed_data(gen_mol_file)\n",
    "        gen_fps = load_processed_data(gen_fp_file)\n",
    "    else:\n",
    "        print(\"Processing generated molecules...\")\n",
    "        valid_mols = process_molecules(generated_smiles, \"Processing generated molecules\")\n",
    "        gen_fps = calculate_fingerprints(valid_mols)\n",
    "        save_processed_data(valid_mols, gen_mol_file)\n",
    "        save_processed_data(gen_fps, gen_fp_file)\n",
    "    \n",
    "    # Process reference molecules\n",
    "    # if os.path.exists(ref_mol_file) and os.path.exists(ref_fp_file):\n",
    "    #     print(\"Loading processed reference molecules and fingerprints...\")\n",
    "    #     reference_mols = load_processed_data(ref_mol_file)\n",
    "    #     ref_fps = load_processed_data(ref_fp_file)\n",
    "    # else:\n",
    "    #     print(\"Processing reference molecules...\")\n",
    "    #     reference_mols = process_molecules(reference_smiles, \"Processing reference molecules\")\n",
    "    #     ref_fps = calculate_fingerprints(reference_mols)\n",
    "    #     save_processed_data(reference_mols, ref_mol_file)\n",
    "    #     save_processed_data(ref_fps, ref_fp_file)\n",
    "    \n",
    "    # Calculate basic properties\n",
    "    unique_smiles = set(Chem.MolToSmiles(mol) for mol in valid_mols)\n",
    "    qed_scores = [QED.qed(mol) for mol in valid_mols]\n",
    "    sas_scores = [sascorer.calculateScore(mol) for mol in valid_mols]\n",
    "    \n",
    "    validity = len(valid_mols) / len(generated_smiles) if generated_smiles else 0\n",
    "    uniqueness = len(unique_smiles) / len(generated_smiles) if generated_smiles else 0\n",
    "    \n",
    "    print(\"Calculating diversity...\")\n",
    "    diversity = calculate_diversity(gen_fps)\n",
    "    \n",
    "    # print(\"Calculating novelty...\")\n",
    "    # novelty = calculate_novelty(gen_fps, ref_fps)\n",
    "    \n",
    "    qed_mean = sum(qed_scores) / len(qed_scores) if qed_scores else 0\n",
    "    sas_mean = sum(sas_scores) / len(sas_scores) if sas_scores else 0\n",
    "    \n",
    "    return {\n",
    "        \"validity\": validity,\n",
    "        \"uniqueness\": uniqueness,\n",
    "        \"diversity\": diversity,\n",
    "        # \"novelty\": novelty,\n",
    "        \"qed_mean\": qed_mean,\n",
    "        \"sas_mean\": sas_mean,\n",
    "    }"
   ]
  },
  {
   "cell_type": "code",
   "execution_count": 43,
   "metadata": {},
   "outputs": [
    {
     "name": "stdout",
     "output_type": "stream",
     "text": [
      "Starting molecule evaluation...\n",
      "Loading processed generated molecules and fingerprints...\n",
      "Calculating diversity...\n",
      "Calculating pairwise diversities...\n"
     ]
    },
    {
     "name": "stderr",
     "output_type": "stream",
     "text": [
      "Calculating diversity: 100%|██████████| 49536081/49536081 [01:48<00:00, 454537.20pair/s]\n"
     ]
    }
   ],
   "source": [
    "evaluation_results = evaluate_generated_molecules(generated_smiles, moses_smiles)"
   ]
  },
  {
   "cell_type": "code",
   "execution_count": 23,
   "metadata": {},
   "outputs": [
    {
     "name": "stdout",
     "output_type": "stream",
     "text": [
      "Validity of paper is 1, computed is 1.000\n",
      "Uniqueness of paper is 0.999, computed is 0.999\n",
      "Diversity of paper is 0.864, computed is 0.865\n",
      "QED mean is 0.804\n",
      "SAS mean is 2.489\n"
     ]
    }
   ],
   "source": [
    "print(f\"Validity of paper is 1, computed is {evaluation_results['validity']:.3f}\")\n",
    "print(f\"Uniqueness of paper is 0.999, computed is {evaluation_results['uniqueness']:.3f}\")\n",
    "print(f\"Diversity of paper is 0.864, computed is {evaluation_results['diversity']:.3f}\")\n",
    "# print(f\"Novelty: {evaluation_results['novelty']:.3f}\")\n",
    "print(f\"QED mean is {evaluation_results['qed_mean']:.3f}\")\n",
    "print(f\"SAS mean is {evaluation_results['sas_mean']:.3f}\")"
   ]
  },
  {
   "cell_type": "code",
   "execution_count": 20,
   "metadata": {},
   "outputs": [],
   "source": [
    "with open(\"safe_small_results.md\", \"w\") as f:\n",
    "    f.write(f\"Validity of paper is 1, computed is {evaluation_results['validity']:.3f}\\n\")\n",
    "    f.write(f\"Uniqueness of paper is 0.999, computed is {evaluation_results['uniqueness']:.3f}\\n\")\n",
    "    f.write(f\"Diversity of paper is 0.864, computed is {evaluation_results['diversity']:.3f}\\n\")\n",
    "    f.write(f\"Novelty: {evaluation_results['novelty']:.3f}\\n\")\n",
    "    f.write(f\"QED mean is {evaluation_results['qed_mean']:.3f}\\n\")\n",
    "    f.write(f\"SAS mean is {evaluation_results['sas_mean']:.3f}\\n\")"
   ]
  },
  {
   "cell_type": "markdown",
   "metadata": {},
   "source": [
    "More nuanced evaluation"
   ]
  },
  {
   "cell_type": "code",
   "execution_count": 21,
   "metadata": {},
   "outputs": [],
   "source": [
    "import pandas as pd\n",
    "from rdkit import Chem\n",
    "from rdkit.Chem import Descriptors, Crippen, rdMolDescriptors, Lipinski\n",
    "import numpy as np\n",
    "import matplotlib.pyplot as plt\n",
    "import seaborn as sns"
   ]
  },
  {
   "cell_type": "code",
   "execution_count": 22,
   "metadata": {},
   "outputs": [],
   "source": [
    "def smiles_to_mol(smiles_list):\n",
    "    return [Chem.MolFromSmiles(smi) for smi in smiles_list if Chem.MolFromSmiles(smi) is not None]"
   ]
  },
  {
   "cell_type": "code",
   "execution_count": 23,
   "metadata": {},
   "outputs": [],
   "source": [
    "generated_mols = smiles_to_mol(generated_smiles)\n",
    "moses_mols = smiles_to_mol(moses_smiles)"
   ]
  },
  {
   "cell_type": "code",
   "execution_count": 24,
   "metadata": {},
   "outputs": [],
   "source": [
    "def calculate_properties(mol_list):\n",
    "    properties = {\n",
    "        'MW': [], 'LogP': [], 'HBD': [], 'HBA': [], 'TPSA': [], 'RotBonds': [], 'QED': []\n",
    "    }\n",
    "    for mol in mol_list:\n",
    "        properties['MW'].append(Descriptors.ExactMolWt(mol))\n",
    "        properties['LogP'].append(Crippen.MolLogP(mol))\n",
    "        properties['HBD'].append(Lipinski.NumHDonors(mol))\n",
    "        properties['HBA'].append(Lipinski.NumHAcceptors(mol))\n",
    "        properties['TPSA'].append(Descriptors.TPSA(mol))\n",
    "        properties['RotBonds'].append(rdMolDescriptors.CalcNumRotatableBonds(mol))\n",
    "        properties['QED'].append(Descriptors.qed(mol))\n",
    "    return properties"
   ]
  },
  {
   "cell_type": "code",
   "execution_count": 25,
   "metadata": {},
   "outputs": [],
   "source": [
    "generated_properties = calculate_properties(generated_mols)\n",
    "moses_properties = calculate_properties(moses_mols)"
   ]
  },
  {
   "cell_type": "code",
   "execution_count": 58,
   "metadata": {},
   "outputs": [],
   "source": [
    "def plot_property_distributions(gen_props, ref_props, property_name, xlabel, ylabel=\"Density\", plot_type='line'):\n",
    "    plt.figure(figsize=(10, 6))\n",
    "    \n",
    "    if plot_type == 'line':\n",
    "        sns.kdeplot(gen_props, label='Generated', color='blue', fill=True)\n",
    "        sns.kdeplot(ref_props, label='MOSES', color='red', fill=True)\n",
    "    elif plot_type == 'bar':\n",
    "        gen_counts, gen_bins = np.histogram(gen_props, bins=range(min(min(gen_props), min(ref_props)), max(max(gen_props), max(ref_props)) + 2))\n",
    "        ref_counts, ref_bins = np.histogram(ref_props, bins=gen_bins)\n",
    "        \n",
    "        gen_counts = gen_counts / len(gen_props)\n",
    "        ref_counts = ref_counts / len(ref_props)\n",
    "        \n",
    "        width = 0.35\n",
    "        plt.bar(gen_bins[:-1], gen_counts, width, label='Generated', alpha=0.7, color='blue')\n",
    "        plt.bar(ref_bins[:-1] + width, ref_counts, width, label='MOSES', alpha=0.7, color='red')\n",
    "    \n",
    "    plt.xlabel(xlabel)\n",
    "    plt.ylabel(ylabel)\n",
    "    plt.title(f'Distribution of {property_name}')\n",
    "    plt.legend()\n",
    "    plt.savefig(f'{property_name.lower().replace(\" \", \"_\")}_distribution.png')\n",
    "    plt.close()"
   ]
  },
  {
   "cell_type": "code",
   "execution_count": 59,
   "metadata": {},
   "outputs": [],
   "source": [
    "def plot_property_boxplots(gen_props, ref_props):\n",
    "    plt.figure(figsize=(15, 10))\n",
    "    \n",
    "    data = []\n",
    "    for prop, name, _, _ in properties_to_plot:\n",
    "        for value in gen_props[prop]:\n",
    "            data.append({\n",
    "                'Property': name,\n",
    "                'Value': value,\n",
    "                'Dataset': 'Generated'\n",
    "            })\n",
    "        for value in ref_props[prop]:\n",
    "            data.append({\n",
    "                'Property': name,\n",
    "                'Value': value,\n",
    "                'Dataset': 'MOSES'\n",
    "            })\n",
    "    \n",
    "    df = pd.DataFrame(data)\n",
    "    \n",
    "    sns.boxplot(x='Property', y='Value', hue='Dataset', data=df)\n",
    "    plt.xticks(rotation=45, ha='right')\n",
    "    plt.title('Box Plots of Molecular Properties')\n",
    "    plt.tight_layout()\n",
    "    plt.savefig('molecular_properties_boxplots.png')\n",
    "    plt.close()"
   ]
  },
  {
   "cell_type": "code",
   "execution_count": 60,
   "metadata": {},
   "outputs": [],
   "source": [
    "def plot_individual_boxplots(gen_props, ref_props):\n",
    "    for prop, name, _, _ in properties_to_plot:\n",
    "        plt.figure(figsize=(10, 6))\n",
    "        data = [\n",
    "            {'Property': name, 'Value': value, 'Dataset': 'Generated'} for value in gen_props[prop]\n",
    "        ] + [\n",
    "            {'Property': name, 'Value': value, 'Dataset': 'MOSES'} for value in ref_props[prop]\n",
    "        ]\n",
    "        df = pd.DataFrame(data)\n",
    "        \n",
    "        sns.boxplot(x='Dataset', y='Value', data=df)\n",
    "        plt.title(f'Box Plot of {name}')\n",
    "        plt.ylabel(name)\n",
    "        plt.tight_layout()\n",
    "        plt.savefig(f'{name.lower().replace(\" \", \"_\")}_boxplot.png')\n",
    "        plt.close()"
   ]
  },
  {
   "cell_type": "code",
   "execution_count": 61,
   "metadata": {},
   "outputs": [],
   "source": [
    "properties_to_plot = [\n",
    "    ('MW', 'Molecular Weight', 'Molecular Weight (Da)', 'line'),\n",
    "    ('LogP', 'LogP', 'LogP', 'line'),\n",
    "    ('HBD', 'H-Bond Donors', 'Number of H-Bond Donors', 'bar'),\n",
    "    ('HBA', 'H-Bond Acceptors', 'Number of H-Bond Acceptors', 'bar'),\n",
    "    ('TPSA', 'Topological Polar Surface Area', 'TPSA (Å²)', 'line'),\n",
    "    ('RotBonds', 'Rotatable Bonds', 'Number of Rotatable Bonds', 'bar'),\n",
    "    ('QED', 'QED', 'Quantitative Estimate of Drug-likeness', 'line')\n",
    "]\n",
    "\n",
    "for prop, name, xlabel, plot_type in properties_to_plot:\n",
    "    plot_property_distributions(generated_properties[prop], moses_properties[prop], name, xlabel, plot_type=plot_type)"
   ]
  },
  {
   "cell_type": "code",
   "execution_count": 47,
   "metadata": {},
   "outputs": [],
   "source": [
    "plot_property_boxplots(generated_properties, moses_properties)"
   ]
  },
  {
   "cell_type": "code",
   "execution_count": 49,
   "metadata": {},
   "outputs": [],
   "source": [
    "plot_individual_boxplots(generated_properties, moses_properties)"
   ]
  },
  {
   "cell_type": "code",
   "execution_count": 50,
   "metadata": {},
   "outputs": [],
   "source": [
    "from tabulate import tabulate\n",
    "\n",
    "def print_summary_stats(gen_props, ref_props):\n",
    "    headers = [\"Property\", \"Generated (mean ± std)\", \"MOSES (mean ± std)\"]\n",
    "    table_rows = []\n",
    "    \n",
    "    for prop, name, _, _ in properties_to_plot:\n",
    "        gen_mean, gen_std = np.mean(gen_props[prop]), np.std(gen_props[prop])\n",
    "        ref_mean, ref_std = np.mean(ref_props[prop]), np.std(ref_props[prop])\n",
    "        row = [name, f\"{gen_mean:.2f} ± {gen_std:.2f}\", f\"{ref_mean:.2f} ± {ref_std:.2f}\"]\n",
    "        table_rows.append(row)\n",
    "    \n",
    "    print(tabulate(table_rows, headers=headers, tablefmt=\"grid\"))"
   ]
  },
  {
   "cell_type": "code",
   "execution_count": 51,
   "metadata": {},
   "outputs": [
    {
     "name": "stdout",
     "output_type": "stream",
     "text": [
      "+--------------------------------+--------------------------+----------------------+\n",
      "| Property                       | Generated (mean ± std)   | MOSES (mean ± std)   |\n",
      "+================================+==========================+======================+\n",
      "| Molecular Weight               | 310.17 ± 28.97           | 306.92 ± 28.00       |\n",
      "+--------------------------------+--------------------------+----------------------+\n",
      "| LogP                           | 2.46 ± 0.96              | 2.44 ± 0.93          |\n",
      "+--------------------------------+--------------------------+----------------------+\n",
      "| H-Bond Donors                  | 1.12 ± 0.84              | 1.12 ± 0.83          |\n",
      "+--------------------------------+--------------------------+----------------------+\n",
      "| H-Bond Acceptors               | 4.34 ± 1.44              | 4.22 ± 1.40          |\n",
      "+--------------------------------+--------------------------+----------------------+\n",
      "| Topological Polar Surface Area | 67.04 ± 18.39            | 65.82 ± 18.10        |\n",
      "+--------------------------------+--------------------------+----------------------+\n",
      "| Rotatable Bonds                | 4.29 ± 1.45              | 4.26 ± 1.48          |\n",
      "+--------------------------------+--------------------------+----------------------+\n",
      "| QED                            | 0.80 ± 0.10              | 0.81 ± 0.09          |\n",
      "+--------------------------------+--------------------------+----------------------+\n"
     ]
    }
   ],
   "source": [
    "print_summary_stats(generated_properties, moses_properties)"
   ]
  },
  {
   "cell_type": "markdown",
   "metadata": {},
   "source": [
    "scaffold analysis"
   ]
  },
  {
   "cell_type": "code",
   "execution_count": 52,
   "metadata": {},
   "outputs": [],
   "source": [
    "from rdkit.Chem.Scaffolds import MurckoScaffold"
   ]
  },
  {
   "cell_type": "code",
   "execution_count": 53,
   "metadata": {},
   "outputs": [],
   "source": [
    "def analyze_scaffolds(mol_list):\n",
    "    scaffolds = {}\n",
    "    for mol in mol_list:\n",
    "        scaffold = MurckoScaffold.GetScaffoldForMol(mol)\n",
    "        scaffold_smiles = Chem.MolToSmiles(scaffold)\n",
    "        scaffolds[scaffold_smiles] = scaffolds.get(scaffold_smiles, 0) + 1\n",
    "    return scaffolds"
   ]
  },
  {
   "cell_type": "code",
   "execution_count": 54,
   "metadata": {},
   "outputs": [],
   "source": [
    "generated_scaffolds = analyze_scaffolds(generated_mols)\n",
    "moses_scaffolds = analyze_scaffolds(moses_mols)"
   ]
  },
  {
   "cell_type": "code",
   "execution_count": 55,
   "metadata": {},
   "outputs": [
    {
     "name": "stdout",
     "output_type": "stream",
     "text": [
      "Unique scaffolds in generated set: 7272\n",
      "Unique scaffolds in MOSES set: 404141\n"
     ]
    }
   ],
   "source": [
    "print(f\"Unique scaffolds in generated set: {len(generated_scaffolds)}\")\n",
    "print(f\"Unique scaffolds in MOSES set: {len(moses_scaffolds)}\")"
   ]
  },
  {
   "cell_type": "code",
   "execution_count": 56,
   "metadata": {},
   "outputs": [
    {
     "name": "stdout",
     "output_type": "stream",
     "text": [
      "Scaffold diversity in generated set: 0.7306\n",
      "Scaffold diversity in MOSES set: 0.2295\n"
     ]
    }
   ],
   "source": [
    "# Scaffold diversity\n",
    "gen_scaffold_diversity = len(generated_scaffolds) / len(generated_mols)\n",
    "moses_scaffold_diversity = len(moses_scaffolds) / len(moses_mols)\n",
    "\n",
    "print(f\"Scaffold diversity in generated set: {gen_scaffold_diversity:.4f}\")\n",
    "print(f\"Scaffold diversity in MOSES set: {moses_scaffold_diversity:.4f}\")"
   ]
  },
  {
   "cell_type": "code",
   "execution_count": null,
   "metadata": {},
   "outputs": [],
   "source": []
  }
 ],
 "metadata": {
  "kernelspec": {
   "display_name": "Python 3",
   "language": "python",
   "name": "python3"
  },
  "language_info": {
   "codemirror_mode": {
    "name": "ipython",
    "version": 3
   },
   "file_extension": ".py",
   "mimetype": "text/x-python",
   "name": "python",
   "nbconvert_exporter": "python",
   "pygments_lexer": "ipython3",
   "version": "3.12.4"
  }
 },
 "nbformat": 4,
 "nbformat_minor": 2
}
